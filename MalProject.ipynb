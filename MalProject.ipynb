{
 "cells": [
  {
   "cell_type": "markdown",
   "id": "c3c251be",
   "metadata": {},
   "source": [
    "# Machine Learning Project"
   ]
  },
  {
   "cell_type": "code",
   "execution_count": 1,
   "id": "c384bcb4",
   "metadata": {},
   "outputs": [],
   "source": [
    "# Student names and numbers:\n",
    "#Matey Matev 285041\n",
    "#Mihail Alexandru Teodosiu 299111\n",
    "#Pawel Skrzypkowski 293167 \n",
    "#Fatema Ataii 297107"
   ]
  },
  {
   "cell_type": "markdown",
   "id": "7e26262e",
   "metadata": {},
   "source": [
    "The assignments below should be solved and documented as a project that will form the basis for the\n",
    "examination. When solving the exercises it is important that you\n",
    "\n",
    "  * document all relevant results and analyses that you have obtained/performed during the exercises.\n",
    "  * try to relate your results to the theoretical background of the methods being applied.\n",
    "\n",
    "Feel free to add cells if you need to.\n",
    "\n",
    "Please hand in assignment 1-6 in a _**single**_ Jupyter notebook where you retain the questions outlined below. You are welcome to adapt code from the web (e.g. Kaggle kernels), but you **_must_** reference the original source in your notebook. In addition to _clean, well-documented code_ (i.e. functions with <a href=\"https://www.geeksforgeeks.org/python-docstrings/\">docstrings</a>, etc), your notebook will be judged according to how well each step is explained (using Markdown). \n",
    "\n",
    "In general, direct questions regarding assignments 1, 4, 5 and 6 to Frederik, and questions regarding assignments 2, 3, and 7 to Richard. \n",
    "\n",
    "Last, but not least:\n",
    "* Looking for an overview of the markdown language? The cheat sheet <a href=\"https://medium.com/ibm-data-science-experience/markdown-for-jupyter-notebooks-cheatsheet-386c05aeebed\">here</a> might help.\n",
    "* For the Python specific components of the exercises, you should not need constructs beyond those that are already included in the notebooks on the course's web-page (still you should not feel constrained by these, so feel free to be adventurous). You may, however, need to consult the documentation for some of the methods supplied by `sklearn`.\n",
    "\n",
    "**Groups:** Create your own groups. May be across teams. 2-4 students per group. No one-person groups.\n",
    "\n",
    "\n",
    "**Submission deadline:** Thursday, December 15 before 13.00 CET (Notebooks + presentation recording)\n",
    "\n",
    "**Expected workload:** Each student is expected to spend around around 50 hours on the project.\n",
    "\n",
    "### Deliverables\n",
    "The teams have to submit three deliverables before the submission deadline: 1) a notebook of assignments 1-6, 2) a notebook of assignment 7, and 3) presentation video uploaded to some online platform e.g. YouTube, Vimeo, etc.\n",
    "\n",
    "#### Notebook\n",
    "The notebook contains all the code to explore the dataset, train the final model and documents each step clearly. If code is copied from another codebase such as Github or Stack Overflow it **_must_** be properly referenced.\n",
    "\n",
    "\n",
    "#### Presentation\n",
    "The presentation video should be 15 min long and should highlight the problem you are solving, interesting things you found in the data and the step involved in building up your model. At the exam we will discuss the presentation and ask questions about your project and submissions. A link to the video must be placed in the notebook for assignment 7.\n",
    "\n",
    "### Randomness\n",
    "For ALL random states, choose state = 69 so we can replicate your work.\n"
   ]
  },
  {
   "cell_type": "code",
   "execution_count": 1,
   "id": "cd9e36cc",
   "metadata": {},
   "outputs": [],
   "source": [
    "# Import all necessary modules here:\n",
    "import pandas as pd\n",
    "import numpy as np\n",
    "import matplotlib.pyplot as plt\n",
    "from IPython.display import display\n",
    "\n",
    "from sklearn.preprocessing import scale \n",
    "from sklearn.model_selection import train_test_split\n",
    "from sklearn.linear_model import LinearRegression, Ridge, RidgeCV, Lasso, LassoCV\n",
    "from sklearn.neighbors import KNeighborsClassifier\n",
    "from sklearn.neighbors import KNeighborsRegressor\n",
    "from sklearn.preprocessing import StandardScaler\n",
    "from sklearn.decomposition import PCA\n",
    "from sklearn import preprocessing\n",
    "from sklearn.ensemble import RandomForestClassifier\n",
    "from sklearn.model_selection import GridSearchCV\n",
    "from sklearn.svm import SVC\n",
    "from sklearn import svm\n",
    "from sklearn.cluster import KMeans\n",
    "import mglearn \n",
    "from sklearn.cluster import DBSCAN\n",
    "from sklearn.cluster import AgglomerativeClustering\n",
    "from scipy.cluster.hierarchy import dendrogram, linkage\n",
    "from scipy.io import loadmat\n",
    "from sklearn.utils import resample\n",
    "from sklearn.metrics.cluster import adjusted_rand_score"
   ]
  },
  {
   "cell_type": "markdown",
   "id": "fed5086c",
   "metadata": {},
   "source": [
    "## 1. The IceCat Dataset\n",
    "#### Mihail Alexandru Teodosiu 299111\n",
    "__You should be able to do this exercise after Lecture 3.__"
   ]
  },
  {
   "cell_type": "markdown",
   "id": "8f79d40b",
   "metadata": {},
   "source": [
    "The IceCat Dataset, kindly provided to us by Stibo Systems, contains a large amount of data on different office products. As an example of \"real-world\" data, these data are imperfect and incomplete. As such, this exercise is not so much an exercise in creating a good machine learning model, but places a larger emphasis on \"cleaning the data\".\n",
    "\n",
    "We are going to work with a subset of the IceCat Dataset. In particular, you will be provided with a zip file of 5,854 images of office products, each with the name \"product ID\".jpg. You will also be provided with a list of colors, `colors.txt`, which, when imported using the code below, is a list of tuples of the form `[(\"product ID\", \"color\"), ...]`. (The code below assumes that `colors.txt` is in the same folder as the jupyter notebook. Feel free to change the code if you prefer a different organization of your files)."
   ]
  },
  {
   "cell_type": "markdown",
   "id": "176c4d1a",
   "metadata": {},
   "source": [
    "Your task is to clean up the data and construct a simple machine learning model (_e.g._, _k_-nearest neighbor) that can identify the color of a product. You have free hands - there is hardly any one \"correct answer\" - but you need to argue for your choices. Among other things, you probably need to think about the following as you work with the data:\n",
    "\n",
    "* All of the images have different sizes.\n",
    "\n",
    "* Some of the images are RGB images (3 layers), others are CMYK (4 layers), some might even be black-and-white (1 layer).\n",
    "\n",
    "* Some colors are only represented by very few products.\n",
    "\n",
    "* Some colors are very similar, such as \"Purple\" and \"Violet\".\n",
    "\n",
    "* A product may have a particular color, but a packaging of a different color. Similarly, the color of, say, a computer monitor may be black, while the image of it could show a monitor that is turned on with a green screensaver.\n",
    "\n",
    "* Many products are attributed to several colors, such as \"Black, Blue\" or even \"Blue, Green, Orange, Violet, Yellow\". Yet others are described as \"Multicolor\" or \"Assorted colors\".\n",
    "\n",
    "Again, you have free hands in how you are going to solve these (and other) challenges, but you must argue for and reflect on your choices as you progress."
   ]
  },
  {
   "cell_type": "code",
   "execution_count": 18,
   "id": "f6ef876d",
   "metadata": {},
   "outputs": [],
   "source": [
    "from PIL import Image\n",
    "import os\n",
    "import pandas as pd\n",
    "import numpy as np\n",
    "from sklearn.model_selection import GridSearchCV\n",
    "from sklearn.model_selection import train_test_split\n",
    "from sklearn.neighbors import KNeighborsClassifier\n",
    "from sklearn import svm\n",
    "from sklearn.metrics import classification_report"
   ]
  },
  {
   "cell_type": "markdown",
   "id": "5218d410",
   "metadata": {},
   "source": [
    "#### 1) Uniformizing the size of the images"
   ]
  },
  {
   "cell_type": "code",
   "execution_count": 19,
   "id": "496596b6",
   "metadata": {},
   "outputs": [],
   "source": [
    "originalPath = 'IceCatDataset/images/'\n",
    "newPath = 'UniformIceCatDataset/'\n",
    "\n",
    "os.system('mkdir ' + newPath[:-1])\n",
    "\n",
    "def resize_aspect_fit():\n",
    "    dirs = os.listdir(originalPath)\n",
    "    for item in dirs:\n",
    "        if item == '.jpg':\n",
    "            continue\n",
    "        if os.path.isfile(originalPath+item):\n",
    "            image = Image.open(originalPath+item)\n",
    "            file_path, extension = os.path.splitext(newPath+item)\n",
    "\n",
    "            image = image.resize((100, 100), Image.ANTIALIAS)\n",
    "            image.save(file_path + extension, 'JPEG', quality=90)\n",
    "\n",
    "\n",
    "resize_aspect_fit()"
   ]
  },
  {
   "cell_type": "markdown",
   "id": "0d57e374",
   "metadata": {},
   "source": [
    "#### 2) Lack of training data for some colors"
   ]
  },
  {
   "cell_type": "markdown",
   "id": "6c7ad944",
   "metadata": {},
   "source": [
    "Start by getting the colors from file, then delete the images with colors that appear less than 25 times as there is too little data."
   ]
  },
  {
   "cell_type": "code",
   "execution_count": 20,
   "id": "4575daf5",
   "metadata": {},
   "outputs": [],
   "source": [
    "import ast\n",
    "with open(\"IceCatDataset/colors.txt\",\"r\") as file:\n",
    "    colors = ast.literal_eval(file.read())\n",
    "\n",
    "df = []\n",
    "for image in colors:\n",
    "    df.append(list(image))\n",
    "    \n",
    "df = pd.DataFrame(df, columns = [\"Name\",\"Color\"])\n",
    "\n",
    "groups = df.groupby(\"Color\")['Name'].nunique()\n",
    "\n",
    "x = []\n",
    "y = []\n",
    "for (index,data) in enumerate(groups):\n",
    "    if(data < 25):\n",
    "        x.append(data)\n",
    "        y.append(groups.index[index])\n",
    "        \n",
    "df = df[~df[\"Color\"].isin(y)]"
   ]
  },
  {
   "cell_type": "markdown",
   "id": "f1f94e70",
   "metadata": {},
   "source": [
    "#### 3) Extremely similar colors"
   ]
  },
  {
   "cell_type": "markdown",
   "id": "4d6ec2b8",
   "metadata": {},
   "source": [
    "This is solved by grouping the colors together."
   ]
  },
  {
   "cell_type": "code",
   "execution_count": 21,
   "id": "f796307e",
   "metadata": {},
   "outputs": [
    {
     "name": "stdout",
     "output_type": "stream",
     "text": [
      "Color\n",
      "Black             1034\n",
      "Black, Grey         52\n",
      "Black, Silver       74\n",
      "Black, White       123\n",
      "Black, Wood         31\n",
      "Blue               470\n",
      "Blue, Grey          26\n",
      "Blue, Metallic      32\n",
      "Blue, White         50\n",
      "Brown               95\n",
      "Green              217\n",
      "Green, White        49\n",
      "Grey               392\n",
      "Grey, White        105\n",
      "Multicolour        234\n",
      "Orange              89\n",
      "Pink                50\n",
      "Purple              38\n",
      "Red                276\n",
      "Silver             139\n",
      "Transparent        344\n",
      "White              694\n",
      "Wood                71\n",
      "Yellow             203\n",
      "Name: Name, dtype: int64\n"
     ]
    }
   ],
   "source": [
    "print(df.groupby(\"Color\")['Name'].nunique())"
   ]
  },
  {
   "cell_type": "code",
   "execution_count": 22,
   "id": "aca7a6dc",
   "metadata": {},
   "outputs": [
    {
     "name": "stdout",
     "output_type": "stream",
     "text": [
      "Color\n",
      "Black             1034\n",
      "Black, Grey         52\n",
      "Black, Silver       74\n",
      "Black, White       123\n",
      "Black, Wood         31\n",
      "Blue               470\n",
      "Blue, Grey          26\n",
      "Blue, Metallic      32\n",
      "Blue, White         50\n",
      "Brown              166\n",
      "Green              217\n",
      "Green, White        49\n",
      "Grey               392\n",
      "Grey, White        105\n",
      "Multicolour        234\n",
      "Orange              89\n",
      "Pink                50\n",
      "Purple              38\n",
      "Red                276\n",
      "Silver             139\n",
      "Transparent        344\n",
      "White              694\n",
      "Yellow             203\n",
      "Name: Name, dtype: int64\n"
     ]
    }
   ],
   "source": [
    "similar = {\n",
    "    \"Brown\" : [\"Beige\",\"Wood\"],\n",
    "    \"Blue\": [\"turquoise\"],\n",
    "    \"Purple\" : [ \"Violet\"],\n",
    "    \"Silver\" : [\"Aluminium\",\"Metallic\",\"Stainless steel\"],\n",
    "    \"Yellow\" : [\"Gold\"]\n",
    "}\n",
    "\n",
    "\n",
    "for key in similar:\n",
    "    for color in similar[key]:\n",
    "        df.loc[df[\"Color\"].str.lower() == color.lower(), 'Color'] = key.capitalize()\n",
    "\n",
    "print(df.groupby(\"Color\")['Name'].nunique())"
   ]
  },
  {
   "cell_type": "markdown",
   "id": "4d92e2bf",
   "metadata": {},
   "source": [
    "#### 4) Multicolor, assorted color products"
   ]
  },
  {
   "cell_type": "markdown",
   "id": "05c70dd3",
   "metadata": {},
   "source": [
    "Simply remove them."
   ]
  },
  {
   "cell_type": "code",
   "execution_count": 23,
   "id": "ad3a673c",
   "metadata": {
    "scrolled": true
   },
   "outputs": [
    {
     "name": "stdout",
     "output_type": "stream",
     "text": [
      "Color\n",
      "Black     1034\n",
      "Blue       470\n",
      "Brown      166\n",
      "Green      217\n",
      "Grey       392\n",
      "Orange      89\n",
      "Pink        50\n",
      "Purple      38\n",
      "Red        276\n",
      "Silver     139\n",
      "White      694\n",
      "Yellow     203\n",
      "Name: Name, dtype: int64\n"
     ]
    }
   ],
   "source": [
    "# delete the transparent images\n",
    "df = df[~df[\"Color\"].isin(['Transparent'])]\n",
    "df = df[~df[\"Color\"].isin(['Multicolor'])]\n",
    "\n",
    "#delete all multiple colors\n",
    "df = df[~df[\"Color\"].str.contains(\",\")]\n",
    "df = df[~df[\"Color\"].str.contains(\"Multicolour\")]\n",
    "df = df[~df[\"Color\"].str.contains(\"Assorted colours\")]\n",
    "\n",
    "print(df.groupby(\"Color\")['Name'].nunique())"
   ]
  },
  {
   "cell_type": "markdown",
   "id": "4a8c2caa",
   "metadata": {},
   "source": [
    "#### 5) the number of layers (1, 3 or 4)"
   ]
  },
  {
   "cell_type": "markdown",
   "id": "d6fc664f",
   "metadata": {},
   "source": [
    "We must flatten the images and collapse them into one dimension. <br>\n",
    "By collapsing all images to one layer, we make the number of layers uniform, but we unfortunately lose color."
   ]
  },
  {
   "cell_type": "code",
   "execution_count": 24,
   "id": "b4ff14d4",
   "metadata": {},
   "outputs": [],
   "source": [
    "OneDimArray = []\n",
    "\n",
    "cleanDirectory = 'UniformIceCatDataset/'\n",
    "\n",
    "folder = [filename for filename in os.listdir(cleanDirectory)]  \n",
    "\n",
    "for filename in df[\"Name\"]:\n",
    "    img = np.array(Image.open(cleanDirectory + str(filename) + '.jpg'))\n",
    "    arr = (img.flatten())\n",
    "    OneDimArray.append(np.asarray(arr,  dtype=object))\n",
    "    \n",
    "OneDimArray = np.asarray(OneDimArray, dtype=object)"
   ]
  },
  {
   "cell_type": "code",
   "execution_count": 25,
   "id": "4a6dacd5",
   "metadata": {},
   "outputs": [],
   "source": [
    "newA = []\n",
    "\n",
    "cleanDirectory = 'UniformIceCatDataset/'\n",
    "\n",
    "folder = [filename for filename in os.listdir(cleanDirectory)]  \n",
    "\n",
    "for filename in df[\"Name\"]:\n",
    "    img = Image.open(cleanDirectory + str(filename) + '.jpg').convert('RGB')\n",
    "    numpydata = np.asarray(img, dtype=object)\n",
    "    flat = numpydata.flatten()\n",
    "    newA.append(flat)\n",
    "   \n",
    "newA = np.asarray(newA, dtype=object)"
   ]
  },
  {
   "cell_type": "code",
   "execution_count": 26,
   "id": "dfea904e",
   "metadata": {},
   "outputs": [
    {
     "data": {
      "text/plain": [
       "array([[255, 255, 255, ..., 255, 255, 255],\n",
       "       [255, 255, 255, ..., 255, 255, 255],\n",
       "       [255, 255, 255, ..., 255, 255, 255],\n",
       "       ...,\n",
       "       [255, 255, 255, ..., 255, 255, 255],\n",
       "       [255, 255, 255, ..., 255, 255, 255],\n",
       "       [255, 255, 255, ..., 255, 255, 255]], dtype=object)"
      ]
     },
     "execution_count": 26,
     "metadata": {},
     "output_type": "execute_result"
    }
   ],
   "source": [
    "newA"
   ]
  },
  {
   "cell_type": "markdown",
   "id": "8858b11a",
   "metadata": {},
   "source": [
    "#### Model"
   ]
  },
  {
   "cell_type": "code",
   "execution_count": 27,
   "id": "73f0de62",
   "metadata": {},
   "outputs": [
    {
     "name": "stdout",
     "output_type": "stream",
     "text": [
      "{'n_neighbors': range(1, 20, 2)}\n",
      "2119 942\n"
     ]
    }
   ],
   "source": [
    "#Look only at odd numbers\n",
    "parameters = {'n_neighbors': range(1,20,2)}\n",
    "grid_search = GridSearchCV(KNeighborsClassifier(), parameters, cv=5, refit = True, return_train_score=True, verbose=4)\n",
    "\n",
    "# Load the data and divide into train and test\n",
    "X_train, X_test, y_train, y_test = train_test_split(newA, df['Color'], random_state=69)\n",
    "X_train, X_val, y_train, y_val = train_test_split(X_train, y_train, random_state=69)\n",
    "print(parameters)\n",
    "print(len(X_train),len(X_test))"
   ]
  },
  {
   "cell_type": "code",
   "execution_count": 28,
   "id": "5b2c1589",
   "metadata": {},
   "outputs": [
    {
     "data": {
      "text/plain": [
       "array([[255, 255, 255, ..., 255, 255, 255],\n",
       "       [255, 255, 255, ..., 255, 255, 255],\n",
       "       [255, 255, 255, ..., 255, 255, 255],\n",
       "       ...,\n",
       "       [255, 255, 255, ..., 255, 255, 255],\n",
       "       [255, 255, 255, ..., 255, 255, 255],\n",
       "       [255, 255, 255, ..., 255, 255, 255]], dtype=object)"
      ]
     },
     "metadata": {},
     "output_type": "display_data"
    },
    {
     "data": {
      "text/plain": [
       "array([[255, 255, 255, ..., 255, 255, 255],\n",
       "       [253, 253, 253, ..., 253, 253, 253],\n",
       "       [255, 255, 255, ..., 255, 255, 255],\n",
       "       ...,\n",
       "       [255, 255, 255, ..., 255, 255, 255],\n",
       "       [255, 255, 255, ..., 255, 255, 255],\n",
       "       [255, 255, 255, ..., 255, 255, 255]], dtype=object)"
      ]
     },
     "metadata": {},
     "output_type": "display_data"
    },
    {
     "data": {
      "text/plain": [
       "2"
      ]
     },
     "metadata": {},
     "output_type": "display_data"
    },
    {
     "data": {
      "text/plain": [
       "2"
      ]
     },
     "metadata": {},
     "output_type": "display_data"
    }
   ],
   "source": [
    "display(X_train, X_test, X_train.ndim, X_test.ndim)"
   ]
  },
  {
   "cell_type": "code",
   "execution_count": 29,
   "id": "34147427",
   "metadata": {},
   "outputs": [
    {
     "name": "stdout",
     "output_type": "stream",
     "text": [
      "Fitting 5 folds for each of 10 candidates, totalling 50 fits\n",
      "[CV 1/5] END .n_neighbors=1;, score=(train=0.980, test=0.594) total time=   3.5s\n",
      "[CV 2/5] END .n_neighbors=1;, score=(train=0.979, test=0.649) total time=   2.3s\n",
      "[CV 3/5] END .n_neighbors=1;, score=(train=0.980, test=0.552) total time=   2.3s\n",
      "[CV 4/5] END .n_neighbors=1;, score=(train=0.978, test=0.646) total time=   2.5s\n",
      "[CV 5/5] END .n_neighbors=1;, score=(train=0.980, test=0.598) total time=   2.4s\n",
      "[CV 1/5] END .n_neighbors=3;, score=(train=0.775, test=0.552) total time=   2.6s\n",
      "[CV 2/5] END .n_neighbors=3;, score=(train=0.762, test=0.639) total time=   2.4s\n",
      "[CV 3/5] END .n_neighbors=3;, score=(train=0.767, test=0.566) total time=   2.5s\n",
      "[CV 4/5] END .n_neighbors=3;, score=(train=0.763, test=0.639) total time=   2.3s\n",
      "[CV 5/5] END .n_neighbors=3;, score=(train=0.767, test=0.579) total time=   2.4s\n",
      "[CV 1/5] END .n_neighbors=5;, score=(train=0.709, test=0.517) total time=   2.4s\n",
      "[CV 2/5] END .n_neighbors=5;, score=(train=0.700, test=0.590) total time=   2.3s\n",
      "[CV 3/5] END .n_neighbors=5;, score=(train=0.712, test=0.559) total time=   2.5s\n",
      "[CV 4/5] END .n_neighbors=5;, score=(train=0.694, test=0.632) total time=   2.2s\n",
      "[CV 5/5] END .n_neighbors=5;, score=(train=0.708, test=0.584) total time=   2.6s\n",
      "[CV 1/5] END .n_neighbors=7;, score=(train=0.667, test=0.507) total time=   2.4s\n",
      "[CV 2/5] END .n_neighbors=7;, score=(train=0.651, test=0.575) total time=   2.5s\n",
      "[CV 3/5] END .n_neighbors=7;, score=(train=0.663, test=0.526) total time=   2.2s\n",
      "[CV 4/5] END .n_neighbors=7;, score=(train=0.664, test=0.587) total time=   2.2s\n",
      "[CV 5/5] END .n_neighbors=7;, score=(train=0.668, test=0.563) total time=   2.3s\n",
      "[CV 1/5] END .n_neighbors=9;, score=(train=0.643, test=0.498) total time=   2.2s\n",
      "[CV 2/5] END .n_neighbors=9;, score=(train=0.625, test=0.580) total time=   2.4s\n",
      "[CV 3/5] END .n_neighbors=9;, score=(train=0.632, test=0.528) total time=   2.3s\n",
      "[CV 4/5] END .n_neighbors=9;, score=(train=0.637, test=0.580) total time=   2.2s\n",
      "[CV 5/5] END .n_neighbors=9;, score=(train=0.646, test=0.551) total time=   2.4s\n",
      "[CV 1/5] END n_neighbors=11;, score=(train=0.635, test=0.521) total time=   2.5s\n",
      "[CV 2/5] END n_neighbors=11;, score=(train=0.605, test=0.573) total time=   2.4s\n",
      "[CV 3/5] END n_neighbors=11;, score=(train=0.610, test=0.502) total time=   2.2s\n",
      "[CV 4/5] END n_neighbors=11;, score=(train=0.609, test=0.580) total time=   2.4s\n",
      "[CV 5/5] END n_neighbors=11;, score=(train=0.611, test=0.548) total time=   2.3s\n",
      "[CV 1/5] END n_neighbors=13;, score=(train=0.614, test=0.517) total time=   2.3s\n",
      "[CV 2/5] END n_neighbors=13;, score=(train=0.589, test=0.573) total time=   2.3s\n",
      "[CV 3/5] END n_neighbors=13;, score=(train=0.602, test=0.502) total time=   2.3s\n",
      "[CV 4/5] END n_neighbors=13;, score=(train=0.595, test=0.573) total time=   2.4s\n",
      "[CV 5/5] END n_neighbors=13;, score=(train=0.595, test=0.544) total time=   2.3s\n",
      "[CV 1/5] END n_neighbors=15;, score=(train=0.577, test=0.507) total time=   2.4s\n",
      "[CV 2/5] END n_neighbors=15;, score=(train=0.573, test=0.557) total time=   2.4s\n",
      "[CV 3/5] END n_neighbors=15;, score=(train=0.585, test=0.495) total time=   2.4s\n",
      "[CV 4/5] END n_neighbors=15;, score=(train=0.578, test=0.557) total time=   2.3s\n",
      "[CV 5/5] END n_neighbors=15;, score=(train=0.581, test=0.532) total time=   2.3s\n",
      "[CV 1/5] END n_neighbors=17;, score=(train=0.569, test=0.512) total time=   2.3s\n",
      "[CV 2/5] END n_neighbors=17;, score=(train=0.565, test=0.550) total time=   2.2s\n",
      "[CV 3/5] END n_neighbors=17;, score=(train=0.576, test=0.486) total time=   2.3s\n",
      "[CV 4/5] END n_neighbors=17;, score=(train=0.569, test=0.550) total time=   2.3s\n",
      "[CV 5/5] END n_neighbors=17;, score=(train=0.571, test=0.518) total time=   2.2s\n",
      "[CV 1/5] END n_neighbors=19;, score=(train=0.564, test=0.500) total time=   2.2s\n",
      "[CV 2/5] END n_neighbors=19;, score=(train=0.561, test=0.538) total time=   2.3s\n",
      "[CV 3/5] END n_neighbors=19;, score=(train=0.575, test=0.500) total time=   2.2s\n",
      "[CV 4/5] END n_neighbors=19;, score=(train=0.568, test=0.545) total time=   2.4s\n",
      "[CV 5/5] END n_neighbors=19;, score=(train=0.558, test=0.504) total time=   2.2s\n"
     ]
    },
    {
     "data": {
      "text/plain": [
       "GridSearchCV(cv=5, estimator=KNeighborsClassifier(),\n",
       "             param_grid={'n_neighbors': range(1, 20, 2)},\n",
       "             return_train_score=True, verbose=4)"
      ]
     },
     "execution_count": 29,
     "metadata": {},
     "output_type": "execute_result"
    }
   ],
   "source": [
    "grid_search.fit(X_train, y_train)"
   ]
  },
  {
   "cell_type": "code",
   "execution_count": 31,
   "id": "59755f3b",
   "metadata": {},
   "outputs": [
    {
     "name": "stdout",
     "output_type": "stream",
     "text": [
      "Training Prediction: 0.5960358659745163\n",
      "Test Prediction: 0.5435244161358811\n"
     ]
    }
   ],
   "source": [
    "knn = KNeighborsClassifier(n_neighbors=15)\n",
    "knn.fit(X_train, y_train)\n",
    "\n",
    "\n",
    "print(\"Training Prediction: {}\".format(knn.score(X_train,y_train)))\n",
    "\n",
    "print(\"Test Prediction: {}\".format(knn.score(X_test,y_test)))"
   ]
  },
  {
   "cell_type": "code",
   "execution_count": 32,
   "id": "b1b979cd",
   "metadata": {
    "scrolled": true
   },
   "outputs": [
    {
     "name": "stdout",
     "output_type": "stream",
     "text": [
      "              precision    recall  f1-score   support\n",
      "\n",
      "       Black       0.75      0.52      0.61       257\n",
      "        Blue       0.72      0.60      0.66       116\n",
      "       Brown       0.39      0.51      0.44        39\n",
      "       Green       0.31      0.17      0.22        64\n",
      "        Grey       0.24      0.53      0.33        91\n",
      "      Orange       0.64      0.35      0.45        26\n",
      "        Pink       1.00      0.31      0.48        16\n",
      "      Purple       0.00      0.00      0.00         5\n",
      "         Red       0.67      0.45      0.54        78\n",
      "      Silver       1.00      0.04      0.08        24\n",
      "       White       0.55      0.84      0.67       178\n",
      "      Yellow       0.79      0.65      0.71        48\n",
      "\n",
      "    accuracy                           0.54       942\n",
      "   macro avg       0.59      0.41      0.43       942\n",
      "weighted avg       0.61      0.54      0.54       942\n",
      "\n"
     ]
    },
    {
     "name": "stderr",
     "output_type": "stream",
     "text": [
      "C:\\Users\\mmate\\anaconda3\\lib\\site-packages\\sklearn\\metrics\\_classification.py:1318: UndefinedMetricWarning: Precision and F-score are ill-defined and being set to 0.0 in labels with no predicted samples. Use `zero_division` parameter to control this behavior.\n",
      "  _warn_prf(average, modifier, msg_start, len(result))\n",
      "C:\\Users\\mmate\\anaconda3\\lib\\site-packages\\sklearn\\metrics\\_classification.py:1318: UndefinedMetricWarning: Precision and F-score are ill-defined and being set to 0.0 in labels with no predicted samples. Use `zero_division` parameter to control this behavior.\n",
      "  _warn_prf(average, modifier, msg_start, len(result))\n",
      "C:\\Users\\mmate\\anaconda3\\lib\\site-packages\\sklearn\\metrics\\_classification.py:1318: UndefinedMetricWarning: Precision and F-score are ill-defined and being set to 0.0 in labels with no predicted samples. Use `zero_division` parameter to control this behavior.\n",
      "  _warn_prf(average, modifier, msg_start, len(result))\n"
     ]
    }
   ],
   "source": [
    "print(classification_report(y_test, knn.predict(X_test)))"
   ]
  },
  {
   "cell_type": "markdown",
   "id": "c53dcdea",
   "metadata": {},
   "source": [
    "Source of information: \n",
    "- https://stackoverflow.com/questions/21517879/python-pil-resize-all-images-in-a-folder\n",
    "- https://stackoverflow.com/questions/59774433/python-load-txt-as-array\n",
    "- https://www.kaggle.com/code/melihkanbay/knn-best-parameters-gridsearchcv"
   ]
  },
  {
   "cell_type": "markdown",
   "id": "c58efdb8",
   "metadata": {},
   "source": [
    "## 2. Flights Departing from NYC\n",
    "#### Pawel Skrzypkowski 293167\n",
    "#### Matey Dimitrov Matev - 285041\n",
    "\n",
    "__You should be able to do this exercise after Lecture 4.__"
   ]
  },
  {
   "cell_type": "markdown",
   "id": "379e7030",
   "metadata": {},
   "source": [
    "For this exercise we will be using the famous nycflights13 data which contains the `airlines`, `airports`, `flights`, `planes`, and `weather` datasets. Please see the documentation (`nycflights13.pdf`) for further information."
   ]
  },
  {
   "cell_type": "markdown",
   "id": "6af975b9",
   "metadata": {},
   "source": [
    "**(a)** Load all files as pandas dataframes and display the first 5 rows of each dataset."
   ]
  },
  {
   "cell_type": "code",
   "execution_count": 2,
   "id": "41522c0e",
   "metadata": {},
   "outputs": [
    {
     "data": {
      "text/plain": [
       "'flights'"
      ]
     },
     "metadata": {},
     "output_type": "display_data"
    },
    {
     "data": {
      "text/html": [
       "<div>\n",
       "<style scoped>\n",
       "    .dataframe tbody tr th:only-of-type {\n",
       "        vertical-align: middle;\n",
       "    }\n",
       "\n",
       "    .dataframe tbody tr th {\n",
       "        vertical-align: top;\n",
       "    }\n",
       "\n",
       "    .dataframe thead th {\n",
       "        text-align: right;\n",
       "    }\n",
       "</style>\n",
       "<table border=\"1\" class=\"dataframe\">\n",
       "  <thead>\n",
       "    <tr style=\"text-align: right;\">\n",
       "      <th></th>\n",
       "      <th>year</th>\n",
       "      <th>month</th>\n",
       "      <th>day</th>\n",
       "      <th>dep_time</th>\n",
       "      <th>dep_delay</th>\n",
       "      <th>arr_time</th>\n",
       "      <th>arr_delay</th>\n",
       "      <th>carrier</th>\n",
       "      <th>tailnum</th>\n",
       "      <th>flight</th>\n",
       "      <th>origin</th>\n",
       "      <th>dest</th>\n",
       "      <th>air_time</th>\n",
       "      <th>distance</th>\n",
       "      <th>hour</th>\n",
       "      <th>minute</th>\n",
       "    </tr>\n",
       "  </thead>\n",
       "  <tbody>\n",
       "    <tr>\n",
       "      <th>0</th>\n",
       "      <td>2013</td>\n",
       "      <td>1</td>\n",
       "      <td>1</td>\n",
       "      <td>517.0</td>\n",
       "      <td>2.0</td>\n",
       "      <td>830.0</td>\n",
       "      <td>11.0</td>\n",
       "      <td>UA</td>\n",
       "      <td>N14228</td>\n",
       "      <td>1545</td>\n",
       "      <td>EWR</td>\n",
       "      <td>IAH</td>\n",
       "      <td>227.0</td>\n",
       "      <td>1400</td>\n",
       "      <td>5.0</td>\n",
       "      <td>17.0</td>\n",
       "    </tr>\n",
       "    <tr>\n",
       "      <th>1</th>\n",
       "      <td>2013</td>\n",
       "      <td>1</td>\n",
       "      <td>1</td>\n",
       "      <td>533.0</td>\n",
       "      <td>4.0</td>\n",
       "      <td>850.0</td>\n",
       "      <td>20.0</td>\n",
       "      <td>UA</td>\n",
       "      <td>N24211</td>\n",
       "      <td>1714</td>\n",
       "      <td>LGA</td>\n",
       "      <td>IAH</td>\n",
       "      <td>227.0</td>\n",
       "      <td>1416</td>\n",
       "      <td>5.0</td>\n",
       "      <td>33.0</td>\n",
       "    </tr>\n",
       "    <tr>\n",
       "      <th>2</th>\n",
       "      <td>2013</td>\n",
       "      <td>1</td>\n",
       "      <td>1</td>\n",
       "      <td>542.0</td>\n",
       "      <td>2.0</td>\n",
       "      <td>923.0</td>\n",
       "      <td>33.0</td>\n",
       "      <td>AA</td>\n",
       "      <td>N619AA</td>\n",
       "      <td>1141</td>\n",
       "      <td>JFK</td>\n",
       "      <td>MIA</td>\n",
       "      <td>160.0</td>\n",
       "      <td>1089</td>\n",
       "      <td>5.0</td>\n",
       "      <td>42.0</td>\n",
       "    </tr>\n",
       "    <tr>\n",
       "      <th>3</th>\n",
       "      <td>2013</td>\n",
       "      <td>1</td>\n",
       "      <td>1</td>\n",
       "      <td>554.0</td>\n",
       "      <td>-6.0</td>\n",
       "      <td>812.0</td>\n",
       "      <td>-25.0</td>\n",
       "      <td>DL</td>\n",
       "      <td>N668DN</td>\n",
       "      <td>461</td>\n",
       "      <td>LGA</td>\n",
       "      <td>ATL</td>\n",
       "      <td>116.0</td>\n",
       "      <td>762</td>\n",
       "      <td>5.0</td>\n",
       "      <td>54.0</td>\n",
       "    </tr>\n",
       "    <tr>\n",
       "      <th>4</th>\n",
       "      <td>2013</td>\n",
       "      <td>1</td>\n",
       "      <td>1</td>\n",
       "      <td>554.0</td>\n",
       "      <td>-4.0</td>\n",
       "      <td>740.0</td>\n",
       "      <td>12.0</td>\n",
       "      <td>UA</td>\n",
       "      <td>N39463</td>\n",
       "      <td>1696</td>\n",
       "      <td>EWR</td>\n",
       "      <td>ORD</td>\n",
       "      <td>150.0</td>\n",
       "      <td>719</td>\n",
       "      <td>5.0</td>\n",
       "      <td>54.0</td>\n",
       "    </tr>\n",
       "  </tbody>\n",
       "</table>\n",
       "</div>"
      ],
      "text/plain": [
       "   year  month  day  dep_time  dep_delay  arr_time  arr_delay carrier tailnum  \\\n",
       "0  2013      1    1     517.0        2.0     830.0       11.0      UA  N14228   \n",
       "1  2013      1    1     533.0        4.0     850.0       20.0      UA  N24211   \n",
       "2  2013      1    1     542.0        2.0     923.0       33.0      AA  N619AA   \n",
       "3  2013      1    1     554.0       -6.0     812.0      -25.0      DL  N668DN   \n",
       "4  2013      1    1     554.0       -4.0     740.0       12.0      UA  N39463   \n",
       "\n",
       "   flight origin dest  air_time  distance  hour  minute  \n",
       "0    1545    EWR  IAH     227.0      1400   5.0    17.0  \n",
       "1    1714    LGA  IAH     227.0      1416   5.0    33.0  \n",
       "2    1141    JFK  MIA     160.0      1089   5.0    42.0  \n",
       "3     461    LGA  ATL     116.0       762   5.0    54.0  \n",
       "4    1696    EWR  ORD     150.0       719   5.0    54.0  "
      ]
     },
     "metadata": {},
     "output_type": "display_data"
    },
    {
     "data": {
      "text/plain": [
       "'airlines'"
      ]
     },
     "metadata": {},
     "output_type": "display_data"
    },
    {
     "data": {
      "text/html": [
       "<div>\n",
       "<style scoped>\n",
       "    .dataframe tbody tr th:only-of-type {\n",
       "        vertical-align: middle;\n",
       "    }\n",
       "\n",
       "    .dataframe tbody tr th {\n",
       "        vertical-align: top;\n",
       "    }\n",
       "\n",
       "    .dataframe thead th {\n",
       "        text-align: right;\n",
       "    }\n",
       "</style>\n",
       "<table border=\"1\" class=\"dataframe\">\n",
       "  <thead>\n",
       "    <tr style=\"text-align: right;\">\n",
       "      <th></th>\n",
       "      <th>carrier</th>\n",
       "      <th>name</th>\n",
       "    </tr>\n",
       "  </thead>\n",
       "  <tbody>\n",
       "    <tr>\n",
       "      <th>0</th>\n",
       "      <td>9E</td>\n",
       "      <td>Endeavor Air Inc.</td>\n",
       "    </tr>\n",
       "    <tr>\n",
       "      <th>1</th>\n",
       "      <td>AA</td>\n",
       "      <td>American Airlines Inc.</td>\n",
       "    </tr>\n",
       "    <tr>\n",
       "      <th>2</th>\n",
       "      <td>AS</td>\n",
       "      <td>Alaska Airlines Inc.</td>\n",
       "    </tr>\n",
       "    <tr>\n",
       "      <th>3</th>\n",
       "      <td>B6</td>\n",
       "      <td>JetBlue Airways</td>\n",
       "    </tr>\n",
       "    <tr>\n",
       "      <th>4</th>\n",
       "      <td>DL</td>\n",
       "      <td>Delta Air Lines Inc.</td>\n",
       "    </tr>\n",
       "  </tbody>\n",
       "</table>\n",
       "</div>"
      ],
      "text/plain": [
       "  carrier                    name\n",
       "0      9E       Endeavor Air Inc.\n",
       "1      AA  American Airlines Inc.\n",
       "2      AS    Alaska Airlines Inc.\n",
       "3      B6         JetBlue Airways\n",
       "4      DL    Delta Air Lines Inc."
      ]
     },
     "metadata": {},
     "output_type": "display_data"
    },
    {
     "data": {
      "text/plain": [
       "'airports'"
      ]
     },
     "metadata": {},
     "output_type": "display_data"
    },
    {
     "data": {
      "text/html": [
       "<div>\n",
       "<style scoped>\n",
       "    .dataframe tbody tr th:only-of-type {\n",
       "        vertical-align: middle;\n",
       "    }\n",
       "\n",
       "    .dataframe tbody tr th {\n",
       "        vertical-align: top;\n",
       "    }\n",
       "\n",
       "    .dataframe thead th {\n",
       "        text-align: right;\n",
       "    }\n",
       "</style>\n",
       "<table border=\"1\" class=\"dataframe\">\n",
       "  <thead>\n",
       "    <tr style=\"text-align: right;\">\n",
       "      <th></th>\n",
       "      <th>faa</th>\n",
       "      <th>name</th>\n",
       "      <th>lat</th>\n",
       "      <th>lon</th>\n",
       "      <th>alt</th>\n",
       "      <th>tz</th>\n",
       "      <th>dst</th>\n",
       "      <th>tzone</th>\n",
       "    </tr>\n",
       "  </thead>\n",
       "  <tbody>\n",
       "    <tr>\n",
       "      <th>0</th>\n",
       "      <td>04G</td>\n",
       "      <td>Lansdowne Airport</td>\n",
       "      <td>41.130472</td>\n",
       "      <td>-80.619583</td>\n",
       "      <td>1044</td>\n",
       "      <td>-5.0</td>\n",
       "      <td>A</td>\n",
       "      <td>America/New_York</td>\n",
       "    </tr>\n",
       "    <tr>\n",
       "      <th>1</th>\n",
       "      <td>06A</td>\n",
       "      <td>Moton Field Municipal Airport</td>\n",
       "      <td>32.460572</td>\n",
       "      <td>-85.680028</td>\n",
       "      <td>264</td>\n",
       "      <td>-6.0</td>\n",
       "      <td>A</td>\n",
       "      <td>America/Chicago</td>\n",
       "    </tr>\n",
       "    <tr>\n",
       "      <th>2</th>\n",
       "      <td>06C</td>\n",
       "      <td>Schaumburg Regional</td>\n",
       "      <td>41.989341</td>\n",
       "      <td>-88.101243</td>\n",
       "      <td>801</td>\n",
       "      <td>-6.0</td>\n",
       "      <td>A</td>\n",
       "      <td>America/Chicago</td>\n",
       "    </tr>\n",
       "    <tr>\n",
       "      <th>3</th>\n",
       "      <td>06N</td>\n",
       "      <td>Randall Airport</td>\n",
       "      <td>41.431912</td>\n",
       "      <td>-74.391561</td>\n",
       "      <td>523</td>\n",
       "      <td>-5.0</td>\n",
       "      <td>A</td>\n",
       "      <td>America/New_York</td>\n",
       "    </tr>\n",
       "    <tr>\n",
       "      <th>4</th>\n",
       "      <td>09J</td>\n",
       "      <td>Jekyll Island Airport</td>\n",
       "      <td>31.074472</td>\n",
       "      <td>-81.427778</td>\n",
       "      <td>11</td>\n",
       "      <td>-5.0</td>\n",
       "      <td>A</td>\n",
       "      <td>America/New_York</td>\n",
       "    </tr>\n",
       "  </tbody>\n",
       "</table>\n",
       "</div>"
      ],
      "text/plain": [
       "   faa                           name        lat        lon   alt   tz dst  \\\n",
       "0  04G              Lansdowne Airport  41.130472 -80.619583  1044 -5.0   A   \n",
       "1  06A  Moton Field Municipal Airport  32.460572 -85.680028   264 -6.0   A   \n",
       "2  06C            Schaumburg Regional  41.989341 -88.101243   801 -6.0   A   \n",
       "3  06N                Randall Airport  41.431912 -74.391561   523 -5.0   A   \n",
       "4  09J          Jekyll Island Airport  31.074472 -81.427778    11 -5.0   A   \n",
       "\n",
       "              tzone  \n",
       "0  America/New_York  \n",
       "1   America/Chicago  \n",
       "2   America/Chicago  \n",
       "3  America/New_York  \n",
       "4  America/New_York  "
      ]
     },
     "metadata": {},
     "output_type": "display_data"
    },
    {
     "data": {
      "text/plain": [
       "'planes'"
      ]
     },
     "metadata": {},
     "output_type": "display_data"
    },
    {
     "data": {
      "text/html": [
       "<div>\n",
       "<style scoped>\n",
       "    .dataframe tbody tr th:only-of-type {\n",
       "        vertical-align: middle;\n",
       "    }\n",
       "\n",
       "    .dataframe tbody tr th {\n",
       "        vertical-align: top;\n",
       "    }\n",
       "\n",
       "    .dataframe thead th {\n",
       "        text-align: right;\n",
       "    }\n",
       "</style>\n",
       "<table border=\"1\" class=\"dataframe\">\n",
       "  <thead>\n",
       "    <tr style=\"text-align: right;\">\n",
       "      <th></th>\n",
       "      <th>tailnum</th>\n",
       "      <th>year</th>\n",
       "      <th>type</th>\n",
       "      <th>manufacturer</th>\n",
       "      <th>model</th>\n",
       "      <th>engines</th>\n",
       "      <th>seats</th>\n",
       "      <th>speed</th>\n",
       "      <th>engine</th>\n",
       "    </tr>\n",
       "  </thead>\n",
       "  <tbody>\n",
       "    <tr>\n",
       "      <th>0</th>\n",
       "      <td>N10156</td>\n",
       "      <td>2004.0</td>\n",
       "      <td>Fixed wing multi engine</td>\n",
       "      <td>EMBRAER</td>\n",
       "      <td>EMB-145XR</td>\n",
       "      <td>2</td>\n",
       "      <td>55</td>\n",
       "      <td>NaN</td>\n",
       "      <td>Turbo-fan</td>\n",
       "    </tr>\n",
       "    <tr>\n",
       "      <th>1</th>\n",
       "      <td>N102UW</td>\n",
       "      <td>1998.0</td>\n",
       "      <td>Fixed wing multi engine</td>\n",
       "      <td>AIRBUS INDUSTRIE</td>\n",
       "      <td>A320-214</td>\n",
       "      <td>2</td>\n",
       "      <td>182</td>\n",
       "      <td>NaN</td>\n",
       "      <td>Turbo-fan</td>\n",
       "    </tr>\n",
       "    <tr>\n",
       "      <th>2</th>\n",
       "      <td>N103US</td>\n",
       "      <td>1999.0</td>\n",
       "      <td>Fixed wing multi engine</td>\n",
       "      <td>AIRBUS INDUSTRIE</td>\n",
       "      <td>A320-214</td>\n",
       "      <td>2</td>\n",
       "      <td>182</td>\n",
       "      <td>NaN</td>\n",
       "      <td>Turbo-fan</td>\n",
       "    </tr>\n",
       "    <tr>\n",
       "      <th>3</th>\n",
       "      <td>N104UW</td>\n",
       "      <td>1999.0</td>\n",
       "      <td>Fixed wing multi engine</td>\n",
       "      <td>AIRBUS INDUSTRIE</td>\n",
       "      <td>A320-214</td>\n",
       "      <td>2</td>\n",
       "      <td>182</td>\n",
       "      <td>NaN</td>\n",
       "      <td>Turbo-fan</td>\n",
       "    </tr>\n",
       "    <tr>\n",
       "      <th>4</th>\n",
       "      <td>N10575</td>\n",
       "      <td>2002.0</td>\n",
       "      <td>Fixed wing multi engine</td>\n",
       "      <td>EMBRAER</td>\n",
       "      <td>EMB-145LR</td>\n",
       "      <td>2</td>\n",
       "      <td>55</td>\n",
       "      <td>NaN</td>\n",
       "      <td>Turbo-fan</td>\n",
       "    </tr>\n",
       "  </tbody>\n",
       "</table>\n",
       "</div>"
      ],
      "text/plain": [
       "  tailnum    year                     type      manufacturer      model  \\\n",
       "0  N10156  2004.0  Fixed wing multi engine           EMBRAER  EMB-145XR   \n",
       "1  N102UW  1998.0  Fixed wing multi engine  AIRBUS INDUSTRIE   A320-214   \n",
       "2  N103US  1999.0  Fixed wing multi engine  AIRBUS INDUSTRIE   A320-214   \n",
       "3  N104UW  1999.0  Fixed wing multi engine  AIRBUS INDUSTRIE   A320-214   \n",
       "4  N10575  2002.0  Fixed wing multi engine           EMBRAER  EMB-145LR   \n",
       "\n",
       "   engines  seats  speed     engine  \n",
       "0        2     55    NaN  Turbo-fan  \n",
       "1        2    182    NaN  Turbo-fan  \n",
       "2        2    182    NaN  Turbo-fan  \n",
       "3        2    182    NaN  Turbo-fan  \n",
       "4        2     55    NaN  Turbo-fan  "
      ]
     },
     "metadata": {},
     "output_type": "display_data"
    },
    {
     "data": {
      "text/plain": [
       "'weather'"
      ]
     },
     "metadata": {},
     "output_type": "display_data"
    },
    {
     "data": {
      "text/html": [
       "<div>\n",
       "<style scoped>\n",
       "    .dataframe tbody tr th:only-of-type {\n",
       "        vertical-align: middle;\n",
       "    }\n",
       "\n",
       "    .dataframe tbody tr th {\n",
       "        vertical-align: top;\n",
       "    }\n",
       "\n",
       "    .dataframe thead th {\n",
       "        text-align: right;\n",
       "    }\n",
       "</style>\n",
       "<table border=\"1\" class=\"dataframe\">\n",
       "  <thead>\n",
       "    <tr style=\"text-align: right;\">\n",
       "      <th></th>\n",
       "      <th>origin</th>\n",
       "      <th>year</th>\n",
       "      <th>month</th>\n",
       "      <th>day</th>\n",
       "      <th>hour</th>\n",
       "      <th>temp</th>\n",
       "      <th>dewp</th>\n",
       "      <th>humid</th>\n",
       "      <th>wind_dir</th>\n",
       "      <th>wind_speed</th>\n",
       "      <th>wind_gust</th>\n",
       "      <th>precip</th>\n",
       "      <th>pressure</th>\n",
       "      <th>visib</th>\n",
       "      <th>time_hour</th>\n",
       "    </tr>\n",
       "  </thead>\n",
       "  <tbody>\n",
       "    <tr>\n",
       "      <th>0</th>\n",
       "      <td>EWR</td>\n",
       "      <td>2013</td>\n",
       "      <td>1</td>\n",
       "      <td>1</td>\n",
       "      <td>0</td>\n",
       "      <td>37.04</td>\n",
       "      <td>21.92</td>\n",
       "      <td>53.97</td>\n",
       "      <td>230.0</td>\n",
       "      <td>10.35702</td>\n",
       "      <td>11.918651</td>\n",
       "      <td>0.0</td>\n",
       "      <td>1013.9</td>\n",
       "      <td>10.0</td>\n",
       "      <td>2013-01-01T00:00:00Z</td>\n",
       "    </tr>\n",
       "    <tr>\n",
       "      <th>1</th>\n",
       "      <td>EWR</td>\n",
       "      <td>2013</td>\n",
       "      <td>1</td>\n",
       "      <td>1</td>\n",
       "      <td>1</td>\n",
       "      <td>37.04</td>\n",
       "      <td>21.92</td>\n",
       "      <td>53.97</td>\n",
       "      <td>230.0</td>\n",
       "      <td>13.80936</td>\n",
       "      <td>15.891535</td>\n",
       "      <td>0.0</td>\n",
       "      <td>1013.0</td>\n",
       "      <td>10.0</td>\n",
       "      <td>2013-01-01T01:00:00Z</td>\n",
       "    </tr>\n",
       "    <tr>\n",
       "      <th>2</th>\n",
       "      <td>EWR</td>\n",
       "      <td>2013</td>\n",
       "      <td>1</td>\n",
       "      <td>1</td>\n",
       "      <td>2</td>\n",
       "      <td>37.94</td>\n",
       "      <td>21.92</td>\n",
       "      <td>52.09</td>\n",
       "      <td>230.0</td>\n",
       "      <td>12.65858</td>\n",
       "      <td>14.567241</td>\n",
       "      <td>0.0</td>\n",
       "      <td>1012.6</td>\n",
       "      <td>10.0</td>\n",
       "      <td>2013-01-01T02:00:00Z</td>\n",
       "    </tr>\n",
       "    <tr>\n",
       "      <th>3</th>\n",
       "      <td>EWR</td>\n",
       "      <td>2013</td>\n",
       "      <td>1</td>\n",
       "      <td>1</td>\n",
       "      <td>3</td>\n",
       "      <td>37.94</td>\n",
       "      <td>23.00</td>\n",
       "      <td>54.51</td>\n",
       "      <td>230.0</td>\n",
       "      <td>13.80936</td>\n",
       "      <td>15.891535</td>\n",
       "      <td>0.0</td>\n",
       "      <td>1012.7</td>\n",
       "      <td>10.0</td>\n",
       "      <td>2013-01-01T03:00:00Z</td>\n",
       "    </tr>\n",
       "    <tr>\n",
       "      <th>4</th>\n",
       "      <td>EWR</td>\n",
       "      <td>2013</td>\n",
       "      <td>1</td>\n",
       "      <td>1</td>\n",
       "      <td>4</td>\n",
       "      <td>37.94</td>\n",
       "      <td>24.08</td>\n",
       "      <td>57.04</td>\n",
       "      <td>240.0</td>\n",
       "      <td>14.96014</td>\n",
       "      <td>17.215830</td>\n",
       "      <td>0.0</td>\n",
       "      <td>1012.8</td>\n",
       "      <td>10.0</td>\n",
       "      <td>2013-01-01T04:00:00Z</td>\n",
       "    </tr>\n",
       "  </tbody>\n",
       "</table>\n",
       "</div>"
      ],
      "text/plain": [
       "  origin  year  month  day  hour   temp   dewp  humid  wind_dir  wind_speed  \\\n",
       "0    EWR  2013      1    1     0  37.04  21.92  53.97     230.0    10.35702   \n",
       "1    EWR  2013      1    1     1  37.04  21.92  53.97     230.0    13.80936   \n",
       "2    EWR  2013      1    1     2  37.94  21.92  52.09     230.0    12.65858   \n",
       "3    EWR  2013      1    1     3  37.94  23.00  54.51     230.0    13.80936   \n",
       "4    EWR  2013      1    1     4  37.94  24.08  57.04     240.0    14.96014   \n",
       "\n",
       "   wind_gust  precip  pressure  visib             time_hour  \n",
       "0  11.918651     0.0    1013.9   10.0  2013-01-01T00:00:00Z  \n",
       "1  15.891535     0.0    1013.0   10.0  2013-01-01T01:00:00Z  \n",
       "2  14.567241     0.0    1012.6   10.0  2013-01-01T02:00:00Z  \n",
       "3  15.891535     0.0    1012.7   10.0  2013-01-01T03:00:00Z  \n",
       "4  17.215830     0.0    1012.8   10.0  2013-01-01T04:00:00Z  "
      ]
     },
     "metadata": {},
     "output_type": "display_data"
    }
   ],
   "source": [
    "flights = pd.read_csv('flights.csv')\n",
    "airlines = pd.read_csv('airlines.csv')\n",
    "airports = pd.read_csv('airports.csv')\n",
    "planes = pd.read_csv('planes.csv')\n",
    "weather = pd.read_csv('weather.csv')\n",
    "\n",
    "display(\"flights\")\n",
    "display(flights[0:5])\n",
    "display(\"airlines\")\n",
    "display(airlines[0:5])\n",
    "display(\"airports\")\n",
    "display(airports[0:5])\n",
    "display(\"planes\")\n",
    "display(planes[0:5])\n",
    "display(\"weather\")\n",
    "display(weather[0:5])"
   ]
  },
  {
   "cell_type": "markdown",
   "id": "a4c22293",
   "metadata": {},
   "source": [
    "**(b)** Convert all temperature attributes to degree Celsius. We will be using this in what follows."
   ]
  },
  {
   "cell_type": "code",
   "execution_count": 3,
   "id": "01998e04",
   "metadata": {},
   "outputs": [
    {
     "name": "stdout",
     "output_type": "stream",
     "text": [
      "Before conversion\n"
     ]
    },
    {
     "data": {
      "text/html": [
       "<div>\n",
       "<style scoped>\n",
       "    .dataframe tbody tr th:only-of-type {\n",
       "        vertical-align: middle;\n",
       "    }\n",
       "\n",
       "    .dataframe tbody tr th {\n",
       "        vertical-align: top;\n",
       "    }\n",
       "\n",
       "    .dataframe thead th {\n",
       "        text-align: right;\n",
       "    }\n",
       "</style>\n",
       "<table border=\"1\" class=\"dataframe\">\n",
       "  <thead>\n",
       "    <tr style=\"text-align: right;\">\n",
       "      <th></th>\n",
       "      <th>origin</th>\n",
       "      <th>year</th>\n",
       "      <th>month</th>\n",
       "      <th>day</th>\n",
       "      <th>hour</th>\n",
       "      <th>temp</th>\n",
       "      <th>dewp</th>\n",
       "      <th>humid</th>\n",
       "      <th>wind_dir</th>\n",
       "      <th>wind_speed</th>\n",
       "      <th>wind_gust</th>\n",
       "      <th>precip</th>\n",
       "      <th>pressure</th>\n",
       "      <th>visib</th>\n",
       "      <th>time_hour</th>\n",
       "    </tr>\n",
       "  </thead>\n",
       "  <tbody>\n",
       "    <tr>\n",
       "      <th>0</th>\n",
       "      <td>EWR</td>\n",
       "      <td>2013</td>\n",
       "      <td>1</td>\n",
       "      <td>1</td>\n",
       "      <td>0</td>\n",
       "      <td>37.04</td>\n",
       "      <td>21.92</td>\n",
       "      <td>53.97</td>\n",
       "      <td>230.0</td>\n",
       "      <td>10.35702</td>\n",
       "      <td>11.918651</td>\n",
       "      <td>0.0</td>\n",
       "      <td>1013.9</td>\n",
       "      <td>10.0</td>\n",
       "      <td>2013-01-01T00:00:00Z</td>\n",
       "    </tr>\n",
       "    <tr>\n",
       "      <th>1</th>\n",
       "      <td>EWR</td>\n",
       "      <td>2013</td>\n",
       "      <td>1</td>\n",
       "      <td>1</td>\n",
       "      <td>1</td>\n",
       "      <td>37.04</td>\n",
       "      <td>21.92</td>\n",
       "      <td>53.97</td>\n",
       "      <td>230.0</td>\n",
       "      <td>13.80936</td>\n",
       "      <td>15.891535</td>\n",
       "      <td>0.0</td>\n",
       "      <td>1013.0</td>\n",
       "      <td>10.0</td>\n",
       "      <td>2013-01-01T01:00:00Z</td>\n",
       "    </tr>\n",
       "    <tr>\n",
       "      <th>2</th>\n",
       "      <td>EWR</td>\n",
       "      <td>2013</td>\n",
       "      <td>1</td>\n",
       "      <td>1</td>\n",
       "      <td>2</td>\n",
       "      <td>37.94</td>\n",
       "      <td>21.92</td>\n",
       "      <td>52.09</td>\n",
       "      <td>230.0</td>\n",
       "      <td>12.65858</td>\n",
       "      <td>14.567241</td>\n",
       "      <td>0.0</td>\n",
       "      <td>1012.6</td>\n",
       "      <td>10.0</td>\n",
       "      <td>2013-01-01T02:00:00Z</td>\n",
       "    </tr>\n",
       "    <tr>\n",
       "      <th>3</th>\n",
       "      <td>EWR</td>\n",
       "      <td>2013</td>\n",
       "      <td>1</td>\n",
       "      <td>1</td>\n",
       "      <td>3</td>\n",
       "      <td>37.94</td>\n",
       "      <td>23.00</td>\n",
       "      <td>54.51</td>\n",
       "      <td>230.0</td>\n",
       "      <td>13.80936</td>\n",
       "      <td>15.891535</td>\n",
       "      <td>0.0</td>\n",
       "      <td>1012.7</td>\n",
       "      <td>10.0</td>\n",
       "      <td>2013-01-01T03:00:00Z</td>\n",
       "    </tr>\n",
       "    <tr>\n",
       "      <th>4</th>\n",
       "      <td>EWR</td>\n",
       "      <td>2013</td>\n",
       "      <td>1</td>\n",
       "      <td>1</td>\n",
       "      <td>4</td>\n",
       "      <td>37.94</td>\n",
       "      <td>24.08</td>\n",
       "      <td>57.04</td>\n",
       "      <td>240.0</td>\n",
       "      <td>14.96014</td>\n",
       "      <td>17.215830</td>\n",
       "      <td>0.0</td>\n",
       "      <td>1012.8</td>\n",
       "      <td>10.0</td>\n",
       "      <td>2013-01-01T04:00:00Z</td>\n",
       "    </tr>\n",
       "  </tbody>\n",
       "</table>\n",
       "</div>"
      ],
      "text/plain": [
       "  origin  year  month  day  hour   temp   dewp  humid  wind_dir  wind_speed  \\\n",
       "0    EWR  2013      1    1     0  37.04  21.92  53.97     230.0    10.35702   \n",
       "1    EWR  2013      1    1     1  37.04  21.92  53.97     230.0    13.80936   \n",
       "2    EWR  2013      1    1     2  37.94  21.92  52.09     230.0    12.65858   \n",
       "3    EWR  2013      1    1     3  37.94  23.00  54.51     230.0    13.80936   \n",
       "4    EWR  2013      1    1     4  37.94  24.08  57.04     240.0    14.96014   \n",
       "\n",
       "   wind_gust  precip  pressure  visib             time_hour  \n",
       "0  11.918651     0.0    1013.9   10.0  2013-01-01T00:00:00Z  \n",
       "1  15.891535     0.0    1013.0   10.0  2013-01-01T01:00:00Z  \n",
       "2  14.567241     0.0    1012.6   10.0  2013-01-01T02:00:00Z  \n",
       "3  15.891535     0.0    1012.7   10.0  2013-01-01T03:00:00Z  \n",
       "4  17.215830     0.0    1012.8   10.0  2013-01-01T04:00:00Z  "
      ]
     },
     "metadata": {},
     "output_type": "display_data"
    },
    {
     "name": "stdout",
     "output_type": "stream",
     "text": [
      "After conversion\n"
     ]
    },
    {
     "data": {
      "text/html": [
       "<div>\n",
       "<style scoped>\n",
       "    .dataframe tbody tr th:only-of-type {\n",
       "        vertical-align: middle;\n",
       "    }\n",
       "\n",
       "    .dataframe tbody tr th {\n",
       "        vertical-align: top;\n",
       "    }\n",
       "\n",
       "    .dataframe thead th {\n",
       "        text-align: right;\n",
       "    }\n",
       "</style>\n",
       "<table border=\"1\" class=\"dataframe\">\n",
       "  <thead>\n",
       "    <tr style=\"text-align: right;\">\n",
       "      <th></th>\n",
       "      <th>origin</th>\n",
       "      <th>year</th>\n",
       "      <th>month</th>\n",
       "      <th>day</th>\n",
       "      <th>hour</th>\n",
       "      <th>temp</th>\n",
       "      <th>dewp</th>\n",
       "      <th>humid</th>\n",
       "      <th>wind_dir</th>\n",
       "      <th>wind_speed</th>\n",
       "      <th>wind_gust</th>\n",
       "      <th>precip</th>\n",
       "      <th>pressure</th>\n",
       "      <th>visib</th>\n",
       "      <th>time_hour</th>\n",
       "    </tr>\n",
       "  </thead>\n",
       "  <tbody>\n",
       "    <tr>\n",
       "      <th>0</th>\n",
       "      <td>EWR</td>\n",
       "      <td>2013</td>\n",
       "      <td>1</td>\n",
       "      <td>1</td>\n",
       "      <td>0</td>\n",
       "      <td>2.8</td>\n",
       "      <td>-5.6</td>\n",
       "      <td>53.97</td>\n",
       "      <td>230.0</td>\n",
       "      <td>10.35702</td>\n",
       "      <td>11.918651</td>\n",
       "      <td>0.0</td>\n",
       "      <td>1013.9</td>\n",
       "      <td>10.0</td>\n",
       "      <td>2013-01-01T00:00:00Z</td>\n",
       "    </tr>\n",
       "    <tr>\n",
       "      <th>1</th>\n",
       "      <td>EWR</td>\n",
       "      <td>2013</td>\n",
       "      <td>1</td>\n",
       "      <td>1</td>\n",
       "      <td>1</td>\n",
       "      <td>2.8</td>\n",
       "      <td>-5.6</td>\n",
       "      <td>53.97</td>\n",
       "      <td>230.0</td>\n",
       "      <td>13.80936</td>\n",
       "      <td>15.891535</td>\n",
       "      <td>0.0</td>\n",
       "      <td>1013.0</td>\n",
       "      <td>10.0</td>\n",
       "      <td>2013-01-01T01:00:00Z</td>\n",
       "    </tr>\n",
       "    <tr>\n",
       "      <th>2</th>\n",
       "      <td>EWR</td>\n",
       "      <td>2013</td>\n",
       "      <td>1</td>\n",
       "      <td>1</td>\n",
       "      <td>2</td>\n",
       "      <td>3.3</td>\n",
       "      <td>-5.6</td>\n",
       "      <td>52.09</td>\n",
       "      <td>230.0</td>\n",
       "      <td>12.65858</td>\n",
       "      <td>14.567241</td>\n",
       "      <td>0.0</td>\n",
       "      <td>1012.6</td>\n",
       "      <td>10.0</td>\n",
       "      <td>2013-01-01T02:00:00Z</td>\n",
       "    </tr>\n",
       "    <tr>\n",
       "      <th>3</th>\n",
       "      <td>EWR</td>\n",
       "      <td>2013</td>\n",
       "      <td>1</td>\n",
       "      <td>1</td>\n",
       "      <td>3</td>\n",
       "      <td>3.3</td>\n",
       "      <td>-5.0</td>\n",
       "      <td>54.51</td>\n",
       "      <td>230.0</td>\n",
       "      <td>13.80936</td>\n",
       "      <td>15.891535</td>\n",
       "      <td>0.0</td>\n",
       "      <td>1012.7</td>\n",
       "      <td>10.0</td>\n",
       "      <td>2013-01-01T03:00:00Z</td>\n",
       "    </tr>\n",
       "    <tr>\n",
       "      <th>4</th>\n",
       "      <td>EWR</td>\n",
       "      <td>2013</td>\n",
       "      <td>1</td>\n",
       "      <td>1</td>\n",
       "      <td>4</td>\n",
       "      <td>3.3</td>\n",
       "      <td>-4.4</td>\n",
       "      <td>57.04</td>\n",
       "      <td>240.0</td>\n",
       "      <td>14.96014</td>\n",
       "      <td>17.215830</td>\n",
       "      <td>0.0</td>\n",
       "      <td>1012.8</td>\n",
       "      <td>10.0</td>\n",
       "      <td>2013-01-01T04:00:00Z</td>\n",
       "    </tr>\n",
       "  </tbody>\n",
       "</table>\n",
       "</div>"
      ],
      "text/plain": [
       "  origin  year  month  day  hour  temp  dewp  humid  wind_dir  wind_speed  \\\n",
       "0    EWR  2013      1    1     0   2.8  -5.6  53.97     230.0    10.35702   \n",
       "1    EWR  2013      1    1     1   2.8  -5.6  53.97     230.0    13.80936   \n",
       "2    EWR  2013      1    1     2   3.3  -5.6  52.09     230.0    12.65858   \n",
       "3    EWR  2013      1    1     3   3.3  -5.0  54.51     230.0    13.80936   \n",
       "4    EWR  2013      1    1     4   3.3  -4.4  57.04     240.0    14.96014   \n",
       "\n",
       "   wind_gust  precip  pressure  visib             time_hour  \n",
       "0  11.918651     0.0    1013.9   10.0  2013-01-01T00:00:00Z  \n",
       "1  15.891535     0.0    1013.0   10.0  2013-01-01T01:00:00Z  \n",
       "2  14.567241     0.0    1012.6   10.0  2013-01-01T02:00:00Z  \n",
       "3  15.891535     0.0    1012.7   10.0  2013-01-01T03:00:00Z  \n",
       "4  17.215830     0.0    1012.8   10.0  2013-01-01T04:00:00Z  "
      ]
     },
     "metadata": {},
     "output_type": "display_data"
    }
   ],
   "source": [
    "print(\"Before conversion\")\n",
    "display(weather[0:5])\n",
    "\n",
    "weather[\"temp\"] = (weather[\"temp\"] - 32) * 5/9\n",
    "weather[\"dewp\"] = (weather[\"dewp\"] - 32) * 5/9\n",
    "\n",
    "print(\"After conversion\")\n",
    "display(weather[0:5])"
   ]
  },
  {
   "cell_type": "markdown",
   "id": "00c2e581",
   "metadata": {},
   "source": [
    "**(c)** Using OLS, investigate if flight distance is associated with arrival delay. You should be cautious regarding negative delays."
   ]
  },
  {
   "cell_type": "code",
   "execution_count": 4,
   "id": "76213a1b",
   "metadata": {},
   "outputs": [
    {
     "name": "stdout",
     "output_type": "stream",
     "text": [
      "OLS\n",
      "Train data: 0.009430259039519329 \n",
      "Test data: 0.00811720102291602\n"
     ]
    }
   ],
   "source": [
    "flightdata = flights.copy(deep=True)\n",
    "flightdata[\"arr_delay\"] = flightdata[\"arr_delay\"] - flights[\"dep_delay\"] \n",
    "flightdata = flightdata.dropna()\n",
    "\n",
    "X = flightdata.loc[:,[\"distance\"]]\n",
    "y = flightdata.loc[:,[\"arr_delay\"]]\n",
    "\n",
    "X_train, X_test , y_train, y_test = train_test_split(X, y, random_state=69)\n",
    "\n",
    "ODS = LinearRegression()\n",
    "ODS.fit(X_train, y_train)\n",
    "\n",
    "print(\"OLS\\nTrain data: {} \\nTest data: {}\".format(ODS.score(X_train, y_train), ODS.score(X_test, y_test)))"
   ]
  },
  {
   "cell_type": "code",
   "execution_count": 9,
   "id": "fb5835e7",
   "metadata": {},
   "outputs": [],
   "source": [
    "#Not Associated."
   ]
  },
  {
   "cell_type": "markdown",
   "id": "cd46646f",
   "metadata": {},
   "source": [
    "**(d)** Using OLS, investigate if departure delay is associated with arrival delay. Again,\n",
    "   consider what to do with negative delays."
   ]
  },
  {
   "cell_type": "code",
   "execution_count": 5,
   "id": "60de7909",
   "metadata": {},
   "outputs": [
    {
     "name": "stdout",
     "output_type": "stream",
     "text": [
      "OLS\n",
      "Train data: 0.7926562035266644 \n",
      "Test data: 0.7965704895643246\n"
     ]
    }
   ],
   "source": [
    "flightdata = flights.copy(deep=True)\n",
    "flightdata = flightdata.dropna()\n",
    "\n",
    "X = flightdata.loc[:,[\"dep_delay\"]]\n",
    "y = flightdata.loc[:,[\"arr_delay\"]]\n",
    "\n",
    "X_train, X_test , y_train, y_test = train_test_split(X, y, random_state=69)\n",
    "\n",
    "ODS = LinearRegression()\n",
    "ODS.fit(X_train, y_train)\n",
    "\n",
    "print(\"OLS\\nTrain data: {} \\nTest data: {}\".format(ODS.score(X_train, y_train), ODS.score(X_test, y_test)))"
   ]
  },
  {
   "cell_type": "code",
   "execution_count": null,
   "id": "30f9de74",
   "metadata": {},
   "outputs": [],
   "source": [
    "#Associated"
   ]
  },
  {
   "cell_type": "markdown",
   "id": "cf93f226",
   "metadata": {},
   "source": [
    "**(e)** Investigate whether departure delay is associated with weather conditions\n",
    "   at the origin airport. This includes descriptives, plotting, regression modelling,\n",
    "   considering missing values etc. For regression, do OLS, Ridge, Lasso, and Elastic Net.\n",
    "   The analysis should also include seasonality trends as a \"weather condition\". You could,\n",
    "   for instance, plot the daily departure delay with the date (or monthly). What are the\n",
    "   three most important weather conditions when trying to predict departure delays?"
   ]
  },
  {
   "cell_type": "code",
   "execution_count": 6,
   "id": "d045b874",
   "metadata": {},
   "outputs": [
    {
     "name": "stderr",
     "output_type": "stream",
     "text": [
      "C:\\Users\\fatem\\anaconda3\\lib\\site-packages\\sklearn\\linear_model\\_base.py:141: FutureWarning: 'normalize' was deprecated in version 1.0 and will be removed in 1.2.\n",
      "If you wish to scale the data, use Pipeline with a StandardScaler in a preprocessing stage. To reproduce the previous behavior:\n",
      "\n",
      "from sklearn.pipeline import make_pipeline\n",
      "\n",
      "model = make_pipeline(StandardScaler(with_mean=False), Lasso())\n",
      "\n",
      "If you wish to pass a sample_weight parameter, you need to pass it as a fit parameter to each step of the pipeline as follows:\n",
      "\n",
      "kwargs = {s[0] + '__sample_weight': sample_weight for s in model.steps}\n",
      "model.fit(X, y, **kwargs)\n",
      "\n",
      "Set parameter alpha to: original_alpha * np.sqrt(n_samples). \n",
      "  warnings.warn(\n"
     ]
    },
    {
     "name": "stdout",
     "output_type": "stream",
     "text": [
      "Weather relation to departure delays\n",
      "Train data: 0.021183758734537372 \n",
      "Test data: 0.01802748617090766\n"
     ]
    },
    {
     "data": {
      "image/png": "[encoded data removed]",
      "text/plain": [
       "<Figure size 432x288 with 1 Axes>"
      ]
     },
     "metadata": {
      "needs_background": "light"
     },
     "output_type": "display_data"
    }
   ],
   "source": [
    "flightdata = pd.merge(flights.copy(deep=True), weather.copy(deep=True), on=[\"origin\", \"year\", \"month\", \"day\", \"hour\"])\n",
    "\n",
    "flightdata = flightdata.loc[:,[\"temp\", \"dewp\", \"humid\", \"wind_dir\", \"wind_speed\", \"wind_gust\", \"precip\", \"pressure\", \"visib\" ,\"dep_delay\", \"arr_delay\"]]\n",
    "\n",
    "flightdata = flightdata.dropna()\n",
    "\n",
    "X = flightdata.loc[:,[\"temp\", \"dewp\", \"humid\", \"wind_dir\", \"wind_speed\", \"wind_gust\", \"precip\", \"pressure\", \"visib\"]]\n",
    "y = flightdata.loc[:,[\"dep_delay\"]]\n",
    "\n",
    "X_train, X_test , y_train, y_test = train_test_split(X, y, random_state=69)\n",
    "\n",
    "lassocv = LassoCV(alphas = None, cv = 10, max_iter = 100000, normalize = True)\n",
    "lassocv.fit(X_train, y_train.values.ravel())\n",
    "\n",
    "print(\"Weather relation to departure delays\\nTrain data: {} \\nTest data: {}\".format(lassocv.score(X_train, y_train), lassocv.score(X_test,y_test)))\n",
    "\n",
    "# Show graph of most important parameters\n",
    "fig = plt.figure()\n",
    "ax = fig.add_axes([0,0,1,1])\n",
    "col = X.columns\n",
    "score = lassocv.coef_\n",
    "ax.bar(col,score)\n",
    "plt.show()"
   ]
  },
  {
   "cell_type": "code",
   "execution_count": 7,
   "id": "2f43c400",
   "metadata": {},
   "outputs": [],
   "source": [
    "#Seasonality analysis\n",
    "#Get amount of delays for each month and total flights for each month\n",
    "flightdata = pd.merge(flights.copy(deep=True), weather.copy(deep=True), on=[\"origin\", \"year\", \"month\", \"day\", \"hour\"])\n",
    "flightdata[\"dep_delay\"] = flightdata[\"dep_delay\"].apply(lambda value: 1 if value > 0 else 0)\n",
    "flightdata = flightdata.dropna()\n",
    "\n",
    "monthsNames = [\"January\", \"February\", \"March\", \"April\", \"May\", \"June\", \"July\", \"August\", \"September\", \"October\",\"November\", \"December\"]\n",
    "monthsAmountDelayed = []\n",
    "monthsAmountTotal = []\n",
    "monthsAmountPercent = []\n",
    "\n",
    "\n",
    "for x in range(0,12):\n",
    "  monthsAmountDelayed.append(0)\n",
    "  monthsAmountTotal.append(0)\n",
    "  monthsAmountPercent.append(0)\n",
    "\n",
    "for index, row in flightdata.iterrows():\n",
    "\n",
    "  if row[\"dep_delay\"] == 1:\n",
    "    monthsAmountDelayed[row[\"month\"] - 1] = monthsAmountDelayed[row[\"month\"] - 1] + 1\n",
    "\n",
    "  monthsAmountTotal[row[\"month\"] - 1] = monthsAmountTotal[row[\"month\"] - 1] + 1\n",
    "\n",
    "\n",
    "for i, data in enumerate(monthsAmountPercent):\n",
    "  monthsAmountPercent[i] = monthsAmountDelayed[i] /  monthsAmountTotal[i] * 100"
   ]
  },
  {
   "cell_type": "code",
   "execution_count": 8,
   "id": "90f47edc",
   "metadata": {},
   "outputs": [
    {
     "name": "stdout",
     "output_type": "stream",
     "text": [
      "Seasonal analysis of flight delays\n",
      "Blue - total flights\n",
      "Orange - delayed flights\n"
     ]
    },
    {
     "data": {
      "image/png": "[encoded data removed]",
      "text/plain": [
       "<Figure size 720x288 with 1 Axes>"
      ]
     },
     "metadata": {
      "needs_background": "light"
     },
     "output_type": "display_data"
    }
   ],
   "source": [
    "print(\"Seasonal analysis of flight delays\\nBlue - total flights\\nOrange - delayed flights\")\n",
    "x = np.arange(len(monthsNames)) \n",
    "fig = plt.figure()\n",
    "fig.set_figwidth(10)\n",
    "ax = fig.add_axes([0,0,1,1])\n",
    "col = monthsNames\n",
    "width = 0.25\n",
    "ax.bar(x - width/2, monthsAmountTotal, width, label='Total')\n",
    "ax.bar(x + width/2, monthsAmountDelayed, width, label='Delayed')\n",
    "ax.set_xticks(x)\n",
    "ax.set_xticklabels(col)\n",
    "plt.show()\n"
   ]
  },
  {
   "cell_type": "code",
   "execution_count": 9,
   "id": "f654ce4e",
   "metadata": {},
   "outputs": [
    {
     "name": "stdout",
     "output_type": "stream",
     "text": [
      "Seasonal analysis of flight delays\n",
      "Shown percentage of flights missed from total that month \n"
     ]
    },
    {
     "data": {
      "image/png": "[encoded data removed]",
      "text/plain": [
       "<Figure size 720x288 with 1 Axes>"
      ]
     },
     "metadata": {
      "needs_background": "light"
     },
     "output_type": "display_data"
    }
   ],
   "source": [
    "print(\"Seasonal analysis of flight delays\\nShown percentage of flights missed from total that month \")\n",
    "fig = plt.figure()\n",
    "fig.set_figwidth(10)\n",
    "ax = fig.add_axes([0,0,1,1])\n",
    "col = monthsNames\n",
    "width = 0.50\n",
    "ax.bar(x, monthsAmountPercent, width, label='Total')\n",
    "ax.set_xticks(x)\n",
    "ax.set_xticklabels(col)\n",
    "plt.show()\n"
   ]
  },
  {
   "cell_type": "markdown",
   "id": "efccb12c",
   "metadata": {},
   "source": [
    "**(f)** Is the age of the plane associated with delay? Do OLS, Ridge, Lasso, and Elastic Net."
   ]
  },
  {
   "cell_type": "code",
   "execution_count": 10,
   "id": "16833170",
   "metadata": {},
   "outputs": [
    {
     "name": "stdout",
     "output_type": "stream",
     "text": [
      "OLS dep and plane age\n",
      "Train data: 0.00048792762085902996 \n",
      "Test data: 0.0005819375915006031\n"
     ]
    }
   ],
   "source": [
    "flightdata = pd.merge(flights.copy(deep=True), planes.copy(deep=True), on=\"tailnum\")\n",
    "\n",
    "flightdata = flightdata.loc[:,[\"year_x\", \"year_y\", \"dep_delay\", \"arr_delay\"]]\n",
    "flightdata[\"plane_age\"] = flightdata[\"year_x\"] - flightdata[\"year_y\"]\n",
    "flightdata = flightdata.dropna()\n",
    "\n",
    "X = flightdata.loc[:,[\"plane_age\"]]\n",
    "y = flightdata.loc[:,[\"dep_delay\"]]\n",
    "\n",
    "X_train, X_test , y_train, y_test = train_test_split(X, y, random_state=69)\n",
    "ODS = LinearRegression()\n",
    "ODS.fit(X_train, y_train)\n",
    "\n",
    "print(\"OLS dep and plane age\\nTrain data: {} \\nTest data: {}\".format(ODS.score(X_train, y_train), ODS.score(X_test, y_test)))"
   ]
  },
  {
   "cell_type": "code",
   "execution_count": 11,
   "id": "dc1f08f1",
   "metadata": {},
   "outputs": [
    {
     "name": "stdout",
     "output_type": "stream",
     "text": [
      "OLS arr and plane age\n",
      "Train data: 0.00022335819160279602 \n",
      "Test data: 0.00019479510569231362\n"
     ]
    }
   ],
   "source": [
    "flightdata = pd.merge(flights.copy(deep=True), planes.copy(deep=True), on=\"tailnum\")\n",
    "\n",
    "flightdata = flightdata.loc[:,[\"year_x\", \"year_y\", \"dep_delay\", \"arr_delay\"]]\n",
    "flightdata[\"plane_age\"] = flightdata[\"year_x\"] - flightdata[\"year_y\"]\n",
    "flightdata[\"arr_delay\"] = flightdata[\"arr_delay\"] - flights[\"dep_delay\"] \n",
    "flightdata = flightdata.dropna()\n",
    "\n",
    "X = flightdata.loc[:,[\"plane_age\"]]\n",
    "y = flightdata.loc[:,[\"arr_delay\"]]\n",
    "\n",
    "X_train, X_test , y_train, y_test = train_test_split(X, y, random_state=69)\n",
    "ODS = LinearRegression()\n",
    "ODS.fit(X_train, y_train)\n",
    "\n",
    "print(\"OLS arr and plane age\\nTrain data: {} \\nTest data: {}\".format(ODS.score(X_train, y_train), ODS.score(X_test, y_test)))"
   ]
  },
  {
   "cell_type": "code",
   "execution_count": 12,
   "id": "bb38d052",
   "metadata": {},
   "outputs": [],
   "source": [
    "flightdata = pd.merge(flights.copy(deep=True), planes.copy(deep=True), on=\"tailnum\")\n",
    "\n",
    "flightdata = flightdata.loc[:,[\"year_x\", \"year_y\", \"dep_delay\", \"arr_delay\"]]\n",
    "flightdata[\"plane_age\"] = flightdata[\"year_x\"] - flightdata[\"year_y\"]\n",
    "flightdata = flightdata.dropna()\n",
    "\n",
    "X = flightdata.loc[:,[\"plane_age\"]]\n",
    "y = flightdata.loc[:,[\"dep_delay\"]]\n",
    "\n",
    "X_train, X_test , y_train, y_test = train_test_split(X, y, random_state=69)"
   ]
  },
  {
   "cell_type": "code",
   "execution_count": 13,
   "id": "52df1b92",
   "metadata": {},
   "outputs": [
    {
     "name": "stderr",
     "output_type": "stream",
     "text": [
      "C:\\Users\\fatem\\anaconda3\\lib\\site-packages\\sklearn\\linear_model\\_base.py:141: FutureWarning: 'normalize' was deprecated in version 1.0 and will be removed in 1.2.\n",
      "If you wish to scale the data, use Pipeline with a StandardScaler in a preprocessing stage. To reproduce the previous behavior:\n",
      "\n",
      "from sklearn.pipeline import make_pipeline\n",
      "\n",
      "model = make_pipeline(StandardScaler(with_mean=False), _RidgeGCV())\n",
      "\n",
      "If you wish to pass a sample_weight parameter, you need to pass it as a fit parameter to each step of the pipeline as follows:\n",
      "\n",
      "kwargs = {s[0] + '__sample_weight': sample_weight for s in model.steps}\n",
      "model.fit(X, y, **kwargs)\n",
      "\n",
      "\n",
      "  warnings.warn(\n"
     ]
    },
    {
     "name": "stdout",
     "output_type": "stream",
     "text": [
      "Ridge\n",
      "Train data: 0.000487754833905063 \n",
      "Test data: 0.0005792771605266367\n"
     ]
    }
   ],
   "source": [
    "\n",
    "alphas = 10**np.linspace(-10, 10, 100)\n",
    "ridgecv = RidgeCV(alphas = alphas, normalize = True)\n",
    "ridgecv.fit(X_train, y_train)\n",
    "\n",
    "print(\"Ridge\\nTrain data: {} \\nTest data: {}\".format(ridgecv.score(X_train, y_train), ridgecv.score(X_test,y_test)))"
   ]
  },
  {
   "cell_type": "code",
   "execution_count": 14,
   "id": "ac5d6333",
   "metadata": {},
   "outputs": [
    {
     "name": "stdout",
     "output_type": "stream",
     "text": [
      "Lasso\n",
      "Train data: 0.00048792713293144274 \n",
      "Test data: 0.0005818050743081615\n"
     ]
    },
    {
     "name": "stderr",
     "output_type": "stream",
     "text": [
      "C:\\Users\\fatem\\anaconda3\\lib\\site-packages\\sklearn\\linear_model\\_base.py:141: FutureWarning: 'normalize' was deprecated in version 1.0 and will be removed in 1.2.\n",
      "If you wish to scale the data, use Pipeline with a StandardScaler in a preprocessing stage. To reproduce the previous behavior:\n",
      "\n",
      "from sklearn.pipeline import make_pipeline\n",
      "\n",
      "model = make_pipeline(StandardScaler(with_mean=False), Lasso())\n",
      "\n",
      "If you wish to pass a sample_weight parameter, you need to pass it as a fit parameter to each step of the pipeline as follows:\n",
      "\n",
      "kwargs = {s[0] + '__sample_weight': sample_weight for s in model.steps}\n",
      "model.fit(X, y, **kwargs)\n",
      "\n",
      "Set parameter alpha to: original_alpha * np.sqrt(n_samples). \n",
      "  warnings.warn(\n"
     ]
    }
   ],
   "source": [
    "lassocv = LassoCV(alphas = None, cv = 10, max_iter = 100000, normalize = True)\n",
    "lassocv.fit(X_train, y_train.values.ravel())\n",
    "\n",
    "print(\"Lasso\\nTrain data: {} \\nTest data: {}\".format(lassocv.score(X_train, y_train), lassocv.score(X_test,y_test)))"
   ]
  },
  {
   "cell_type": "markdown",
   "id": "1e7ea8ec",
   "metadata": {},
   "source": [
    "**(g)** Do a principal component analysis of the weather at JFK using the following columns:\n",
    "   temp, dewp, humid, wind_dir, wind_speed, precip, visib.\n",
    "   How many principal components should be used to capture the variability in the weather data?"
   ]
  },
  {
   "cell_type": "code",
   "execution_count": 15,
   "id": "901ea724",
   "metadata": {},
   "outputs": [],
   "source": [
    "weatherdata = weather.copy(deep=True)\n",
    "weatherdata = weatherdata.loc[weatherdata[\"origin\"] == \"JFK\"]\n",
    "weatherdata = weatherdata.loc[:,[\"temp\", \"dewp\", \"humid\", \"wind_dir\", \"wind_speed\", \"precip\", \"visib\"]]\n",
    "weatherdata = weatherdata.dropna()\n",
    "weatherdata.loc[:,\"temp\":\"visib\"] = StandardScaler().fit_transform(weatherdata.loc[:,\"temp\":\"visib\"])\n",
    "\n",
    "pca = PCA(n_components=None)\n",
    "pca.fit(weatherdata)\n",
    "\n",
    "transformed_data = pca.transform(weatherdata)"
   ]
  },
  {
   "cell_type": "code",
   "execution_count": 16,
   "id": "9f307240",
   "metadata": {},
   "outputs": [
    {
     "data": {
      "image/png": "[encoded data removed]",
      "text/plain": [
       "<Figure size 432x288 with 1 Axes>"
      ]
     },
     "metadata": {
      "needs_background": "light"
     },
     "output_type": "display_data"
    }
   ],
   "source": [
    "\n",
    "per_var = np.round(pca.explained_variance_ratio_*100, decimals=1)\n",
    "labels = ['PC' + str(x) for x in range(1, len(per_var)+1)] #labels for the plot\n",
    "\n",
    "plt.bar(x=range(1, len(per_var)+1), height=per_var, tick_label=labels)\n",
    "plt.ylabel('% of variance')\n",
    "plt.xlabel(\"PC\")\n",
    "\n",
    "plt.show()"
   ]
  },
  {
   "cell_type": "code",
   "execution_count": null,
   "id": "b12463f7",
   "metadata": {},
   "outputs": [],
   "source": [
    "#PC1-PC6 Should be used to have all vairiance in data."
   ]
  },
  {
   "cell_type": "markdown",
   "id": "2d8afb8f",
   "metadata": {},
   "source": [
    "**(h)** Build regression models (OLS, Ridge, Lasso, and Elastic Net) that associates\n",
    "   an airports lattitude with weather conditions (temp, dewp, humid, wind_dir, wind_speed,\n",
    "   precip, visib). Remove all but the three most significant whether conditions and redo\n",
    "   the analysis."
   ]
  },
  {
   "cell_type": "code",
   "execution_count": 17,
   "id": "ce78f55c",
   "metadata": {},
   "outputs": [],
   "source": [
    "airportWeather = pd.merge(weather.copy(deep=True), airports.copy(deep=True), left_on='origin', right_on='faa')\n",
    "airportWeather = airportWeather.loc[:,[\"temp\", \"dewp\", \"humid\", \"wind_dir\", \"wind_speed\", \"precip\", \"visib\", \"lat\"]]\n",
    "airportWeather = airportWeather.dropna()\n",
    "\n",
    "X = airportWeather.loc[:,[\"temp\", \"dewp\", \"humid\", \"wind_dir\", \"wind_speed\", \"precip\", \"visib\"]]\n",
    "y = airportWeather.loc[:,[\"lat\"]]\n",
    "\n",
    "X_train, X_test , y_train, y_test = train_test_split(X, y, random_state=69)\n"
   ]
  },
  {
   "cell_type": "code",
   "execution_count": 18,
   "id": "23a94bf7",
   "metadata": {},
   "outputs": [
    {
     "name": "stdout",
     "output_type": "stream",
     "text": [
      "OLS\n",
      "Train data: 0.034492084968310355 \n",
      "Test data: 0.00814285786287039\n"
     ]
    }
   ],
   "source": [
    "\n",
    "ODS = LinearRegression()\n",
    "ODS.fit(X_train, y_train)\n",
    "\n",
    "print(\"OLS\\nTrain data: {} \\nTest data: {}\".format(ODS.score(X_train, y_train), ODS.score(X_test, y_test)))"
   ]
  },
  {
   "cell_type": "code",
   "execution_count": 19,
   "id": "8061f22d",
   "metadata": {},
   "outputs": [
    {
     "name": "stdout",
     "output_type": "stream",
     "text": [
      "Ridge\n",
      "Train data: 0.03449174264611965 \n",
      "Test data: 0.00815968688183144\n"
     ]
    },
    {
     "name": "stderr",
     "output_type": "stream",
     "text": [
      "C:\\Users\\fatem\\anaconda3\\lib\\site-packages\\sklearn\\linear_model\\_base.py:141: FutureWarning: 'normalize' was deprecated in version 1.0 and will be removed in 1.2.\n",
      "If you wish to scale the data, use Pipeline with a StandardScaler in a preprocessing stage. To reproduce the previous behavior:\n",
      "\n",
      "from sklearn.pipeline import make_pipeline\n",
      "\n",
      "model = make_pipeline(StandardScaler(with_mean=False), _RidgeGCV())\n",
      "\n",
      "If you wish to pass a sample_weight parameter, you need to pass it as a fit parameter to each step of the pipeline as follows:\n",
      "\n",
      "kwargs = {s[0] + '__sample_weight': sample_weight for s in model.steps}\n",
      "model.fit(X, y, **kwargs)\n",
      "\n",
      "\n",
      "  warnings.warn(\n"
     ]
    }
   ],
   "source": [
    "alphas = 10**np.linspace(-10, 10, 100)\n",
    "ridgecv = RidgeCV(alphas = alphas, normalize = True)\n",
    "ridgecv.fit(X_train, y_train)\n",
    "\n",
    "print(\"Ridge\\nTrain data: {} \\nTest data: {}\".format(ridgecv.score(X_train, y_train), ridgecv.score(X_test,y_test)))"
   ]
  },
  {
   "cell_type": "code",
   "execution_count": 20,
   "id": "4687abc5",
   "metadata": {},
   "outputs": [
    {
     "name": "stdout",
     "output_type": "stream",
     "text": [
      "Lasso\n",
      "Train data: 0.034475297665080284 \n",
      "Test data: 0.00835254135191943\n"
     ]
    },
    {
     "name": "stderr",
     "output_type": "stream",
     "text": [
      "C:\\Users\\fatem\\anaconda3\\lib\\site-packages\\sklearn\\linear_model\\_base.py:141: FutureWarning: 'normalize' was deprecated in version 1.0 and will be removed in 1.2.\n",
      "If you wish to scale the data, use Pipeline with a StandardScaler in a preprocessing stage. To reproduce the previous behavior:\n",
      "\n",
      "from sklearn.pipeline import make_pipeline\n",
      "\n",
      "model = make_pipeline(StandardScaler(with_mean=False), Lasso())\n",
      "\n",
      "If you wish to pass a sample_weight parameter, you need to pass it as a fit parameter to each step of the pipeline as follows:\n",
      "\n",
      "kwargs = {s[0] + '__sample_weight': sample_weight for s in model.steps}\n",
      "model.fit(X, y, **kwargs)\n",
      "\n",
      "Set parameter alpha to: original_alpha * np.sqrt(n_samples). \n",
      "  warnings.warn(\n"
     ]
    }
   ],
   "source": [
    "lassocv = LassoCV(alphas = None, cv = 10, max_iter = 100000, normalize = True)\n",
    "lassocv.fit(X_train, y_train.values.ravel())\n",
    "\n",
    "print(\"Lasso\\nTrain data: {} \\nTest data: {}\".format(lassocv.score(X_train, y_train), lassocv.score(X_test,y_test)))\n"
   ]
  },
  {
   "cell_type": "code",
   "execution_count": 21,
   "id": "9d733588",
   "metadata": {
    "scrolled": true
   },
   "outputs": [
    {
     "data": {
      "image/png": "[encoded data removed]",
      "text/plain": [
       "<Figure size 432x288 with 1 Axes>"
      ]
     },
     "metadata": {
      "needs_background": "light"
     },
     "output_type": "display_data"
    }
   ],
   "source": [
    "fig = plt.figure()\n",
    "ax = fig.add_axes([0,0,1,1])\n",
    "col = X.columns\n",
    "score = lassocv.coef_\n",
    "ax.bar(col,score)\n",
    "plt.show()"
   ]
  },
  {
   "cell_type": "code",
   "execution_count": null,
   "id": "25660ae2",
   "metadata": {},
   "outputs": [],
   "source": [
    "#dewp,temp,percip"
   ]
  },
  {
   "cell_type": "code",
   "execution_count": 22,
   "id": "efa9fb04",
   "metadata": {},
   "outputs": [],
   "source": [
    "airportWeather = pd.merge(weather.copy(deep=True), airports.copy(deep=True), left_on='origin', right_on='faa')\n",
    "airportWeather = airportWeather.loc[:,[\"temp\", \"dewp\", \"humid\", \"wind_dir\", \"wind_speed\", \"precip\", \"visib\", \"lat\"]]\n",
    "airportWeather = airportWeather.dropna()\n",
    "\n",
    "X = airportWeather.loc[:,[\"temp\", \"dewp\", \"precip\"]]\n",
    "y = airportWeather.loc[:,[\"lat\"]]\n",
    "\n",
    "X_train, X_test , y_train, y_test = train_test_split(X, y, random_state=69)\n"
   ]
  },
  {
   "cell_type": "code",
   "execution_count": 23,
   "id": "c7c541f1",
   "metadata": {},
   "outputs": [
    {
     "name": "stdout",
     "output_type": "stream",
     "text": [
      "OLS\n",
      "Train data: 0.014707683282433548 \n",
      "Test data: 0.014889853484747362\n"
     ]
    }
   ],
   "source": [
    "ODS = LinearRegression()\n",
    "ODS.fit(X_train, y_train)\n",
    "\n",
    "print(\"OLS\\nTrain data: {} \\nTest data: {}\".format(ODS.score(X_train, y_train), ODS.score(X_test, y_test)))"
   ]
  },
  {
   "cell_type": "code",
   "execution_count": 24,
   "id": "72baa0f0",
   "metadata": {},
   "outputs": [
    {
     "name": "stdout",
     "output_type": "stream",
     "text": [
      "Ridge\n",
      "Train data: 0.01470737540183753 \n",
      "Test data: 0.014889443999902885\n"
     ]
    },
    {
     "name": "stderr",
     "output_type": "stream",
     "text": [
      "C:\\Users\\fatem\\anaconda3\\lib\\site-packages\\sklearn\\linear_model\\_base.py:141: FutureWarning: 'normalize' was deprecated in version 1.0 and will be removed in 1.2.\n",
      "If you wish to scale the data, use Pipeline with a StandardScaler in a preprocessing stage. To reproduce the previous behavior:\n",
      "\n",
      "from sklearn.pipeline import make_pipeline\n",
      "\n",
      "model = make_pipeline(StandardScaler(with_mean=False), _RidgeGCV())\n",
      "\n",
      "If you wish to pass a sample_weight parameter, you need to pass it as a fit parameter to each step of the pipeline as follows:\n",
      "\n",
      "kwargs = {s[0] + '__sample_weight': sample_weight for s in model.steps}\n",
      "model.fit(X, y, **kwargs)\n",
      "\n",
      "\n",
      "  warnings.warn(\n"
     ]
    }
   ],
   "source": [
    "alphas = 10**np.linspace(-10, 10, 100)\n",
    "ridgecv = RidgeCV(alphas = alphas, normalize = True)\n",
    "ridgecv.fit(X_train, y_train)\n",
    "\n",
    "print(\"Ridge\\nTrain data: {} \\nTest data: {}\".format(ridgecv.score(X_train, y_train), ridgecv.score(X_test,y_test)))"
   ]
  },
  {
   "cell_type": "code",
   "execution_count": 25,
   "id": "d2340ba1",
   "metadata": {},
   "outputs": [
    {
     "name": "stdout",
     "output_type": "stream",
     "text": [
      "Lasso\n",
      "Train data: 0.01470766470614926 \n",
      "Test data: 0.014891405807795133\n"
     ]
    },
    {
     "name": "stderr",
     "output_type": "stream",
     "text": [
      "C:\\Users\\fatem\\anaconda3\\lib\\site-packages\\sklearn\\linear_model\\_base.py:141: FutureWarning: 'normalize' was deprecated in version 1.0 and will be removed in 1.2.\n",
      "If you wish to scale the data, use Pipeline with a StandardScaler in a preprocessing stage. To reproduce the previous behavior:\n",
      "\n",
      "from sklearn.pipeline import make_pipeline\n",
      "\n",
      "model = make_pipeline(StandardScaler(with_mean=False), Lasso())\n",
      "\n",
      "If you wish to pass a sample_weight parameter, you need to pass it as a fit parameter to each step of the pipeline as follows:\n",
      "\n",
      "kwargs = {s[0] + '__sample_weight': sample_weight for s in model.steps}\n",
      "model.fit(X, y, **kwargs)\n",
      "\n",
      "Set parameter alpha to: original_alpha * np.sqrt(n_samples). \n",
      "  warnings.warn(\n"
     ]
    }
   ],
   "source": [
    "lassocv = LassoCV(alphas = None, cv = 10, max_iter = 100000, normalize = True)\n",
    "lassocv.fit(X_train, y_train.values.ravel())\n",
    "\n",
    "print(\"Lasso\\nTrain data: {} \\nTest data: {}\".format(lassocv.score(X_train, y_train), lassocv.score(X_test,y_test)))\n"
   ]
  },
  {
   "cell_type": "markdown",
   "id": "3958f6e7",
   "metadata": {},
   "source": [
    "**(i)** On a map, plot the airports that have flights to them where the points that represent\n",
    "   airports are relative in size to the average departure delay. You can see an example in \"airports.png\"."
   ]
  },
  {
   "cell_type": "markdown",
   "id": "e661f655",
   "metadata": {},
   "source": [
    " **(j)** These questions require no code.\n",
    " - Suppose you are using Ridge Regression and you notice that the training error and the validation error are almost equal and fairly high. Would you say that the model suffers from high bias or high variance? Should you increase the regularization hyperparameter or reduce it?\n",
    "\n",
    "- Why would you want to use:\n",
    "        > Ridge Regression instead of plain Linear Regression (i.e. without any regularization)?\n",
    "        > Lasso instead of Ridge Regression?\n",
    "        > Elastic Net instead of Lasso?"
   ]
  },
  {
   "cell_type": "code",
   "execution_count": null,
   "id": "c9fbd6d9",
   "metadata": {},
   "outputs": [],
   "source": [
    "#ANSWER: I assume this is not related to first question If ridge regression is used without any regularization (aplpha=0) it the same as OLS, has the same bias as OLS. In that case it is better to choose normal OLS regression. Ridge regression is useful because for a slight increase in bias it has a significant decrese in variance. A slighly worse fit results in better overal predictions. Lasso regression removes useless variables and makes the information relation easier to interpret. Ridge regression uses all variables regardless if they are important or not."
   ]
  },
  {
   "cell_type": "markdown",
   "id": "bc7bb6c6",
   "metadata": {},
   "source": [
    "## 3. Clustering of Handwritten Digits\n",
    "#### Matey Dimitrov Matev - 285041\n",
    "\n",
    "__You should be able to do this exercise after Lecture 5.__"
   ]
  },
  {
   "cell_type": "markdown",
   "id": "e1cd2fe7",
   "metadata": {},
   "source": [
    "This exercise will depart from the famous MNIST dataset, and we are exploring several clustering techniques with it.. This is a \".mat\" file, in order to load this file in an ipynb you have to use loadmat() function from scipy.io. (replace my path)."
   ]
  },
  {
   "cell_type": "code",
   "execution_count": 26,
   "id": "8298595b",
   "metadata": {},
   "outputs": [
    {
     "name": "stdout",
     "output_type": "stream",
     "text": [
      "Number of datapoints: 70000\n",
      "\n",
      "Number of features: 784\n",
      "\n",
      "List of labels: [0. 1. 2. 3. 4. 5. 6. 7. 8. 9.]\n",
      "\n"
     ]
    }
   ],
   "source": [
    "from scipy.io import loadmat\n",
    "mnist = loadmat('mnist-original')\n",
    "mnist_data = mnist[\"data\"].T\n",
    "mnist_label = mnist[\"label\"][0]\n",
    "import numpy as np\n",
    "print(\"Number of datapoints: {}\\n\".format(mnist_data.shape[0]))\n",
    "print(\"Number of features: {}\\n\".format(mnist_data.shape[1]))\n",
    "print(\"List of labels: {}\\n\".format(np.unique(mnist_label)))"
   ]
  },
  {
   "cell_type": "markdown",
   "id": "345bea61",
   "metadata": {},
   "source": [
    "There are 70,000 images, and each image has 784 features. This is because each image is 28×28 pixels,\n",
    "and each feature simply represents one pixel’s intensity, from 0 (white) to 255 (black). Let’s take a peek at one digit from the dataset. All you need to do is grab an instance’s feature vector, reshape it to a 28×28 array, and display it using Matplotlib’s `imshow()` function:"
   ]
  },
  {
   "cell_type": "code",
   "execution_count": 27,
   "id": "20d589db",
   "metadata": {},
   "outputs": [
    {
     "name": "stdout",
     "output_type": "stream",
     "text": [
      "Value of datapoint no. 4:\n",
      "[  0   0   0   0   0   0   0   0   0   0   0   0   0   0   0   0   0   0\n",
      "   0   0   0   0   0   0   0   0   0   0   0   0   0   0   0   0   0   0\n",
      "   0   0   0   0   0   0   0   0   0   0   0   0   0   0   0   0   0   0\n",
      "   0   0   0   0   0   0   0   0   0   0   0   0   0   0   0   0   0   0\n",
      "   0   0   0   0   0   0   0   0   0   0   0   0   0   0   0   0   0   0\n",
      "   0   0   0   0   0   0   0   0   0   0   0   0   0   0   0   0   0   0\n",
      "   0   0   0   0   0   0   0   0   0   0   0   0   0   0   0   0   0   0\n",
      "   0   0   0   0   0   0   0   0   0   0   0   0   0   0   0   0   0   0\n",
      "   0   0   0   0   0   0   0   0   0  46 105 254 254 254 254 255 239  41\n",
      "   0   0   0   0   0   0   0   0   0   0   0   0   0   0   0   0   0  37\n",
      " 118 222 254 253 253 253 253 253 253 211  54   0   0   0   0   0   0   0\n",
      "   0   0   0   0   0   0   0   0  14 200 253 253 254 253 253 253 253 253\n",
      " 253 253 116   0   0   0   0   0   0   0   0   0   0   0   0   0  16 160\n",
      " 236 253 253 253 254 253 253 246 229 253 253 253 116   0   0   0   0   0\n",
      "   0   0   0   0   0   0   0   0  99 253 253 253 253 253 254 253 253 213\n",
      "  99 253 253 253 116   0   0   0   0   0   0   0   0   0   0   0   0  25\n",
      " 194 253 253 253 253 131  97 169 253  93  99 253 253 253 116   0   0   0\n",
      "   0   0   0   0   0   0   0   0   0 206 253 253 251 233 127   9   0  18\n",
      "  38   3  15 171 253 253 116   0   0   0   0   0   0   0   0   0   0   0\n",
      "  55 240 253 253 233   0   0   0   0   0   0   0  31 186 253 253 116   0\n",
      "   0   0   0   0   0   0   0   0   0   0 176 253 253 253 127   0   0   0\n",
      "   0   0   0   0  99 253 253 253 116   0   0   0   0   0   0   0   0   0\n",
      "   0   0 176 253 253 131   9   0   0   0   0   0   0   0  99 253 253 253\n",
      " 116   0   0   0   0   0   0   0   0   0   0 119 254 254 232  75   0   0\n",
      "   0   0   0   0   0   0   0 158 254 254 117   0   0   0   0   0   0   0\n",
      "   0   0   0 118 253 253 154   0   0   0   0   0   0   0   0   0   0 156\n",
      " 253 253 116   0   0   0   0   0   0   0   0   0   0 118 253 253 154   0\n",
      "   0   0   0   0   0   0   0   0   0 156 253 253 116   0   0   0   0   0\n",
      "   0   0   0   0  46 222 253 253 154   0   0   0   0   0   0   0   0   7\n",
      " 116 246 253 180   9   0   0   0   0   0   0   0   0   0   0 118 253 253\n",
      " 154   0   0   0   0   0   0   0   0 116 253 253 253 174   0   0   0   0\n",
      "   0   0   0   0   0   0   0 118 253 253 154   0   0   0   0   0   0   0\n",
      " 110 246 253 253 240  67   0   0   0   0   0   0   0   0   0   0   0 118\n",
      " 253 253 238 215  49  20  20  20  66 215 241 253 245 233  64   0   0   0\n",
      "   0   0   0   0   0   0   0   0   0  82 229 253 253 253 253 253 253 253\n",
      " 254 253 253 240 107   0   0   0   0   0   0   0   0   0   0   0   0   0\n",
      "   0   0 176 253 253 253 253 253 253 253 254 253 253 108   0   0   0   0\n",
      "   0   0   0   0   0   0   0   0   0   0   0   0  40 239 253 253 253 253\n",
      " 253 253 254 161  57   4   0   0   0   0   0   0   0   0   0   0   0   0\n",
      "   0   0   0   0   0   0   0   0   0   0   0   0   0   0   0   0   0   0\n",
      "   0   0   0   0   0   0   0   0   0   0   0   0   0   0   0   0   0   0\n",
      "   0   0   0   0   0   0   0   0   0   0   0   0   0   0   0   0   0   0\n",
      "   0   0   0   0   0   0   0   0   0   0   0   0   0   0   0   0   0   0\n",
      "   0   0   0   0   0   0   0   0   0   0]\n",
      "\n",
      "As image:\n",
      "\n"
     ]
    },
    {
     "data": {
      "image/png": "[encoded data removed]",
      "text/plain": [
       "<Figure size 432x288 with 1 Axes>"
      ]
     },
     "metadata": {
      "needs_background": "light"
     },
     "output_type": "display_data"
    }
   ],
   "source": [
    "%matplotlib inline\n",
    "import matplotlib.pyplot as plt\n",
    "index = 4\n",
    "print(\"Value of datapoint no. {}:\\n{}\\n\".format(index,mnist_data[index]))\n",
    "print(\"As image:\\n\")\n",
    "plt.imshow(mnist_data[index].reshape(28,28),cmap=plt.cm.gray_r)\n",
    "plt.show()"
   ]
  },
  {
   "cell_type": "markdown",
   "id": "d7d5be2f",
   "metadata": {},
   "source": [
    "**(a)** Perform k-means clustering with k=10 on this dataset."
   ]
  },
  {
   "cell_type": "code",
   "execution_count": 28,
   "id": "4b5316cf",
   "metadata": {},
   "outputs": [
    {
     "data": {
      "text/plain": [
       "KMeans(n_clusters=10)"
      ]
     },
     "execution_count": 28,
     "metadata": {},
     "output_type": "execute_result"
    }
   ],
   "source": [
    "# from 0 to 1\n",
    "scaled_data = mnist_data/255.0\n",
    "kmeans = KMeans(n_clusters=10)\n",
    "kmeans.fit(scaled_data)"
   ]
  },
  {
   "cell_type": "markdown",
   "id": "588337b5",
   "metadata": {},
   "source": [
    "**(b)** Using visualization techniques analogous to what we have done in the Clustering notebook\n",
    "   for the faces data, can you determine the 'nature' of the 10 constructed clusters?\n",
    "   Do the clusters (roughly) coincide with the 10 different actual digits?"
   ]
  },
  {
   "cell_type": "code",
   "execution_count": 29,
   "id": "104654ae",
   "metadata": {},
   "outputs": [
    {
     "data": {
      "image/png": "[encoded data removed]",
      "text/plain": [
       "<Figure size 432x288 with 1 Axes>"
      ]
     },
     "metadata": {
      "needs_background": "light"
     },
     "output_type": "display_data"
    },
    {
     "data": {
      "image/png": "[encoded data removed]",
      "text/plain": [
       "<Figure size 432x288 with 1 Axes>"
      ]
     },
     "metadata": {
      "needs_background": "light"
     },
     "output_type": "display_data"
    },
    {
     "data": {
      "image/png": "[encoded data removed]",
      "text/plain": [
       "<Figure size 432x288 with 1 Axes>"
      ]
     },
     "metadata": {
      "needs_background": "light"
     },
     "output_type": "display_data"
    },
    {
     "data": {
      "image/png": "[encoded data removed]",
      "text/plain": [
       "<Figure size 432x288 with 1 Axes>"
      ]
     },
     "metadata": {
      "needs_background": "light"
     },
     "output_type": "display_data"
    },
    {
     "data": {
      "image/png": "[encoded data removed]",
      "text/plain": [
       "<Figure size 432x288 with 1 Axes>"
      ]
     },
     "metadata": {
      "needs_background": "light"
     },
     "output_type": "display_data"
    },
    {
     "data": {
      "image/png": "[encoded data removed]",
      "text/plain": [
       "<Figure size 432x288 with 1 Axes>"
      ]
     },
     "metadata": {
      "needs_background": "light"
     },
     "output_type": "display_data"
    },
    {
     "data": {
      "image/png": "[encoded data removed]",
      "text/plain": [
       "<Figure size 432x288 with 1 Axes>"
      ]
     },
     "metadata": {
      "needs_background": "light"
     },
     "output_type": "display_data"
    },
    {
     "data": {
      "image/png": "[encoded data removed]",
      "text/plain": [
       "<Figure size 432x288 with 1 Axes>"
      ]
     },
     "metadata": {
      "needs_background": "light"
     },
     "output_type": "display_data"
    },
    {
     "data": {
      "image/png": "[encoded data removed]",
      "text/plain": [
       "<Figure size 432x288 with 1 Axes>"
      ]
     },
     "metadata": {
      "needs_background": "light"
     },
     "output_type": "display_data"
    },
    {
     "data": {
      "image/png": "[encoded data removed]",
      "text/plain": [
       "<Figure size 432x288 with 1 Axes>"
      ]
     },
     "metadata": {
      "needs_background": "light"
     },
     "output_type": "display_data"
    }
   ],
   "source": [
    "for i in range(10):\n",
    "    plt.imshow(kmeans.cluster_centers_[i].reshape(28,28),cmap=plt.cm.gray)\n",
    "    plt.tight_layout()\n",
    "    plt.show()"
   ]
  },
  {
   "cell_type": "markdown",
   "id": "7343399d",
   "metadata": {},
   "source": [
    "**(c)** Perform a supervised clustering evaluation using adjusted rand index.\n",
    "   Are the results stable, when you perform several random restarts of k-means?"
   ]
  },
  {
   "cell_type": "code",
   "execution_count": 30,
   "id": "295ef0a1",
   "metadata": {},
   "outputs": [
    {
     "name": "stdout",
     "output_type": "stream",
     "text": [
      "ARI of random restarts: 0.27\n",
      "ARI of random restarts: 0.30\n",
      "ARI of random restarts: 0.29\n",
      "ARI of random restarts: 0.27\n",
      "ARI of random restarts: 0.28\n",
      "ARI of random restarts: 0.30\n",
      "ARI of random restarts: 0.30\n",
      "ARI of random restarts: 0.27\n",
      "ARI of random restarts: 0.23\n",
      "ARI of random restarts: 0.31\n"
     ]
    }
   ],
   "source": [
    "\n",
    "small_mnist_data,small_mnist_label = resample(mnist_data,mnist_label,n_samples=500,replace='false')\n",
    "scaler = StandardScaler()\n",
    "scaler.fit(small_mnist_data)\n",
    "X_scaled = scaler.transform(small_mnist_data)\n",
    "kmeans = KMeans(n_clusters=10)\n",
    "\n",
    "for i in range(10):\n",
    "    labels = kmeans.fit_predict(X_scaled)\n",
    "    print(\"ARI of random restarts: {:.2f}\".format(adjusted_rand_score(labels,small_mnist_label)))"
   ]
  },
  {
   "cell_type": "code",
   "execution_count": null,
   "id": "9a174d71",
   "metadata": {},
   "outputs": [],
   "source": [
    "#The results are not stable during several random restarts of k-means since the k-means randomly assigns centroids at begining thus resulting in different results every time"
   ]
  },
  {
   "cell_type": "markdown",
   "id": "9f993d01",
   "metadata": {},
   "source": [
    "**(d)** Now perform hierarchical clustering on the data.\n",
    "   (in order to improve visibility in the constructed dendrograms, you can also use a\n",
    "   much reduced dataset as constructed using sklearn.utils.resample shown below).\n",
    "   Does the visual analysis of the dendrogram indicate a natural number of clusters?"
   ]
  },
  {
   "cell_type": "code",
   "execution_count": 31,
   "id": "d68293b1",
   "metadata": {},
   "outputs": [],
   "source": [
    "def plot_dendrogram(model, **kwargs):\n",
    "    # Create linkage matrix and then plot the dendrogram\n",
    "\n",
    "    # create the counts of samples under each node\n",
    "    counts = np.zeros(model.children_.shape[0])\n",
    "    n_samples = len(model.labels_)\n",
    "    for i, merge in enumerate(model.children_):\n",
    "        current_count = 0\n",
    "        for child_idx in merge:\n",
    "            if child_idx < n_samples:\n",
    "                current_count += 1  # leaf node\n",
    "            else:\n",
    "                current_count += counts[child_idx - n_samples]\n",
    "        counts[i] = current_count\n",
    "\n",
    "    linkage_matrix = np.column_stack(\n",
    "        [model.children_, model.distances_, counts]\n",
    "    ).astype(float)\n",
    "\n",
    "    # Plot the corresponding dendrogram\n",
    "    dendrogram(linkage_matrix, **kwargs)\n",
    "# https://scikit-learn.org/stable/auto_examples/cluster/plot_agglomerative_dendrogram.html"
   ]
  },
  {
   "cell_type": "code",
   "execution_count": 32,
   "id": "4496921f",
   "metadata": {},
   "outputs": [
    {
     "data": {
      "image/png": "[encoded data removed]",
      "text/plain": [
       "<Figure size 432x288 with 1 Axes>"
      ]
     },
     "metadata": {
      "needs_background": "light"
     },
     "output_type": "display_data"
    }
   ],
   "source": [
    "\n",
    "small_mnist_data,small_mnist_label = resample(mnist_data,mnist_label,n_samples=20,replace='false',random_state=69)\n",
    "\n",
    "agglomerative = AgglomerativeClustering(compute_distances=True)\n",
    "agglomerative.fit(small_mnist_data)\n",
    "\n",
    "plot_dendrogram(agglomerative)"
   ]
  },
  {
   "cell_type": "markdown",
   "id": "e8a4815d",
   "metadata": {},
   "source": [
    "**(e)** Using different cluster distance metrics (ward,single,average, etc.),\n",
    "   what do the clusterings look like that are produced at the level of k=10 clusters?\n",
    "   See the Clustering notebook for the needed Python code, including the fcluster\n",
    "   method to retrieve 'plain' clusterings from the hierarchical clustering."
   ]
  },
  {
   "cell_type": "markdown",
   "id": "7272b769",
   "metadata": {},
   "source": [
    "Ward minimizes the sum of squared differences within all clusters. It is a variance-minimizing approach and in this sense is similar to the k-means objective function but tackled with an agglomerative hierarchical approach.\n",
    "Maximum or complete linkage minimizes the maximum distance between observations of pairs of clusters.\n",
    "Average linkage minimizes the average of the distances between all observations of pairs of clusters.\n",
    "Single linkage minimizes the distance between the closest observations of pairs of clusters.\n",
    "# https://scikit-learn.org/stable/modules/clustering.html"
   ]
  },
  {
   "cell_type": "code",
   "execution_count": 33,
   "id": "f343bec9",
   "metadata": {},
   "outputs": [
    {
     "data": {
      "image/png": "[encoded data removed]",
      "text/plain": [
       "<Figure size 432x288 with 1 Axes>"
      ]
     },
     "metadata": {
      "needs_background": "light"
     },
     "output_type": "display_data"
    }
   ],
   "source": [
    "agglomerative = AgglomerativeClustering(n_clusters=10,linkage='ward',compute_distances=True)\n",
    "agg = agglomerative.fit(small_mnist_data)\n",
    "plt.title(\"Hierarchical Clustering Dendrogram linkage Ward\")\n",
    "plot_dendrogram(agglomerative)"
   ]
  },
  {
   "cell_type": "code",
   "execution_count": 34,
   "id": "82dad29a",
   "metadata": {},
   "outputs": [
    {
     "data": {
      "image/png": "[encoded data removed]",
      "text/plain": [
       "<Figure size 432x288 with 1 Axes>"
      ]
     },
     "metadata": {
      "needs_background": "light"
     },
     "output_type": "display_data"
    }
   ],
   "source": [
    "agglomerative = AgglomerativeClustering(n_clusters=10,linkage='single',compute_distances=True)\n",
    "agglomerative.fit(small_mnist_data)\n",
    "plt.title(\"Hierarchical Clustering Dendrogram linkage single\")\n",
    "plot_dendrogram(agglomerative)"
   ]
  },
  {
   "cell_type": "code",
   "execution_count": 35,
   "id": "253faea8",
   "metadata": {},
   "outputs": [
    {
     "data": {
      "image/png": "[encoded data removed]",
      "text/plain": [
       "<Figure size 432x288 with 1 Axes>"
      ]
     },
     "metadata": {
      "needs_background": "light"
     },
     "output_type": "display_data"
    }
   ],
   "source": [
    "agglomerative = AgglomerativeClustering(n_clusters=10,linkage='average',compute_distances=True)\n",
    "agglomerative.fit(small_mnist_data)\n",
    "plt.title(\"Hierarchical Clustering Dendrogram linkage average\")\n",
    "plot_dendrogram(agglomerative)"
   ]
  },
  {
   "cell_type": "markdown",
   "id": "dbf8178e",
   "metadata": {},
   "source": [
    "**(f)** Do a DBSCAN clustering of the small dataset. Tweak the different parameters."
   ]
  },
  {
   "cell_type": "code",
   "execution_count": 36,
   "id": "1a8abff2",
   "metadata": {},
   "outputs": [],
   "source": [
    "mnist = loadmat('mnist-original')\n",
    "mnist_data = mnist[\"data\"].T\n",
    "mnist_label = mnist[\"label\"][0]"
   ]
  },
  {
   "cell_type": "code",
   "execution_count": 37,
   "id": "dc32ddf1",
   "metadata": {},
   "outputs": [],
   "source": [
    "small_mnist_data,small_mnist_label = resample(mnist_data,mnist_label,n_samples=200,replace='false',random_state=69)\n",
    "data_scaled = small_mnist_data/255.0"
   ]
  },
  {
   "cell_type": "code",
   "execution_count": 39,
   "id": "9810de06",
   "metadata": {},
   "outputs": [
    {
     "name": "stdout",
     "output_type": "stream",
     "text": [
      "\n",
      "\n",
      "eps value: 1\n",
      "Clusters present: [-1]\n",
      "   Cluster sizes: [200]\n",
      "\n",
      "\n",
      "eps value: 2\n",
      "Clusters present: [-1]\n",
      "   Cluster sizes: [200]\n",
      "\n",
      "\n",
      "eps value: 3\n",
      "Clusters present: [-1  0  1  2]\n",
      "   Cluster sizes: [193   3   2   2]\n",
      "\n",
      "\n",
      "eps value: 4\n",
      "Clusters present: [-1  0  1  2]\n",
      "   Cluster sizes: [187   5   2   6]\n",
      "\n",
      "\n",
      "eps value: 5\n",
      "Clusters present: [-1  0  1  2  3  4  5  6  7  8  9]\n",
      "   Cluster sizes: [167   2   8   2   7   4   2   2   2   2   2]\n",
      "\n",
      "\n",
      "eps value: 6\n",
      "Clusters present: [-1  0  1  2  3  4  5  6  7  8  9 10 11]\n",
      "   Cluster sizes: [125  23  23   5   2   2   4   3   3   4   2   2   2]\n",
      "\n",
      "\n",
      "eps value: 7\n",
      "Clusters present: [-1  0  1  2  3  4  5  6  7  8]\n",
      "   Cluster sizes: [ 60 119   5   2   2   2   3   3   2   2]\n",
      "\n",
      "\n",
      "eps value: 8\n",
      "Clusters present: [-1  0  1  2]\n",
      "   Cluster sizes: [ 13 183   2   2]\n",
      "\n",
      "\n",
      "eps value: 9\n",
      "Clusters present: [0]\n",
      "   Cluster sizes: [  0 200]\n",
      "\n",
      "\n",
      "eps value: 10\n",
      "Clusters present: [0]\n",
      "   Cluster sizes: [  0 200]\n",
      "\n",
      "\n",
      "eps value: 11\n",
      "Clusters present: [0]\n",
      "   Cluster sizes: [  0 200]\n",
      "\n",
      "\n",
      "eps value: 12\n",
      "Clusters present: [0]\n",
      "   Cluster sizes: [  0 200]\n",
      "\n",
      "\n",
      "eps value: 13\n",
      "Clusters present: [0]\n",
      "   Cluster sizes: [  0 200]\n",
      "\n",
      "\n",
      "eps value: 14\n",
      "Clusters present: [0]\n",
      "   Cluster sizes: [  0 200]\n"
     ]
    }
   ],
   "source": [
    "for eps in range(1,15):\n",
    "    dbscan = DBSCAN(min_samples=2,eps=eps)\n",
    "    labels = dbscan.fit_predict(data_scaled)\n",
    "    print(\"\\n\")\n",
    "    print(\"eps value: {}\".format(eps))\n",
    "    print(\"Clusters present: {}\".format(np.unique(labels)))\n",
    "    print(\"   Cluster sizes: {}\".format(np.bincount(labels + 1)))\n"
   ]
  },
  {
   "cell_type": "code",
   "execution_count": null,
   "id": "b182f559",
   "metadata": {},
   "outputs": [],
   "source": [
    "#Choosing eps 9 after the first test which shows best result for value of eps 6"
   ]
  },
  {
   "cell_type": "code",
   "execution_count": 38,
   "id": "2a78a8a9",
   "metadata": {},
   "outputs": [
    {
     "name": "stdout",
     "output_type": "stream",
     "text": [
      "\n",
      "\n",
      "sample value: 1\n",
      "Clusters present: [  0   1   2   3   4   5   6   7   8   9  10  11  12  13  14  15  16  17\n",
      "  18  19  20  21  22  23  24  25  26  27  28  29  30  31  32  33  34  35\n",
      "  36  37  38  39  40  41  42  43  44  45  46  47  48  49  50  51  52  53\n",
      "  54  55  56  57  58  59  60  61  62  63  64  65  66  67  68  69  70  71\n",
      "  72  73  74  75  76  77  78  79  80  81  82  83  84  85  86  87  88  89\n",
      "  90  91  92  93  94  95  96  97  98  99 100 101 102 103 104 105 106 107\n",
      " 108 109 110 111 112 113 114 115 116 117 118 119 120 121 122 123 124 125\n",
      " 126 127 128 129 130 131 132 133 134 135 136]\n",
      "   Cluster sizes: [ 0  1 23 23  1  5  1  1  1  2  2  1  1  4  1  1  1  1  1  1  1  1  1  1\n",
      "  1  1  3  1  1  1  1  1  1  1  1  1  1  1  1  1  1  1  1  3  1  1  1  1\n",
      "  4  1  1  2  1  1  1  1  1  1  1  1  1  1  1  1  1  1  1  1  1  1  1  1\n",
      "  1  1  1  1  1  1  1  1  1  1  1  1  1  1  1  2  1  1  1  1  1  1  1  1\n",
      "  1  1  1  1  1  1  1  1  1  1  1  1  1  1  1  1  1  1  1  1  1  1  2  1\n",
      "  1  1  1  1  1  1  1  1  1  1  1  1  1  1  1  1  1  1]\n",
      "\n",
      "\n",
      "sample value: 2\n",
      "Clusters present: [-1  0  1  2  3  4  5  6  7  8  9 10 11]\n",
      "   Cluster sizes: [125  23  23   5   2   2   4   3   3   4   2   2   2]\n",
      "\n",
      "\n",
      "sample value: 3\n",
      "Clusters present: [-1  0  1  2  3  4  5  6]\n",
      "   Cluster sizes: [135  23  23   4   3   5   4   3]\n",
      "\n",
      "\n",
      "sample value: 4\n",
      "Clusters present: [-1  0  1  2  3  4]\n",
      "   Cluster sizes: [149  15  20   4   7   5]\n",
      "\n",
      "\n",
      "sample value: 5\n",
      "Clusters present: [-1  0  1  2]\n",
      "   Cluster sizes: [165  20   9   6]\n",
      "\n",
      "\n",
      "sample value: 6\n",
      "Clusters present: [-1  0  1  2]\n",
      "   Cluster sizes: [166  20   8   6]\n",
      "\n",
      "\n",
      "sample value: 7\n",
      "Clusters present: [-1  0  1]\n",
      "   Cluster sizes: [172  20   8]\n",
      "\n",
      "\n",
      "sample value: 8\n",
      "Clusters present: [-1  0  1  2]\n",
      "   Cluster sizes: [172  13   7   8]\n",
      "\n",
      "\n",
      "sample value: 9\n",
      "Clusters present: [-1  0]\n",
      "   Cluster sizes: [188  12]\n",
      "\n",
      "\n",
      "sample value: 10\n",
      "Clusters present: [-1  0]\n",
      "   Cluster sizes: [188  12]\n",
      "\n",
      "\n",
      "sample value: 11\n",
      "Clusters present: [-1]\n",
      "   Cluster sizes: [200]\n",
      "\n",
      "\n",
      "sample value: 12\n",
      "Clusters present: [-1]\n",
      "   Cluster sizes: [200]\n",
      "\n",
      "\n",
      "sample value: 13\n",
      "Clusters present: [-1]\n",
      "   Cluster sizes: [200]\n",
      "\n",
      "\n",
      "sample value: 14\n",
      "Clusters present: [-1]\n",
      "   Cluster sizes: [200]\n"
     ]
    }
   ],
   "source": [
    "for sample in range(1,15):\n",
    "    dbscan = DBSCAN(min_samples=sample,eps=6)\n",
    "    labels = dbscan.fit_predict(data_scaled)\n",
    "    print(\"\\n\")\n",
    "    print(\"sample value: {}\".format(sample))\n",
    "    print(\"Clusters present: {}\".format(np.unique(labels)))\n",
    "    print(\"   Cluster sizes: {}\".format(np.bincount(labels + 1)))\n"
   ]
  },
  {
   "cell_type": "code",
   "execution_count": null,
   "id": "b2488003",
   "metadata": {},
   "outputs": [],
   "source": [
    "#The best hyper parameter should be eps: 6 and min_sample = 2 since then cluster distributed evenly and it doesn't identify a lot of data as noise"
   ]
  },
  {
   "attachments": {
    "image_2022-11-04_092813161.png": {
     "image/png": "[encoded data removed]"
    }
   },
   "cell_type": "markdown",
   "id": "b6606f33",
   "metadata": {},
   "source": [
    "![image_2022-11-04_092813161.png](attachment:image_2022-11-04_092813161.png)"
   ]
  },
  {
   "cell_type": "markdown",
   "id": "45d4be72",
   "metadata": {},
   "source": [
    "**(g)** Try to compare the different clustering methods on the MNIST dataset in the same way\n",
    "   the book does on the faces dataset on pp. 195-206."
   ]
  },
  {
   "cell_type": "code",
   "execution_count": 39,
   "id": "797a3721",
   "metadata": {},
   "outputs": [],
   "source": [
    "small_mnist_data,small_mnist_label = resample(mnist_data,mnist_label,n_samples=1000,replace='false',random_state=69)\n",
    "\n",
    "X_scaled = small_mnist_data/255.0"
   ]
  },
  {
   "cell_type": "code",
   "execution_count": 40,
   "id": "202650aa",
   "metadata": {},
   "outputs": [],
   "source": [
    "kmeans = KMeans(n_clusters=10)\n",
    "kmeanslabels= kmeans.fit_predict(X_scaled)"
   ]
  },
  {
   "cell_type": "code",
   "execution_count": 41,
   "id": "610bd294",
   "metadata": {},
   "outputs": [],
   "source": [
    "dbscan = DBSCAN(eps=6,min_samples=2)\n",
    "dblabels = dbscan.fit_predict(X_scaled)"
   ]
  },
  {
   "cell_type": "code",
   "execution_count": 42,
   "id": "9fc985ba",
   "metadata": {},
   "outputs": [],
   "source": [
    "agglomerative = AgglomerativeClustering(n_clusters=10,compute_distances=True)\n",
    "agglabels = agglomerative.fit_predict(X_scaled)"
   ]
  },
  {
   "cell_type": "code",
   "execution_count": 43,
   "id": "471fd42c",
   "metadata": {},
   "outputs": [
    {
     "name": "stdout",
     "output_type": "stream",
     "text": [
      "ARI kmeans vs dbscan: 0.10\n",
      "ARI kmeans vs Agglomerative: 0.46\n",
      "ARI Agglomerative vs dbscan: 0.11\n"
     ]
    }
   ],
   "source": [
    "print(\"ARI kmeans vs dbscan: {:.2f}\".format(adjusted_rand_score(kmeanslabels,dblabels)))\n",
    "print(\"ARI kmeans vs Agglomerative: {:.2f}\".format(adjusted_rand_score(kmeanslabels,agglabels)))\n",
    "print(\"ARI Agglomerative vs dbscan: {:.2f}\".format(adjusted_rand_score(agglabels,dblabels)))"
   ]
  },
  {
   "cell_type": "code",
   "execution_count": null,
   "id": "e9562593",
   "metadata": {},
   "outputs": [],
   "source": [
    "#the kmeans and Agglomerative seems to have the most similar label output"
   ]
  },
  {
   "cell_type": "markdown",
   "id": "9524f0e4",
   "metadata": {},
   "source": [
    "## 4. The Local Elections\n",
    "#### Pawel Skrzypkowski 293167\n",
    "#### Matey Dimitrov Matev - 285041\n",
    "\n",
    "\n",
    "__You should be able to do this exercise after Lecture 6.__\n",
    "\n",
    "In the local elections of 2021, around 100 candidates stood for election for the city council of Horsens. 83 of them represented a national party, had more than one candidate and provided answers to the <a href=\"https://www.dr.dk/nyheder/politik/kandidattest\">DR Candidate Test</a>, a test designed to help voters find out who they should vote for. In this test, the candidates answered 18 questions, which we will use as features in the following. The politicians belong to 9 parties, which will be our classes.\n",
    "\n",
    "The numpy files `X_Horsens.npy` and `Y_Horsens.npy` contains the data. `Y_Horsens.npy` contains a letter representing the party to which each candidate belongs. The following parties are represented:\n",
    "\n",
    "| Party letter | Party name | Party name (English) | Political position | Party color |\n",
    "| :-: | :-: | :-: | :-: | :-: |\n",
    "| A | Socialdemokratiet | Social Democrats | Centre-left | Red |\n",
    "| B | Radikale Venstre | Social Liberal Party | Centre-left | Indigo |\n",
    "| C | Det Konservative Folkeparti | Conservative People's Party | Right-wing | Green |\n",
    "| D | Nye Borgerlige | New Right | Far-right | Black |\n",
    "| F | Socialistisk Folkeparti | Socialist People's Party | Left-wing | Fuchsia |\n",
    "| I | Liberal Alliance | Liberal Alliance | Right-wing | Cyan |\n",
    "| O | Dansk Folkeparti | Danish People's Party | Far-right | Yellow |\n",
    "| V | Venstre | Danish Liberal Party | Centre-right | Blue |\n",
    "| Z* | Enhedslisten | Red-Green Alliance | Far-left | Dark red |\n",
    "\n",
    "*_Note that, although the party letter of Enhedslisten is actually Ø, we will here use Z to avoid any complications with the wonderful Danish letters Æ, Ø and Å. Feel free to change the Z back to an Ø if you find that it does not cause any problems._\n",
    "\n",
    "Meanwhile, `X_Horsens.npy` contains the answers to the test as numbers between -1.5 and 1.5, such that -1.5 is \"Strongly disagree\", -0.5 is \"Disagree\", 0.5 is \"Agree\" and 1.5 is \"Strongly agree\". The 18 questions concern, in order, subdivision, schools, windmills, building permits, tall buildings, housing, child care, culture, nursing homes, taxes, sports, refugees, nursing homes (again), public transportation, meat-free days, welfare, privatization, and religious minorities.\n",
    "\n",
    "Both files can be imported using `numpy.load`."
   ]
  },
  {
   "cell_type": "markdown",
   "id": "24806d94",
   "metadata": {},
   "source": [
    "__(a)__ How well do you (intuitively) expect that we can predict the partisan affiliation of a candidate based on their answers to the test?"
   ]
  },
  {
   "cell_type": "markdown",
   "id": "a7720dd6",
   "metadata": {},
   "source": [
    "It is difficult to predict the accuracy of predicting a candidate's partisan affiliation based on their answers to the test. Without further information, it is difficult to say how successful such predictions would be. The content of the questions and the answers provided by the candidates could also impact the accuracy of the predictions."
   ]
  },
  {
   "cell_type": "markdown",
   "id": "3f091ac0",
   "metadata": {},
   "source": [
    "__(b)__ Based on the answers from all 83 candidates for the Horsens city council, perform a Principal Component Analysis with 2 principal components. Plot the results in a figure using these 2 components as the axes. Label the points with the party letter and the appropriate color."
   ]
  },
  {
   "cell_type": "code",
   "execution_count": 1,
   "id": "53425fec",
   "metadata": {},
   "outputs": [
    {
     "data": {
      "image/png": "[encoded data removed]",
      "text/plain": [
       "<Figure size 432x288 with 1 Axes>"
      ]
     },
     "metadata": {
      "needs_background": "light"
     },
     "output_type": "display_data"
    }
   ],
   "source": [
    "import numpy as np\n",
    "from sklearn.decomposition import PCA\n",
    "import matplotlib.pyplot as plt\n",
    "\n",
    "# Load the data from the files\n",
    "X = np.load(\"/Users/fatem/mal/MalFinalProject/X_Horsens.npy\")\n",
    "Y = np.load(\"/Users/fatem/mal/MalFinalProject/Y_Horsens.npy\")\n",
    "\n",
    "# Create a PCA object and fit it to the data\n",
    "pca = PCA(n_components=2)\n",
    "pca.fit(X)\n",
    "\n",
    "# Transform the data using the PCA object\n",
    "X_transformed = pca.transform(X)\n",
    "\n",
    "# Create a scatterplot using the first and second principal components as the axes\n",
    "plt.scatter(X_transformed[:, 0], X_transformed[:, 1])\n",
    "\n",
    "# Label each point with the corresponding party letter and color\n",
    "colors = {\"A\": \"red\", \"B\": \"indigo\", \"C\": \"green\", \"D\": \"black\", \"F\": \"fuchsia\", \"I\": \"cyan\", \"O\": \"yellow\", \"V\": \"blue\", \"Z\": \"darkred\"}\n",
    "for i in range(X_transformed.shape[0]):\n",
    "    plt.annotate(Y[i], (X_transformed[i, 0], X_transformed[i, 1]), color=colors[Y[i]])\n",
    "\n",
    "# Show the plot\n",
    "plt.show()"
   ]
  },
  {
   "cell_type": "markdown",
   "id": "8ef4078a",
   "metadata": {},
   "source": [
    "__(c)__ Comment on the results. You may consider the following questions for inspiration: Can the political parties be separated? Can the typical distinction of \"left-wing\" and \"right-wing\" be discerned? Which of the 18 questions (features) are most important?"
   ]
  },
  {
   "cell_type": "markdown",
   "id": "51fbb677",
   "metadata": {},
   "source": [
    "Without actually performing the Principal Component Analysis (PCA) and visualizing the results, it is difficult to say with certainty what the results would be. However, it is possible that the political parties may be separated to some extent in the scatterplot, and the typical distinction of \"left-wing\" and \"right-wing\" parties may also be discerned."
   ]
  },
  {
   "cell_type": "markdown",
   "id": "36a56131",
   "metadata": {},
   "source": [
    "The number of candidates (83) is on the (very) low side when we want to do machine learning. Luckily, the neighbouring city of Databorg had no less than 8,300 candidates standing for election, with a political environment similar to that of Horsens. In the following, we will use the data from Databorg. These are stored in the numpy files `X_Databorg.npy` and `Y_Databorg.npy` in same format as the Horsens data.\n",
    "\n",
    "__(d)__ Once again, perform a Principal Component Analysis and visualize the results. Compare the results to those of the Horsens data."
   ]
  },
  {
   "cell_type": "code",
   "execution_count": 2,
   "id": "bb0e480d",
   "metadata": {},
   "outputs": [
    {
     "data": {
      "image/png": "[encoded data removed]",
      "text/plain": [
       "<Figure size 432x288 with 1 Axes>"
      ]
     },
     "metadata": {
      "needs_background": "light"
     },
     "output_type": "display_data"
    }
   ],
   "source": [
    "# Load the data from the files\n",
    "X = np.load(\"/Users/fatem/mal/MalFinalProject/X_Databorg.npy\")\n",
    "Y = np.load(\"/Users/fatem/mal/MalFinalProject/Y_Databorg.npy\")\n",
    "\n",
    "# Create a PCA object and fit it to the data\n",
    "pca = PCA(n_components=2)\n",
    "pca.fit(X)\n",
    "\n",
    "# Transform the data using the PCA object\n",
    "X_transformed = pca.transform(X)\n",
    "\n",
    "# Create a scatterplot using the first and second principal components as the axes\n",
    "plt.scatter(X_transformed[:, 0], X_transformed[:, 1])\n",
    "\n",
    "# Label each point with the corresponding party letter and color\n",
    "colors = {\"A\": \"red\", \"B\": \"indigo\", \"C\": \"green\", \"D\": \"black\", \"F\": \"fuchsia\", \"I\": \"cyan\", \"O\": \"yellow\", \"V\": \"blue\", \"Z\": \"darkred\"}\n",
    "for i in range(X_transformed.shape[0]):\n",
    "    plt.annotate(Y[i], (X_transformed[i, 0], X_transformed[i, 1]), color=colors[Y[i]])\n",
    "\n",
    "# Show the plot\n",
    "plt.show()"
   ]
  },
  {
   "cell_type": "markdown",
   "id": "a404ebee",
   "metadata": {},
   "source": [
    "Confident that we can predict the partisan affiliation of a politician reasonably well based on their answers to the test, we want to build a model that will allow us to distinguish between the 9 political parties. For this purpose, we split the data into a training and a validation set.\n",
    "\n",
    "__(e)__ Split the data into a training and a validation set, with appropriate fractions."
   ]
  },
  {
   "cell_type": "code",
   "execution_count": 3,
   "id": "bff489c7",
   "metadata": {},
   "outputs": [],
   "source": [
    "from sklearn.model_selection import train_test_split\n",
    "X = np.load(\"/Users/fatem/mal/MalFinalProject/X_Databorg.npy\")\n",
    "Y = np.load(\"/Users/fatem/mal/MalFinalProject/Y_Databorg.npy\")\n",
    "\n",
    "X_train, X_test , y_train, y_test = train_test_split(X, Y,  random_state=69)"
   ]
  },
  {
   "cell_type": "markdown",
   "id": "f8f9a90a",
   "metadata": {},
   "source": [
    "First, we assume that a Naive Bayes approach is sufficient for our purposes.\n",
    "\n",
    "__(f)__ Comment on the basic assumption of the Naive Bayes approach. Is this a reasonable assumption for the problem at hand?"
   ]
  },
  {
   "cell_type": "markdown",
   "id": "6e6ee9b2",
   "metadata": {},
   "source": [
    "The Naive Bayes approach assumes that the features (questions in this case) are independent of each other given the class (political party)."
   ]
  },
  {
   "cell_type": "markdown",
   "id": "36902fe9",
   "metadata": {},
   "source": [
    "__(g)__ Classify the instances of the validation set using a Naive Bayes approach. Comment on the results."
   ]
  },
  {
   "cell_type": "code",
   "execution_count": 4,
   "id": "6c31e8aa",
   "metadata": {},
   "outputs": [
    {
     "name": "stdout",
     "output_type": "stream",
     "text": [
      "Accuracy score train: 0.7214457831325302\n",
      "Accuracy score test: 0.7060240963855422\n"
     ]
    }
   ],
   "source": [
    "from sklearn.naive_bayes import GaussianNB\n",
    "\n",
    "# Train a Naive Bayes classifier using the training set data\n",
    "classifier = GaussianNB()\n",
    "classifier.fit(X_train, y_train)\n",
    "\n",
    "print(\"Accuracy score train: {}\".format(classifier.score(X_train, y_train)))\n",
    "print(\"Accuracy score test: {}\".format(classifier.score(X_test, y_test)))"
   ]
  },
  {
   "cell_type": "markdown",
   "id": "d42e3b56",
   "metadata": {},
   "source": [
    "Assume instead that a _k_-nearest neighbour approach is sufficient for our  needs.\n",
    "\n",
    "__(h)__ Using default settings of the _k_-NN classifier, classify the instances of the validation set. Comment on the performance."
   ]
  },
  {
   "cell_type": "code",
   "execution_count": 5,
   "id": "387435ff",
   "metadata": {},
   "outputs": [
    {
     "name": "stdout",
     "output_type": "stream",
     "text": [
      "Accuracy score train: 0.8612048192771085\n",
      "Accuracy score test: 0.8043373493975904\n"
     ]
    }
   ],
   "source": [
    "from sklearn.neighbors import KNeighborsClassifier\n",
    "\n",
    "# Train a Naive Bayes classifier using the training set data\n",
    "classifier = KNeighborsClassifier()\n",
    "classifier.fit(X_train, y_train)\n",
    "\n",
    "print(\"Accuracy score train: {}\".format(classifier.score(X_train, y_train)))\n",
    "print(\"Accuracy score test: {}\".format(classifier.score(X_test, y_test)))"
   ]
  },
  {
   "cell_type": "markdown",
   "id": "bb8b8217",
   "metadata": {},
   "source": [
    "__(i)__ Play around with different values of _k_. Decide on a \"good\" value of _k_. Comment on the results."
   ]
  },
  {
   "cell_type": "code",
   "execution_count": 6,
   "id": "98cd5ffe",
   "metadata": {},
   "outputs": [
    {
     "data": {
      "image/png": "[encoded data removed]",
      "text/plain": [
       "<Figure size 432x288 with 1 Axes>"
      ]
     },
     "metadata": {
      "needs_background": "light"
     },
     "output_type": "display_data"
    }
   ],
   "source": [
    "from sklearn.metrics import accuracy_score\n",
    "\n",
    "\n",
    "accuracies = []\n",
    "ks = range(1, 30)\n",
    "for k in ks:\n",
    "    classifier = KNeighborsClassifier(n_neighbors=k)\n",
    "    classifier.fit(X_train, y_train)\n",
    "    Y_pred = classifier.predict(X_test)\n",
    "    accuracy = accuracy_score(y_test, Y_pred)\n",
    "    accuracies.append(accuracy)\n",
    "\n",
    "# Plot the accuracy for each value of k\n",
    "plt.plot(ks, accuracies)\n",
    "plt.xlabel(\"k\")\n",
    "plt.ylabel(\"accuracy\")\n",
    "plt.show()\n",
    "\n",
    "\n",
    "#15 neithbours is sufficient in this case to avoid overfitting and get reasonable accuracy"
   ]
  },
  {
   "cell_type": "markdown",
   "id": "91172279",
   "metadata": {},
   "source": [
    "We now try to use a decision tree instead.\n",
    "\n",
    "__(j)__ What is the _minimum_ depth of an appropriate decision tree? Why?"
   ]
  },
  {
   "cell_type": "markdown",
   "id": "16ac3c4b",
   "metadata": {},
   "source": [
    "The minimum depth of an appropriate decision tree depends on the specific data and the desired performance of the classifier. A decision tree with a smaller depth will be simpler and faster to train and evaluate, but may not be able to capture the full complexity of the data and may not perform as well."
   ]
  },
  {
   "cell_type": "markdown",
   "id": "fadd40d2",
   "metadata": {},
   "source": [
    "__(k)__ Build a decision tree with at least the depth from above. Play around with the tree depth. Include a figure that shows some relevant measure of the performance as a function of the tree depth. Comment on any issues of over-fitting. Decide on a tree which you will keep for later use. Can you do better than the _k_-NN classifier?"
   ]
  },
  {
   "cell_type": "code",
   "execution_count": 7,
   "id": "e00aa7b5",
   "metadata": {},
   "outputs": [
    {
     "name": "stdout",
     "output_type": "stream",
     "text": [
      "Accuracy on training data: 1.0\n",
      "Accuracy on testing data: 0.6428915662650603\n"
     ]
    },
    {
     "data": {
      "image/png": "[encoded data removed]",
      "text/plain": [
       "<Figure size 432x288 with 1 Axes>"
      ]
     },
     "metadata": {
      "needs_background": "light"
     },
     "output_type": "display_data"
    }
   ],
   "source": [
    "from sklearn.tree import DecisionTreeClassifier\n",
    "\n",
    "\n",
    "clf = DecisionTreeClassifier(random_state=69)\n",
    "clf.fit(X_train, y_train)\n",
    "\n",
    "print(\"Accuracy on training data: {}\".format(clf.score(X_train, y_train)))\n",
    "print(\"Accuracy on testing data: {}\".format(clf.score(X_test, y_test)))\n",
    "\n",
    "# Try different depths of the decision tree and evaluate the performance on the validation set\n",
    "accuracies = []\n",
    "depths = range(1, 30)\n",
    "for depth in depths:\n",
    "    classifier = DecisionTreeClassifier(max_depth=depth)\n",
    "    classifier.fit(X_train, y_train)\n",
    "    Y_pred = classifier.predict(X_test)\n",
    "    accuracy = accuracy_score(y_test, Y_pred)\n",
    "    accuracies.append(accuracy)\n",
    "\n",
    "# Plot the accuracy for each depth\n",
    "plt.plot(depths, accuracies)\n",
    "plt.xlabel(\"depth\")\n",
    "plt.ylabel(\"accuracy\")\n",
    "plt.show()\n",
    "\n",
    "\n",
    "#k-NN classifier shows better results than any decison tree with any depth\n",
    "#The best tree with max_depth 5. Trees with max_depth higher than 5-6 have issues with overfitting as training accurance is much higher than test accuracy."
   ]
  },
  {
   "cell_type": "markdown",
   "id": "8f8ba49f",
   "metadata": {},
   "source": [
    "__(l)__ What are the most important features? Visualize this in an appropriate way. Does it match what you would expect? Compare to the results of the PCA analysis. Do we expect them to be the same? Why/why not?"
   ]
  },
  {
   "cell_type": "code",
   "execution_count": 8,
   "id": "9d3e9fad",
   "metadata": {},
   "outputs": [
    {
     "name": "stdout",
     "output_type": "stream",
     "text": [
      "Feature 0 : 0.04600165912729555\n",
      "Feature 1 : 0.04953730154154407\n",
      "Feature 2 : 0.05296771279318048\n",
      "Feature 3 : 0.05958752717814229\n",
      "Feature 4 : 0.08535044396573183\n",
      "Feature 5 : 0.055507479448250296\n",
      "Feature 6 : 0.05163261875010047\n",
      "Feature 7 : 0.03992833288259362\n",
      "Feature 8 : 0.04261993997297002\n",
      "Feature 9 : 0.10597750593120438\n",
      "Feature 10 : 0.06268131704121907\n",
      "Feature 11 : 0.056778704718423625\n",
      "Feature 12 : 0.03959174637661891\n",
      "Feature 13 : 0.04006244207284254\n",
      "Feature 14 : 0.039573716066596994\n",
      "Feature 15 : 0.05170284527915981\n",
      "Feature 16 : 0.07683239116307729\n",
      "Feature 17 : 0.04366631569104872\n"
     ]
    },
    {
     "data": {
      "image/png": "[encoded data removed]",
      "text/plain": [
       "<Figure size 432x288 with 1 Axes>"
      ]
     },
     "metadata": {
      "needs_background": "light"
     },
     "output_type": "display_data"
    }
   ],
   "source": [
    "importances = classifier.feature_importances_\n",
    "\n",
    "# Print the importance of each feature\n",
    "for i, importance in enumerate(importances):\n",
    "    print(\"Feature\", i, \":\", importance)\n",
    "    \n",
    "# Plot the feature importance measure in a bar plot\n",
    "plt.bar(range(X.shape[1]), importances)\n",
    "plt.xlabel(\"feature\")\n",
    "plt.ylabel(\"importance\")\n",
    "plt.show()"
   ]
  },
  {
   "cell_type": "markdown",
   "id": "aea1211e",
   "metadata": {},
   "source": [
    "We know that decision trees suffer from certain problems that may be solved by using decision forests.\n",
    "\n",
    "__(m)__ Build a decision forest. Play around with the number of trees in the forest. Decide on a forest."
   ]
  },
  {
   "cell_type": "code",
   "execution_count": 9,
   "id": "04f9a2fb",
   "metadata": {},
   "outputs": [
    {
     "name": "stdout",
     "output_type": "stream",
     "text": [
      "accuracy on the test data: 0.7677108433734939\n",
      "accuracy on the train data: 0.994859437751004\n",
      "1\n",
      "accuracy on the test data: 0.5995180722891567\n",
      "accuracy on the train data: 0.8616867469879518\n",
      "2\n",
      "accuracy on the test data: 0.5951807228915663\n",
      "accuracy on the train data: 0.8579919678714859\n",
      "3\n",
      "accuracy on the test data: 0.6867469879518072\n",
      "accuracy on the train data: 0.9383132530120482\n",
      "4\n",
      "accuracy on the test data: 0.7074698795180723\n",
      "accuracy on the train data: 0.9611244979919679\n",
      "5\n",
      "accuracy on the test data: 0.7026506024096385\n",
      "accuracy on the train data: 0.9755823293172691\n",
      "6\n",
      "accuracy on the test data: 0.7412048192771085\n",
      "accuracy on the train data: 0.9813654618473896\n",
      "7\n",
      "accuracy on the test data: 0.7387951807228915\n",
      "accuracy on the train data: 0.9884337349397591\n",
      "8\n",
      "accuracy on the test data: 0.7609638554216868\n",
      "accuracy on the train data: 0.9913253012048193\n",
      "9\n",
      "accuracy on the test data: 0.7686746987951807\n",
      "accuracy on the train data: 0.9926104417670683\n",
      "10\n",
      "accuracy on the test data: 0.7677108433734939\n",
      "accuracy on the train data: 0.9946987951807229\n",
      "11\n",
      "accuracy on the test data: 0.7836144578313253\n",
      "accuracy on the train data: 0.9963052208835341\n",
      "12\n",
      "accuracy on the test data: 0.7691566265060241\n",
      "accuracy on the train data: 0.9969477911646586\n",
      "13\n",
      "accuracy on the test data: 0.7787951807228916\n",
      "accuracy on the train data: 0.9975903614457832\n",
      "14\n",
      "accuracy on the test data: 0.7908433734939759\n",
      "accuracy on the train data: 0.9979116465863453\n",
      "15\n",
      "accuracy on the test data: 0.7821686746987951\n",
      "accuracy on the train data: 0.9979116465863453\n",
      "16\n",
      "accuracy on the test data: 0.7942168674698795\n",
      "accuracy on the train data: 0.9983935742971888\n",
      "17\n",
      "accuracy on the test data: 0.7889156626506024\n",
      "accuracy on the train data: 0.9993574297188755\n",
      "18\n",
      "accuracy on the test data: 0.7937349397590362\n",
      "accuracy on the train data: 0.998714859437751\n",
      "19\n",
      "accuracy on the test data: 0.7893975903614457\n",
      "accuracy on the train data: 0.9996787148594377\n",
      "20\n",
      "accuracy on the test data: 0.7995180722891566\n",
      "accuracy on the train data: 0.9991967871485944\n",
      "21\n",
      "accuracy on the test data: 0.7985542168674699\n",
      "accuracy on the train data: 0.9990361445783132\n",
      "22\n",
      "accuracy on the test data: 0.8019277108433734\n",
      "accuracy on the train data: 0.9996787148594377\n",
      "23\n",
      "accuracy on the test data: 0.7995180722891566\n",
      "accuracy on the train data: 0.9996787148594377\n",
      "24\n",
      "accuracy on the test data: 0.8043373493975904\n",
      "accuracy on the train data: 0.9990361445783132\n",
      "25\n",
      "accuracy on the test data: 0.8033734939759036\n",
      "accuracy on the train data: 0.9993574297188755\n",
      "26\n",
      "accuracy on the test data: 0.8024096385542169\n",
      "accuracy on the train data: 0.9996787148594377\n",
      "27\n",
      "accuracy on the test data: 0.8024096385542169\n",
      "accuracy on the train data: 0.9996787148594377\n",
      "28\n",
      "accuracy on the test data: 0.7995180722891566\n",
      "accuracy on the train data: 0.9991967871485944\n",
      "29\n",
      "accuracy on the test data: 0.7990361445783133\n",
      "accuracy on the train data: 0.9996787148594377\n",
      "30\n",
      "accuracy on the test data: 0.8081927710843374\n",
      "accuracy on the train data: 0.9998393574297189\n",
      "31\n",
      "accuracy on the test data: 0.8110843373493976\n",
      "accuracy on the train data: 0.9998393574297189\n",
      "32\n",
      "accuracy on the test data: 0.8144578313253013\n",
      "accuracy on the train data: 1.0\n",
      "33\n",
      "accuracy on the test data: 0.8139759036144578\n",
      "accuracy on the train data: 0.9998393574297189\n",
      "34\n",
      "accuracy on the test data: 0.8101204819277108\n",
      "accuracy on the train data: 0.9998393574297189\n",
      "35\n",
      "accuracy on the test data: 0.8053012048192771\n",
      "accuracy on the train data: 1.0\n",
      "36\n",
      "accuracy on the test data: 0.807710843373494\n",
      "accuracy on the train data: 0.9996787148594377\n",
      "37\n",
      "accuracy on the test data: 0.8120481927710843\n",
      "accuracy on the train data: 0.9998393574297189\n",
      "38\n",
      "accuracy on the test data: 0.811566265060241\n",
      "accuracy on the train data: 1.0\n",
      "39\n",
      "accuracy on the test data: 0.8033734939759036\n",
      "accuracy on the train data: 0.9998393574297189\n",
      "40\n",
      "accuracy on the test data: 0.8139759036144578\n",
      "accuracy on the train data: 0.9998393574297189\n",
      "41\n",
      "accuracy on the test data: 0.8183132530120482\n",
      "accuracy on the train data: 1.0\n",
      "42\n",
      "accuracy on the test data: 0.8106024096385542\n",
      "accuracy on the train data: 1.0\n",
      "43\n",
      "accuracy on the test data: 0.8192771084337349\n",
      "accuracy on the train data: 1.0\n",
      "44\n",
      "accuracy on the test data: 0.8072289156626506\n",
      "accuracy on the train data: 1.0\n",
      "45\n",
      "accuracy on the test data: 0.8072289156626506\n",
      "accuracy on the train data: 1.0\n",
      "46\n",
      "accuracy on the test data: 0.8125301204819277\n",
      "accuracy on the train data: 1.0\n",
      "47\n",
      "accuracy on the test data: 0.8139759036144578\n",
      "accuracy on the train data: 1.0\n",
      "48\n",
      "accuracy on the test data: 0.809156626506024\n",
      "accuracy on the train data: 1.0\n",
      "49\n",
      "accuracy on the test data: 0.8178313253012048\n",
      "accuracy on the train data: 0.9998393574297189\n"
     ]
    }
   ],
   "source": [
    "from sklearn.ensemble import RandomForestClassifier\n",
    "\n",
    "# Train a decision forest with 10 trees\n",
    "forest = RandomForestClassifier(n_estimators=10, random_state = 69)\n",
    "forest.fit(X_train, y_train)\n",
    "\n",
    "print(\"accuracy on the test data: {}\".format(forest.score(X_test,y_test)))\n",
    "print(\"accuracy on the train data: {}\".format(forest.score(X_train,y_train)))\n",
    "\n",
    "trees = range(1, 50)\n",
    "for n_trees in trees:\n",
    "    # Train a decision forest with n_trees trees\n",
    "    forest = RandomForestClassifier(n_estimators=n_trees)\n",
    "    forest.fit(X_train, y_train)\n",
    "    \n",
    "    print(n_trees)\n",
    "    print(\"accuracy on the test data: {}\".format(forest.score(X_test,y_test)))\n",
    "    print(\"accuracy on the train data: {}\".format(forest.score(X_train,y_train)))"
   ]
  },
  {
   "cell_type": "markdown",
   "id": "243076bf",
   "metadata": {},
   "source": [
    "__(n)__ Extract the most important features. Comment and compare with previously obtained results."
   ]
  },
  {
   "cell_type": "code",
   "execution_count": 10,
   "id": "f40fc97b",
   "metadata": {},
   "outputs": [
    {
     "name": "stdout",
     "output_type": "stream",
     "text": [
      "Feature ranking:\n",
      "1. feature 9 (0.087786)\n",
      "2. feature 4 (0.073044)\n",
      "3. feature 15 (0.071701)\n",
      "4. feature 16 (0.065071)\n",
      "5. feature 5 (0.058321)\n",
      "6. feature 3 (0.056857)\n",
      "7. feature 0 (0.055424)\n",
      "8. feature 8 (0.055321)\n",
      "9. feature 10 (0.052086)\n",
      "10. feature 17 (0.051781)\n",
      "11. feature 6 (0.050853)\n",
      "12. feature 11 (0.050147)\n",
      "13. feature 2 (0.048275)\n",
      "14. feature 13 (0.046108)\n",
      "15. feature 12 (0.046054)\n",
      "16. feature 14 (0.045774)\n",
      "17. feature 1 (0.044287)\n",
      "18. feature 7 (0.041110)\n"
     ]
    },
    {
     "data": {
      "image/png": "[encoded data removed]",
      "text/plain": [
       "<Figure size 432x288 with 1 Axes>"
      ]
     },
     "metadata": {
      "needs_background": "light"
     },
     "output_type": "display_data"
    }
   ],
   "source": [
    "# Train a decision forest with 4 trees\n",
    "forest = RandomForestClassifier(n_estimators=4, random_state=69)\n",
    "forest.fit(X_train, y_train)\n",
    "\n",
    "# Obtain the feature importance measure for each feature\n",
    "importances = forest.feature_importances_\n",
    "\n",
    "# Sort the features by importance\n",
    "indices = np.argsort(importances)[::-1]\n",
    "\n",
    "# Print the feature ranking\n",
    "print(\"Feature ranking:\")\n",
    "for f in range(X.shape[1]):\n",
    "    print(\"%d. feature %d (%f)\" % (f + 1, indices[f], importances[indices[f]]))\n",
    "\n",
    "# Plot the feature importance measure in a bar plot\n",
    "plt.bar(range(X.shape[1]), importances[indices])\n",
    "plt.xlabel(\"feature\")\n",
    "plt.ylabel(\"importance\")\n",
    "plt.show()"
   ]
  },
  {
   "cell_type": "markdown",
   "id": "d0ad3f11",
   "metadata": {},
   "source": [
    "Finally, we want to compare the models we have worked with so far (i.e., Naive Bayes, _k_-NN, decision tree and decision forest).\n",
    "\n",
    "__(o)__ Compare the results of the in terms of confusion matrices, accuracy, precision, recall, and f-score. How well can we predict the partisan affiliation of a candidate based on their answers to a test? How does this compare with your intuition? "
   ]
  },
  {
   "cell_type": "code",
   "execution_count": 11,
   "id": "fc516168",
   "metadata": {},
   "outputs": [
    {
     "name": "stdout",
     "output_type": "stream",
     "text": [
      "Naive Bayes\n",
      "Accuracy: 0.7174698795180723\n",
      "Precision: 0.6778556803293729\n",
      "Recall: 0.6826923076923078\n",
      "F-score: 0.6780543169338619\n",
      "[[426  29   2   0  27   0  14  16   6]\n",
      " [ 22  77   0   0  11   1   0   3   6]\n",
      " [  2   0  54  28   0   3   8  25   0]\n",
      " [  0   0  12  58   0   1   4   5   0]\n",
      " [ 33   6   0   0  91   0   0   1  29]\n",
      " [  1   0   3   1   0  78   2  15   0]\n",
      " [ 14   3   2   0   0   0  64  17   0]\n",
      " [ 26   2  15   7   0  23  13 214   0]\n",
      " [  5   7   0   0  18   0   0   1 129]]\n",
      "\n",
      "k-NN (k=5)\n",
      "Accuracy: 0.8180722891566266\n",
      "Precision: 0.8152359716326253\n",
      "Recall: 0.7986004273504272\n",
      "F-score: 0.8060210494445962\n",
      "[[466  10   2   0  20   0   6  13   3]\n",
      " [ 22  91   0   0   1   0   0   1   5]\n",
      " [  4   0  93   6   0   4   5   8   0]\n",
      " [  0   0   4  68   0   1   1   6   0]\n",
      " [ 27   7   0   0 112   0   1   1  12]\n",
      " [  2   0   1   1   0  89   1   6   0]\n",
      " [ 18   0   2   2   0   1  70   7   0]\n",
      " [ 27   4   9   6   1  10   7 236   0]\n",
      " [  6   2   0   0  19   0   0   0 133]]\n",
      "\n",
      "Decision Tree (max_depth=5)\n",
      "Accuracy: 0.5879518072289157\n",
      "Precision: 0.5730952618044939\n",
      "Recall: 0.49839387464387463\n",
      "F-score: 0.5226841774879214\n",
      "[[410  30   1   2  45   0   6  18   8]\n",
      " [ 20  36   4   0  25   0   1  10  24]\n",
      " [  8   0  58  15   1   4   4  29   1]\n",
      " [  4   0  12  46   0   2   3  13   0]\n",
      " [ 53  13   1   0  71   0   0   4  18]\n",
      " [  6   1   7   0   0  38   2  46   0]\n",
      " [ 32   1   3   0   7   0  32  25   0]\n",
      " [ 51   5  15   1   6   6  14 201   1]\n",
      " [ 10  10   3   0  48   0   0   5  84]]\n",
      "\n",
      "Decision Forest (10 trees)\n",
      "Accuracy: 0.7614457831325301\n",
      "Precision: 0.7701111280620592\n",
      "Recall: 0.7111396011396012\n",
      "F-score: 0.7368049455365078\n",
      "[[469   6   2   1  14   0   6  15   7]\n",
      " [ 30  72   1   0   4   0   0   7   6]\n",
      " [  6   1  77   8   0   3   4  21   0]\n",
      " [  2   0   8  61   0   2   2   5   0]\n",
      " [ 38   4   0   0 106   0   0   1  11]\n",
      " [  4   0   6   1   0  70   1  18   0]\n",
      " [ 29   2   0   0   0   1  61   7   0]\n",
      " [ 41   0  10   5   0  11   9 224   0]\n",
      " [ 10  10   1   0  13   0   1   1 124]]\n",
      "\n"
     ]
    }
   ],
   "source": [
    "from sklearn.metrics import confusion_matrix, accuracy_score, precision_score, recall_score, f1_score\n",
    "\n",
    "# Split the data into a training set and a validation set\n",
    "split = 0.8\n",
    "X_train = X[:int(X.shape[0] * split)]\n",
    "Y_train = Y[:int(Y.shape[0] * split)]\n",
    "X_val = X[int(X.shape[0] * split):]\n",
    "Y_val = Y[int(Y.shape[0] * split):]\n",
    "\n",
    "# Train and evaluate each model\n",
    "models = [\n",
    "    (\"Naive Bayes\", GaussianNB()),\n",
    "    (\"k-NN (k=5)\", KNeighborsClassifier(n_neighbors=5)),\n",
    "    (\"Decision Tree (max_depth=5)\", DecisionTreeClassifier(max_depth=5)),\n",
    "    (\"Decision Forest (10 trees)\", RandomForestClassifier(n_estimators=10)),\n",
    "]\n",
    "for name, model in models:\n",
    "    # Train the model on the training set\n",
    "    model.fit(X_train, Y_train)\n",
    "\n",
    "    # Make predictions on the validation set\n",
    "    Y_pred = model.predict(X_val)\n",
    "\n",
    "    # Compute and print evaluation metrics\n",
    "    print(name)\n",
    "    print(\"Accuracy: {}\".format(accuracy_score(Y_val, Y_pred)))\n",
    "    print(\"Precision: {}\".format(precision_score(Y_val, Y_pred, average='macro')))\n",
    "    print(\"Recall: {}\".format(recall_score(Y_val, Y_pred, average='macro')))\n",
    "    print(\"F-score: {}\".format(f1_score(Y_val, Y_pred, average='macro')))\n",
    "    cm = confusion_matrix(Y_val, Y_pred)\n",
    "    print(cm)\n",
    "    print()\n"
   ]
  },
  {
   "cell_type": "markdown",
   "id": "eb38c484",
   "metadata": {},
   "source": [
    "## 5. Sentiment Analysis\n",
    "### Fatema Ataii 297107\n",
    "\n",
    "__You should be able to do this exercise after Lecture 8.__"
   ]
  },
  {
   "cell_type": "markdown",
   "id": "51b7a445",
   "metadata": {},
   "source": [
    "In this exercise we use the IMDb-dataset, which we will use to perform a sentiment analysis. The code below assumes that the data is placed in the same folder as this notebook. We see that the reviews are loaded as a pandas dataframe, and print the beginning of the first few reviews."
   ]
  },
  {
   "cell_type": "code",
   "execution_count": 44,
   "id": "01b40446",
   "metadata": {},
   "outputs": [
    {
     "name": "stdout",
     "output_type": "stream",
     "text": [
      "bromwell high is a cartoon comedy . it ran at the same time as some other programs about school life  such as  teachers  . my   years in the teaching profession lead me to believe that bromwell high  s satire is much closer to reality than is  teachers  . the scramble to survive financially  the insightful students who can see right through their pathetic teachers  pomp  the pettiness of the whole situation  all remind me of the schools i knew and their students . when i saw the episode in which a student repeatedly tried to burn down the school  i immediately recalled . . . . . . . . . at . . . . . . . . . . high . a classic line inspector i  m here to sack one of your teachers . student welcome to bromwell high . i expect that many adults of my age think that bromwell high is far fetched . what a pity that it isn  t   \n",
      "positive\n"
     ]
    }
   ],
   "source": [
    "import pandas as pd\n",
    "import numpy as np\n",
    "np.random.seed(69)\n",
    "\n",
    "reviews = pd.read_csv('reviews.txt', header=None)\n",
    "labels = pd.read_csv('labels.txt', header=None)\n",
    "Y = (labels=='positive').astype(np.int_)\n",
    "\n",
    "reviews= reviews.values.tolist()\n",
    "reviews= [x[0] for x in reviews]\n",
    "print(reviews[0])\n",
    "\n",
    "labels = labels.values.tolist()\n",
    "labels = [x[0] for x in labels]\n",
    "print(labels[0])\n"
   ]
  },
  {
   "cell_type": "markdown",
   "id": "dc93893b",
   "metadata": {},
   "source": [
    "**(a)** Split the reviews and labels in test, train and validation sets. The train and validation sets will be used to train your model and tune hyperparameters, the test set will be saved for testing."
   ]
  },
  {
   "cell_type": "code",
   "execution_count": 45,
   "id": "6420d27a",
   "metadata": {},
   "outputs": [
    {
     "name": "stdout",
     "output_type": "stream",
     "text": [
      "size of train set\n",
      "17500\n",
      "size of test\n",
      "7500\n"
     ]
    }
   ],
   "source": [
    "from sklearn.model_selection import train_test_split\n",
    "\n",
    "#loading the files and making them ready for train and testing.\n",
    "train_set, testing_set, train_labels, testing_labels = train_test_split(reviews,Y,test_size=0.3,train_size=0.7,  random_state = 69)\n",
    "\n",
    "\n",
    "print(\"size of train set\")\n",
    "print(len(train_set))\n",
    "\n",
    "print(\"size of test\")\n",
    "print(len(testing_set))"
   ]
  },
  {
   "cell_type": "markdown",
   "id": "3dd5e968",
   "metadata": {},
   "source": [
    "**(b)** Use the `CountVectorizer` from `sklearn.feature_extraction.text` to create a Bag-of-Words representation of the reviews. (See an example of how to do this in chapter 7 of \"Muller and Guido\"). Only use the 10,000 most frequent words (use the `max_features`-parameter of `CountVectorizer`)."
   ]
  },
  {
   "cell_type": "code",
   "execution_count": 46,
   "id": "72415c7a",
   "metadata": {},
   "outputs": [],
   "source": [
    "train_labels = np.array(train_labels)\n",
    "testing_labels = np.array(testing_labels)"
   ]
  },
  {
   "cell_type": "code",
   "execution_count": 47,
   "id": "89467265",
   "metadata": {},
   "outputs": [],
   "source": [
    "from sklearn.feature_extraction.text import CountVectorizer\n",
    "\n",
    "vectorizer = CountVectorizer(max_features=10000)\n",
    "vectorizer = vectorizer.fit(train_set)\n",
    "words_train = vectorizer.transform(train_set)\n",
    "\n",
    "words_test = vectorizer.transform(testing_set)"
   ]
  },
  {
   "cell_type": "markdown",
   "id": "2ab655cf",
   "metadata": {},
   "source": [
    "**(c)** Explore the representation of the reviews. How is a single word represented? How about a whole review?"
   ]
  },
  {
   "cell_type": "code",
   "execution_count": 48,
   "id": "b3ddb60c",
   "metadata": {},
   "outputs": [
    {
     "name": "stdout",
     "output_type": "stream",
     "text": [
      "{'read': 7124, 'the': 8936, 'running': 7596, 'man': 5423, 'from': 3604, 'kings': 4944, 'books': 988, 'as': 497, 'and': 317, 'felt': 3326, 'for': 3502, 'main': 5401, 'character': 1426, 'john': 4807, 'his': 4204, 'family': 3249, 'this': 8978, 'movie': 5845, 'could': 1984, 'have': 4081, 'been': 771, 'so': 8219, 'much': 5854, 'more': 5806, 'trouble': 9236, 'it': 4719, 'was': 9670, 'set': 7883, 'during': 2764, 'big': 858, 'action': 81, 'watched': 9681, 'in': 4461, 'pain': 6342, 'whole': 9775, 'thing': 8968, 'nothing': 6084, 'less': 5138, 'cause': 1356, 'yes': 9958, 'had': 3981, 'funny': 3635, 'scenes': 7716, 'or': 6236, 'laughable': 5058, 'though': 8985, 'think': 8970, 'that': 8934, 'did': 2464, 'not': 6076, 'save': 7687, 'my': 5898, 'eyes': 3201, 'if': 4392, 'you': 9966, 'book': 986, 'can': 1243, 'feel': 3316, 'climax': 1616, 'fire': 3404, 'heart': 4107, 'of': 6163, 'he': 4094, 'gets': 3744, 'final': 3385, 'revenge': 7411, 'br': 1038, 'give': 3777, 'low': 5324, 'number': 6111, 'may': 5542, 'richard': 7440, 'dreyfuss': 2700, 'stars': 8434, 'moon': 5796, 'over': 6294, 'paul': 6441, 'film': 3374, 'also': 265, 'starring': 8433, 'raul': 7105, 'julia': 4846, 'jonathan': 4822, 'winters': 9831, 'plays': 6626, 'new': 6005, 'york': 9965, 'actor': 86, 'nolan': 6048, 'country': 1994, 'to': 9061, 'make': 5409, 'when': 9756, 'dictator': 2463, 'dies': 2470, 'suddenly': 8648, 'secret': 7790, 'police': 6665, 'chief': 1488, 'who': 9773, 'is': 4705, 'one': 6203, 'actually': 93, 'controlling': 1917, 'play': 6619, 'having': 4083, 'noticed': 6087, 'resemblance': 7350, 'between': 848, 'them': 8944, 'soon': 8261, 'palace': 6356, 'prostitute': 6911, 'girlfriend': 3774, 'madonna': 5384, 'realizes': 7145, 'switch': 8773, 'promises': 6891, 'help': 4140, 'him': 4191, 'any': 380, 'way': 9694, 'she': 7949, 'appears': 413, 'drag': 2666, 'mother': 5823, 'gives': 3779, 'us': 9438, 'look': 5285, 'at': 544, 'how': 4312, 'cia': 1540, 'third': 8973, 'world': 9892, 'countries': 1993, 'supposedly': 8707, 'salesman': 7638, 'however': 4314, 'with': 9846, 'but': 1189, 'doesn': 2608, 'really': 7147, 'on': 6201, 'very': 9515, 'serious': 7871, 'ground': 3924, 'send': 7833, 'up': 9419, 'does': 2607, 'fabulous': 3205, 'job': 4799, 'creating': 2046, 'two': 9282, 'separate': 7857, 'characters': 1432, 'both': 1011, 'gorgeous': 3841, 'great': 3889, 'hands': 4016, 'performance': 6493, 'behind': 791, 'those': 8984, 'performances': 6494, 'where': 9758, 'never': 6003, 'quite': 7024, 'know': 4969, 'what': 9749, 'thinking': 8971, 'be': 742, 'pleasant': 6628, 'turn': 9265, 'psycho': 6941, 'moment': 5768, 'hand': 4008, 'maid': 5398, 'manages': 5428, 'same': 7647, 'time': 9040, 'good': 3830, 'blockbuster': 929, 'entertaining': 2982, 'done': 2628, 'de': 2235, 'dillon': 2487, 'cleaned': 1593, 'out': 6274, 'garbage': 3675, 'their': 8942, 'minds': 5688, 'come': 1715, 'worst': 9902, 'comedic': 1719, 'horror': 4290, 'fi': 3342, 'musical': 5883, 'there': 8956, 'acting': 80, 'terrible': 8909, 'top': 9102, 'special': 8313, 'effects': 2842, 'take': 8807, 'your': 9971, 'pick': 6559, 'budget': 1139, 'every': 3064, 'cheap': 1454, 'clich': 1603, 'thought': 8986, 'used': 9442, 'no': 6040, 'doubt': 2644, 'fun': 3626, 'watch': 9679, 'worth': 9903, 'cold': 1677, 'six': 8117, 'pack': 6332, 'point': 6652, 'finger': 3396, 'radiation': 7038, 'need': 5966, 'an': 311, 'excuse': 3110, 'mutant': 5892, 'tomatoes': 9081, 'grow': 3930, 'almost': 258, 'size': 8122, 'truck': 9239, 'begin': 781, 'attacking': 557, 'mankind': 5441, 'san': 7653, 'diego': 2469, 'place': 6596, 'start': 8436, 'scientists': 7731, 'absent': 23, 'minded': 5686, 'military': 5673, 'must': 5889, 'find': 3390, 'stop': 8522, 'red': 7191, 'rolling': 7526, 'menace': 5607, 'cult': 2124, 'favorite': 3292, 'features': 3308, 'david': 2225, 'miller': 5677, 'eric': 3012, 'christmas': 1532, 'al': 211, 'tom': 9080, 'coleman': 1679, 'sharon': 7943, 'taylor': 8852, 'we': 9698, 'always': 276, 'american': 293, 'movies': 5846, 'particular': 6402, 'accents': 40, 'each': 2783, 'region': 7229, 'south': 8292, 'west': 9743, 'etc': 3039, 'here': 4155, 'all': 242, 'foreign': 3510, 'people': 6480, 'open': 6210, 'mind': 5685, 'accept': 41, 'another': 362, 'culture': 2126, 'besides': 837, 'european': 3049, 'dominate': 2621, 'cinematographic': 1549, 'industry': 4520, 'tell': 8883, 'about': 16, 'parallel': 6379, 'which': 9763, 'isn': 4712, 'figured': 3365, 'even': 3056, 'live': 5238, 'city': 1561, 'like': 5185, 'actors': 87, 'are': 445, 'they': 8963, 'realistic': 7138, 'camera': 1232, 'idea': 4375, 'confuse': 1839, 'loneliness': 5276, 'invite': 4676, 'share': 7937, 'real': 7132, 'rent': 7312, 'home': 4243, 'soap': 8220, 'opera': 6216, 'landing': 5021, 'has': 4068, 'entertainment': 2983, 'value': 9469, 'being': 793, 'trapped': 9180, 'elevator': 2874, 'episode': 3000, 'contained': 1886, 'plots': 6639, 'such': 8641, 'rape': 7084, 'murder': 5868, 'kidnapping': 4925, 'drug': 2723, 'different': 2475, 'other': 6267, 'drama': 2674, 'shows': 8029, 'period': 6502, 'cast': 1336, 've': 9492, 'seen': 7813, 'better': 845, 'box': 1027, 'mid': 5658, 'late': 5050, 'repeats': 7320, 'gold': 3820, 'mountain': 5833, 'regret': 7231, 'suffer': 8650, 'huge': 4320, 'fan': 3251, 'show': 8021, 'would': 9907, 'since': 8087, 'then': 8949, 're': 7115, 'runs': 7597, 'few': 3341, 'far': 3261, 'let': 5143, 'hope': 4271, 'stays': 8458, 'only': 6207, 'positive': 6716, 'said': 7630, 'catchy': 1348, 'signature': 8058, 'tune': 9255, 'later': 5052, 'title': 9055, 'music': 5882, 'sitcom': 8109, 'upper': 9427, 'legacy': 5110, 'eh': 2852, 'kid': 4920, 'claim': 1567, 'adult': 136, 'semi': 7831, 'sequel': 7861, 'lion': 5216, 'king': 4942, 'sees': 7814, 'spin': 8340, 'off': 6164, 'side': 8044, 'retelling': 7392, 'original': 6254, 'story': 8530, 'through': 9009, 'including': 4482, 'met': 5636, 'grand': 3865, 'tradition': 9147, 'disney': 2556, 'inferior': 4530, 'sequels': 7862, 'made': 5378, 'occasionally': 6148, 'tv': 9272, 'series': 7870, 'featuring': 3310, 'adventures': 145, 'minor': 5699, 'biggest': 861, 'hits': 4215, 'want': 9645, 'kids': 4927, 'fans': 3256, 'will': 9803, 'likely': 5188, 'care': 1285, 'enough': 2970, 'jokes': 4817, 'songs': 8258, 'interesting': 4630, 'things': 8969, 'ensure': 2974, 'above': 17, 'average': 611, 'works': 9891, 'because': 762, 'charm': 1443, 'loved': 5317, 'central': 1387, 'quick': 7015, 'pace': 6327, 'involving': 4683, 'first': 3411, 'older': 6190, 'viewers': 9541, 'some': 8244, 'gags': 3653, 'animation': 342, 'ever': 3062, 'little': 5236, 'flamboyant': 3427, 'than': 8929, 'plot': 6638, 'taking': 8811, 'easy': 2804, 'decide': 2268, 'events': 3059, 'frequently': 3589, 'stopping': 8524, 'joke': 4815, 'parts': 6409, 'audience': 582, 'see': 7801, 'near': 5955, 'feels': 3319, 'fit': 3418, 'decides': 2271, 'go': 3806, 'looking': 5287, 'beyond': 851, 'ideal': 4376, 'meets': 5586, 'become': 765, 'friends': 3596, 'meet': 5584, 'simba': 8070, 'natural': 5941, 'predator': 6765, 'form': 3524, 'trio': 9224, 'realises': 7135, 'follow': 3485, 'own': 6321, 'destiny': 2413, 'leave': 5101, 'group': 3928, 'others': 6268, 'whether': 9762, 'course': 2004, 'usual': 9450, 'elements': 2870, 'themes': 8947, 'friendship': 3597, 'versus': 9513, 'evil': 3073, 'simple': 8077, 'many': 5451, 'levels': 5152, 'making': 5414, 'smarter': 8194, 'animated': 341, 'cg': 1396, 'appear': 408, 'traditional': 9148, 'forget': 3514, 'roots': 7551, 'popular': 6689, 'toy': 9138, 'clever': 1601, 'suit': 8664, 'ages': 182, 'seems': 7812, 'market': 5473, 'shifting': 7972, 'films': 3382, 'cannot': 1257, 'wrong': 9931, 'buying': 1199, 'youngsters': 9970, 'general': 3708, 'mary': 5500, 'harron': 4059, 'stylized': 8608, 'sexual': 7902, 'psyche': 6936, 'lens': 5128, 'immortal': 4435, 'queen': 7007, 'bettie': 846, 'page': 6339, 'll': 5246, 'bore': 997, 'anyone': 384, 'iconic': 4371, 'status': 8454, 'ms': 5851, 'proper': 6902, 'moved': 5841, 'hopes': 4277, 'actress': 88, 'ended': 2935, 'becoming': 767, 'bondage': 974, 'universe': 9383, 'nor': 6060, 'run': 7593, 'bio': 876, 'notorious': 6093, 'offer': 6170, 'high': 4177, 'kudos': 4988, 'technical': 8866, 'aspects': 510, 'sequence': 7863, 'magazine': 5388, 'covers': 2014, 'springs': 8381, 'instantly': 4594, 'use': 9441, 'notwithstanding': 6094, 'finally': 3387, 'won': 9867, 'innocence': 4561, 'freedom': 3580, 'control': 1915, 'sacred': 7616, 'viewer': 9540, 'wish': 9838, 'change': 1415, 'stay': 8455, 'saying': 7695, 'goes': 3817, 'splendid': 8353, 'gretchen': 3905, 'mol': 5763, 'truth': 9247, 'face': 3206, 'looks': 5288, 'particularly': 6403, 'built': 1151, 'although': 272, 'fool': 3494, 'deny': 2352, 'beautiful': 757, 'breasts': 1066, 'sport': 8369, 'thick': 8964, 'dark': 2204, 'bush': 1182, 'most': 5819, 'intimate': 4650, 'charms': 1445, 'fact': 3212, 'remains': 7280, 'thoroughly': 8983, 'spirit': 8344, 'shape': 7934, 'comeback': 1716, 'obscurity': 6133, 'sadly': 7624, 'photos': 6549, 'videos': 9534, 'interviews': 4647, 'available': 607, 'bought': 1018, 'cards': 1284, 'odds': 6161, 'ends': 2940, 'honest': 4253, 'discovered': 2531, 'her': 4152, 'dusty': 2767, 'magazines': 5389, 'shop': 8002, 'five': 3422, 'perfectly': 6491, 'captures': 1279, 'essence': 3027, 'woman': 9865, 'pun': 6960, 'intended': 4615, 'consider': 1864, 'oscar': 6262, 'worthy': 9906, 'tyler': 9283, 'matched': 5520, 'shining': 7977, 'intensity': 4618, 'characterization': 1430, 'million': 5678, 'years': 9952, 'am': 277, 'grateful': 3879, 'left': 5108, 'project': 6881, 'seeing': 7804, 'totally': 9119, 'naked': 5916, 'add': 103, 'imagine': 4419, 'brand': 1046, 'translated': 9173, 'into': 4651, 'innocent': 4562, 'everyone': 3067, 'discipline': 2527, 'suspect': 8741, 'do': 2597, 'disc': 2525, 'theaters': 8938, 'devoted': 2444, 'curious': 2133, 'dvd': 2772, 'chock': 1502, 'full': 3623, 'extras': 3193, 'just': 4862, 'tip': 9050, 'hat': 4070, 'fine': 3393, 'supporting': 8702, 'especially': 3024, 'chris': 1523, 'bauer': 738, 'paula': 6442, 'irving': 4703, 'whose': 9782, 'celebrity': 1374, 'photo': 6544, 'business': 1183, 'note': 6080, 'young': 9967, 'effect': 2839, 'generation': 3712, 'get': 3742, 'back': 648, 'true': 9240, 'without': 9849, 'rest': 7377, 'existed': 3120, 'don': 2626, 'renting': 7315, 'hell': 4137, 'bad': 660, 'jj': 4795, 'written': 9930, 'basically': 719, 'rat': 7093, 'down': 2650, 'toilet': 9071, 'somehow': 8247, 'completely': 1781, 'shrek': 8031, 'might': 5664, 'enjoy': 2962, 'wallace': 9632, 'probably': 6846, 'away': 626, 'disgust': 2547, 'why': 9783, 'didn': 2465, 'clay': 1591, 'mean': 5562, 'cgi': 1397, 'obviously': 6145, 'around': 468, 'while': 9764, 'nearly': 5958, 'single': 8096, 'awful': 630, 'apart': 390, 'freaky': 3575, 'frog': 3603, 'guy': 3969, 'right': 7457, 'villain': 9552, 'everything': 3068, 'else': 2887, 'dull': 2750, 'fell': 3323, 'asleep': 508, 'boredom': 999, 'watching': 9684, 'wait': 9616, 'fall': 3238, 'thankfully': 8932, 'absolute': 24, 'sister': 8106, 'boyfriend': 1033, 'went': 9735, 'zodiac': 9992, 'got': 3845, 'by': 1203, 'accident': 49, 'before': 775, 'actual': 91, 'waiting': 9618, 'scary': 7710, 'facts': 3216, 'killer': 4930, 'filmmakers': 3379, 'clearly': 1597, 'bother': 1012, 'research': 7348, 'anything': 385, 'killings': 4933, 'liked': 5187, 'name': 5917, 'decided': 2269, 'write': 9925, 'script': 7762, 'its': 4726, 'upset': 9429, 'realize': 7143, 'wasn': 9674, 'sooner': 8262, 'try': 9250, 'something': 8249, 'hate': 4071, 'except': 3094, 'given': 3778, 'definitely': 2300, 'recently': 7167, 'th': 8927, 'festival': 3336, 'misfortune': 5718, 'me': 5559, 'fate': 3285, 'falls': 3242, 'latter': 5056, 'category': 1350, 'cinematography': 1550, 'unbelievable': 9307, 'cameraman': 1233, 'deliberately': 2310, 'kept': 4906, 'focus': 3475, 'exception': 3095, 'gratuitous': 3881, 'shot': 8010, 'lighting': 5179, 'light': 5176, 'non': 6053, 'existing': 3124, 'were': 9736, 'porn': 6693, 'gave': 3694, 'impression': 4451, 'line': 5207, 'came': 1229, 'total': 9118, 'surprise': 8720, 'redeeming': 7194, 'feature': 3306, 'masked': 5503, 'classic': 1581, 'la': 4995, 'jason': 4758, 'friday': 3592, 'extremely': 3195, 'poor': 6681, 'ending': 2936, 'worse': 9900, 'recommend': 7177, 'needing': 5968, 'example': 3088, 'supposed': 8706, 'maybe': 5544, 'insomniac': 4582, 'sleep': 8158, 'americans': 294, 'introduced': 4658, 'miyazaki': 5746, 'saw': 7693, 'spirited': 8345, 'love': 5316, 'times': 9043, 'now': 6102, 'search': 7774, 'earlier': 2789, 'castle': 1339, 'sky': 8141, 'still': 8500, 'enjoyable': 2963, 'comparing': 1759, 'masterpiece': 5514, 'perhaps': 6500, 'unfair': 9354, 'boy': 1031, 'named': 5918, 'james': 4745, 'van': 9473, 'der': 2374, 'working': 9890, 'mine': 5689, 'night': 6025, 'girl': 3773, 'slowly': 8183, 'wakes': 9622, 'next': 6013, 'morning': 5811, 'introduces': 4659, 'herself': 4165, 'anna': 350, 'knows': 4973, 'pulled': 6954, 'adventure': 144, 'lead': 5085, 'danger': 2190, 'pirates': 6585, 'army': 465, 'lost': 5305, 'floating': 3459, 'going': 3818, 'means': 5567, 'expect': 3131, 'sense': 7839, 'wonder': 9868, 'magic': 5391, 'tried': 9218, 'create': 2043, 'awe': 627, 'experiencing': 3143, 'fantastic': 3258, 'dream': 2688, 'childhood': 1490, 'dubbing': 2735, 'pose': 6709, 'problem': 6847, 'impossible': 4448, 'determine': 2427, 'lip': 5220, 'movements': 5843, 'match': 5519, 'words': 9884, 'helps': 4145, 'dialogue': 2450, 'well': 9729, 'voiced': 9591, 'talented': 8814, 'voice': 9590, 'varied': 9482, 'best': 838, 'brings': 1094, 'irresistible': 4699, 'enthusiasm': 2986, 'excitement': 3104, 'role': 7521, 'perfect': 6488, 'frightened': 3600, 'mark': 5471, 'hamill': 4001, 'dangerous': 2191, 'wants': 9648, 'voices': 9592, 'last': 5045, 'picture': 6566, 'annoying': 358, 'pirate': 6584, 'leader': 5086, 'obnoxious': 6130, 'monotonous': 5782, 'ruins': 7586, 'jim': 4793, 'effective': 2840, 'miscast': 5711, 'end': 2932, 'myself': 5903, 'pretty': 6811, 'hard': 4039, 'believe': 800, 'put': 6988, 'context': 1896, 'exorcist': 3127, 'subtle': 8628, 'creepy': 2064, 'blunt': 947, 'clumsy': 1650, 'too': 9096, 'formulaic': 3530, 'visually': 9582, 'imagery': 4413, 'downward': 2658, 'spiral': 8343, 'exposition': 3177, 'makes': 5412, 'unbearable': 9305, 'interest': 4628, 'compared': 1758, 'visit': 9576, 'official': 6177, 'web': 9715, 'site': 8111, 'increased': 4495, 'tales': 8817, 'throughout': 9010, 'history': 4210, 'scene': 7714, 'obsessed': 6139, 'quest': 7010, 'becomes': 766, 'comical': 1726, 'outright': 6288, 'toward': 9129, 'began': 779, 'getting': 3745, 'suspicious': 8750, 'priest': 6824, 'charged': 1434, 'investigating': 4671, 'potential': 6734, 'walks': 9630, 'beauty': 759, 'our': 6272, 'heroine': 4162, 'cuts': 2149, 'hair': 3988, 'evidently': 3072, 'priests': 6825, 'faith': 3234, 'god': 3810, 'begins': 783, 'receiving': 7165, 'wounds': 9911, 'christ': 1524, 'ordeal': 6241, 'sent': 7848, 'straight': 8533, 'investigate': 4670, 'case': 1327, 'frankie': 3565, 'possessed': 6720, 'satan': 7674, 'jesus': 4784, 'miracle': 5706, 'luzhin': 5360, 'novel': 6096, 'filmmaker': 3378, 'craft': 2025, 'shines': 7976, 'helped': 4141, 'push': 6984, 'narrative': 5927, 'along': 260, 'marlene': 5476, 'rather': 7098, 'depicting': 2364, 'tortured': 9114, 'victim': 9527, 'torn': 9110, 'cruel': 2108, 'motives': 5831, 'adapting': 101, 'literature': 5234, 'screen': 7750, 'difficult': 2477, 'task': 8841, 'early': 2791, 'century': 1391, 'deeply': 2287, 'relationship': 7248, 'comes': 1722, 'across': 77, 'dramatic': 2676, 'torment': 9108, 'eventual': 3060, 'tragic': 9152, 'pleasure': 6633, 'unusual': 9415, 'complex': 1782, 'personality': 6511, 'moving': 5847, 'certainly': 1395, 'excellent': 3091, 'emotional': 2907, 'power': 6742, 'ray': 7111, 'liotta': 5219, 'brought': 1117, 'tears': 8864, 'joy': 4832, 'instead': 4595, 'rain': 7047, 'least': 5099, 'nominated': 6050, 'once': 6202, 'indian': 4504, 'cinema': 1545, 'sholay': 7994, 'changes': 1417, 'hopefully': 4274, 'breaks': 1063, 'standards': 8415, 'creates': 2045, 'standard': 8414, 'broken': 1106, 'ram': 7058, 'varma': 9485, 'melting': 5599, 'pot': 6732, 'talent': 8813, 'dish': 2550, 'stale': 8404, 'smell': 8196, 'distance': 2564, 'called': 1223, 'lot': 5306, 'managed': 5425, 'build': 1147, 'merely': 5623, 'defining': 2298, 'lived': 5239, 'forever': 3513, 'these': 8962, 'mess': 5630, 'badly': 663, 'contest': 1893, 'realism': 7136, 'element': 2868, 'missing': 5728, 'providing': 6929, 'bunch': 1160, 'seemingly': 7811, 'unrelated': 9405, 'star': 8423, 'ridiculous': 7453, 'waste': 9675, 'vote': 9601, 'wake': 9621, 'reality': 7141, 'failure': 3226, 'under': 9323, 'either': 2856, 'dead': 2236, 'adam': 95, 'sandler': 7656, 'cheadle': 1453, 'proved': 6924, 'despite': 2410, 'critics': 2088, 'say': 7694, 'respected': 7368, 'started': 8437, 'daddy': 2161, 'couple': 1999, 'broke': 1105, 'terrific': 8911, 'dates': 2220, 'longest': 5281, 'yard': 9945, 'click': 1609, 'reign': 7238, 'closest': 1634, 'law': 5072, 'father': 3286, 'after': 169, 'old': 6189, 'college': 1691, 'roommate': 7545, 'ran': 7064, 'life': 5168, 'ruin': 7583, 'strongly': 8572, 'cat': 1344, 'cartoons': 1323, 'surprised': 8721, 'mixed': 5742, 'reviews': 7418, 'macabre': 5367, 'moments': 5769, 'comedy': 1721, 'atmosphere': 548, 'spooky': 8368, 'suspense': 8746, 'strong': 8569, 'humor': 4332, 'mostly': 5821, 'short': 8005, 'radio': 7040, 'absolutely': 25, 'terrified': 8912, 'ghosts': 3750, 'believes': 803, 'scared': 7703, 'death': 2249, 'jerry': 4778, 'laugh': 5057, 'quickly': 7016, 'finds': 3392, 'torture': 9113, 'white': 9771, 'shirt': 7982, 'cleaner': 1594, 'ghost': 3748, 'lives': 5241, 'scariest': 7707, 'experience': 3140, 'scares': 7704, 'reason': 7150, 'plus': 6643, 'again': 174, 'violence': 9560, 'oldest': 6191, 'sucked': 8643, 'scheme': 7718, 'caught': 1355, 'cookie': 1944, 'jar': 4755, 'deserves': 2392, 'yet': 9960, 'incredible': 4498, 'patience': 6431, 'minute': 5703, 'invites': 4678, 'takes': 8810, 'half': 3993, 'tries': 9220, 'overall': 6297, 'peculiar': 6465, 'remarkable': 7284, 'guilty': 3954, 'embarrassed': 2895, 'space': 8297, 'outfit': 6278, 'super': 8685, 'cool': 1946, 'belt': 812, 'stick': 8495, 'anyways': 388, 'holds': 4229, 'drags': 2671, 'happen': 4028, 'second': 7786, 'nerve': 5992, 'segments': 7817, 'wouldn': 9908, 'stand': 8413, 'front': 3605, 'millions': 5680, 'embarrassing': 2896, 'itself': 4727, 'admit': 125, 'internet': 4638, 'hide': 4173, 'wrapped': 9915, 'english': 2955, 'backgrounds': 653, 'emma': 2904, 'delicious': 2312, 'dreamy': 2691, 'gwyneth': 3971, 'paltrow': 6365, 'intelligent': 4612, 'married': 5482, 'marriage': 5480, 'credit': 2057, 'eager': 2784, 'mr': 5849, 'alan': 214, 'friend': 3594, 'harriet': 4056, 'toni': 9092, 'collette': 1692, 'result': 7384, 'signals': 8057, 'mistaken': 5732, 'interpretations': 4642, 'themselves': 8948, 'learning': 5096, 'jane': 4749, 'austen': 592, 'witty': 9857, 'characterizations': 1431, 'portraying': 6706, 'maiden': 5399, 'restrained': 7380, 'society': 8228, 'wit': 9842, 'ease': 2798, 'growing': 3931, 'romance': 7529, 'knightley': 4962, 'jeremy': 4775, 'northam': 6069, 'greatest': 3891, 'romantic': 7534, 'leading': 5088, 'men': 5606, 'incredibly': 4499, 'handsome': 4017, 'modest': 5760, 'relaxed': 7254, 'charming': 1444, 'infant': 4528, 'matches': 5521, 'wits': 9855, 'fashion': 3276, 'grows': 3933, 'understated': 9336, 'delight': 2314, 'wonderful': 9870, 'include': 4479, 'comic': 1725, 'juliet': 4849, 'stevenson': 8493, 'greta': 3904, 'ewan': 3079, 'mcgregor': 5555, 'polly': 6676, 'walker': 9628, 'miss': 5724, 'bates': 726, 'seeming': 7810, 'shorter': 8007, 'flowing': 3467, 'austin': 593, 'adaptations': 99, 'rhythm': 7437, 'enjoyment': 2966, 'disgusting': 2549, 'should': 8013, 'warning': 9661, 'sadistic': 7623, 'nasty': 5931, 'writer': 9926, 'attempting': 561, 'held': 4132, 'hostage': 4296, 'hour': 4303, 'peoples': 6481, 'energy': 2947, 'whatever': 9750, 'type': 9284, 'educational': 2836, 'system': 8792, 'taught': 8848, 'sick': 8040, 'demented': 2332, 'loser': 5300, 'psychiatrist': 6939, 'needs': 5972, 'stronger': 8570, 'choice': 1504, 'fast': 3280, 'forward': 3540, 'middle': 5659, 'learn': 5094, 'shock': 7985, 'larry': 5040, 'clark': 1576, 'respect': 7366, 'entire': 2988, 'support': 8699, 'actresses': 89, 'sit': 8108, 'gross': 3921, 'depictions': 2366, 'human': 4328, 'behavior': 789, 'sorry': 8274, 'took': 9097, 'part': 6395, 'devil': 2440, 'attention': 568, 'simply': 8081, 'oliver': 6193, 'musicals': 5884, 'filled': 3370, 'memorable': 5603, 'food': 3493, 'glorious': 3799, 'yourself': 9973, 'equally': 3006, 'adaptation': 98, 'charles': 1439, 'dickens': 2461, 'twist': 9279, 'frightening': 3601, 'bill': 866, 'played': 6621, 'reed': 7201, 'appeal': 405, 'children': 1492, 'adults': 139, 'surely': 8711, 'familiar': 3246, 'revolves': 7426, 'orphan': 6260, 'london': 5274, 'fellow': 3325, 'daring': 2202, 'question': 7011, 'sold': 8233, 'servant': 7874, 'close': 1630, 'artful': 484, 'superbly': 8687, 'jack': 4733, 'wild': 9797, 'greedy': 3896, 'fagin': 3221, 'ron': 7539, 'moody': 5795, 'trains': 9159, 'boys': 1037, 'pocket': 6645, 'keeps': 4894, 'himself': 4192, 'solely': 8237, 'studios': 8588, 'translate': 9172, 'sets': 7885, 'victorian': 9531, 'costumes': 1982, 'worn': 9896, 'multi': 5859, 'winner': 9825, 'massive': 5510, 'success': 8637, 'release': 7256, 'loves': 5321, 'year': 9950, 'son': 8255, 'suffers': 8653, 'condition': 1820, 'kennedy': 4902, 'chance': 1410, 'heard': 4104, 'anybody': 381, 'word': 9883, 'programme': 6874, 'raising': 7055, 'awareness': 625, 'touched': 9121, 'charity': 1438, 'viewing': 9542, 'schools': 7724, 'agree': 187, 'comments': 1738, 'throw': 9011, 'retain': 7389, 'humour': 4334, 'bless': 920, 'couldn': 1985, 'showed': 8025, 'changed': 1416, 'enjoyed': 2964, 'sad': 7621, 'hot': 4300, 'scenery': 7715, 'mum': 5861, 'allowed': 253, 'call': 1221, 'club': 1645, 'classics': 1583, 'predict': 6768, 'guess': 3945, 'vision': 9573, 'fight': 3359, 'audiences': 583, 'alike': 239, 'upon': 9426, 'immensely': 4431, 'expert': 3147, 'unlike': 9389, 'majority': 5408, 'hated': 4072, 'envy': 2997, 'dismal': 2554, 'rating': 7099, 'found': 3545, 'funniest': 3634, 'decade': 2260, 'continuity': 1903, 'fourth': 3548, 'exactly': 3083, 'hilarious': 4184, 'order': 6242, 'appreciate': 420, 'accidental': 50, 'genius': 3718, 'ironically': 4695, 'detached': 2420, 'view': 9538, 'recipe': 7169, 'fits': 3419, 'western': 9744, 'self': 7822, 'concerned': 1810, 'jimmy': 4794, 'stewart': 8494, 'local': 5253, 'sheriff': 7966, 'mcintire': 5556, 'giving': 3780, 'wonderfully': 9871, 'whom': 9778, 'threatens': 8996, 'town': 9134, 'unfortunately': 9362, 'states': 8447, 'peaceful': 6458, 'dawson': 2229, 'turned': 9266, 'upside': 9431, 'residents': 7357, 'ruth': 7610, 'roman': 7528, 'instance': 4591, 'companions': 1754, 'jay': 4761, 'walter': 9637, 'builds': 1150, 'saloon': 7641, 'hollywood': 4237, 'restaurant': 7378, 'hang': 4019, 'director': 2503, 'anthony': 368, 'mann': 5442, 'peaks': 6460, 'genre': 3720, 'bit': 884, 'contains': 1888, 'feeling': 3317, 'copy': 1955, 'boasts': 952, 'location': 5259, 'landscape': 5025, 'equal': 3005, 'rear': 7149, 'window': 9818, 'suppose': 8705, 'considered': 1868, 'cliche': 1605, 'starts': 8441, 'selfish': 7823, 'loner': 5278, 'learns': 5097, 'kind': 4937, 'existence': 3121, 'damn': 2176, 'universally': 9382, 'addition': 109, 'mentioned': 5614, 'adorable': 131, 'french': 3584, 'corinne': 1960, 'ought': 6271, 'playing': 6625, 'touching': 9123, 'able': 10, 'bring': 1092, 'humanity': 4329, 'cynical': 2155, 'screenplay': 7753, 'direction': 2500, 'finest': 3395, 'gunga': 3962, 'din': 2491, 'remain': 7276, 'collection': 1688, 'already': 263, 'disappointing': 2518, 'conflict': 1832, 'rock': 7506, 'bottom': 1017, 'weak': 9699, 'entry': 2994, 'continue': 1899, 'copies': 1952, 'ideas': 4379, 'omen': 6199, 'animals': 340, 'afraid': 165, 'similar': 8071, 'photographer': 6546, 'looked': 5286, 'exciting': 3105, 'creative': 2049, 'dumb': 2751, 'spoiled': 8359, 'brothers': 1116, 'smart': 8193, 'surgeon': 8717, 'computer': 1796, 'code': 1667, 'geniuses': 3719, 'sounds': 8286, 'exaggerated': 3084, 'compare': 1757, 'personal': 6509, 'characteristics': 1429, 'perceive': 6484, 'material': 5524, 'honestly': 4254, 'style': 8604, 'anxiety': 378, 'confusion': 1842, 'deep': 2284, 'blues': 946, 'purpose': 6976, 'tells': 8885, 'aspect': 509, 'numbing': 6113, 'inside': 4572, 'brief': 1085, 'dialogs': 2449, 'dynamic': 2779, 'cut': 2147, 'abrupt': 20, 'noises': 6047, 'storyline': 8531, 'dramatically': 2677, 'long': 5279, 'minutes': 5704, 'confusing': 1841, 'openly': 6214, 'tiny': 9049, 'flight': 3454, 'didnt': 2466, 'due': 2743, 'nature': 5943, 'chase': 1446, 'predictable': 6770, 'christopher': 1533, 'convincing': 1940, 'coincidence': 1675, 'orca': 6238, 'jaws': 4760, 'rip': 7466, 'obvious': 6144, 'profit': 6869, 'opinion': 6220, 'male': 5417, 'whale': 9748, 'mate': 5523, 'unborn': 9309, 'killed': 4929, 'seeks': 7807, 'producers': 6856, 'writers': 9927, 'talentless': 8815, 'believable': 799, 'aren': 448, 'likable': 5184, 'alright': 264, 'footage': 3499, 'bloody': 939, 'recommended': 7179, 'sensitive': 7845, 'overdone': 6302, 'loud': 5310, 'drowning': 2722, 'sound': 8283, 'irritating': 4701, 'intelligence': 4611, 'depicted': 2363, 'reasons': 7154, 'listed': 5224, 'concept': 1806, 'vengeance': 9499, 'amongst': 299, 'humans': 4330, 'bash': 716, 'understand': 9331, 'possibly': 6726, 'crack': 2020, 'odd': 6158, 'generally': 3709, 'dry': 2731, 'members': 5602, 'pulling': 6955, 'faces': 3208, 'coarse': 1657, 'language': 5030, 'crowd': 2102, 'applaud': 414, 'lame': 5016, 'comment': 1734, 'says': 7696, 'sarcastic': 7670, 'sarcasm': 7669, 'lowest': 5327, 'truly': 9241, 'genuinely': 3727, 'seem': 7808, 'convinced': 1938, 'comedians': 1718, 'known': 4972, 'names': 5920, 'judging': 4841, 'quality': 7002, 'mediocre': 5580, 'laughs': 5062, 'often': 6182, 'fairly': 3231, 'dave': 2224, 'stuff': 8591, 'benny': 821, 'hill': 4187, 'funnier': 3633, 'guys': 3970, 'class': 1579, 'small': 8190, 'fare': 3263, 'sean': 7773, 'penn': 6477, 'serves': 7878, 'hey': 4169, 'political': 6671, 'rate': 7094, 'directors': 2505, 'based': 713, 'politics': 6675, 'wing': 9822, 'faux': 3290, 'reviewer': 7415, 'debbie': 2255, 'simplistic': 8080, 'piece': 6569, 'dreck': 2693, 'okay': 6187, 'cop': 1949, 'joe': 4803, 'against': 175, 'morse': 5816, 'opening': 6213, 'chases': 1448, 'farm': 3265, 'road': 7488, 'sixties': 8120, 'cars': 1318, 'stops': 8525, 'shoots': 8001, 'blast': 911, 'explanation': 3154, 'drove': 2719, 'desperate': 2405, 'violent': 9561, 'parents': 6385, 'redneck': 7198, 'freak': 3571, 'station': 8450, 'kill': 4928, 'someone': 8248, 'farmer': 3266, 'forced': 3505, 'land': 5019, 'basic': 718, 'sort': 8275, 'brother': 1115, 'frank': 3563, 'amoral': 300, 'bully': 1157, 'fresh': 3590, 'war': 9649, 'blood': 935, 'lust': 5357, 'irresponsible': 4700, 'younger': 9968, 'trying': 9251, 'wayne': 9696, 'tough': 9124, 'otherwise': 6269, 'enjoys': 2967, 'hurting': 4351, 'ripping': 7470, 'mom': 5767, 'dad': 2160, 'mason': 5505, 'bronson': 1107, 'fashioned': 3277, 'die': 2467, 'illness': 4405, 'shotgun': 8011, 'suicide': 8663, 'advance': 140, 'miserable': 5713, 'jail': 4742, 'bridges': 1083, 'living': 5242, 'utterly': 9455, 'stupid': 8601, 'screaming': 7748, 'trashy': 9183, 'pregnant': 6777, 'wife': 9795, 'nice': 6014, 'italian': 4720, 'mexican': 5644, 'uses': 9447, 'exercise': 3116, 'underneath': 9329, 'uniform': 9366, 'crew': 2066, 'pointless': 6655, 'subplot': 8618, 'sucking': 8645, 'stealing': 8461, 'car': 1281, 'robbing': 7495, 'gas': 3687, 'beating': 753, 'clerk': 1599, 'head': 4095, 'mandatory': 5430, 'mm': 5747, 'flashbacks': 3433, 'joey': 4805, 'lawn': 5073, 'cowboy': 2018, 'dressed': 2695, 'jumping': 4854, 'wrestling': 9922, 'bond': 973, 'schlock': 7721, 'warm': 9655, 'accompanying': 55, 'soundtrack': 8287, 'airplane': 205, 'inappropriate': 4467, 'era': 3011, 'win': 9814, 'hearts': 4113, 'hippies': 4200, 'offense': 6168, 'inspired': 4587, 'song': 8257, 'highway': 4183, 'included': 4480, 'brain': 1041, 'labor': 4999, 'bar': 692, 'loaded': 5250, 'drunken': 2730, 'bartender': 709, 'dennis': 2347, 'hopper': 4280, 'beats': 755, 'pal': 6355, 'leaves': 5102, 'hoping': 4278, 'blow': 941, 'ahead': 191, 'lonely': 5277, 'cap': 1260, 'guns': 3963, 'flashback': 3432, 'sap': 7664, 'fest': 3335, 'crap': 2028, 'runner': 7595, 'message': 5631, 'ala': 212, 'marshall': 5487, 'happens': 4032, 'hours': 4304, 'game': 3662, 'plan': 6604, 'invisible': 4675, 'experimental': 3145, 'reviewers': 7416, 'altman': 273, 'performer': 6496, 'park': 6387, 'porter': 6698, 'kansas': 4871, 'dr': 2662, 'women': 9866, 'raw': 7110, 'tale': 8812, 'gathering': 3693, 'purely': 6973, 'rates': 7096, 'score': 7736, 'unintentional': 9373, 'scale': 7697, 'comedies': 1720, 'andy': 323, 'griffith': 3910, 'native': 5939, 'dancing': 2186, 'sends': 7835, 'driving': 2714, 'video': 9533, 'store': 8526, 'laying': 5080, 'couch': 1983, 'check': 1460, 'occult': 6150, 'british': 1098, 'hammer': 4004, 'delivered': 2321, 'rides': 7452, 'capable': 1261, 'field': 3349, 'house': 4305, 'guardian': 3943, 'indeed': 4500, 'sharp': 7944, 'previously': 6819, 'kiss': 4951, 'vampire': 9471, 'mad': 5377, 'monk': 5775, 'furthermore': 3640, 'directed': 2498, 'fu': 3617, 'lee': 5107, 'among': 298, 'delivers': 2323, 'dealer': 2241, 'michael': 5651, 'stumbles': 8595, 'mysterious': 5905, 'glass': 3787, 'object': 6124, 'desire': 2399, 'satanic': 7675, 'allison': 251, 'sacrificed': 7618, 'deeper': 2285, 'sinister': 8098, 'carson': 1319, 'episodes': 3001, 'brilliant': 1090, 'seventh': 7893, 'silent': 8065, 'scream': 7746, 'atmospheric': 549, 'several': 7895, 'twists': 9281, 'suspenseful': 8747, 'uncanny': 9310, 'move': 5840, 'successful': 8638, 'scripts': 7765, 'guru': 3964, 'expectations': 3133, 'worked': 9887, 'kareena': 4874, 'bikini': 864, 'seconds': 7789, 'hindi': 4193, 'stunt': 8599, 'tend': 8894, 'chinese': 1498, 'unrealistic': 9404, 'future': 3643, 'sure': 8710, 'noted': 6081, 'mix': 5741, 'unless': 9387, 'properly': 6903, 'luck': 5337, 'loretta': 5296, 'ways': 9697, 'lyrical': 5363, 'esteem': 3035, 'puts': 6990, 'entirely': 2989, 'spencer': 8329, 'tracy': 9144, 'direct': 2497, 'room': 7544, 'shack': 7911, 'unusually': 9416, 'depression': 2370, 'regular': 7233, 'today': 9064, 'edge': 2821, 'appealing': 406, 'work': 9886, 'marjorie': 5470, 'glenda': 3790, 'farrell': 3270, 'jo': 4796, 'efficient': 2844, 'heroes': 4159, 'slap': 8145, 'wise': 9836, 'satisfying': 7683, 'conclusion': 1817, 'sucks': 8646, 'rented': 7314, 'id': 4374, 'fighting': 3362, 'flashy': 3436, 'fights': 3363, 'heavily': 4121, 'edited': 2828, 'im': 4411, 'jet': 4785, 'legend': 5112, 'jackie': 4735, 'master': 5511, 'whats': 9751, 'deal': 2240, 'ive': 4730, 'martial': 5490, 'buy': 1198, 'encourage': 2929, 'uncut': 9319, 'glory': 3800, 'paced': 6328, 'bothered': 1013, 'speaks': 8312, 'version': 9511, 'shares': 7939, 'jeff': 4769, 'garden': 3679, 'bothers': 1015, 'female': 3327, 'cliched': 1606, 'underrated': 9330, 'bollywood': 966, 'remember': 7287, 'somewhere': 8254, 'march': 5457, 'highest': 4179, 'volume': 9595, 'likes': 5189, 'marilyn': 5464, 'monroe': 5783, 'thumbs': 9020, 'govinda': 3851, 'india': 4503, 'hit': 4211, 'silver': 8069, 'lots': 5308, 'saturday': 7685, 'together': 9070, 'trash': 9182, 'globe': 3795, 'turkish': 9263, 'hero': 4158, 'flicks': 3452, 'brazil': 1056, 'gorilla': 3842, 'transplant': 9176, 'kevin': 4910, 'costner': 1979, 'helen': 4133, 'theodore': 8951, 'rex': 7433, 'ed': 2818, 'wood': 9879, 'kinda': 4938, 'famous': 3250, 'whoopi': 9779, 'clear': 1596, 'press': 6800, 'listen': 5225, 'contract': 1906, 'nonetheless': 6055, 'pour': 6739, 'fat': 3282, 'butt': 1194, 'leather': 5100, 'skin': 8132, 'tight': 9034, 'futuristic': 3644, 'ghastly': 3746, 'yikes': 9962, 'doing': 2613, 'agent': 180, 'dinosaur': 2494, 'three': 8998, 'facial': 3209, 'expressions': 3183, 'horrible': 4284, 'grade': 3858, 'promised': 6890, 'whoever': 9774, 'wrote': 9934, 'lucille': 5335, 'ball': 677, 'autobiography': 604, 'mistakes': 5733, 'biopic': 878, 'ranging': 7075, 'desi': 2394, 'list': 5223, 'factual': 3217, 'errors': 3019, 'pages': 6340, 'portrayed': 6705, 'jr': 4833, 'awfully': 631, 'sloppy': 8180, 'crappy': 2029, 'billy': 871, 'bob': 954, 'advise': 149, 'sitting': 8114, 'catch': 1345, 'flick': 3451, 'range': 7071, 'superb': 8686, 'talents': 8816, 'price': 6821, 'egypt': 2850, 'aimed': 198, 'wide': 9786, 'level': 5151, 'presented': 6794, 'format': 3525, 'adds': 115, 'crazy': 2040, 'intend': 4614, 'weekend': 9720, 'recommendation': 7178, 'disappointed': 2517, 'walked': 9626, 'satisfaction': 7679, 'credits': 2059, 'packed': 6334, 'trailer': 9154, 'william': 9805, 'macy': 5376, 'luis': 5343, 'sam': 7645, 'present': 6792, 'stands': 8419, 'spoiler': 8360, 'break': 1059, 'wall': 9631, 'safe': 7626, 'washington': 9673, 'stare': 8426, 'dude': 2741, 'using': 9448, 'chair': 1400, 'door': 2635, 'forgets': 3515, 'turns': 9269, 'contain': 1885, 'spoilers': 8361, 'awesome': 629, 'knowing': 4970, 'twisted': 9280, 'cypher': 2157, 'sci': 7727, 'thriller': 9002, 'settled': 7889, 'environment': 2996, 'corporate': 1967, 'secrets': 7793, 'companies': 1752, 'spy': 8382, 'methods': 5642, 'visual': 9581, 'provides': 6928, 'mode': 5755, 'belongs': 809, 'vincenzo': 9557, 'natali': 5932, 'cube': 2122, 'fifth': 3356, 'hurt': 4350, 'provoking': 6933, 'gem': 3703, 'reviewed': 7414, 'expected': 3134, 'dig': 2480, 'button': 1196, 'topics': 9104, 'entertained': 2981, 'perspective': 6514, 'wow': 9913, 'personally': 6512, 'pee': 6467, 'cutting': 2151, 'directing': 2499, 'editing': 2830, 'clue': 1646, 'claimed': 1568, 'misleading': 5720, 'ignorant': 4394, 'voting': 9605, 'imdb': 4422, 'setting': 7886, 'lets': 5146, 'bomb': 967, 'ok': 6186, 'controversial': 1919, 'fails': 3225, 'praying': 6757, 'painful': 6343, 'manners': 5446, 'justice': 4863, 'endured': 2942, 'favor': 3291, 'bargain': 698, 'bin': 873, 'ripped': 7469, 'definitive': 2302, 'program': 6873, 'informative': 4540, 'lasts': 5049, 'min': 5684, 'includes': 4481, 'following': 3488, 'europe': 3048, 'pacific': 6329, 'information': 4539, 'wars': 9668, 'africa': 166, 'atlantic': 546, 'germany': 3737, 'britain': 1097, 'united': 9380, 'soviet': 8294, 'union': 9376, 'dedicated': 2278, 'holocaust': 4239, 'rise': 7472, 'nazis': 5950, 'german': 3735, 'prior': 6838, 'influence': 4534, 'post': 6727, 'fitting': 3420, 'introduction': 4661, 'accompanied': 54, 'powerful': 6744, 'theme': 8945, 'pieces': 6570, 'mini': 5691, 'color': 1698, 'produced': 6854, 'television': 8882, 'uk': 9292, 'four': 3547, 'produce': 6853, 'depth': 2371, 'narrated': 5925, 'laurence': 5069, 'olivier': 6195, 'interviewed': 4646, 'accounts': 61, 'civilians': 1563, 'officers': 6176, 'politicians': 6674, 'albert': 219, 'karl': 4876, 'curtis': 2142, 'lord': 5294, 'arthur': 485, 'harris': 4057, 'stephen': 8476, 'sought': 8279, 'interview': 4645, 'necessarily': 5961, 'surviving': 8737, 'subject': 8612, 'locate': 5257, 'according': 59, 'admitted': 127, 'witnessing': 9854, 'large': 5036, 'execution': 3113, 'presence': 6791, 'documentary': 2603, 'drawn': 2683, 'voted': 9602, 'professionals': 6866, 'ranked': 7077, 'remaining': 7279, 'riveting': 7485, 'tense': 8900, 'jumped': 4853, 'deliver': 2319, 'jumps': 4855, 'thrills': 9005, 'fair': 3229, 'midnight': 5662, 'sleepy': 8162, 'anyway': 387, 'explains': 3153, 'lose': 5299, 'child': 1489, 'event': 3058, 'cabin': 1208, 'mountains': 5834, 'calm': 1226, 'until': 9414, 'husband': 4353, 'hears': 4106, 'checks': 1463, 'thats': 8935, 'day': 2230, 'eventually': 3061, 'happened': 4029, 'past': 6424, 'taken': 8808, 'please': 6630, 'troubled': 9237, 'naming': 5921, 'firstly': 3412, 'slow': 8181, 'moves': 5844, 'uneasy': 9347, 'genres': 3721, 'farce': 3262, 'satire': 7677, 'insulted': 4601, 'succeed': 8634, 'development': 2435, 'connery': 1847, 'roles': 7522, 'dogs': 2612, 'heaven': 4118, 'charlie': 1440, 'flying': 3472, 'itchy': 4723, 'cute': 2148, 'suggest': 8657, 'daughter': 2222, 'brutal': 1124, 'julie': 4848, 'allen': 246, 'escape': 3020, 'remote': 7298, 'intentions': 4623, 'photography': 6548, 'ancient': 316, 'prison': 6839, 'developed': 2433, 'discovers': 2533, 'decent': 2266, 'indie': 4510, 'offers': 6173, 'genuine': 3726, 'plenty': 6635, 'tension': 8901, 'elaborate': 2858, 'dreadful': 2686, 'certain': 1394, 'disappointment': 2519, 'convoluted': 1942, 'nonsense': 6057, 'complicated': 1784, 'denouement': 2348, 'rushed': 7601, 'barely': 697, 'subtitles': 8627, 'alone': 259, 'ladies': 5009, 'outfits': 6279, 'settings': 7887, 'constantly': 1879, 'bruno': 1122, 'lighter': 5177, 'colour': 1702, 'gory': 3843, 'kills': 4934, 'minimal': 5692, 'walsh': 9635, 'cinematic': 1547, 'sometimes': 8252, 'overlooked': 6305, 'favourite': 3295, 'lifestyle': 5171, 'dress': 2694, 'spoke': 8363, 'occasion': 6146, 'insane': 4566, 'stunts': 8600, 'appreciated': 421, 'wanting': 9647, 'slice': 8167, 'endeavor': 2934, 'zombie': 9994, 'bugs': 1146, 'software': 8232, 'company': 1755, 'talking': 8821, 'wasting': 9678, 'ass': 513, 'bug': 1145, 'zombies': 9995, 'consist': 1871, 'news': 6011, 'yelling': 9954, 'matters': 5531, 'boring': 1002, 'deaths': 2250, 'occur': 6153, 'common': 1746, 'impressive': 4453, 'wondering': 9872, 'screenwriter': 7756, 'chose': 1520, 'nobody': 6043, 'gonna': 3828, 'reaches': 7119, 'earth': 2797, 'traveling': 9188, 'worlds': 9893, 'vampires': 9472, 'handful': 4010, 'review': 7413, 'upcoming': 9422, 'attractive': 576, 'nicholson': 6017, 'carrie': 1313, 'ann': 349, 'recognize': 7175, 'eponymous': 3004, 'argento': 450, 'attached': 554, 'uwe': 9456, 'boll': 965, 'tracking': 9142, 'killing': 4932, 'easily': 2800, 'realm': 7148, 'cheese': 1470, 'explanations': 3155, 'reference': 7209, 'sounded': 8284, 'references': 7210, 'stores': 8527, 'lesser': 5139, 'forest': 3512, 'cheesy': 1472, 'jon': 4821, 'carpenter': 1309, 'ones': 6204, 'ripoff': 7468, 'school': 7723, 'reunion': 7403, 'nerd': 5989, 'routine': 7570, 'slash': 8148, 'ta': 8794, 'imaginative': 4418, 'slasher': 8149, 'mpaa': 5848, 'rated': 7095, 'gore': 3840, 'sexuality': 7903, 'nudity': 6110, 'content': 1892, 'arnold': 467, 'schwarzenegger': 7726, 'state': 8443, 'government': 3849, 'controls': 1918, 'networks': 5999, 'convicted': 1935, 'hunted': 4345, 'votes': 9604, 'trained': 9157, 'killers': 4931, 'hunt': 4344, 'unlucky': 9392, 'contestants': 1895, 'correctly': 1972, 'host': 4295, 'none': 6054, 'suited': 8667, 'ben': 814, 'richards': 7441, 'accused': 66, 'mass': 5506, 'liners': 5210, 'enters': 2979, 'stalker': 8407, 'armed': 461, 'spoil': 8358, 'parody': 6392, 'numerous': 6115, 'programs': 6876, 'enduring': 2943, 'court': 2005, 'cases': 1328, 'demonstrates': 2340, 'highly': 4182, 'amitabh': 297, 'bachchan': 646, 'dying': 2776, 'teach': 8855, 'handle': 4012, 'akshay': 210, 'magnificent': 5395, 'connection': 1845, 'happy': 4036, 'kenneth': 4903, 'branagh': 1044, 'helena': 4134, 'bonham': 979, 'carter': 1320, 'chemistry': 1475, 'thompson': 8981, 'disabled': 2509, 'seeking': 7806, 'complete': 1779, 'person': 6507, 'pull': 6953, 'situation': 8115, 'current': 2136, 'wave': 9690, 'berry': 833, 'consideration': 1867, 'cable': 1209, 'trust': 9245, 'remake': 7281, 'sunday': 8678, 'showing': 8027, 'hong': 4258, 'kong': 4977, 'cameo': 1230, 'appearance': 409, 'epic': 2998, 'summer': 8674, 'jackson': 4737, 'wizard': 9859, 'oz': 6326, 'disturbing': 2582, 'katie': 4882, 'slapped': 8146, 'gangster': 3670, 'robot': 7502, 'smooth': 8203, 'criminal': 2071, 'league': 5090, 'gentlemen': 3724, 'follows': 3489, 'bizarre': 894, 'inhabitants': 4549, 'fictional': 3347, 'village': 9550, 'linked': 5214, 'sketch': 8126, 'deals': 2244, 'consequently': 1862, 'edward': 2837, 'owners': 6324, 'whenever': 9757, 'visitor': 9579, 'tasteless': 8845, 'drums': 2728, 'victims': 9528, 'moreover': 5807, 'centre': 1388, 'hates': 4074, 'loose': 5291, 'unemployed': 9349, 'allow': 252, 'ready': 7130, 'barbara': 693, 'taxi': 8851, 'driver': 2711, 'detail': 2421, 'vet': 9516, 'dog': 2610, 'lays': 5081, 'outside': 6291, 'animal': 339, 'opens': 6215, 'holding': 4228, 'sheep': 7953, 'visited': 9577, 'nephew': 5988, 'colours': 1703, 'body': 957, 'thousands': 8990, 'keys': 4912, 'marked': 5472, 'precisely': 6764, 'classified': 1584, 'wearing': 9709, 'black': 895, 'teeth': 8881, 'typical': 9286, 'design': 2395, 'reflects': 7217, 'mood': 5794, 'houses': 4307, 'grey': 3907, 'fog': 3480, 'threatening': 8995, 'sign': 8055, 'ominous': 6200, 'welcome': 9727, 'taste': 8843, 'steve': 8490, 'martin': 5492, 'goldie': 3824, 'hawn': 4087, 'cleese': 1598, 'apparently': 404, 'grossly': 3922, 'profoundly': 6872, 'unfunny': 9363, 'positively': 6717, 'remained': 7278, 'hopeful': 4273, 'duration': 2762, 'consistently': 1874, 'failed': 3223, 'provide': 6926, 'whatsoever': 9752, 'normally': 6065, 'biased': 853, 'broad': 1101, 'count': 1986, 'fingers': 3397, 'major': 5407, 'productions': 6861, 'bitter': 892, 'ultimately': 9294, 'miserably': 5714, 'money': 5773, 'hype': 4359, 'pretentious': 6810, 'amateurish': 280, 'theater': 8937, 'stunned': 8596, 'attempt': 559, 'festivals': 3337, 'sundance': 8677, 'shown': 8028, 'label': 4997, 'avoid': 613, 'costs': 1980, 'pg': 6527, 'knew': 4959, 'bored': 998, 'hotel': 4301, 'haven': 4082, 'happening': 4030, 'repetitive': 7321, 'cusack': 2143, 'occurred': 6154, 'keep': 4891, 'below': 811, 'sincerely': 8089, 'effort': 2845, 'usually': 9451, 'angel': 325, 'express': 3179, 'writing': 9929, 'span': 8303, 'sake': 7635, 'literally': 5232, 'flat': 3437, 'spot': 8372, 'possible': 6725, 'cake': 1216, 'steer': 8469, 'abomination': 13, 'advice': 148, 'matter': 5530, 'aired': 203, 'disaster': 2521, 'existent': 3122, 'bed': 768, 'immediately': 4429, 'coming': 1728, 'sentence': 7849, 'grace': 3856, 'leaving': 5103, 'careful': 1289, 'sending': 7834, 'baseball': 712, 'team': 8860, 'george': 3729, 'knox': 4974, 'roger': 7516, 'joseph': 4826, 'gordon': 3839, 'davis': 2227, 'riding': 7455, 'angels': 330, 'stadium': 8394, 'return': 7399, 'foster': 3542, 'asks': 507, 'division': 2592, 'championship': 1408, 'tree': 9200, 'danny': 2198, 'glover': 3802, 'angles': 334, 'maggie': 5390, 'nelson': 5985, 'brenda': 1073, 'agrees': 189, 'matthew': 5533, 'sanders': 7655, 'lloyd': 5247, 'healthy': 4101, 'pixar': 6594, 'em': 2892, 'animators': 345, 'created': 2044, 'graphics': 3876, 'amazing': 283, 'background': 652, 'surroundings': 8732, 'blowing': 942, 'frame': 3552, 'spine': 8342, 'lovable': 5315, 'hector': 4124, 'blue': 945, 'rabbit': 7028, 'owns': 6325, 'rocks': 7509, 'rules': 7590, 'notch': 6079, 'seemed': 7809, 'creators': 2052, 'difference': 2473, 'glad': 3781, 'product': 6859, 'studio': 8587, 'candy': 1252, 'eye': 3198, 'minus': 5702, 'beginning': 782, 'expecting': 3135, 'matrix': 5527, 'poorly': 6682, 'acted': 79, 'cells': 1378, 'boot': 990, 'heads': 4099, 'age': 176, 'quantum': 7003, 'physics': 6555, 'exist': 3119, 'empty': 2922, 'giant': 3752, 'leap': 5092, 'sub': 8610, 'atomic': 550, 'further': 3639, 'arrived': 476, 'natives': 5940, 'unable': 9300, 'ships': 7980, 'incapable': 4469, 'walk': 9625, 'water': 9685, 'thoughts': 8988, 'ice': 4367, 'join': 4810, 'homework': 4248, 'realized': 7144, 'campy': 1242, 'albeit': 218, 'needed': 5967, 'originality': 6255, 'aka': 208, 'hundred': 4336, 'blows': 944, 'les': 5134, 'popularity': 6690, 'outstanding': 6293, 'vague': 9460, 'alain': 213, 'mon': 5771, 'claude': 1587, 'le': 5084, 'historically': 4209, 'lara': 5035, 'doomed': 2634, 'oblivion': 6128, 'contempt': 1891, 'typically': 9287, 'thirties': 8976, 'renoir': 7310, 'maurice': 5538, 'max': 5540, 'thanks': 8933, 'co': 1654, 'discover': 2530, 'gems': 3704, 'fifties': 3357, 'forties': 3534, 'paris': 6386, 'jolie': 4819, 'georges': 3730, 'stevens': 8492, 'fred': 3576, 'worthless': 9904, 'technically': 8867, 'academic': 37, 'linear': 5208, 'teachers': 8857, 'caricatures': 1297, 'claire': 1571, 'lines': 5211, 'circa': 1551, 'junior': 4858, 'hardly': 4043, 'france': 3556, 'proud': 6921, 'blame': 905, 'significance': 8060, 'superior': 8691, 'jules': 4845, 'interpretation': 4641, 'pierre': 6572, 'arguably': 451, 'dubbed': 2734, 'affected': 156, 'days': 2232, 'los': 5298, 'frankly': 3567, 'buffs': 1143, 'prefer': 6773, 'fault': 3288, 'hitchcock': 4213, 'pilot': 6577, 'enterprise': 2978, 'lacking': 5004, 'trek': 9202, 'dose': 2640, 'flawed': 3441, 'personalities': 6510, 'noble': 6042, 'race': 7029, 'shameless': 7929, 'ratings': 7100, 'sexy': 7905, 'science': 7728, 'fiction': 3346, 'pad': 6336, 'pre': 6758, 'teen': 8876, 'oh': 6184, 'gesture': 3740, 'entertain': 2980, 'troops': 9235, 'arriving': 478, 'korean': 4980, 'air': 201, 'base': 711, 'francisco': 3561, 'jump': 4852, 'warner': 9660, 'bros': 1113, 'patriotism': 6438, 'celebrities': 1373, 'guest': 3948, 'appearances': 410, 'develops': 2437, 'budding': 1137, 'painfully': 6344, 'green': 3898, 'skinny': 8134, 'force': 3504, 'delivering': 2322, 'bicycle': 857, 'fooled': 3495, 'battle': 733, 'staying': 8457, 'harm': 4052, 'acts': 90, 'childish': 1491, 'females': 3328, 'doris': 2638, 'thirty': 8977, 'distinct': 2566, 'numbers': 6112, 'glamorous': 3783, 'cagney': 1213, 'pokes': 6661, 'persona': 6508, 'sings': 8097, 'hospital': 4294, 'causing': 1359, 'production': 6860, 'adequate': 116, 'render': 7303, 'strictly': 8558, 'maintain': 5404, 'dealing': 2243, 'crispin': 2080, 'humorous': 4333, 'details': 2423, 'maintaining': 5405, 'important': 4445, 'versions': 9512, 'tedious': 8875, 'lesson': 5140, 'handled': 4013, 'brian': 1078, 'depalma': 2355, 'thrill': 9000, 'ride': 7449, 'rap': 7083, 'rips': 7471, 'alfred': 231, 'thrillers': 9003, 'longer': 5280, 'released': 7257, 'approved': 431, 'distributed': 2577, 'cardboard': 1283, 'angie': 332, 'dickinson': 2462, 'cover': 2010, 'theatrical': 8941, 'poster': 6729, 'kate': 4878, 'sexually': 7904, 'frustrated': 3612, 'treated': 9196, 'robert': 7497, 'elliott': 2883, 'caine': 1215, 'obsessive': 6141, 'fantasies': 3257, 'trip': 9225, 'museum': 5881, 'tour': 9125, 'terms': 8907, 'picked': 6560, 'stranger': 8540, 'ads': 135, 'art': 482, 'complications': 1785, 'hooker': 4265, 'nancy': 5923, 'sole': 8236, 'witness': 9851, 'peter': 6522, 'keith': 4897, 'teenage': 8877, 'determined': 2428, 'solve': 8241, 'crime': 2069, 'machine': 5371, 'razor': 7113, 'spoiling': 8362, 'described': 2383, 'within': 9848, 'surprises': 8722, 'reserved': 7354, 'explicit': 3156, 'demand': 2327, 'wanted': 9646, 'shower': 8026, 'hear': 4103, 'tender': 8897, 'delirious': 2318, 'chain': 1398, 'gun': 3959, 'doctor': 2599, 'received': 7163, 'recognition': 7173, 'deserved': 2390, 'recent': 7166, 'career': 1287, 'shame': 7927, 'spoofs': 8367, 'device': 2438, 'complaint': 1777, 'intrigue': 4653, 'semblance': 7830, 'mockery': 5753, 'slaughter': 8152, 'crosby': 2095, 'chopped': 1512, 'blind': 923, 'abysmal': 36, 'telling': 8884, 'actions': 82, 'relation': 7246, 'murdered': 5869, 'pair': 6352, 'swimming': 8769, 'waters': 9688, 'buddies': 1136, 'apparent': 403, 'australian': 595, 'shots': 8012, 'dreary': 2692, 'incoherent': 4484, 'downright': 2655, 'towards': 9130, 'smiles': 8198, 'sat': 7673, 'supernatural': 8695, 'mystery': 5907, 'arty': 496, 'rubbish': 7578, 'admire': 121, 'jess': 4780, 'franco': 3562, 'efforts': 2847, 'struggling': 8578, 'conscious': 1858, 'mourning': 5835, 'incestuous': 4472, 'affair': 153, 'losing': 5303, 'dashing': 2216, 'strange': 8538, 'laid': 5011, 'egg': 2848, 'alive': 241, 'kicking': 4918, 'survivor': 8738, 'coach': 1655, 'occurs': 6155, 'estate': 3034, 'eva': 3052, 'von': 9598, 'invited': 4677, 'tended': 8895, 'kinski': 4948, 'affairs': 154, 'mrs': 5850, 'meaning': 5564, 'lesbian': 5135, 'incest': 4471, 'guts': 3968, 'ingredients': 4546, 'euro': 3046, 'combine': 1710, 'giallo': 3751, 'ghostly': 3749, 'goings': 3819, 'edgar': 2820, 'allan': 243, 'poe': 6646, 'silly': 8068, 'grave': 3882, 'incomprehensible': 4488, 'meandering': 5563, 'surreal': 8725, 'gothic': 3846, 'ain': 200, 'rounded': 7565, 'steven': 8491, 'seagal': 7771, 'disguise': 2545, 'lack': 5002, 'resources': 7365, 'flaws': 3443, 'strike': 8559, 'miraculously': 5707, 'credibility': 2055, 'suffice': 8654, 'titles': 9057, 'fade': 3218, 'disappear': 2511, 'lightning': 5181, 'wipe': 9832, 'presumably': 6805, 'users': 9446, 'pro': 6845, 'putting': 6991, 'creativity': 2050, 'marcel': 5456, 'grasp': 3877, 'accomplish': 56, 'translation': 9174, 'simplicity': 8079, 'tones': 9090, 'racism': 7034, 'emotion': 2906, 'yawn': 9947, 'experienced': 3141, 'seven': 7892, 'sudden': 8647, 'impact': 4437, 'dirty': 2508, 'harry': 4061, 'clint': 1621, 'hook': 4263, 'sleeper': 8159, 'study': 8589, 'fancy': 3254, 'tim': 9038, 'neat': 5959, 'bits': 890, 'angry': 335, 'valuable': 9468, 'wax': 9693, 'hurts': 4352, 'confused': 1840, 'stuck': 8582, 'cry': 2116, 'convincingly': 1941, 'mysteries': 5904, 'spends': 8332, 'opposed': 6225, 'plans': 6610, 'contrived': 1914, 'attempts': 562, 'hip': 4198, 'previous': 6818, 'commercial': 1739, 'desperately': 2406, 'nick': 6018, 'nolte': 6049, 'laden': 5008, 'vanity': 9478, 'earn': 2792, 'points': 6656, 'highlights': 4181, 'pile': 6575, 'explained': 3151, 'reflection': 7216, 'touch': 9120, 'subtlety': 8629, 'jacket': 4734, 'monster': 5784, 'wears': 9710, 'street': 8547, 'sun': 8676, 'glasses': 3788, 'rider': 7450, 'muppets': 5867, 'cracking': 2022, 'puppets': 6968, 'treatment': 9198, 'deserve': 2389, 'cedric': 1367, 'mathieu': 5526, 'newcomer': 6006, 'jamie': 4747, 'stunning': 8597, 'nuanced': 6106, 'beach': 743, 'ill': 4402, 'demanding': 2329, 'aunt': 588, 'competitive': 1772, 'falling': 3240, 'comprised': 1794, 'lengthy': 5125, 'flash': 3431, 'backs': 655, 'movement': 5842, 'signal': 8056, 'engrossing': 2957, 'breaking': 1062, 'uplifting': 9425, 'ranks': 7078, 'damaged': 2173, 'england': 2954, 'preparing': 6788, 'sunny': 8681, 'slightly': 8172, 'countryside': 1995, 'astaire': 536, 'weary': 9711, 'generated': 3711, 'lurid': 5353, 'propaganda': 6901, 'manager': 5427, 'burns': 1171, 'lady': 5010, 'alice': 233, 'fontaine': 3492, 'pool': 6680, 'servants': 7875, 'butler': 1193, 'cousin': 2008, 'wodehouse': 9860, 'devices': 2439, 'identity': 4383, 'conclusions': 1818, 'wear': 9708, 'thin': 8967, 'length': 5124, 'annoyingly': 359, 'clueless': 1647, 'amusement': 307, 'dignified': 2483, 'quiet': 7017, 'blonde': 933, 'aristocratic': 457, 'watson': 9689, 'damsel': 2179, 'vehicle': 9495, 'skill': 8128, 'ginger': 3770, 'rogers': 7517, 'dance': 2182, 'solo': 8239, 'par': 6375, 'novice': 6101, 'joan': 4797, 'tame': 8825, 'steals': 8462, 'secretary': 7791, 'conniving': 1849, 'confident': 1827, 'solid': 8238, 'priceless': 6822, 'singers': 8093, 'delightful': 2316, 'naive': 5915, 'mixing': 5744, 'gershwin': 3738, 'stiff': 8498, 'carry': 1316, 'swing': 8770, 'trivia': 9231, 'ruled': 7589, 'stinker': 8507, 'unnecessarily': 9395, 'risk': 7475, 'remove': 7300, 'unconscious': 9315, 'junk': 4859, 'ignoring': 4398, 'rave': 7107, 'cassie': 1335, 'bear': 745, 'soul': 8280, 'survivors': 8739, 'carries': 1315, 'souls': 8282, 'annie': 352, 'matt': 5528, 'raven': 7108, 'jude': 4836, 'images': 4414, 'defined': 2296, 'chick': 1485, 'helping': 4143, 'tie': 9028, 'extra': 3190, 'spice': 8334, 'wheelchair': 9754, 'nightmare': 6027, 'beside': 836, 'traumatic': 9185, 'free': 3578, 'drop': 2715, 'mail': 5400, 'lucio': 5336, 'fulci': 3620, 'zombi': 9993, 'romero': 7537, 'dawn': 2228, 'gone': 3827, 'bonus': 981, 'letting': 5149, 'continuing': 1902, 'titled': 9056, 'flesh': 3448, 'observation': 6134, 'helicopters': 4136, 'plodding': 6637, 'heavy': 4122, 'horrendous': 4283, 'subtext': 8625, 'unintentionally': 9374, 'birds': 880, 'homage': 4242, 'combining': 1713, 'apes': 395, 'rival': 7480, 'topless': 9105, 'diving': 2591, 'shark': 7941, 'misogynistic': 5722, 'mouth': 5837, 'mirror': 5709, 'combined': 1711, 'stomach': 8516, 'step': 8474, 'nine': 6032, 'key': 4911, 'struggles': 8577, 'uninspired': 9371, 'attacks': 558, 'bonnie': 980, 'carnage': 1304, 'kenny': 4904, 'bland': 908, 'macho': 5373, 'types': 9285, 'urgency': 9436, 'standout': 8417, 'rotting': 7561, 'skull': 8140, 'worms': 9895, 'behold': 792, 'contrast': 1908, 'paint': 6346, 'option': 6233, 'dj': 2596, 'crass': 2034, 'containing': 1887, 'outrage': 6285, 'unlikely': 9391, 'reportedly': 7329, 'fifteen': 3355, 'filmed': 3375, 'mattei': 5529, 'ludicrous': 5341, 'releases': 7258, 'commits': 1743, 'regard': 7223, 'exploits': 3164, 'hats': 4077, 'maker': 5410, 'nina': 6031, 'strength': 8550, 'unreal': 9403, 'vanilla': 9476, 'tone': 9088, 'juice': 4844, 'grab': 3853, 'dick': 2460, 'rusty': 7609, 'quit': 7023, 'outlandish': 6281, 'strikes': 8560, 'listening': 5228, 'leads': 5089, 'talk': 8818, 'philosophy': 6539, 'record': 7181, 'producer': 6855, 'bus': 1179, 'manage': 5424, 'week': 9719, 'groups': 3929, 'problems': 6848, 'censors': 1382, 'became': 761, 'establishment': 3033, 'lyrics': 5364, 'offensive': 6169, 'offend': 6166, 'natured': 5944, 'spike': 8339, 'floor': 3461, 'limited': 5198, 'mainstream': 5403, 'flawless': 3442, 'marc': 5455, 'lawrence': 5074, 'vs': 9608, 'disease': 2541, 'america': 292, 'homicidal': 4249, 'travis': 9192, 'munro': 5865, 'jenna': 4771, 'drive': 2708, 'isolated': 4713, 'backwoods': 657, 'roads': 7489, 'assume': 530, 'meant': 5568, 'waving': 9692, 'crystal': 2119, 'bound': 1019, 'drives': 2713, 'bite': 887, 'partial': 6396, 'travel': 9187, 'calls': 1225, 'outline': 6283, 'executive': 3114, 'vince': 9555, 'therefore': 8959, 'entitled': 2991, 'sheridan': 7965, 'sue': 8649, 'holes': 4231, 'logic': 5266, 'tank': 8827, 'slightest': 8171, 'mental': 5610, 'ward': 9650, 'unnecessary': 9396, 'sequences': 7864, 'annoy': 355, 'served': 7877, 'incompetent': 4487, 'excruciatingly': 3109, 'experiences': 3142, 'qualities': 7001, 'praise': 6752, 'fake': 3236, 'feast': 3304, 'intestines': 4648, 'wretched': 9923, 'turgid': 9261, 'predictably': 6771, 'indicates': 4508, 'nearest': 5957, 'carl': 1299, 'brashear': 1049, 'civil': 1562, 'rights': 7461, 'inspiration': 4584, 'minority': 5700, 'willing': 9808, 'settle': 7888, 'cuba': 2120, 'gooding': 3832, 'conduct': 1822, 'chosen': 1521, 'robinson': 7501, 'integrated': 4607, 'gotten': 3848, 'truman': 9242, 'services': 7880, 'ii': 4399, 'navy': 5948, 'cook': 1943, 'officer': 6175, 'denied': 2343, 'applies': 418, 'sea': 7770, 'diver': 2585, 'jersey': 4779, 'thrown': 9013, 'petty': 6525, 'charge': 1433, 'deniro': 2344, 'prejudices': 6780, 'nevertheless': 6004, 'inspire': 4586, 'passed': 6415, 'racial': 7032, 'honor': 4259, 'places': 6599, 'hal': 3991, 'retire': 7393, 'inspiring': 4589, 'courage': 2002, 'spare': 8305, 'ability': 9, 'feelings': 3318, 'grief': 3908, 'sorrow': 8273, 'memories': 5604, 'trigger': 9221, 'saddest': 7622, 'emotions': 2909, 'award': 621, 'winning': 9827, 'rachel': 7031, 'string': 8563, 'sensitivity': 7846, 'sentimentality': 7854, 'expertly': 3148, 'beautifully': 758, 'warming': 9656, 'journey': 4830, 'loss': 5304, 'rising': 7474, 'vast': 9487, 'introducing': 4660, 'soft': 8231, 'entrance': 2992, 'jean': 4766, 'gently': 3725, 'pets': 6524, 'ears': 2796, 'rural': 7599, 'community': 1751, 'bud': 1135, 'milk': 5674, 'bucket': 1133, 'coffee': 1670, 'happiness': 4035, 'passing': 6419, 'affects': 160, 'isolation': 4714, 'vulnerability': 9610, 'funeral': 3631, 'sinks': 8101, 'oblivious': 6129, 'hopeless': 4275, 'despair': 2404, 'symbol': 8782, 'cope': 1950, 'absence': 22, 'overcome': 6301, 'realistically': 7139, 'investment': 4674, 'audrey': 586, 'effectively': 2841, 'reflected': 7215, 'shoulder': 8014, 'brow': 1118, 'empathize': 2910, 'carried': 1314, 'sweet': 8764, 'loving': 5322, 'lois': 5269, 'friendly': 3595, 'margaret': 5459, 'bittersweet': 893, 'discovery': 2534, 'remarkably': 7285, 'captured': 1278, 'misty': 5736, 'eyed': 3200, 'drinking': 2704, 'cup': 2130, 'colin': 1680, 'independent': 4502, 'allowing': 254, 'ask': 503, 'dust': 2765, 'assumes': 532, 'bat': 725, 'invested': 4669, 'act': 78, 'physical': 6553, 'imagination': 4417, 'told': 9074, 'response': 7374, 'describe': 2382, 'makers': 5411, 'everybody': 3065, 'scratch': 7744, 'belong': 808, 'fairness': 3232, 'portray': 6702, 'zero': 9988, 'dimensional': 2490, 'pretending': 6808, 'sebastian': 7783, 'attempted': 560, 'brilliance': 1089, 'kurt': 4992, 'vonnegut': 9599, 'howard': 4313, 'campbell': 1238, 'double': 2643, 'competing': 1770, 'absurdity': 30, 'assured': 535, 'haunted': 4079, 'sins': 8102, 'theory': 8953, 'belief': 796, 'denying': 2353, 'senses': 7841, 'shuttle': 8036, 'reading': 7128, 'missions': 5730, 'provided': 6927, 'combination': 1709, 'sublime': 8615, 'manner': 5443, 'touches': 9122, 'rare': 7091, 'surpasses': 8719, 'prequel': 6790, 'storytelling': 8532, 'separation': 7859, 'beloved': 810, 'ethan': 3042, 'eternal': 3040, 'sheer': 7954, 'substance': 8622, 'precious': 6762, 'melodramatic': 5596, 'manipulative': 5440, 'furious': 3637, 'bury': 1178, 'rapid': 7087, 'jarring': 4757, 'hanging': 4020, 'blown': 943, 'melodrama': 5595, 'pacing': 6330, 'wandering': 9640, 'superhero': 8690, 'returns': 7402, 'penelope': 6474, 'sierra': 8051, 'inexplicably': 4526, 'wealthy': 9705, 'anger': 331, 'questions': 7014, 'island': 4710, 'someday': 8246, 'explain': 3150, 'ignored': 4396, 'fill': 3369, 'staring': 8429, 'mystical': 5908, 'clues': 1648, 'fish': 3413, 'breathtaking': 1071, 'arc': 438, 'identical': 4380, 'poetry': 6650, 'roughly': 7563, 'explosive': 3172, 'marriages': 5481, 'impressed': 4450, 'poetic': 6649, 'figures': 3366, 'gender': 3706, 'singing': 8095, 'sailors': 7632, 'answered': 364, 'offering': 6172, 'symbolism': 8784, 'snatch': 8209, 'intellectual': 4610, 'sports': 8371, 'st': 8387, 'growth': 3934, 'suffering': 8652, 'preposterous': 6789, 'connect': 1843, 'herrings': 4163, 'hearing': 4105, 'forwarding': 3541, 'utter': 9453, 'mild': 5668, 'stereotyped': 8483, 'university': 9384, 'teens': 8880, 'morons': 5814, 'revealing': 7408, 'executed': 3112, 'values': 9470, 'caring': 1298, 'generous': 3715, 'rises': 7473, 'ultra': 9296, 'liberal': 5159, 'sex': 7899, 'buck': 1132, 'severed': 7897, 'onto': 6208, 'unsuspecting': 9412, 'model': 5756, 'clothes': 1640, 'naughty': 5945, 'merit': 5624, 'cbs': 1364, 'stayed': 8456, 'spectacular': 8319, 'designed': 2396, 'ealing': 2786, 'outrageously': 6287, 'essential': 3028, 'modern': 5759, 'understatement': 9337, 'instances': 4592, 'alec': 225, 'guiness': 3956, 'invented': 4666, 'cloth': 1639, 'dozen': 2660, 'office': 6174, 'catches': 1346, 'block': 928, 'quietly': 7018, 'desk': 2402, 'silence': 8064, 'inner': 4560, 'progress': 6877, 'phase': 6530, 'invention': 4667, 'chemical': 1474, 'explodes': 3158, 'laboratory': 5000, 'windows': 9819, 'foot': 3498, 'amusing': 308, 'explosions': 3171, 'building': 1148, 'motion': 5825, 'consisting': 1875, 'relentless': 7260, 'pursued': 6980, 'faced': 3207, 'expression': 3182, 'bumps': 1159, 'iron': 4693, 'bust': 1185, 'lasting': 5047, 'hitting': 4216, 'metal': 5637, 'shield': 7970, 'hung': 4338, 'brass': 1050, 'hilarity': 4186, 'solving': 8243, 'dozens': 2661, 'management': 5426, 'neither': 5983, 'advantage': 143, 'economic': 2815, 'implications': 4440, 'workers': 9889, 'interests': 4632, 'worker': 9888, 'solved': 8242, 'overnight': 6307, 'owned': 6322, 'oil': 6185, 'fbi': 3300, 'thoughtful': 8987, 'performers': 6497, 'cecil': 1366, 'parker': 6388, 'ernest': 3014, 'chronicles': 1535, 'paying': 6450, 'sand': 7654, 'letter': 5147, 'brad': 1039, 'tax': 8850, 'sgt': 7909, 'hole': 4230, 'kick': 4916, 'noise': 6046, 'owen': 6318, 'wilson': 9812, 'tea': 8854, 'nora': 6061, 'wilde': 9798, 'divorce': 2593, 'cost': 1978, 'legitimate': 5116, 'hired': 4202, 'boss': 1008, 'divine': 2590, 'holland': 4234, 'develop': 2432, 'network': 5998, 'cheers': 1469, 'casting': 1338, 'plastic': 6614, 'surgery': 8718, 'tarantino': 8835, 'filmic': 3376, 'atrocious': 551, 'distracted': 2573, 'track': 9141, 'anywhere': 389, 'info': 4537, 'technique': 8869, 'plain': 6603, 'foley': 3482, 'doors': 2636, 'closing': 1637, 'overboard': 6300, 'limitations': 5197, 'edits': 2833, 'trick': 9215, 'techniques': 8870, 'fundamental': 3629, 'awards': 623, 'avoided': 614, 'plague': 6601, 'critical': 2083, 'acclaim': 52, 'rarely': 7092, 'pay': 6447, 'deserving': 2393, 'porno': 6694, 'southern': 8293, 'inconsistent': 4491, 'quote': 7025, 'basis': 721, 'uneven': 9350, 'uninteresting': 9375, 'channels': 1420, 'ago': 185, 'laughing': 5061, 'crying': 2117, 'afternoon': 171, 'comedian': 1717, 'listened': 5226, 'laughed': 5060, 'eddie': 2819, 'pictures': 6567, 'imitation': 4426, 'captivating': 1275, 'perform': 6492, 'murphy': 5877, 'millennium': 5676, 'teenagers': 8879, 'harlem': 4049, 'nights': 6030, 'pathetic': 6428, 'candidates': 1250, 'nemesis': 5986, 'monty': 5792, 'python': 6995, 'scott': 7742, 'overwhelming': 6315, 'heck': 4123, 'firmly': 3410, 'stage': 8396, 'alex': 227, 'guessing': 3947, 'barbarian': 694, 'prolonged': 6886, 'senseless': 7840, 'calling': 1224, 'considering': 1869, 'blatant': 912, 'explaining': 3152, 'luckily': 5338, 'phony': 6543, 'mixture': 5745, 'seriousness': 7873, 'flower': 3465, 'bitten': 891, 'results': 7387, 'splatter': 8352, 'partner': 6407, 'shoot': 7996, 'paired': 6353, 'doctors': 2600, 'wander': 9639, 'dump': 2754, 'surrounded': 8730, 'prepared': 6787, 'destroy': 2414, 'compelling': 1765, 'searching': 7776, 'owes': 6319, 'alien': 235, 'born': 1004, 'stages': 8398, 'bishop': 883, 'weaver': 9713, 'ten': 8891, 'criticized': 2087, 'russell': 7604, 'negative': 5974, 'wooden': 9880, 'todd': 9066, 'soldier': 8234, 'surprising': 8723, 'statement': 8445, 'intense': 4616, 'phenomenon': 6532, 'widely': 9787, 'recognized': 7176, 'portrayal': 6703, 'fever': 3340, 'pitch': 6588, 'training': 9158, 'teaches': 8858, 'analyze': 313, 'interaction': 4626, 'signs': 8063, 'betrayal': 841, 'hyper': 4361, 'inability': 4462, 'comprehend': 1793, 'bigger': 860, 'tasks': 8842, 'continues': 1901, 'cleaning': 1595, 'interpret': 4640, 'performing': 6498, 'eaten': 2806, 'dialog': 2448, 'bleak': 916, 'fear': 3301, 'alert': 226, 'pass': 6412, 'keeping': 4893, 'react': 7121, 'knife': 4960, 'hold': 4227, 'afford': 162, 'reaction': 7122, 'hug': 4319, 'nielsen': 6023, 'sandra': 7657, 'embrace': 2899, 'combat': 1708, 'represents': 7337, 'instincts': 4597, 'restricted': 7382, 'twice': 9275, 'representative': 7334, 'tends': 8899, 'toss': 9116, 'heap': 4102, 'ex': 3081, 'picks': 6564, 'responsibility': 7375, 'mission': 5729, 'busey': 1181, 'church': 1539, 'faster': 3281, 'accurate': 63, 'aggressive': 183, 'pound': 6737, 'tools': 9100, 'perceived': 6485, 'tactics': 8801, 'tricks': 9217, 'newer': 6007, 'unit': 9379, 'reminder': 7293, 'scripted': 7763, 'root': 7549, 'skipped': 8136, 'fetish': 3339, 'harrison': 4058, 'ford': 3508, 'punk': 6965, 'hbo': 4093, 'alot': 262, 'enhance': 2958, 'twins': 9278, 'conan': 1799, 'theatre': 8939, 'desert': 2387, 'trail': 9153, 'westerns': 9745, 'stooges': 8521, 'carmen': 1303, 'accent': 39, 'rita': 7476, 'saved': 7688, 'belle': 806, 'moe': 5762, 'chandler': 1412, 'curly': 2135, 'counterparts': 1990, 'gag': 3652, 'chasing': 1449, 'endearing': 2933, 'prize': 6844, 'proceeds': 6851, 'riders': 7451, 'cents': 1389, 'dollar': 2615, 'sidekick': 8046, 'fix': 3423, 'rob': 7490, 'steal': 8460, 'remainder': 7277, 'blamed': 906, 'smith': 8200, 'jones': 4823, 'nd': 5952, 'nicely': 6015, 'grown': 3932, 'roach': 7487, 'gang': 3668, 'shorts': 8009, 'mega': 5588, 'stock': 8511, 'horse': 4292, 'editor': 2832, 'remotely': 7299, 'horses': 4293, 'pan': 6368, 'whip': 9769, 'reveal': 7406, 'approaching': 427, 'competent': 1768, 'emily': 2903, 'waves': 9691, 'grew': 3906, 'fascinated': 3272, 'rich': 7439, 'convention': 1924, 'gentle': 3722, 'frustrating': 3613, 'poem': 6647, 'rewarded': 7429, 'scriptwriters': 7767, 'shallow': 7926, 'questionable': 7012, 'beckinsale': 764, 'superficial': 8688, 'hackman': 3979, 'masters': 5516, 'nowhere': 6104, 'proving': 6930, 'wasted': 9676, 'dud': 2740, 'lung': 5352, 'courageous': 2003, 'changing': 1418, 'underlying': 9328, 'employer': 2920, 'relationships': 7249, 'stan': 8411, 'laurel': 5067, 'hardy': 4045, 'duo': 2760, 'deservedly': 2391, 'horn': 4281, 'factory': 3215, 'ollie': 6196, 'cracks': 2023, 'phones': 6542, 'electricity': 2865, 'muddled': 5856, 'cross': 2096, 'goat': 3809, 'ocean': 6156, 'trumpet': 9244, 'phone': 6541, 'crash': 2030, 'boat': 953, 'meanwhile': 5570, 'newspaper': 6012, 'reads': 7129, 'escaped': 3021, 'convict': 1934, 'sleeping': 8160, 'rope': 7552, 'eat': 2805, 'spots': 8374, 'spaghetti': 8301, 'bacon': 659, 'forces': 3506, 'rage': 7042, 'till': 9037, 'arrive': 475, 'quotes': 7026, 'tenant': 8892, 'interested': 4629, 'immersed': 4432, 'spent': 8333, 'chest': 1479, 'morgan': 5808, 'freeman': 3582, 'spacey': 8299, 'bet': 839, 'suspend': 8744, 'disbelief': 2524, 'justin': 4867, 'timberlake': 9039, 'timed': 9041, 'developing': 2434, 'burt': 1175, 'nuts': 6119, 'elmer': 2885, 'weakness': 9702, 'hepburn': 4151, 'spell': 8326, 'inexplicable': 4525, 'overrated': 6308, 'bon': 971, 'jovi': 4831, 'derek': 2376, 'followed': 3486, 'wore': 9885, 'mexico': 5645, 'dracula': 2664, 'premise': 6784, 'wondrous': 9875, 'lovely': 5318, 'brunette': 1121, 'earnest': 2794, 'charlton': 1442, 'heston': 4168, 'display': 2558, 'tied': 9029, 'breast': 1065, 'describes': 2384, 'reminded': 7292, 'intriguing': 4655, 'north': 6068, 'east': 2801, 'spain': 8302, 'specially': 8314, 'uptight': 9433, 'powers': 6746, 'celluloid': 1379, 'el': 2857, 'ralph': 7057, 'decision': 2273, 'gifted': 3757, 'refuse': 7219, 'folks': 3484, 'com': 1706, 'derivative': 2377, 'unoriginal': 9398, 'coburn': 1662, 'traits': 9160, 'stated': 8444, 'mainly': 5402, 'outlaw': 6282, 'locked': 5263, 'debt': 2258, 'additionally': 111, 'blooded': 937, 'villains': 9554, 'somewhat': 8253, 'distinguished': 2570, 'uncomfortable': 9314, 'undead': 9320, 'psychopath': 6946, 'everyday': 3066, 'sarah': 7667, 'ken': 4901, 'devils': 2441, 'rejects': 7242, 'halloween': 3998, 'detective': 2424, 'feinstone': 3321, 'corbin': 1957, 'benson': 823, 'summary': 8672, 'dentist': 2350, 'cheating': 1459, 'hallucinations': 3999, 'patients': 6433, 'watchable': 9680, 'morally': 5801, 'leg': 5109, 'ugly': 9290, 'eater': 2807, 'passes': 6418, 'blond': 932, 'newly': 6009, 'throws': 9014, 'toys': 9139, 'dumped': 2755, 'carradine': 1311, 'confidence': 1826, 'hence': 4146, 'concert': 1813, 'notes': 6082, 'absurd': 29, 'eagerly': 2785, 'screwing': 7761, 'surface': 8713, 'sentimental': 7853, 'crippled': 2077, 'struggle': 8576, 'acceptance': 43, 'shifts': 7973, 'screw': 7758, 'purple': 6975, 'balloon': 679, 'muscle': 5879, 'normal': 6064, 'lower': 5326, 'twin': 9277, 'neck': 5964, 'relatively': 7251, 'flirting': 3457, 'nerds': 5990, 'respectively': 7370, 'bogus': 961, 'contact': 1884, 'marie': 5462, 'dressler': 2698, 'warren': 9665, 'moran': 5803, 'wedding': 9717, 'anita': 348, 'norman': 6066, 'celebration': 1372, 'bank': 688, 'financial': 3388, 'survive': 8734, 'planning': 6609, 'worried': 9897, 'fortune': 3537, 'loudly': 5311, 'demands': 2330, 'customers': 2146, 'rant': 7080, 'questioning': 7013, 'crisis': 2078, 'mgm': 5648, 'celebrated': 1370, 'holidays': 4233, 'wins': 9828, 'lewis': 5154, 'collins': 1693, 'moore': 5798, 'judy': 4843, 'partially': 6397, 'redeem': 7192, 'terrorist': 8917, 'climactic': 1613, 'competently': 1769, 'ian': 4366, 'added': 104, 'undercover': 9324, 'peace': 6457, 'nuclear': 6108, 'weapons': 9707, 'extraordinary': 3192, 'measures': 5572, 'achieve': 68, 'goals': 3808, 'violently': 9562, 'lay': 5077, 'siege': 8050, 'missile': 5727, 'fired': 3405, 'naval': 5947, 'scotland': 7741, 'witnesses': 9853, 'appalled': 401, 'campaign': 1237, 'mistake': 5731, 'raid': 7044, 'assault': 516, 'iranian': 4687, 'banal': 682, 'embarrassingly': 2897, 'arch': 439, 'debate': 2254, 'riot': 7465, 'figure': 3364, 'verge': 9505, 'clichs': 1608, 'plotting': 6640, 'wholly': 9777, 'lola': 5271, 'term': 8905, 'loosely': 5292, 'rush': 7600, 'anne': 351, 'pursuit': 6983, 'respectable': 7367, 'horrors': 4291, 'needless': 5970, 'remakes': 7282, 'turning': 9268, 'amanda': 278, 'speak': 8310, 'volumes': 9596, 'romp': 7538, 'cheech': 1464, 'chong': 1507, 'drugs': 2725, 'wee': 9718, 'aliens': 238, 'surprisingly': 8724, 'coke': 1676, 'coherent': 1673, 'plausible': 6618, 'smoke': 8201, 'dreams': 2690, 'notable': 6077, 'academy': 38, 'sober': 8221, 'gay': 3695, 'kissing': 4953, 'goldberg': 3821, 'shine': 7975, 'bringing': 1093, 'fallen': 3239, 'bathroom': 729, 'idiot': 4386, 'bullet': 1154, 'motivations': 5829, 'allows': 255, 'motivated': 5827, 'forgive': 3519, 'mortal': 5817, 'answer': 363, 'denzel': 2354, 'website': 9716, 'optimism': 6231, 'mention': 5613, 'hackneyed': 3980, 'asylum': 543, 'headed': 4097, 'quarter': 7004, 'challenge': 1401, 'freaked': 3572, 'descent': 2381, 'madness': 5383, 'unique': 9377, 'pop': 6683, 'daily': 2166, 'simultaneously': 8084, 'psychologically': 6943, 'terror': 8915, 'skills': 8130, 'notice': 6085, 'convince': 1937, 'philosophical': 6538, 'stories': 8528, 'studied': 8585, 'victoria': 9530, 'virtual': 9566, 'prince': 6831, 'led': 5105, 'surrounding': 8731, 'throne': 9008, 'draws': 2684, 'duke': 2748, 'kent': 4905, 'birth': 881, 'duchess': 2737, 'hooked': 4264, 'former': 3527, 'conroy': 1855, 'offered': 6171, 'widow': 9791, 'insisted': 4579, 'raised': 7053, 'prevent': 6813, 'bedroom': 769, 'established': 3031, 'hapless': 4027, 'princess': 6832, 'papers': 6374, 'private': 6842, 'refused': 7220, 'disliked': 2553, 'regarded': 7224, 'limit': 5196, 'birthday': 882, 'stating': 8449, 'goal': 3807, 'reached': 7118, 'died': 2468, 'secluded': 7785, 'apartment': 392, 'conveys': 1933, 'circumstance': 1555, 'melbourne': 5592, 'party': 6410, 'prime': 6829, 'minister': 5697, 'loses': 5302, 'revealed': 7407, 'politician': 6673, 'hiding': 4176, 'masses': 5508, 'hints': 4197, 'rivals': 7482, 'sir': 8103, 'conservative': 1863, 'replace': 7322, 'wives': 9858, 'scandal': 7699, 'involved': 4680, 'hatred': 4076, 'contributed': 1911, 'rumors': 7592, 'spread': 8377, 'alleged': 244, 'appeared': 411, 'ignore': 4395, 'duties': 2769, 'returned': 7400, 'parallels': 6380, 'philip': 6534, 'danish': 2197, 'laws': 5075, 'table': 8795, 'iii': 4400, 'husbands': 4354, 'various': 9484, 'projects': 6883, 'continually': 1898, 'shadow': 7913, 'fortunately': 3536, 'assassin': 514, 'bullets': 1155, 'arm': 460, 'uniformly': 9367, 'principals': 6834, 'rupert': 7598, 'abruptly': 21, 'lean': 5091, 'engaging': 2951, 'fascinating': 3273, 'bitch': 885, 'godfather': 3812, 'titanic': 9054, 'awarded': 622, 'rings': 7464, 'trilogy': 9222, 'spielberg': 8337, 'burton': 1176, 'cameron': 1235, 'fuller': 3624, 'backing': 654, 'subway': 8633, 'skip': 8135, 'mccoy': 5550, 'dame': 2174, 'carrying': 1317, 'spies': 8338, 'ups': 9428, 'babe': 639, 'peters': 6523, 'handles': 4014, 'widmark': 9790, 'creep': 2061, 'edged': 2822, 'noir': 6045, 'thelma': 8943, 'ritter': 7478, 'saving': 7690, 'nomination': 6051, 'donna': 2629, 'eternity': 3041, 'shirley': 7981, 'dives': 2588, 'crisp': 2079, 'macdonald': 5370, 'representing': 7336, 'river': 7483, 'height': 4128, 'scare': 7700, 'ordinary': 6245, 'loyal': 5329, 'stereotypical': 8485, 'kelly': 4900, 'duh': 2746, 'amazingly': 284, 'heels': 4126, 'choose': 1508, 'hockey': 4223, 'chooses': 1509, 'finished': 3399, 'headache': 4096, 'urge': 9435, 'widowed': 9792, 'reid': 7237, 'awakening': 619, 'lover': 5319, 'passive': 6423, 'issues': 4718, 'avoiding': 615, 'mature': 5534, 'pet': 6520, 'sematary': 7829, 'consists': 1876, 'louis': 5312, 'path': 6427, 'woods': 9881, 'graveyard': 3884, 'lies': 5166, 'amount': 302, 'graves': 3883, 'burial': 1165, 'possess': 6719, 'cemetery': 1380, 'strangely': 8539, 'apply': 419, 'adapted': 100, 'transformation': 9166, 'succeeds': 8636, 'intention': 4620, 'zelda': 9987, 'sickening': 8041, 'image': 4412, 'anytime': 386, 'shocker': 7987, 'asset': 519, 'landscapes': 5026, 'kung': 4990, 'reputation': 7341, 'cartoonish': 1322, 'virtually': 9567, 'reminds': 7295, 'invent': 4665, 'ah': 190, 'ha': 3975, 'laced': 5001, 'tap': 8829, 'trade': 9145, 'bout': 1023, 'repeatedly': 7318, 'damage': 2172, 'prop': 6900, 'stabbed': 8389, 'china': 1497, 'corner': 1965, 'feet': 3320, 'snow': 8215, 'occasions': 6149, 'reactions': 7123, 'japanese': 4754, 'goodness': 3834, 'samurai': 7652, 'medieval': 5579, 'protagonists': 6915, 'randomly': 7069, 'sentences': 7851, 'disgusted': 2548, 'bears': 749, 'automatically': 606, 'load': 5249, 'sing': 8091, 'anime': 346, 'sword': 8778, 'battles': 735, 'conversation': 1927, 'arts': 493, 'random': 7068, 'stumbled': 8594, 'alcoholic': 223, 'provoke': 6932, 'spiritual': 8347, 'borrow': 1005, 'depending': 2360, 'excess': 3099, 'tickets': 9026, 'idiocy': 4385, 'laser': 5043, 'numbingly': 6114, 'devoid': 2442, 'nbc': 5951, 'mike': 5667, 'published': 6951, 'warned': 9659, 'uncle': 9312, 'screenplays': 7754, 'italy': 4722, 'suggested': 8658, 'biography': 877, 'starred': 8432, 'australia': 594, 'locations': 5260, 'bride': 1080, 'fantasy': 3260, 'spoken': 8364, 'lucas': 5334, 'alexander': 228, 'korda': 4978, 'kapoor': 4872, 'annoyed': 357, 'dont': 2630, 'mirrors': 5710, 'edgy': 2824, 'gina': 3769, 'lena': 5121, 'attending': 567, 'guests': 3949, 'crashes': 2032, 'spitting': 8350, 'mysteriously': 5906, 'exact': 3082, 'nightmares': 6028, 'horrific': 4287, 'players': 6623, 'armstrong': 464, 'michelle': 5655, 'duncan': 2757, 'showcases': 8023, 'capshaw': 1270, 'slight': 8170, 'fishburne': 3414, 'racist': 7035, 'rendition': 7307, 'serial': 7868, 'weird': 9724, 'seriously': 7872, 'stereotypes': 8484, 'cops': 1954, 'evidence': 3070, 'lawyer': 5076, 'speeches': 8323, 'blacks': 898, 'penalty': 6473, 'approached': 425, 'grandmother': 3868, 'defend': 2291, 'trial': 9210, 'officials': 6179, 'il': 4401, 'blair': 902, 'row': 7572, 'confession': 1825, 'beaten': 752, 'russian': 7606, 'overacting': 6295, 'weapon': 9706, 'freed': 3579, 'psychotic': 6947, 'guilt': 3953, 'murders': 5874, 'pc': 6456, 'principles': 6836, 'tacked': 8798, 'legal': 5111, 'alligator': 250, 'corrupt': 1974, 'bullies': 1156, 'abu': 31, 'criminals': 2073, 'depressing': 2369, 'rotten': 7560, 'ultimate': 9293, 'hughes': 4323, 'claiming': 1569, 'months': 5791, 'engaged': 2949, 'millionaire': 5679, 'false': 3243, 'bars': 707, 'september': 7860, 'forbidden': 3503, 'jordan': 4824, 'unknown': 9385, 'author': 599, 'norma': 6063, 'khouri': 4914, 'reported': 7328, 'mercy': 5620, 'muslim': 5887, 'dating': 2221, 'christian': 1526, 'delve': 2326, 'lie': 5165, 'compulsive': 1795, 'liar': 5158, 'agenda': 179, 'parties': 6404, 'grisly': 3917, 'graphic': 3875, 'latest': 5053, 'passionate': 6421, 'cloud': 1642, 'dear': 2248, 'planet': 6607, 'barney': 702, 'suck': 8642, 'percent': 6486, 'jurassic': 4860, 'students': 8584, 'ft': 3616, 'tiger': 9032, 'pat': 6425, 'painter': 6348, 'fully': 3625, 'norm': 6062, 'agreed': 188, 'sane': 7659, 'rational': 7102, 'individual': 4513, 'train': 9156, 'wreck': 9918, 'witnessed': 9852, 'swamp': 8755, 'promise': 6889, 'initially': 4555, 'stature': 8453, 'duvall': 2771, 'downey': 2652, 'occasional': 6147, 'produces': 6857, 'depths': 2372, 'commentary': 1735, 'aesthetic': 152, 'balanced': 674, 'endless': 2938, 'robbers': 7492, 'biker': 863, 'gear': 3697, 'fools': 3497, 'palpable': 6363, 'werewolf': 9738, 'bike': 862, 'gangs': 3669, 'phil': 6533, 'daniels': 2196, 'rogue': 7518, 'approach': 424, 'scientific': 7729, 'commitment': 1742, 'relate': 7243, 'walt': 9636, 'fairy': 3233, 'cinderella': 1543, 'widower': 9793, 'cindy': 1544, 'daughters': 2223, 'heartless': 4112, 'stubborn': 8581, 'improve': 4457, 'awkward': 634, 'unattractive': 9303, 'insult': 4600, 'everywhere': 3069, 'fond': 3490, 'increasing': 4496, 'hearted': 4109, 'abusive': 35, 'tables': 8796, 'royal': 7575, 'introduce': 4657, 'naturally': 5942, 'physically': 6554, 'mice': 5650, 'pushed': 6985, 'cries': 2068, 'jolly': 4820, 'arrives': 477, 'transformed': 9167, 'entered': 2976, 'raped': 7085, 'rule': 7588, 'forcing': 3507, 'harrowing': 4060, 'via': 9521, 'glaring': 3786, 'unfortunate': 9361, 'originally': 6256, 'additional': 110, 'helpful': 4142, 'clean': 1592, 'jealousy': 4765, 'harder': 4042, 'picking': 6563, 'lock': 5261, 'girls': 3776, 'drunk': 2729, 'exposed': 3174, 'politically': 6672, 'public': 6949, 'greatness': 3893, 'defending': 2292, 'brutality': 1125, 'disgrace': 2543, 'filmmaking': 3380, 'variety': 9483, 'appropriate': 428, 'artistic': 489, 'moss': 5818, 'stones': 8519, 'stone': 8517, 'contemporary': 1890, 'quirky': 7022, 'puppet': 6967, 'lends': 5123, 'easier': 2799, 'fur': 3636, 'clothing': 1641, 'slug': 8185, 'farmers': 3267, 'detailed': 2422, 'caused': 1357, 'pause': 6444, 'dragon': 2669, 'hunters': 4347, 'comparable': 1756, 'effortlessly': 2846, 'monsters': 5785, 'inc': 4468, 'facility': 3210, 'immense': 4430, 'towers': 9133, 'abound': 15, 'area': 446, 'islands': 4711, 'breath': 1067, 'stretch': 8553, 'squeeze': 8385, 'models': 5757, 'uncertain': 9311, 'gradually': 3859, 'internal': 4636, 'pressures': 6803, 'reminiscent': 7296, 'lacks': 5006, 'reno': 7309, 'favorites': 3293, 'address': 112, 'concerns': 1812, 'shocking': 7988, 'iraq': 4688, 'astonished': 537, 'terribly': 8910, 'pity': 6592, 'tenants': 8893, 'deceased': 2263, 'bernard': 830, 'conflicts': 1833, 'jews': 4790, 'african': 167, 'brooklyn': 1111, 'gut': 3967, 'diamond': 2452, 'directs': 2506, 'cerebral': 1392, 'dylan': 2778, 'mcdermott': 5551, 'jewish': 4789, 'novelist': 6097, 'currently': 2137, 'finish': 3398, 'condemned': 1819, 'seymour': 7906, 'cassel': 1333, 'filthy': 3384, 'quasi': 7006, 'anti': 369, 'willie': 9807, 'befriends': 777, 'hides': 4175, 'meeting': 5585, 'irene': 4690, 'bell': 805, 'rose': 7555, 'byrne': 1205, 'sisters': 8107, 'finishes': 3400, 'delicate': 2311, 'competition': 1771, 'reveals': 7409, 'capacity': 1262, 'border': 994, 'preaching': 6760, 'enhances': 2960, 'dense': 2349, 'primarily': 6827, 'confined': 1828, 'appropriately': 429, 'jazz': 4762, 'piano': 6558, 'recreate': 7187, 'grady': 3861, 'harp': 4055, 'hoped': 4272, 'alas': 216, 'kisses': 4952, 'acknowledged': 75, 'salvage': 7643, 'domestic': 2620, 'terrorists': 8918, 'alarm': 215, 'clock': 1626, 'maya': 5543, 'ferrell': 3334, 'recording': 7183, 'ambitions': 290, 'cities': 1558, 'outer': 6277, 'elsewhere': 2888, 'ambition': 289, 'creatures': 2054, 'chicks': 1487, 'gangsters': 3671, 'revolting': 7422, 'stopped': 8523, 'vomit': 9597, 'zealand': 9985, 'bang': 687, 'repulsive': 7340, 'profile': 6868, 'segal': 7815, 'mock': 5752, 'forms': 3528, 'undeniably': 9322, 'ustinov': 9449, 'sights': 8054, 'threatened': 8994, 'exposure': 3178, 'jealous': 4764, 'newhart': 6008, 'heist': 4131, 'brains': 1043, 'exceptional': 3096, 'malden': 5416, 'popping': 6686, 'vice': 9525, 'president': 6798, 'seldom': 7819, 'cameos': 1231, 'laurie': 5070, 'johnson': 4809, 'ira': 4685, 'swinging': 8771, 'italians': 4721, 'source': 8290, 'knowledge': 4971, 'cain': 1214, 'screens': 7755, 'closely': 1632, 'overlong': 6303, 'dragging': 2668, 'greatly': 3892, 'directorial': 2504, 'debut': 2259, 'visconti': 9571, 'continued': 1900, 'unimaginative': 9369, 'displayed': 2559, 'boom': 989, 'consistent': 1873, 'ring': 7463, 'remembering': 7289, 'football': 3500, 'diane': 2455, 'cheer': 1466, 'guarantee': 3939, 'crown': 2105, 'international': 4637, 'passion': 6420, 'pit': 6586, 'sammy': 7650, 'countless': 1992, 'vhs': 9520, 'sexist': 7901, 'morality': 5800, 'bobby': 955, 'tina': 9048, 'spite': 8349, 'dominick': 2624, 'mentally': 5612, 'professional': 6865, 'eugene': 3045, 'schedule': 7717, 'judgment': 4842, 'pray': 6756, 'expresses': 3181, 'heartbreaking': 4108, 'lend': 5122, 'mash': 5501, 'recurring': 7189, 'temple': 8887, 'overtly': 6312, 'struck': 8573, 'decisions': 2274, 'acid': 73, 'hunter': 4346, 'intent': 4619, 'peek': 6468, 'altered': 267, 'consciousness': 1859, 'visuals': 9583, 'capturing': 1280, 'granger': 3872, 'trite': 9229, 'townspeople': 9136, 'salvation': 7644, 'chill': 1493, 'cartoon': 1321, 'yep': 9957, 'topic': 9103, 'flashes': 3434, 'lynch': 5362, 'raise': 7052, 'flag': 3425, 'turkey': 9262, 'artificial': 487, 'hopkins': 4279, 'battlefield': 734, 'ichi': 4369, 'commenting': 1737, 'industrial': 4519, 'date': 2218, 'infected': 4529, 'creature': 2053, 'cyborg': 2152, 'transform': 9165, 'satisfied': 7681, 'clichd': 1604, 'confrontation': 1835, 'focusing': 3478, 'attraction': 575, 'designs': 2398, 'games': 3664, 'stunningly': 8598, 'usage': 9440, 'transforms': 9169, 'rocket': 7507, 'firing': 3408, 'proves': 6925, 'multiple': 5860, 'joins': 4813, 'absorbed': 26, 'nyc': 6123, 'roll': 7523, 'fuss': 3642, 'molly': 5766, 'essentially': 3029, 'dire': 2496, 'consequences': 1861, 'completed': 1780, 'flimsy': 3455, 'cheek': 1465, 'irrelevant': 4698, 'pays': 6453, 'aussie': 591, 'rough': 7562, 'lit': 5230, 'factors': 3214, 'concentrated': 1803, 'roy': 7574, 'jesse': 4781, 'hayes': 4089, 'storm': 8529, 'sally': 7639, 'payne': 6451, 'noteworthy': 6083, 'elusive': 2889, 'hyde': 4358, 'highlight': 4180, 'bay': 740, 'kane': 4870, 'padded': 6337, 'walking': 9629, 'baddie': 661, 'pants': 6372, 'continuously': 1905, 'thinks': 8972, 'sanity': 7661, 'eight': 2853, 'round': 7564, 'lasted': 5046, 'opportunity': 6224, 'lately': 5051, 'enchanted': 2924, 'april': 433, 'month': 5790, 'outset': 6290, 'pure': 6972, 'smile': 8197, 'anymore': 383, 'returning': 7401, 'heroin': 4161, 'blaxploitation': 914, 'finale': 3386, 'assembly': 518, 'energetic': 2946, 'stilted': 8503, 'jaded': 4739, 'stella': 8472, 'shelley': 7960, 'predecessor': 6766, 'sadness': 7625, 'fail': 3222, 'ally': 256, 'spontaneous': 8365, 'rapidly': 7088, 'grip': 3914, 'hangs': 4021, 'thread': 8991, 'accomplished': 57, 'national': 5937, 'unleashed': 9386, 'kingdom': 4943, 'involves': 4682, 'thrilling': 9004, 'intact': 4605, 'trier': 9219, 'abilities': 8, 'composition': 1790, 'prepare': 6786, 'digital': 2482, 'wanna': 9643, 'bachelor': 647, 'stiles': 8499, 'lying': 5361, 'fiance': 3344, 'karen': 4875, 'tracks': 9143, 'mile': 5671, 'jobs': 4800, 'unanswered': 9301, 'moron': 5812, 'nerves': 5993, 'begging': 780, 'somebody': 8245, 'punch': 6961, 'uncredited': 9318, 'justified': 4865, 'visiting': 9578, 'elderly': 2860, 'retarded': 7391, 'slapstick': 8147, 'cleverly': 1602, 'opposite': 6227, 'accepted': 44, 'barry': 705, 'singer': 8092, 'brilliantly': 1091, 'chip': 1500, 'rescue': 7346, 'rangers': 7073, 'jungle': 4857, 'plane': 6605, 'surfer': 8714, 'rebecca': 7155, 'cunningham': 2129, 'tons': 9094, 'puns': 6966, 'duck': 2739, 'goof': 3836, 'innovative': 4563, 'season': 7777, 'formula': 3529, 'dollars': 2616, 'housewives': 4309, 'route': 7569, 'brave': 1052, 'service': 7879, 'higher': 4178, 'conventional': 1925, 'creations': 2048, 'testament': 8922, 'garnered': 3685, 'crafted': 2026, 'apprentice': 423, 'witch': 9843, 'portion': 6699, 'joined': 4811, 'teacher': 8856, 'lessons': 5141, 'dated': 2219, 'sopranos': 8269, 'safely': 7627, 'tony': 9095, 'alternate': 269, 'dreaming': 2689, 'confirmed': 1831, 'helicopter': 4135, 'spotlight': 8373, 'coma': 1707, 'stress': 8552, 'outcome': 6275, 'stellar': 8473, 'approaches': 426, 'shoes': 7993, 'dial': 2447, 'sits': 8113, 'marries': 5483, 'roller': 7525, 'coaster': 1659, 'striking': 8561, 'wannabe': 9644, 'erotic': 3016, 'confess': 1824, 'haunting': 4080, 'protect': 6916, 'refers': 7213, 'unexpected': 9351, 'blew': 922, 'filling': 3372, 'fly': 3471, 'trees': 9201, 'showdown': 8024, 'qualifies': 6999, 'franchise': 3558, 'underdog': 9326, 'malone': 5420, 'haired': 3989, 'dot': 2642, 'nowadays': 6103, 'social': 8223, 'murderous': 5873, 'styled': 8605, 'whilst': 9765, 'discussing': 2537, 'continuous': 1904, 'adultery': 137, 'cliff': 1611, 'abby': 5, 'burned': 1169, 'sleazy': 8157, 'attorney': 572, 'bernsen': 832, 'plug': 6641, 'media': 5576, 'hateful': 4073, 'fatal': 3283, 'medical': 5577, 'loads': 5251, 'sleaze': 8156, 'obligatory': 6127, 'circus': 1557, 'suitably': 8666, 'unsettling': 9408, 'anderson': 319, 'robin': 7500, 'sydney': 8780, 'impressively': 4454, 'depict': 2362, 'bastard': 724, 'seasons': 7779, 'taped': 8831, 'tape': 8830, 'camping': 1240, 'ny': 6122, 'catching': 1347, 'eating': 2808, 'goofy': 3837, 'lol': 5270, 'vietnam': 9536, 'vets': 9519, 'attracted': 574, 'prove': 6923, 'chicken': 1486, 'learned': 5095, 'treat': 9195, 'camp': 1236, 'gotta': 3847, 'marvelous': 5497, 'thunderbirds': 9022, 'target': 8836, 'aim': 196, 'focused': 3476, 'stole': 8513, 'tech': 8865, 'gadgets': 3651, 'poignant': 6651, 'tad': 8802, 'idle': 4389, 'stylish': 8607, 'cruella': 2109, 'gerard': 3733, 'depardieu': 2356, 'glenn': 3791, 'deliciously': 2313, 'cox': 2019, 'pivotal': 6593, 'columbo': 1705, 'define': 2295, 'marks': 5475, 'murderer': 5870, 'asked': 504, 'blackmail': 897, 'snippets': 8213, 'associates': 527, 'suggestion': 8660, 'argument': 454, 'ensues': 2973, 'knocks': 4968, 'pretends': 6809, 'palm': 6361, 'excited': 3103, 'firm': 3409, 'nose': 6073, 'wishes': 9840, 'hint': 4195, 'directly': 2502, 'understandable': 9332, 'circumstances': 1556, 'grieving': 3909, 'unaware': 9304, 'nails': 5914, 'legends': 5114, 'adequately': 117, 'inch': 4473, 'myth': 5909, 'centers': 1386, 'craziness': 2039, 'banter': 691, 'fraud': 3570, 'compete': 1767, 'manipulation': 5439, 'yr': 9978, 'mechanic': 5574, 'pleasantly': 6629, 'pride': 6823, 'timon': 9046, 'pumbaa': 6959, 'recognizable': 7174, 'simpsons': 8083, 'acceptable': 42, 'thereof': 8960, 'consisted': 1872, 'vivid': 9587, 'colors': 1701, 'compliment': 1786, 'sniper': 8211, 'shooting': 7997, 'un': 9299, 'equipment': 3008, 'armor': 462, 'meter': 5640, 'beat': 751, 'mindless': 5687, 'polished': 6670, 'permanent': 6504, 'stiller': 8501, 'misunderstood': 5737, 'misfits': 5717, 'determination': 2426, 'limits': 5199, 'comparison': 1760, 'mario': 5467, 'kidnapped': 4924, 'boo': 982, 'bright': 1088, 'dislike': 2552, 'characteristic': 1428, 'shall': 7925, 'guaranteed': 3940, 'straightforward': 8534, 'pleasing': 6632, 'delighted': 2315, 'depressed': 2368, 'believed': 801, 'exploring': 3169, 'discovering': 2532, 'dancers': 2184, 'spawned': 8309, 'lists': 5229, 'featured': 3307, 'fantastically': 3259, 'pros': 6909, 'unforgettable': 9360, 'inducing': 4516, 'myers': 5899, 'eerie': 2838, 'steady': 8459, 'cons': 1856, 'section': 7794, 'reaching': 7120, 'generations': 3713, 'remade': 7275, 'forgotten': 3523, 'attitude': 570, 'challenging': 1404, 'payed': 6449, 'duty': 2770, 'shaking': 7923, 'embarrassment': 2898, 'ebay': 2810, 'novelty': 6099, 'pierce': 6571, 'brosnan': 1114, 'progresses': 6879, 'greg': 3901, 'kinnear': 4947, 'bbc': 741, 'dramas': 2675, 'cameras': 1234, 'lively': 5240, 'lacked': 5003, 'clarity': 1575, 'tara': 8834, 'fitzgerald': 3421, 'characterisation': 1427, 'graham': 3862, 'harsh': 4062, 'mentioning': 5615, 'sympathy': 8788, 'toby': 9063, 'adapt': 97, 'subjects': 8614, 'alcoholism': 224, 'cruelty': 2110, 'hinted': 4196, 'reader': 7125, 'bleeding': 918, 'concentrate': 1802, 'simon': 8076, 'talks': 8822, 'exploration': 3165, 'framed': 3553, 'vignettes': 9547, 'romeo': 7536, 'jenny': 4773, 'jennifer': 4772, 'ross': 7558, 'chances': 1411, 'finding': 3391, 'aided': 194, 'cream': 2041, 'gary': 3686, 'static': 8448, 'pans': 6371, 'sunset': 8683, 'factor': 3213, 'framing': 3555, 'tasteful': 8844, 'filming': 3377, 'males': 5418, 'mills': 5681, 'distinctly': 2569, 'medium': 5582, 'sized': 8123, 'cinemas': 1546, 'flop': 3462, 'collector': 1690, 'item': 4724, 'critique': 2089, 'sounding': 8285, 'position': 6714, 'confronted': 1836, 'spectacle': 8318, 'dealt': 2245, 'disasters': 2522, 'opposition': 6228, 'angst': 336, 'jacques': 4738, 'importance': 4444, 'viewed': 9539, 'sorcery': 8270, 'yarn': 9946, 'gypsy': 3974, 'elder': 2859, 'burke': 1167, 'mantegna': 5449, 'cooking': 1945, 'pounds': 6738, 'makeup': 5413, 'online': 6206, 'cannibals': 1255, 'promising': 6892, 'psychological': 6942, 'synopsis': 8791, 'admirer': 123, 'hysterical': 4363, 'worry': 9898, 'ensue': 2972, 'grotesque': 3923, 'announces': 354, 'imply': 4443, 'delivery': 2324, 'triumph': 9230, 'previews': 6817, 'arrested': 473, 'bait': 668, 'ad': 94, 'hollow': 4235, 'sin': 8085, 'commit': 1741, 'traffic': 9150, 'ticket': 9025, 'auto': 603, 'fanatic': 3252, 'racing': 7033, 'square': 8384, 'throat': 9006, 'scooby': 7733, 'doo': 2631, 'nostalgia': 6074, 'hungarian': 4339, 'ruthless': 7611, 'savage': 7686, 'superman': 8693, 'magical': 5392, 'endings': 2937, 'compassion': 1762, 'humble': 4331, 'pimlico': 6579, 'treasure': 9194, 'realise': 7133, 'prisoners': 6841, 'moral': 5799, 'surrender': 8727, 'respond': 7372, 'plight': 6636, 'thus': 9024, 'stanley': 8420, 'betty': 847, 'standing': 8416, 'pitched': 6589, 'glimpse': 3792, 'bombs': 970, 'apocalypse': 397, 'aware': 624, 'tragedy': 9151, 'addressed': 113, 'yeah': 9949, 'cried': 2067, 'criticisms': 2085, 'canadian': 1245, 'grant': 3873, 'thank': 8930, 'iran': 4686, 'grass': 3878, 'nation': 5936, 'traditions': 9149, 'centuries': 1390, 'groove': 3919, 'tube': 9253, 'void': 9593, 'resembling': 7353, 'trace': 9140, 'premiered': 6782, 'comparisons': 1761, 'inevitable': 4522, 'snl': 8214, 'skit': 8138, 'swear': 8757, 'sneak': 8210, 'streets': 8548, 'dances': 2185, 'terrifying': 8913, 'rebellious': 7158, 'convey': 1930, 'drawings': 2682, 'scarier': 7706, 'slows': 8184, 'speed': 8325, 'nod': 6044, 'amazed': 282, 'asking': 506, 'illogical': 4406, 'rats': 7103, 'stupidity': 8603, 'slut': 8187, 'horny': 4282, 'virus': 9569, 'ugh': 9289, 'drink': 2703, 'bert': 835, 'blink': 924, 'reasoning': 7153, 'idiots': 4388, 'rifle': 7456, 'du': 2732, 'hunting': 4348, 'offended': 6167, 'initial': 4554, 'remark': 7283, 'shouldn': 8016, 'scottish': 7743, 'ruined': 7584, 'acquired': 76, 'widescreen': 9789, 'rugged': 7582, 'braveheart': 1053, 'liam': 5157, 'neeson': 5973, 'roth': 7559, 'despicable': 2408, 'arrogant': 480, 'vile': 9548, 'gibson': 3754, 'jessica': 4782, 'lange': 5029, 'artist': 488, 'dutch': 2768, 'religious': 7270, 'strangers': 8541, 'outrageous': 6286, 'sums': 8675, 'owner': 6323, 'complain': 1773, 'jan': 4748, 'verhoeven': 9506, 'hmmm': 4220, 'hasn': 4069, 'troubles': 9238, 'attack': 555, 'throwing': 9012, 'burning': 1170, 'romania': 7531, 'favour': 3294, 'chop': 1511, 'muni': 5864, 'arranged': 470, 'luise': 5344, 'rainer': 7049, 'selling': 7827, 'youngest': 9969, 'slave': 8153, 'blatantly': 913, 'enemy': 2945, 'accidentally': 51, 'deadly': 2237, 'gentleman': 3723, 'ya': 9944, 'criticism': 2084, 'gritty': 3918, 'decades': 2261, 'greed': 3895, 'ridden': 7448, 'indulgent': 4518, 'ambitious': 291, 'darn': 2212, 'disco': 2528, 'florida': 3463, 'empire': 2915, 'pacino': 6331, 'montana': 5789, 'cheat': 1457, 'circle': 1552, 'command': 1729, 'saturated': 7684, 'finishing': 3401, 'crooked': 2093, 'nope': 6059, 'addicted': 106, 'paranoid': 6383, 'quintessential': 7020, 'obsession': 6140, 'overly': 6306, 'landed': 5020, 'emphasis': 2913, 'usa': 9439, 'tool': 9098, 'repeated': 7317, 'blade': 899, 'mafia': 5387, 'adrian': 134, 'weren': 9737, 'disturbed': 2581, 'meaningful': 5565, 'brooding': 1109, 'kathryn': 4880, 'ryan': 7612, 'gellar': 3702, 'smarmy': 8192, 'appalling': 402, 'inconsistencies': 4490, 'reese': 7205, 'witherspoon': 9847, 'israeli': 4716, 'palestinian': 6359, 'fox': 3549, 'bubble': 1131, 'alternative': 271, 'viewpoint': 9544, 'begs': 784, 'understanding': 9334, 'roommates': 7546, 'opinions': 6221, 'caf': 1211, 'noam': 6041, 'shy': 8037, 'member': 5601, 'guard': 3941, 'serving': 7881, 'mutual': 5897, 'hires': 4203, 'proceed': 6849, 'marry': 5484, 'gain': 3654, 'access': 47, 'closet': 1635, 'balance': 673, 'lighthearted': 5178, 'depicts': 2367, 'latin': 5054, 'corruption': 1975, 'mayhem': 5545, 'walken': 9627, 'mickey': 5657, 'rourke': 7567, 'lights': 5182, 'authentic': 597, 'starters': 8438, 'motorcycle': 5832, 'suits': 8668, 'rice': 7438, 'slaves': 8155, 'ambiguity': 287, 'fluid': 3470, 'library': 5163, 'iris': 4691, 'detract': 2429, 'areas': 447, 'function': 3627, 'educated': 2834, 'faults': 3289, 'strengths': 8551, 'wind': 9816, 'construction': 1882, 'unfolding': 9358, 'niro': 6037, 'fonda': 3491, 'ensemble': 2971, 'lane': 5027, 'reynolds': 7434, 'dom': 2619, 'orleans': 6259, 'casino': 1330, 'carface': 1295, 'vic': 9524, 'unwilling': 9418, 'pushes': 6986, 'bridge': 1082, 'switches': 8775, 'explore': 3166, 'wallet': 9633, 'winds': 9820, 'gambling': 3661, 'buys': 1200, 'pizza': 6595, 'stolen': 8514, 'awakens': 620, 'breakfast': 1061, 'feed': 3314, 'drown': 2720, 'eats': 2809, 'heroic': 4160, 'welcomed': 9728, 'bye': 1204, 'adopted': 130, 'animator': 344, 'mermaid': 5626, 'spend': 8330, 'rambling': 7059, 'lousy': 5314, 'evolved': 3078, 'speechless': 8324, 'slam': 8144, 'fetched': 3338, 'gate': 3689, 'gates': 3690, 'disguised': 2546, 'reasonably': 7152, 'neighbors': 5979, 'upstairs': 9432, 'slimy': 8174, 'sarandon': 7668, 'parade': 6376, 'companion': 1753, 'burnt': 1172, 'lightweight': 5183, 'dorothy': 2639, 'ted': 8873, 'ninjas': 6036, 'coolest': 1947, 'domino': 2625, 'woven': 9912, 'tooth': 9101, 'significantly': 8062, 'tremendous': 9204, 'cocky': 1666, 'mouse': 5836, 'enormously': 2969, 'atrocities': 552, 'oddly': 6160, 'desired': 2400, 'relying': 7274, 'guarded': 3942, 'weight': 9723, 'generic': 3714, 'capture': 1277, 'alongside': 261, 'thief': 8965, 'bagdad': 666, 'spelled': 8327, 'raoul': 7082, 'douglas': 2647, 'fairbanks': 3230, 'rendering': 7305, 'startling': 8440, 'technicolor': 8868, 'sabu': 7614, 'ahmad': 192, 'june': 4856, 'jaffar': 4740, 'conrad': 1854, 'genie': 3717, 'rendered': 7304, 'responsible': 7376, 'carpet': 1310, 'pops': 6688, 'bottle': 1016, 'incidentally': 4476, 'careers': 1288, 'driven': 2710, 'applause': 415, 'primitive': 6830, 'resulted': 7385, 'dolph': 2618, 'lundgren': 5351, 'regardless': 7226, 'neglect': 5975, 'positives': 6718, 'teenager': 8878, 'neurotic': 6000, 'preferably': 6774, 'painting': 6349, 'sell': 7824, 'vehicles': 9496, 'anyhow': 382, 'wheel': 9753, 'hundreds': 4337, 'bloodshed': 938, 'test': 8921, 'fassbinder': 3279, 'complains': 1776, 'talky': 8823, 'claustrophobic': 1589, 'symbolic': 8783, 'elvira': 2890, 'channel': 1419, 'examples': 3089, 'core': 1958, 'anxious': 379, 'amused': 306, 'dread': 2685, 'chore': 1515, 'cattle': 1354, 'seattle': 7782, 'hooks': 4266, 'partners': 6408, 'brennan': 1075, 'morris': 5815, 'captain': 1273, 'judge': 4837, 'gannon': 3672, 'locks': 5264, 'crow': 2101, 'meantime': 5569, 'supplies': 8697, 'slip': 8175, 'races': 7030, 'reach': 7117, 'shootout': 7999, 'sells': 7828, 'promptly': 6897, 'claims': 1570, 'severely': 7898, 'wounded': 9910, 'muddy': 5857, 'warn': 9658, 'arms': 463, 'sidewalk': 8048, 'universal': 9381, 'scan': 7698, 'print': 6837, 'tcm': 8853, 'keeper': 4892, 'unhappy': 9364, 'vibrant': 9523, 'luscious': 5355, 'erika': 3013, 'poet': 6648, 'businessman': 1184, 'credible': 2056, 'johnny': 4808, 'nicolas': 6020, 'cage': 1212, 'seed': 7802, 'insightful': 4574, 'potentially': 6735, 'laughably': 5059, 'likewise': 5190, 'hilariously': 4185, 'vulgar': 9609, 'shake': 7919, 'tasty': 8847, 'smoking': 8202, 'buff': 1141, 'pornographic': 6695, 'deed': 2281, 'booth': 991, 'definite': 2299, 'steamy': 8466, 'proceedings': 6850, 'mustache': 5890, 'foul': 3544, 'hoot': 4268, 'unappealing': 9302, 'props': 6908, 'admirable': 118, 'sincerity': 8090, 'merry': 5627, 'homosexual': 4251, 'aaron': 0, 'glossy': 3801, 'delightfully': 2317, 'netflix': 5997, 'eccentric': 2812, 'health': 4100, 'slew': 8166, 'amy': 310, 'motions': 5826, 'opened': 6211, 'animations': 343, 'experiments': 3146, 'stood': 8520, 'twelve': 9273, 'explored': 3167, 'lazy': 5082, 'grudge': 3935, 'beneath': 816, 'darkness': 2209, 'shred': 8030, 'clara': 1573, 'spanish': 8304, 'grandfather': 3866, 'juan': 4834, 'jose': 4825, 'carol': 1306, 'seat': 7780, 'lucky': 5339, 'screening': 7752, 'scoop': 7734, 'student': 8583, 'woody': 9882, 'filmography': 3381, 'indifferent': 4512, 'borders': 996, 'dangerously': 2192, 'wishing': 9841, 'hurry': 4349, 'spit': 8348, 'hugh': 4322, 'jackman': 4736, 'scarlett': 7709, 'johansson': 4806, 'pairing': 6354, 'sophisticated': 8266, 'sophistication': 8267, 'dana': 2181, 'creek': 2060, 'gundam': 3960, 'presents': 6796, 'refreshing': 7218, 'individuals': 4514, 'population': 6692, 'squad': 8383, 'focuses': 3477, 'neighbor': 5977, 'christina': 1530, 'secretly': 7792, 'bernie': 831, 'sweeping': 8762, 'uber': 9288, 'ace': 67, 'pilots': 6578, 'fleet': 3446, 'realities': 7140, 'bonding': 975, 'soldiers': 8235, 'sides': 8047, 'wrenching': 9919, 'unfold': 9357, 'emotionally': 2908, 'devastating': 2431, 'mobile': 5750, 'scattered': 7711, 'satisfy': 7682, 'impress': 4449, 'heartwarming': 4114, 'conspiracy': 1877, 'adding': 108, 'definition': 2301, 'historical': 4208, 'counter': 1988, 'meryl': 5628, 'wolf': 9863, 'shadows': 7914, 'miles': 5672, 'recorded': 7182, 'commercials': 1740, 'describing': 2385, 'des': 2380, 'chef': 1473, 'california': 1220, 'arquette': 469, 'user': 9445, 'participate': 6399, 'camcorder': 1228, 'bald': 675, 'promote': 6893, 'accepts': 46, 'glamour': 3784, 'nicole': 6021, 'kidman': 4922, 'chaplin': 1423, 'cats': 1353, 'implausible': 4439, 'ebert': 2811, 'screwball': 7759, 'baby': 642, 'dare': 2201, 'keanu': 4887, 'reeves': 7207, 'winter': 9830, 'logan': 5265, 'possesses': 6721, 'fathers': 3287, 'pulls': 6956, 'installment': 4590, 'sterling': 8488, 'flaw': 3440, 'whining': 9767, 'turd': 9260, 'rude': 7581, 'destructive': 2419, 'unlikeable': 9390, 'lovers': 5320, 'aids': 195, 'twenty': 9274, 'agony': 186, 'issue': 4717, 'sinking': 8100, 'darker': 2205, 'orson': 6261, 'welles': 9731, 'sarne': 7671, 'feminist': 3330, 'screwed': 7760, 'ego': 2849, 'respective': 7369, 'whereas': 9759, 'joanna': 4798, 'myra': 5900, 'bare': 696, 'biting': 889, 'resist': 7358, 'perverted': 6519, 'abused': 34, 'bills': 870, 'sensation': 7837, 'suggestive': 8661, 'provocative': 6931, 'pin': 6581, 'photographs': 6547, 'ninety': 6034, 'curse': 2139, 'investigation': 4672, 'summarize': 8671, 'curiosity': 2132, 'emerge': 2900, 'distraction': 2575, 'shady': 7915, 'encounters': 2928, 'frontal': 3606, 'marvel': 5495, 'nude': 6109, 'bodies': 956, 'profession': 6864, 'overshadowed': 6310, 'golden': 3823, 'strip': 8565, 'outs': 6289, 'steam': 8464, 'worthwhile': 9905, 'reiser': 7239, 'sons': 8260, 'situations': 8116, 'caricature': 1296, 'extreme': 3194, 'shed': 7951, 'vein': 9497, 'examination': 3086, 'candidate': 1249, 'lifetime': 5172, 'uma': 9298, 'thurman': 9023, 'disjointed': 2551, 'offbeat': 6165, 'zone': 9996, 'horribly': 4285, 'patrick': 6436, 'swayze': 8756, 'mold': 5764, 'plagued': 6602, 'mines': 5690, 'victor': 9529, 'sang': 7660, 'establishing': 3032, 'suitable': 8665, 'valid': 9466, 'prolific': 6884, 'document': 2601, 'choices': 1505, 'process': 6852, 'displaying': 2560, 'virtue': 9568, 'sentiments': 7855, 'stations': 8451, 'excesses': 3100, 'affleck': 161, 'gandolfini': 3667, 'catherine': 1351, 'hara': 4037, 'alcohol': 222, 'families': 3248, 'brush': 1123, 'awake': 618, 'tastes': 8846, 'antonioni': 375, 'undoubtedly': 9346, 'portrait': 6701, 'masterful': 5512, 'postman': 6731, 'soulless': 8281, 'destroyed': 2415, 'neo': 5987, 'realist': 7137, 'cena': 1381, 'turner': 9267, 'garfield': 3682, 'rainy': 7051, 'classical': 1582, 'forgettable': 3516, 'supreme': 8709, 'induced': 4515, 'liza': 5244, 'gielgud': 3755, 'dudley': 2742, 'hitch': 4212, 'prey': 6820, 'unexplained': 9353, 'insists': 4580, 'wine': 9821, 'sparse': 8308, 'crypt': 2118, 'climatic': 1615, 'veteran': 9517, 'harold': 4054, 'abbott': 4, 'marx': 5499, 'boxing': 1030, 'paths': 6430, 'wont': 9877, 'boxer': 1028, 'paintings': 6350, 'novels': 6098, 'wet': 9746, 'prostitutes': 6912, 'associated': 526, 'je': 4763, 'aime': 197, 'subtitled': 8626, 'romances': 7530, 'sketches': 8127, 'variations': 9481, 'instant': 4593, 'cultural': 2125, 'gus': 3965, 'sant': 7662, 'realizing': 7146, 'thomas': 8980, 'maria': 5461, 'nanny': 5924, 'neighborhood': 5978, 'drops': 2718, 'isabel': 4706, 'sergio': 7867, 'miranda': 5708, 'richardson': 7442, 'mistress': 5735, 'wes': 9741, 'craven': 2035, 'aged': 177, 'denver': 2351, 'explores': 3168, 'joel': 4804, 'coen': 1669, 'tourists': 9127, 'observing': 6138, 'useful': 9443, 'tourist': 9126, 'guide': 3951, 'portrayals': 6704, 'department': 2357, 'oprah': 6230, 'whore': 9780, 'elizabeth': 2879, 'degree': 2304, 'flame': 3428, 'burn': 1168, 'annoys': 360, 'rebel': 7156, 'rebellion': 7157, 'fields': 3350, 'wildly': 9802, 'jock': 4801, 'subsequently': 8621, 'staple': 8422, 'pseudo': 6935, 'texas': 8925, 'frat': 3569, 'wielding': 9794, 'recap': 7161, 'bag': 665, 'darkwolf': 2210, 'hmm': 4219, 'overlook': 6304, 'crude': 2107, 'corpses': 1970, 'afterwards': 173, 'connected': 1844, 'sight': 8053, 'liner': 5209, 'distinctive': 2568, 'periods': 6503, 'represented': 7335, 'expressed': 3180, 'subplots': 8619, 'gripping': 3915, 'cue': 2123, 'resolution': 7360, 'redemption': 7195, 'critic': 2082, 'discussed': 2536, 'boards': 951, 'angle': 333, 'pursue': 6979, 'creasy': 2042, 'sacrifice': 7617, 'board': 950, 'sigh': 8052, 'apocalyptic': 398, 'vicious': 9526, 'feeding': 3315, 'stalking': 8408, 'manipulated': 5438, 'reporter': 7330, 'aid': 193, 'cohen': 1672, 'broadcast': 1102, 'doom': 2633, 'hungry': 4341, 'appearing': 412, 'hogan': 4225, 'computers': 1797, 'unconvincing': 9317, 'net': 5996, 'shut': 8035, 'cant': 1258, 'security': 7797, 'threats': 8997, 'drew': 2699, 'laughter': 5063, 'roberts': 7498, 'brady': 1040, 'dignity': 2484, 'hilton': 4190, 'penny': 6479, 'pattern': 6439, 'wholesome': 9776, 'grabbed': 3854, 'caretaker': 1293, 'bruce': 1120, 'willis': 9810, 'dragged': 2667, 'nauseating': 5946, 'mothers': 5824, 'galaxy': 3659, 'obscene': 6131, 'juvenile': 4868, 'removed': 7301, 'hyped': 4360, 'transformers': 9168, 'megan': 5589, 'robotic': 7503, 'band': 684, 'bands': 686, 'communism': 1749, 'shelf': 7958, 'proportions': 6907, 'unfamiliar': 9356, 'nations': 5938, 'battling': 737, 'warrior': 9666, 'robots': 7504, 'maximum': 5541, 'retired': 7394, 'counterpart': 1989, 'stereotype': 8482, 'infamous': 4527, 'rocky': 7510, 'iv': 4729, 'draw': 2679, 'illegal': 4403, 'bow': 1024, 'helmet': 4139, 'difficulties': 2478, 'clash': 1578, 'constraints': 1880, 'stuart': 8580, 'berenger': 826, 'dean': 2246, 'mans': 5447, 'timeless': 9042, 'prisoner': 6840, 'transported': 9177, 'gruff': 3937, 'maverick': 5539, 'rookie': 7543, 'foil': 3481, 'swearing': 8758, 'sirk': 8104, 'colored': 1699, 'dysfunctional': 2782, 'kyle': 4994, 'stack': 8393, 'hudson': 4318, 'lauren': 5068, 'bacall': 644, 'likeable': 5186, 'subtly': 8630, 'wicked': 9784, 'montage': 5787, 'climbing': 1618, 'staircase': 8400, 'mixes': 5743, 'brown': 1119, 'stalked': 8406, 'drinks': 2705, 'sterile': 8487, 'vividly': 9588, 'masterpieces': 5515, 'joking': 4818, 'aside': 502, 'haines': 3987, 'stumble': 8593, 'pickford': 6562, 'education': 2835, 'holiday': 4232, 'grounds': 3927, 'crashing': 2033, 'stills': 8502, 'evening': 3057, 'presentation': 6793, 'hometown': 4247, 'rod': 7511, 'remembered': 7288, 'twilight': 9276, 'nostalgic': 6075, 'locale': 5254, 'implies': 4442, 'buttons': 1197, 'pressed': 6801, 'stretched': 8554, 'considerable': 1865, 'clouds': 1643, 'japan': 4753, 'missed': 5725, 'screened': 7751, 'covered': 2012, 'pushing': 6987, 'daisies': 2167, 'palette': 6360, 'scenarios': 7713, 'mundane': 5863, 'exceptionally': 3097, 'player': 6622, 'ned': 5965, 'sweetheart': 8765, 'charlotte': 1441, 'association': 528, 'investigator': 4673, 'pie': 6568, 'employs': 2921, 'waitress': 9619, 'aunts': 589, 'lily': 5194, 'vivian': 9586, 'chuck': 1536, 'splash': 8351, 'asian': 501, 'anton': 373, 'beware': 850, 'stance': 8412, 'turmoil': 9264, 'backdrop': 649, 'pub': 6948, 'report': 7327, 'berlin': 829, 'fleshed': 3449, 'practices': 6751, 'conceived': 1801, 'ample': 304, 'regarding': 7225, 'selection': 7821, 'cannes': 1253, 'smiling': 8199, 'victory': 9532, 'playboy': 6620, 'bunny': 1161, 'wondered': 9869, 'ethnic': 3044, 'honesty': 4255, 'revolution': 7423, 'et': 3038, 'vacuous': 9458, 'tapes': 8832, 'vacation': 9457, 'spectrum': 8321, 'overblown': 6299, 'frankenstein': 3564, 'resident': 7356, 'costume': 1981, 'hank': 4022, 'azaria': 637, 'mitchell': 5739, 'kidding': 4921, 'geoffrey': 3728, 'waits': 9620, 'closed': 1631, 'planned': 6608, 'comics': 1727, 'sixth': 8119, 'august': 587, 'crowded': 2103, 'passable': 6413, 'jeffrey': 4770, 'commented': 1736, 'clockwork': 1627, 'orange': 6237, 'dunne': 2758, 'cringe': 2074, 'charismatic': 1437, 'adams': 96, 'buffy': 1144, 'scheming': 7720, 'whimsical': 9766, 'dixon': 2595, 'andrews': 322, 'demons': 2337, 'downs': 2656, 'strain': 8535, 'judgement': 4839, 'recognise': 7171, 'treating': 9197, 'suspects': 8743, 'regularly': 7234, 'restraint': 7381, 'tormented': 9109, 'fulfilling': 3622, 'consequence': 1860, 'tommy': 9085, 'assigned': 520, 'lieutenant': 5167, 'craig': 2027, 'gene': 3707, 'tierney': 9030, 'committed': 1744, 'punches': 6962, 'nearby': 5956, 'attacked': 556, 'successfully': 8639, 'records': 7184, 'confront': 1834, 'arrest': 472, 'achieves': 72, 'strained': 8536, 'diverse': 2586, 'protagonist': 6914, 'beowulf': 825, 'automatic': 605, 'grendel': 3903, 'lucy': 5340, 'reruns': 7345, 'travesty': 9191, 'clive': 1624, 'intrigued': 4654, 'grainy': 3863, 'jerky': 4777, 'july': 4851, 'mitch': 5738, 'paramount': 6381, 'earl': 2788, 'mclaglen': 5557, 'penned': 6478, 'gertrude': 3739, 'exotic': 3128, 'marijuana': 5463, 'parsons': 6394, 'angeles': 327, 'artists': 492, 'tired': 9052, 'chorus': 1519, 'relief': 7266, 'agents': 181, 'kitty': 4955, 'jessie': 4783, 'donald': 2627, 'meek': 5583, 'andre': 320, 'carey': 1294, 'disagree': 2510, 'staged': 8397, 'busby': 1180, 'berkeley': 828, 'buzz': 1201, 'liberty': 5161, 'wardrobe': 9652, 'er': 3010, 'tunes': 9257, 'buddy': 1138, 'mostel': 5820, 'dani': 2194, 'filth': 3383, 'admittedly': 128, 'cradle': 2024, 'nightmarish': 6029, 'limp': 5200, 'morbid': 5804, 'strings': 8564, 'fishing': 3416, 'flies': 3453, 'differences': 2474, 'disappeared': 2513, 'replaced': 7323, 'activity': 85, 'ritual': 7479, 'aptly': 435, 'entirety': 2990, 'clunky': 1651, 'bearing': 748, 'conversations': 1928, 'insight': 4573, 'commendable': 1733, 'interact': 4625, 'relative': 7250, 'possibilities': 6723, 'behaviour': 790, 'underdeveloped': 9325, 'sentiment': 7852, 'ignorance': 4393, 'per': 6483, 'sullivan': 8669, 'reasonable': 7151, 'allegedly': 245, 'wished': 9839, 'massacre': 5507, 'tag': 8803, 'starting': 8439, 'trials': 9211, 'speaking': 8311, 'huh': 4325, 'cheerful': 1467, 'siblings': 8039, 'traps': 9181, 'mercifully': 5619, 'foolish': 3496, 'outdated': 6276, 'mildly': 5669, 'unfolds': 9359, 'williams': 9806, 'affect': 155, 'abuse': 33, 'excruciating': 3108, 'beings': 794, 'persons': 6513, 'skinned': 8133, 'cannibal': 1254, 'praised': 6753, 'receives': 7164, 'inflicted': 4533, 'irwin': 4704, 'antics': 372, 'crocodile': 2091, 'croc': 2090, 'files': 3368, 'trend': 9207, 'rockets': 7508, 'larger': 5038, 'yup': 9979, 'ransom': 7079, 'recover': 7185, 'satellite': 7676, 'faithful': 3235, 'writes': 9928, 'household': 4306, 'wildlife': 9801, 'spouse': 8376, 'documentaries': 2602, 'behave': 787, 'separated': 7858, 'ourselves': 6273, 'poke': 6658, 'casually': 1343, 'audio': 584, 'painted': 6347, 'inept': 4521, 'shaped': 7935, 'complaining': 1775, 'madman': 5382, 'casts': 1341, 'constant': 1878, 'baked': 670, 'cares': 1292, 'kinds': 4941, 'posey': 6711, 'mister': 5734, 'adaption': 102, 'remarks': 7286, 'horrified': 4288, 'practically': 6749, 'paradise': 6377, 'snake': 8206, 'pressure': 6802, 'tepid': 8904, 'cassidy': 1334, 'housewife': 4308, 'bitchy': 886, 'susan': 8740, 'paranoia': 6382, 'forgetting': 3517, 'appreciation': 422, 'tolerance': 9076, 'expedition': 3137, 'tarzan': 8839, 'fable': 3203, 'slips': 8177, 'courtroom': 2007, 'sore': 8271, 'thumb': 9019, 'remind': 7291, 'guinea': 3955, 'scientist': 7730, 'tribe': 9213, 'ape': 394, 'survived': 8735, 'influenced': 4535, 'developments': 2436, 'link': 5213, 'evolution': 3076, 'differently': 2476, 'begun': 785, 'thrilled': 9001, 'exploit': 3160, 'behalf': 786, 'granted': 3874, 'relevant': 7263, 'hairy': 3990, 'stimulating': 8504, 'corny': 1966, 'abandoned': 2, 'basement': 715, 'bread': 1058, 'enemies': 2944, 'defeat': 2289, 'overs': 6309, 'utilized': 9452, 'demonstrated': 2339, 'monotone': 5781, 'sticking': 8496, 'ear': 2787, 'hop': 4270, 'goodman': 3833, 'dinosaurs': 2495, 'professor': 6867, 'shepard': 7963, 'dive': 2584, 'graduate': 3860, 'lou': 5309, 'phillips': 6536, 'serve': 7876, 'pleasures': 6634, 'clad': 1566, 'designer': 2397, 'silk': 8066, 'interior': 4633, 'hi': 4170, 'demonic': 2336, 'pitt': 6591, 'encountered': 2927, 'wire': 9834, 'phrase': 6550, 'explode': 3157, 'plants': 6613, 'contribute': 1910, 'earned': 2793, 'engage': 2948, 'apartments': 393, 'inhabit': 4548, 'apollo': 399, 'beer': 772, 'dvds': 2773, 'achievement': 70, 'decidedly': 2270, 'regards': 7227, 'transfer': 9163, 'ratio': 7101, 'deemed': 2283, 'involvement': 4681, 'overwhelmed': 6314, 'discuss': 2535, 'featurette': 3309, 'coverage': 2011, 'discussion': 2538, 'chat': 1450, 'enthusiastic': 2987, 'package': 6333, 'relatives': 7252, 'qualified': 6998, 'counts': 1996, 'extremes': 3196, 'indicate': 4507, 'sidney': 8049, 'lumet': 5347, 'masterson': 5517, 'largely': 5037, 'marisa': 5469, 'tomei': 9083, 'hoffman': 4224, 'monologue': 5779, 'sum': 8670, 'anticipated': 370, 'understood': 9338, 'debra': 2257, 'uninspiring': 9372, 'sitcoms': 8110, 'employ': 2916, 'flavor': 3439, 'luke': 5346, 'rd': 7114, 'insulting': 4602, 'tear': 8863, 'shockingly': 7989, 'dropped': 2716, 'meaningless': 5566, 'sorts': 8277, 'somethings': 8250, 'sixty': 8121, 'wwii': 9942, 'tailor': 8805, 'prevented': 6814, 'reduced': 7199, 'desperation': 2407, 'henry': 4150, 'accepting': 45, 'ties': 9031, 'assignment': 521, 'gloria': 3797, 'jew': 4786, 'farewell': 3264, 'polish': 6669, 'prominent': 6888, 'irish': 4692, 'milo': 5682, 'verdict': 9504, 'raises': 7054, 'acclaimed': 53, 'reluctant': 7271, 'replacing': 7325, 'comfortable': 1724, 'poverty': 6740, 'bumbling': 1158, 'dynamite': 2781, 'compensate': 1766, 'rental': 7313, 'medicine': 5578, 'suspension': 8748, 'mighty': 5665, 'handy': 4018, 'mute': 5895, 'gasp': 3688, 'wig': 9796, 'knight': 4961, 'updated': 9424, 'rid': 7447, 'memory': 5605, 'forgot': 3522, 'ronald': 7540, 'colman': 1694, 'perception': 6487, 'shakespeare': 7921, 'othello': 6266, 'brien': 1087, 'slim': 8173, 'immediate': 4428, 'legendary': 5113, 'nominations': 6052, 'suave': 8609, 'blessed': 921, 'gaining': 3656, 'conviction': 1936, 'yesterday': 9959, 'lifts': 5175, 'julian': 4847, 'wright': 9924, 'bean': 744, 'feeble': 3313, 'harvey': 4067, 'keitel': 4896, 'lifeless': 5169, 'purchased': 6971, 'reunite': 7404, 'offs': 6180, 'thirteen': 8975, 'backyard': 658, 'preston': 6804, 'unexpectedly': 9352, 'compassionate': 1763, 'eve': 3054, 'travels': 9190, 'inane': 4466, 'idiotic': 4387, 'horrid': 4286, 'programming': 6875, 'oriented': 6252, 'spring': 8379, 'significant': 8061, 'platform': 6616, 'rolls': 7527, 'altogether': 274, 'swift': 8767, 'vocal': 9589, 'briefly': 1086, 'borrows': 1007, 'boston': 1010, 'locales': 5255, 'amusingly': 309, 'hammy': 4006, 'disappearance': 2512, 'namely': 5919, 'answers': 365, 'sites': 8112, 'demon': 2335, 'spark': 8306, 'equivalent': 3009, 'saves': 7689, 'streak': 8544, 'scored': 7737, 'ninja': 6035, 'dub': 2733, 'lent': 5129, 'lisa': 5222, 'grating': 3880, 'improved': 4458, 'pete': 6521, 'cruise': 2111, 'gregory': 3902, 'meg': 5587, 'frances': 3557, 'lackluster': 5005, 'guards': 3944, 'dragons': 2670, 'fighter': 3360, 'apologize': 400, 'sorta': 8276, 'nut': 6118, 'rank': 7076, 'resulting': 7386, 'summed': 8673, 'wonders': 9874, 'preferred': 6775, 'sho': 7984, 'annoyance': 356, 'moderately': 5758, 'sucker': 8644, 'rick': 7444, 'baker': 671, 'visible': 9572, 'kitchen': 4954, 'muster': 5891, 'perry': 6506, 'targets': 8838, 'noticing': 6089, 'distorted': 2571, 'wider': 9788, 'hire': 4201, 'miniseries': 5696, 'beaver': 760, 'necessary': 5962, 'toe': 9068, 'bette': 844, 'crawford': 2036, 'rohmer': 7519, 'admiration': 120, 'failures': 3227, 'representation': 7333, 'text': 8926, 'fascination': 3274, 'radical': 7039, 'discussions': 2539, 'disfigured': 2542, 'artistically': 490, 'historians': 4206, 'spoof': 8366, 'theres': 8961, 'doesnt': 2609, 'buried': 1166, 'monks': 5778, 'coast': 1658, 'fierce': 3353, 'mythology': 5911, 'recovering': 7186, 'cell': 1377, 'inspirational': 4585, 'complexity': 1783, 'invasion': 4664, 'intensely': 4617, 'inaccurate': 4464, 'branch': 1045, 'disappearing': 2514, 'wonderland': 9873, 'gimmick': 3767, 'relies': 7267, 'gimmicks': 3768, 'considerably': 1866, 'resolve': 7361, 'absorbing': 27, 'extent': 3188, 'secondly': 7788, 'unnatural': 9394, 'motivation': 5828, 'inconsequential': 4489, 'approval': 430, 'stares': 8427, 'lovingly': 5323, 'drivers': 2712, 'hokey': 4226, 'flowers': 3466, 'awhile': 633, 'bombed': 968, 'staging': 8399, 'iq': 4684, 'centered': 1385, 'detroit': 2430, 'reluctantly': 7272, 'ordered': 6243, 'commander': 1730, 'leno': 5127, 'honorable': 4260, 'layered': 5078, 'extended': 3185, 'session': 7882, 'syndrome': 8790, 'taboo': 8797, 'addressing': 114, 'shocked': 7986, 'amateur': 279, 'thousand': 8989, 'photographed': 6545, 'ironic': 4694, 'fruit': 3611, 'uh': 9291, 'correct': 1971, 'speech': 8322, 'beef': 770, 'izzard': 4731, 'burst': 1173, 'checking': 1462, 'belly': 807, 'skimpy': 8131, 'aging': 184, 'guessed': 3946, 'veterans': 9518, 'concepts': 1808, 'choppy': 1513, 'counting': 1991, 'vigilante': 9546, 'mst': 5852, 'tall': 8824, 'income': 4485, 'posted': 6728, 'savini': 7691, 'fx': 3646, 'snipes': 8212, 'campers': 1239, 'youth': 9975, 'practical': 6748, 'boyfriends': 1034, 'lunch': 5350, 'activities': 84, 'paxton': 6446, 'hello': 4138, 'mel': 5590, 'stink': 8506, 'ashamed': 498, 'feat': 3305, 'boobs': 983, 'frozen': 3610, 'jaw': 4759, 'incorrect': 4493, 'triple': 9227, 'hardcore': 4040, 'seventies': 7894, 'rapist': 7089, 'helpless': 4144, 'oscars': 6263, 'slick': 8168, 'lift': 5173, 'origins': 6258, 'weissmuller': 9725, 'maureen': 5537, 'protest': 6920, 'teaching': 8859, 'underwater': 9342, 'swim': 8768, 'emerges': 2901, 'yell': 9953, 'protective': 6919, 'toned': 9089, 'exploitation': 3161, 'election': 2863, 'opus': 6235, 'honour': 4261, 'auteur': 596, 'hk': 4218, 'triad': 9209, 'nutshell': 6120, 'stabbing': 8390, 'switching': 8776, 'grim': 3911, 'integral': 4606, 'deliberate': 2309, 'aftermath': 170, 'echo': 2813, 'oriental': 6251, 'homosexuality': 4252, 'screenwriters': 7757, 'distant': 2565, 'hart': 4063, 'structured': 8575, 'instinct': 4596, 'meat': 5573, 'tuned': 9256, 'cave': 1361, 'destroying': 2416, 'folk': 3483, 'buster': 1187, 'keaton': 4888, 'independence': 4501, 'durante': 2761, 'gift': 3756, 'assuming': 533, 'believing': 804, 'broadway': 1103, 'stinks': 8508, 'dandy': 2187, 'subdued': 8611, 'blah': 900, 'lush': 5356, 'illiterate': 4404, 'edison': 2826, 'stream': 8545, 'abc': 6, 'blake': 904, 'marketing': 5474, 'december': 2264, 'sentinel': 7856, 'cash': 1329, 'rehash': 7235, 'longoria': 5283, 'sutherland': 8752, 'kim': 4936, 'basinger': 720, 'importantly': 4446, 'seedy': 7803, 'dirt': 2507, 'um': 9297, 'refer': 7208, 'attitudes': 571, 'bogart': 959, 'mitchum': 5740, 'cigarette': 1541, 'dern': 2379, 'secondary': 7787, 'simpler': 8078, 'se': 7769, 'huston': 4356, 'challenges': 1403, 'chops': 1514, 'charisma': 1436, 'defense': 2293, 'ish': 4708, 'balls': 681, 'avid': 612, 'cd': 1365, 'nazi': 5949, 'haha': 3985, 'bats': 732, 'disservice': 2563, 'depiction': 2365, 'voight': 9594, 'ham': 4000, 'downbeat': 2651, 'tail': 8804, 'salt': 7642, 'leo': 5130, 'abroad': 19, 'seek': 7805, 'hustler': 4355, 'con': 1798, 'ratso': 7104, 'dustin': 2766, 'revelation': 7410, 'encounter': 2926, 'sylvia': 8781, 'studies': 8586, 'sox': 8295, 'barrymore': 706, 'visits': 9580, 'girlfriends': 3775, 'gym': 3972, 'fallon': 3241, 'facing': 3211, 'maturity': 5535, 'organization': 6247, 'immigrant': 4433, 'kindly': 4939, 'sensual': 7847, 'wherever': 9761, 'remembers': 7290, 'convinces': 1939, 'survival': 8733, 'popped': 6685, 'vcr': 9491, 'vain': 9462, 'satirical': 7678, 'sympathize': 8787, 'muted': 5896, 'brent': 1076, 'aniston': 347, 'progressed': 6878, 'cancelled': 1247, 'relieved': 7268, 'crook': 2092, 'vincent': 9556, 'judges': 4840, 'mars': 5486, 'crosses': 2098, 'wastes': 9677, 'astonishingly': 539, 'halfway': 3994, 'weller': 9730, 'natasha': 5934, 'yours': 9972, 'expensive': 3139, 'unsuccessful': 9410, 'holly': 4236, 'robertson': 7499, 'displays': 2561, 'clinic': 1620, 'shell': 7959, 'architect': 441, 'conveniently': 1922, 'jill': 4792, 'nail': 5912, 'grandma': 3867, 'lamas': 5014, 'goods': 3835, 'crazed': 2038, 'cheated': 1458, 'spending': 8331, 'admission': 124, 'sheet': 7955, 'tremendously': 9205, 'imagining': 4421, 'prom': 6887, 'rhys': 7436, 'davies': 2226, 'sale': 7636, 'ranger': 7072, 'preacher': 6759, 'stanwyck': 8421, 'midst': 5663, 'drift': 2701, 'concern': 1809, 'attend': 564, 'abortion': 14, 'replies': 7326, 'messy': 5635, 'apt': 434, 'heartfelt': 4110, 'midler': 5661, 'alicia': 234, 'fence': 3332, 'paper': 6373, 'port': 6697, 'shoddy': 7991, 'located': 5258, 'fisher': 3415, 'kirk': 4949, 'shirts': 7983, 'cos': 1977, 'booze': 993, 'downhill': 2654, 'rubber': 7577, 'enter': 2975, 'paid': 6341, 'injury': 4557, 'famed': 3245, 'bulk': 1152, 'waited': 9617, 'jerk': 4776, 'kidnap': 4923, 'shoved': 8020, 'pig': 6573, 'wrap': 9914, 'renee': 7308, 'boxes': 1029, 'failing': 3224, 'bravo': 1055, 'vital': 9584, 'forgiveness': 3521, 'reverse': 7412, 'bull': 1153, 'joker': 4816, 'lips': 5221, 'hes': 4166, 'poison': 6657, 'plant': 6611, 'batman': 731, 'scarecrow': 7701, 'drake': 2673, 'grayson': 3887, 'yellow': 9955, 'logo': 5268, 'elite': 2878, 'clips': 1623, 'chamber': 1405, 'screams': 7749, 'beatty': 756, 'weaknesses': 9703, 'tess': 8920, 'breathless': 1070, 'imaginable': 4415, 'challenged': 1402, 'mandy': 5431, 'dyke': 2777, 'sorvino': 8278, 'kathy': 4881, 'closer': 1633, 'runaway': 7594, 'steaming': 8465, 'ship': 7979, 'celebrate': 1369, 'femme': 3331, 'fatale': 3284, 'vaguely': 9461, 'logical': 5267, 'boiled': 962, 'hayworth': 4091, 'intentionally': 4622, 'crush': 2112, 'maugham': 5536, 'quaint': 6997, 'distract': 2572, 'fashions': 3278, 'tossed': 9117, 'notion': 6091, 'pigs': 6574, 'falk': 3237, 'agency': 178, 'client': 1610, 'refuses': 7221, 'schemes': 7719, 'edit': 2827, 'succeeded': 8635, 'expense': 3138, 'global': 3794, 'concerning': 1811, 'tonight': 9093, 'forum': 3539, 'sunshine': 8684, 'portrays': 6707, 'magician': 5394, 'rooting': 7550, 'sympathetic': 8786, 'mahatma': 5397, 'neglected': 5976, 'lump': 5348, 'caliber': 1219, 'followers': 3487, 'intellect': 4609, 'assist': 522, 'borrowed': 1006, 'resort': 7364, 'pamela': 6367, 'gray': 3886, 'puzzle': 6992, 'tackle': 8799, 'temporary': 8888, 'marty': 5494, 'evident': 3071, 'pearl': 6461, 'alison': 240, 'happily': 4034, 'reunited': 7405, 'unfaithful': 9355, 'nana': 5922, 'nuances': 6107, 'betrays': 843, 'betrayed': 842, 'climb': 1617, 'ladder': 5007, 'beliefs': 797, 'foundation': 3546, 'objects': 6126, 'file': 3367, 'coup': 1998, 'brit': 1096, 'leigh': 5119, 'massey': 5509, 'daylight': 2231, 'injured': 4556, 'boyle': 1036, 'tempted': 8890, 'escaping': 3023, 'custody': 2145, 'avoids': 616, 'fulfill': 3621, 'forgiven': 3520, 'flow': 3464, 'tribute': 9214, 'fed': 3311, 'breakdown': 1060, 'reports': 7331, 'controversy': 1920, 'pornography': 6696, 'identify': 4382, 'believability': 798, 'necessity': 5963, 'patient': 6432, 'darkest': 2206, 'argentina': 449, 'economy': 2816, 'climate': 1614, 'employee': 2918, 'collapse': 1682, 'purposes': 6977, 'homeless': 4244, 'ariel': 456, 'center': 1384, 'attendant': 565, 'elsa': 2886, 'laura': 5066, 'daniel': 2195, 'reflect': 7214, 'contribution': 1913, 'experts': 3149, 'mo': 5748, 'empathy': 2911, 'drivel': 2709, 'protecting': 6917, 'gifts': 3758, 'causes': 1358, 'skilled': 8129, 'relations': 7247, 'psychology': 6945, 'insights': 4575, 'darren': 2213, 'informed': 4541, 'dynamics': 2780, 'confronting': 1837, 'tightly': 9035, 'ongoing': 6205, 'watches': 9683, 'bold': 963, 'involve': 4679, 'concentration': 1805, 'thru': 9015, 'narration': 5926, 'glimpses': 3793, 'doc': 2598, 'supply': 8698, 'santa': 7663, 'claus': 1588, 'btw': 1130, 'possibility': 6724, 'predecessors': 6767, 'zeta': 9989, 'thrust': 9016, 'achieved': 69, 'recycled': 7190, 'peggy': 6471, 'goodbye': 3831, 'anonymous': 361, 'closeups': 1636, 'shopping': 8003, 'pale': 6358, 'icon': 4370, 'holy': 4241, 'historic': 4207, 'revolutionary': 7424, 'censorship': 1383, 'blank': 910, 'endlessly': 2939, 'illusion': 4407, 'venture': 9501, 'baron': 703, 'terrain': 8908, 'gruesome': 3936, 'edith': 2829, 'vega': 9493, 'bathing': 728, 'antonio': 374, 'stirring': 8509, 'hybrid': 4357, 'marquis': 5478, 'egyptian': 2851, 'tobe': 9062, 'hooper': 4267, 'nerdy': 5991, 'tomb': 9082, 'hunky': 4343, 'hottest': 4302, 'englund': 2956, 'tongue': 9091, 'christianity': 1527, 'bible': 854, 'recommending': 7180, 'snakes': 8207, 'corman': 1963, 'profanity': 6863, 'assassination': 515, 'mole': 5765, 'lam': 5013, 'ss': 8386, 'crooks': 2094, 'entertains': 2984, 'rambo': 7060, 'voters': 9603, 'triangle': 9212, 'switzerland': 8777, 'owe': 6317, 'occupation': 6151, 'heir': 4130, 'busy': 1188, 'advertising': 147, 'blend': 919, 'pond': 6678, 'suspected': 8742, 'insomnia': 4581, 'electric': 2864, 'dan': 2180, 'lorre': 5297, 'solution': 8240, 'happenings': 4031, 'crossed': 2097, 'territory': 8914, 'readers': 7126, 'items': 4725, 'hall': 3995, 'bravery': 1054, 'weather': 9712, 'conditions': 1821, 'casual': 1342, 'unwatchable': 9417, 'retains': 7390, 'cinematographer': 1548, 'stark': 8430, 'compositions': 1791, 'credited': 2058, 'capital': 1265, 'punishment': 6964, 'murderers': 5871, 'clutter': 1652, 'capote': 1268, 'researched': 7349, 'remorse': 7297, 'premiere': 6781, 'toronto': 9112, 'ton': 9087, 'products': 6862, 'shanghai': 7931, 'mansion': 5448, 'dam': 2171, 'burtynsky': 1177, 'sailor': 7631, 'antwone': 377, 'theo': 8950, 'lukas': 5345, 'deadpan': 2238, 'duel': 2744, 'revolving': 7427, 'transvestite': 9178, 'marcus': 5458, 'strangest': 8542, 'inmates': 4559, 'diary': 2456, 'brick': 1079, 'spells': 8328, 'glowing': 3804, 'chills': 1495, 'doll': 2614, 'pointing': 6654, 'useless': 9444, 'miike': 5666, 'recall': 7160, 'motive': 5830, 'neatly': 5960, 'ridiculously': 7454, 'crawl': 2037, 'buildings': 1149, 'toes': 9069, 'fanatics': 3253, 'debacle': 2253, 'genetic': 3716, 'lab': 4996, 'colonel': 1695, 'retrieve': 7396, 'moronic': 5813, 'daft': 2163, 'stretches': 8555, 'nicholas': 6016, 'sharing': 7940, 'brainless': 1042, 'wesley': 9742, 'method': 5641, 'fears': 3303, 'feared': 3302, 'shaky': 7924, 'heights': 4129, 'bourne': 1022, 'sickness': 8042, 'cow': 2015, 'bucks': 1134, 'ultimatum': 9295, 'bites': 888, 'incidental': 4475, 'enormous': 2968, 'errol': 3017, 'flynn': 3473, 'irs': 4702, 'macmurray': 5375, 'gardner': 3681, 'trauma': 9184, 'werner': 9740, 'diamonds': 2453, 'possession': 6722, 'cole': 1678, 'pianist': 6557, 'immature': 4427, 'freaking': 3573, 'safety': 7628, 'furniture': 3638, 'soylent': 8296, 'welch': 9726, 'oops': 6209, 'publicity': 6950, 'houston': 4311, 'ins': 4565, 'theatres': 8940, 'wound': 9909, 'kathleen': 4879, 'expand': 3129, 'sensibility': 7843, 'kramer': 4982, 'otto': 6270, 'preminger': 6783, 'attract': 573, 'sassy': 7672, 'mae': 5386, 'valley': 9467, 'dolls': 2617, 'spinal': 8341, 'directions': 2501, 'fame': 3244, 'bickering': 856, 'friendships': 3598, 'snap': 8208, 'arguments': 455, 'coat': 1660, 'chuckle': 1537, 'clarke': 1577, 'virgin': 9563, 'skits': 8139, 'dreadfully': 2687, 'ursula': 9437, 'abducted': 7, 'inhabited': 4550, 'worship': 9901, 'sacrifices': 7619, 'employed': 2917, 'escapes': 3022, 'murky': 5876, 'godzilla': 3814, 'puppy': 6969, 'threat': 8993, 'cody': 1668, 'canceled': 1246, 'olds': 6192, 'institution': 4598, 'chan': 1409, 'departure': 2358, 'subjected': 8613, 'surrealism': 8726, 'diversity': 2587, 'whites': 9772, 'heritage': 4156, 'whos': 9781, 'carrey': 1312, 'penguin': 6475, 'grinch': 3913, 'supermarket': 8694, 'digging': 2481, 'extension': 3186, 'contrary': 1907, 'tiresome': 9053, 'messages': 5632, 'christine': 1531, 'martha': 5489, 'fart': 3271, 'shook': 7995, 'switched': 8774, 'noting': 6090, 'harlow': 4051, 'franchot': 3559, 'distinction': 2567, 'wwi': 9941, 'honeymoon': 4257, 'cary': 1325, 'panic': 6370, 'unsatisfying': 9406, 'accusations': 65, 'torch': 9107, 'frenchman': 3585, 'pathos': 6429, 'atlantis': 547, 'languages': 5031, 'monkey': 5776, 'geek': 3699, 'rely': 7273, 'breed': 1072, 'split': 8355, 'parrot': 6393, 'paulie': 6443, 'columbia': 1704, 'treats': 9199, 'producing': 6858, 'http': 4317, 'www': 9943, 'luxury': 5359, 'weakest': 9701, 'nest': 5995, 'rory': 7553, 'imitate': 4424, 'attic': 569, 'neil': 5981, 'archer': 440, 'excessive': 3101, 'relaxing': 7255, 'meteor': 5639, 'lake': 5012, 'locals': 5256, 'skeleton': 8124, 'beast': 750, 'frequent': 3588, 'marines': 5466, 'freddy': 3577, 'psychologist': 6944, 'zane': 9982, 'meyer': 5646, 'ricky': 7445, 'ingenious': 4544, 'surround': 8729, 'elm': 2884, 'cooper': 1948, 'drastically': 2678, 'map': 5452, 'sweat': 8759, 'hills': 4189, 'dropping': 2717, 'stabs': 8392, 'slashers': 8150, 'profound': 6871, 'denise': 2346, 'legs': 5117, 'willingly': 9809, 'pointed': 6653, 'reel': 7203, 'destined': 2412, 'resembles': 7352, 'repeat': 7316, 'moonstruck': 5797, 'chuckles': 1538, 'simmons': 8075, 'enigmatic': 2961, 'tomlinson': 9084, 'recreation': 7188, 'bowie': 1025, 'album': 220, 'radar': 7037, 'distribution': 2578, 'rapes': 7086, 'fragile': 3551, 'rosario': 7554, 'popcorn': 6684, 'muppet': 5866, 'sunrise': 8682, 'yearning': 9951, 'weeks': 9722, 'celine': 1376, 'vienna': 9535, 'pulp': 6957, 'destination': 2411, 'shelves': 7962, 'communist': 1750, 'dinner': 2493, 'coal': 1656, 'lo': 5248, 'options': 6234, 'sappy': 7665, 'measure': 5571, 'lotr': 5307, 'gandalf': 3665, 'alter': 266, 'prone': 6898, 'dourif': 2649, 'exploitative': 3162, 'fifty': 3358, 'proof': 6899, 'lampoon': 5017, 'realization': 7142, 'segment': 7816, 'dancer': 2183, 'exhibits': 3118, 'golf': 3826, 'distributor': 2579, 'putrid': 6989, 'romanian': 7532, 'populated': 6691, 'uneducated': 9348, 'presume': 6806, 'specifically': 8317, 'hood': 4262, 'mob': 5749, 'mobster': 5751, 'rome': 7535, 'scarface': 7705, 'palance': 6357, 'paycheck': 6448, 'revolver': 7425, 'hare': 4046, 'stuffed': 8592, 'relentlessly': 7261, 'deaf': 2239, 'forty': 3538, 'boundaries': 1020, 'scope': 7735, 'practice': 6750, 'grin': 3912, 'norton': 6071, 'required': 7343, 'asia': 500, 'pretend': 6807, 'imitating': 4425, 'interrupted': 4643, 'alley': 247, 'reckless': 7170, 'liking': 5191, 'confronts': 1838, 'val': 9463, 'literal': 5231, 'footsteps': 3501, 'fright': 3599, 'shoe': 7992, 'harmless': 4053, 'extraordinarily': 3191, 'feminine': 3329, 'lizard': 5245, 'rushes': 7602, 'lesbians': 5136, 'dresses': 2696, 'spree': 8378, 'marginally': 5460, 'rooms': 7547, 'catholic': 1352, 'visions': 9575, 'lecture': 5104, 'herman': 4157, 'suggests': 8662, 'reels': 7204, 'ambiguous': 288, 'supported': 8700, 'symbols': 8785, 'attracts': 577, 'lindsay': 5204, 'shaq': 7936, 'hideous': 4174, 'receive': 7162, 'proudly': 6922, 'metropolis': 5643, 'warmth': 9657, 'miami': 5649, 'misguided': 5719, 'expectation': 3132, 'residence': 7355, 'contributes': 1912, 'masterfully': 5513, 'managing': 5429, 'pursuing': 6982, 'plate': 6615, 'paz': 6454, 'barman': 700, 'dialogues': 2451, 'carefully': 1290, 'randolph': 7067, 'pedestrian': 6466, 'operation': 6219, 'knock': 4965, 'enjoying': 2965, 'sung': 8679, 'fist': 3417, 'darth': 2214, 'vader': 9459, 'capsule': 1271, 'account': 60, 'skeptical': 8125, 'ruby': 7579, 'dee': 2280, 'homes': 4246, 'imagined': 4420, 'transcends': 9162, 'abstract': 28, 'eastern': 2802, 'preserved': 6797, 'conscience': 1857, 'gained': 3655, 'germans': 3736, 'da': 2159, 'connor': 1851, 'interspersed': 4644, 'performs': 6499, 'yourselves': 9974, 'description': 2386, 'beatles': 754, 'enthralling': 2985, 'hidden': 4172, 'boogie': 985, 'menu': 5618, 'disappears': 2515, 'nathan': 5935, 'ernie': 3015, 'simpson': 8082, 'perspectives': 6515, 'rewind': 7431, 'heavens': 4120, 'performed': 6495, 'coppola': 1953, 'overbearing': 6298, 'elvis': 2891, 'skipping': 8137, 'mere': 5621, 'elegant': 2867, 'barbra': 695, 'streisand': 8549, 'kris': 4984, 'kristofferson': 4985, 'artistry': 491, 'olivia': 6194, 'hadn': 3983, 'mates': 5525, 'unseen': 9407, 'advertised': 146, 'stairs': 8401, 'obstacles': 6142, 'transition': 9170, 'vulnerable': 9611, 'exquisite': 3184, 'commanding': 1731, 'dash': 2215, 'needlessly': 5971, 'finely': 3394, 'kubrick': 4987, 'horrifying': 4289, 'zorro': 9998, 'legion': 5115, 'republic': 7339, 'chapters': 1425, 'hadley': 3982, 'posing': 6713, 'serials': 7869, 'indiana': 4505, 'drowned': 2721, 'drab': 2663, 'benefit': 817, 'beard': 747, 'warnings': 9662, 'hobgoblins': 4222, 'nightclub': 6026, 'scores': 7738, 'preview': 6816, 'kay': 4885, 'sweden': 8760, 'societies': 8227, 'walls': 9634, 'choir': 1506, 'housing': 4310, 'fortunate': 3535, 'species': 8315, 'improvised': 4460, 'sour': 8289, 'witchcraft': 9844, 'acknowledge': 74, 'circuit': 1554, 'karate': 4873, 'sticks': 8497, 'fried': 3593, 'narrator': 5928, 'shore': 8004, 'eighties': 2854, 'messed': 5633, 'equals': 3007, 'andrew': 321, 'caper': 1264, 'offspring': 6181, 'sting': 8505, 'parent': 6384, 'peers': 6469, 'exceptions': 3098, 'unpleasant': 9399, 'demanded': 2328, 'airing': 204, 'mill': 5675, 'jodie': 4802, 'currie': 2138, 'randy': 7070, 'quaid': 6996, 'hamlet': 4003, 'lemmon': 5120, 'defy': 2303, 'insipid': 4577, 'canyon': 1259, 'boots': 992, 'humphrey': 4335, 'urban': 9434, 'choosing': 1510, 'kibbutz': 4915, 'inevitably': 4523, 'strikingly': 8562, 'orders': 6244, 'linda': 5203, 'kicked': 4917, 'chess': 1478, 'tournament': 9128, 'shortly': 8008, 'madly': 5381, 'oddball': 6159, 'tendency': 8896, 'slower': 8182, 'collective': 1689, 'brooke': 1110, 'innuendo': 4564, 'babysitter': 643, 'scenario': 7712, 'rub': 7576, 'billing': 868, 'deciding': 2272, 'convenient': 1921, 'kicks': 4919, 'aiming': 199, 'axe': 636, 'bloom': 940, 'minions': 5695, 'cavemen': 1362, 'wtf': 9936, 'blurred': 948, 'mutants': 5893, 'hispanic': 4205, 'continent': 1897, 'related': 7244, 'prefers': 6776, 'soooo': 8263, 'testing': 8924, 'indication': 4509, 'mask': 5502, 'error': 3018, 'nonsensical': 6058, 'targeted': 8837, 'wanders': 9641, 'dodgy': 2606, 'goers': 3816, 'faint': 3228, 'thugs': 9018, 'ritchie': 7477, 'jake': 4743, 'sharks': 7942, 'benjamin': 819, 'repeating': 7319, 'cristina': 2081, 'raines': 7050, 'complaints': 1778, 'burgess': 1164, 'meredith': 5622, 'eli': 2876, 'beverly': 849, 'angelo': 329, 'nun': 6116, 'queens': 7008, 'suffered': 8651, 'sided': 8045, 'masks': 5504, 'masturbation': 5518, 'shared': 7938, 'doses': 2641, 'eastwood': 2803, 'redford': 7196, 'saga': 7629, 'aspirations': 511, 'advised': 150, 'saint': 7633, 'toll': 9079, 'mouthed': 5838, 'losers': 5301, 'winners': 9826, 'statements': 8446, 'implied': 4441, 'listener': 5227, 'reagan': 7131, 'authority': 601, 'fiend': 3351, 'regal': 7222, 'unnerving': 9397, 'mocking': 5754, 'explosion': 3170, 'hartley': 4064, 'fay': 3298, 'principal': 6833, 'irony': 4697, 'epitome': 3003, 'insults': 4603, 'monday': 5772, 'reviewing': 7417, 'revival': 7419, 'shakes': 7920, 'ambiance': 286, 'inaccuracies': 4463, 'mcdowell': 5553, 'plummer': 6642, 'gaps': 3674, 'dubious': 2736, 'malcolm': 5415, 'curtain': 2141, 'intro': 4656, 'sections': 7795, 'submarine': 8616, 'cunning': 2128, 'busted': 1186, 'policeman': 6666, 'magically': 5393, 'pepper': 6482, 'commando': 1732, 'backed': 651, 'whiny': 9768, 'arguing': 453, 'chased': 1447, 'knocked': 4966, 'brutally': 1126, 'ceremony': 1393, 'polanski': 6662, 'links': 5215, 'resemble': 7351, 'seats': 7781, 'handed': 4009, 'foxx': 3550, 'scorsese': 7740, 'raging': 7043, 'illustrate': 4408, 'kline': 4956, 'biko': 865, 'attenborough': 563, 'gandhi': 3666, 'sophia': 8264, 'angela': 326, 'quentin': 7009, 'nineties': 6033, 'gig': 3759, 'cared': 1286, 'increasingly': 4497, 'stitches': 8510, 'placed': 6597, 'clumsily': 1649, 'greater': 3890, 'waist': 9615, 'billion': 869, 'rivalry': 7481, 'loyalty': 5330, 'romano': 7533, 'leary': 5098, 'herd': 4154, 'leaders': 5087, 'newman': 6010, 'intrusive': 4663, 'tapping': 8833, 'mud': 5855, 'banned': 690, 'clip': 1622, 'combines': 1712, 'israel': 4715, 'shouting': 8018, 'awry': 635, 'hannah': 4024, 'beg': 778, 'believer': 802, 'afterward': 172, 'protection': 6918, 'organized': 6248, 'dilemma': 2485, 'integrity': 4608, 'demeanor': 2331, 'idol': 4390, 'wings': 9823, 'emil': 2902, 'russia': 7605, 'powell': 6741, 'gillian': 3765, 'shaggy': 7916, 'conquest': 1853, 'compelled': 1764, 'lone': 5275, 'gabriel': 3648, 'prophecy': 6905, 'sorely': 8272, 'thug': 9017, 'mtv': 5853, 'babes': 640, 'underwear': 9343, 'checked': 1461, 'dwight': 2775, 'anchors': 315, 'aweigh': 628, 'singin': 8094, 'wagon': 9614, 'sinatra': 8086, 'clarence': 1574, 'doolittle': 2632, 'deleted': 2307, 'bandit': 685, 'ballet': 678, 'peak': 6459, 'ramones': 7061, 'experiment': 3144, 'flair': 3426, 'villa': 9549, 'rodney': 7513, 'murray': 5878, 'sandy': 7658, 'flew': 3450, 'platoon': 6617, 'replacement': 7324, 'tho': 8979, 'prevalent': 6812, 'sink': 8099, 'vanishing': 9477, 'alexandre': 230, 'composed': 1788, 'orchestra': 6239, 'tower': 9132, 'celeste': 1375, 'turturro': 9271, 'northern': 6070, 'swiss': 8772, 'lassie': 5044, 'sherman': 7968, 'rooney': 7548, 'faye': 3299, 'letdown': 5144, 'committing': 1745, 'kerry': 4909, 'melissa': 5594, 'active': 83, 'latino': 5055, 'divorced': 2594, 'garbo': 3676, 'billed': 867, 'cortez': 1976, 'mismatched': 5721, 'marrying': 5485, 'butchered': 1192, 'fills': 3373, 'curiously': 2134, 'havoc': 4084, 'rightly': 7460, 'gestures': 3741, 'qualify': 7000, 'arrow': 481, 'marvellous': 5496, 'versatile': 9510, 'baldwin': 676, 'glance': 3785, 'seuss': 7891, 'pains': 6345, 'religion': 7269, 'forth': 3533, 'boogeyman': 984, 'lommel': 5272, 'cheaply': 1456, 'originals': 6257, 'padding': 6338, 'hillbilly': 4188, 'li': 5156, 'categories': 1349, 'shaolin': 7933, 'warriors': 9667, 'librarian': 5162, 'rampage': 7062, 'cheesiness': 1471, 'interactions': 4627, 'antagonist': 366, 'trademark': 9146, 'intentional': 4621, 'lethal': 5145, 'criticize': 2086, 'clan': 1572, 'redundant': 7200, 'sht': 8034, 'specific': 8316, 'doubts': 2645, 'fenton': 3333, 'primary': 6828, 'destruction': 2418, 'trap': 9179, 'actuality': 92, 'colorful': 1700, 'liu': 5237, 'bounty': 1021, 'conveyed': 1931, 'robbery': 7493, 'springer': 8380, 'wacky': 9612, 'bent': 824, 'afghanistan': 163, 'hrs': 4316, 'elementary': 2869, 'contestant': 1894, 'relating': 7245, 'mannered': 5444, 'conclude': 1814, 'gee': 3698, 'therapy': 8955, 'choreographed': 1516, 'woo': 9878, 'teams': 8862, 'notices': 6088, 'wong': 9876, 'inheritance': 4552, 'shearer': 7950, 'matthau': 5532, 'overtones': 6313, 'chew': 1481, 'steps': 8480, 'requires': 7344, 'goo': 3829, 'damon': 2178, 'wayans': 9695, 'greats': 3894, 'worm': 9894, 'pole': 6664, 'deanna': 2247, 'durbin': 2763, 'garland': 3683, 'signed': 8059, 'smash': 8195, 'aplomb': 396, 'soprano': 8268, 'barnes': 701, 'bleed': 917, 'ps': 6934, 'assumed': 531, 'starr': 8431, 'spider': 8335, 'drawing': 2681, 'manipulate': 5437, 'foremost': 3511, 'confirm': 1830, 'premises': 6785, 'martian': 5491, 'dumbest': 2753, 'chicago': 1484, 'passengers': 6417, 'referred': 7211, 'exchange': 3102, 'longing': 5282, 'card': 1282, 'bridget': 1084, 'troma': 9233, 'locke': 5262, 'alba': 217, 'optimistic': 6232, 'cutter': 2150, 'themed': 8946, 'revive': 7420, 'sacrificing': 7620, 'garner': 3684, 'promoted': 6894, 'throats': 9007, 'spade': 8300, 'bend': 815, 'chiba': 1483, 'bone': 977, 'sonny': 8259, 'stardust': 8425, 'danes': 2189, 'pfeiffer': 6526, 'doug': 2646, 'complained': 1774, 'tire': 9051, 'viewings': 9543, 'interplay': 4639, 'conveying': 1932, 'villainous': 9553, 'vastly': 9488, 'covering': 2013, 'encouraged': 2930, 'partly': 6406, 'las': 5042, 'vegas': 9494, 'rightfully': 7459, 'inherited': 4553, 'stake': 8402, 'giggles': 3762, 'greene': 3900, 'dim': 2488, 'witted': 9856, 'steel': 8467, 'rodriguez': 7514, 'warden': 9651, 'misses': 5726, 'josh': 4827, 'norris': 6067, 'assistance': 523, 'tung': 9258, 'terrorism': 8916, 'warrant': 9664, 'sometime': 8251, 'outing': 6280, 'recognised': 7172, 'colleague': 1684, 'resolved': 7362, 'noticeable': 6086, 'shannon': 7932, 'diabolical': 2446, 'conquer': 1852, 'avenger': 610, 'bakshi': 672, 'artwork': 495, 'edition': 2831, 'underground': 9327, 'potter': 6736, 'mormon': 5810, 'similarities': 8072, 'cliches': 1607, 'melody': 5597, 'grabs': 3855, 'orchestral': 6240, 'transferred': 9164, 'machines': 5372, 'damned': 2177, 'counted': 1987, 'pink': 6582, 'cobb': 1661, 'artsy': 494, 'marred': 5479, 'entering': 2977, 'mythical': 5910, 'hanks': 4023, 'insanity': 4568, 'crushed': 2113, 'hers': 4164, 'obscure': 6132, 'labeled': 4998, 'hitler': 4214, 'socialist': 8224, 'tomorrow': 9086, 'creator': 2051, 'dismiss': 2555, 'exaggeration': 3085, 'cringed': 2075, 'prank': 6754, 'emphasize': 2914, 'flip': 3456, 'samuel': 7651, 'fires': 3406, 'payoff': 6452, 'felix': 3322, 'jewelry': 4788, 'spotted': 8375, 'roland': 7520, 'raymond': 7112, 'timothy': 9047, 'dalton': 2170, 'francis': 3560, 'norwegian': 6072, 'gather': 3691, 'manga': 5432, 'darkly': 2207, 'monkeys': 5777, 'severe': 7896, 'readily': 7127, 'intelligently': 4613, 'opener': 6212, 'lance': 5018, 'woke': 9862, 'tent': 8903, 'citizen': 1559, 'athletic': 545, 'ghetto': 3747, 'waterfall': 9687, 'iceberg': 4368, 'rests': 7383, 'lastly': 5048, 'rhyme': 7435, 'sunk': 8680, 'attributed': 578, 'bake': 669, 'freeze': 3583, 'controlled': 1916, 'caution': 1360, 'suspicion': 8749, 'demonstrate': 2338, 'polar': 6663, 'superfluous': 8689, 'habit': 3976, 'float': 3458, 'imposed': 4447, 'unnamed': 9393, 'butch': 1190, 'technological': 8871, 'advances': 142, 'niven': 6038, 'documents': 2605, 'gilbert': 3763, 'ol': 6188, 'gal': 3657, 'mouths': 5839, 'ideals': 4378, 'functions': 3628, 'rewarding': 7430, 'slept': 8164, 'potent': 6733, 'threw': 8999, 'btk': 1129, 'reminding': 7294, 'tolerable': 9075, 'baddies': 662, 'denial': 2342, 'reliable': 7264, 'bloke': 931, 'kirsten': 4950, 'holmes': 4238, 'faded': 3219, 'ellen': 2881, 'ethel': 3043, 'pulse': 6958, 'swallow': 8754, 'gap': 3673, 'dealers': 2242, 'splitting': 8356, 'exterior': 3189, 'principle': 6835, 'mendes': 5609, 'fiasco': 3345, 'bigfoot': 859, 'heath': 4116, 'ledger': 5106, 'grease': 3888, 'mentor': 5617, 'unclear': 9313, 'lennon': 5126, 'threads': 8992, 'dominic': 2623, 'responds': 7373, 'promotion': 6896, 'argue': 452, 'gadget': 3650, 'inspector': 4583, 'narrow': 5929, 'neighbours': 5980, 'views': 9545, 'regime': 7228, 'grandparents': 3870, 'fascist': 3275, 'strung': 8579, 'terminator': 8906, 'demise': 2334, 'barker': 699, 'playwright': 6627, 'allies': 249, 'adored': 133, 'rescued': 7347, 'arkin': 459, 'crimes': 2070, 'relax': 7253, 'shouts': 8019, 'shootings': 7998, 'manic': 5436, 'frost': 3608, 'impressions': 4452, 'timing': 9044, 'butcher': 1191, 'sixteen': 8118, 'brazilian': 1057, 'gackt': 3649, 'kei': 4895, 'talked': 8819, 'muslims': 5888, 'christians': 1528, 'update': 9423, 'wealth': 9704, 'hosts': 4299, 'letters': 5148, 'considers': 1870, 'hugo': 4324, 'chavez': 1451, 'rampant': 7063, 'deserted': 2388, 'tide': 9027, 'flavia': 3438, 'convent': 1923, 'dominated': 2622, 'sack': 7615, 'hostel': 4297, 'hardened': 4041, 'carlos': 1302, 'elliot': 2882, 'stardom': 8424, 'judged': 4838, 'merits': 5625, 'sh': 7910, 'beers': 773, 'stalwart': 8410, 'angelina': 328, 'insurance': 4604, 'hawaii': 4085, 'fiery': 3354, 'edges': 2823, 'thailand': 8928, 'perfection': 6490, 'sara': 7666, 'exhibit': 3117, 'minimum': 5693, 'puzzling': 6994, 'expects': 3136, 'cursed': 2140, 'kolchak': 4976, 'mcgavin': 5554, 'article': 486, 'purchase': 6970, 'shoulders': 8015, 'penis': 6476, 'deranged': 2375, 'fianc': 3343, 'evoke': 3074, 'authenticity': 598, 'frustration': 3614, 'wicker': 9785, 'truths': 9249, 'inserted': 4571, 'awfulness': 632, 'riley': 7462, 'slack': 8143, 'henchmen': 4148, 'concludes': 1816, 'technology': 8872, 'improbable': 4456, 'senior': 7836, 'goose': 3838, 'manhattan': 5433, 'leaps': 5093, 'chapter': 1424, 'hanzo': 4026, 'closure': 1638, 'katsu': 4883, 'titular': 9060, 'hack': 3977, 'chaos': 1421, 'rico': 7446, 'inter': 4624, 'psychedelic': 6937, 'soup': 8288, 'amidst': 296, 'comfort': 1723, 'unsympathetic': 9413, 'excellently': 3092, 'relied': 7265, 'array': 471, 'generate': 3710, 'reward': 7428, 'deborah': 2256, 'travolta': 9193, 'mechanical': 5575, 'dressing': 2697, 'knocking': 4967, 'neill': 5982, 'grandson': 3871, 'uttered': 9454, 'basketball': 722, 'marathon': 5454, 'kindness': 4940, 'astronauts': 542, 'phoenix': 6540, 'slavery': 8154, 'arab': 436, 'bias': 852, 'shepherd': 7964, 'tops': 9106, 'substitute': 8624, 'largest': 5039, 'psychic': 6940, 'scripting': 7764, 'zany': 9983, 'mins': 5701, 'decline': 2276, 'happier': 4033, 'objective': 6125, 'bloodbath': 936, 'spectacularly': 8320, 'participants': 6398, 'underworld': 9344, 'rolled': 7524, 'bones': 978, 'ruining': 7585, 'modesty': 5761, 'blaise': 903, 'alexandra': 229, 'property': 6904, 'prospect': 6910, 'kaufman': 4884, 'shameful': 7928, 'revolt': 7421, 'arizona': 458, 'peckinpah': 6464, 'exploding': 3159, 'alvin': 275, 'gilligan': 3766, 'wells': 9732, 'creation': 2047, 'conceit': 1800, 'brett': 1077, 'audition': 585, 'insert': 4570, 'accuracy': 62, 'routines': 7571, 'conductor': 1823, 'iturbi': 4728, 'resume': 7388, 'candle': 1251, 'chainsaw': 1399, 'budgets': 1140, 'rivers': 7484, 'lurking': 5354, 'inadvertently': 4465, 'puzzled': 6993, 'observations': 6135, 'menacing': 5608, 'tacky': 8800, 'favourites': 3296, 'sheets': 7956, 'abandon': 1, 'retrospect': 7398, 'clyde': 1653, 'dunaway': 2756, 'aforementioned': 164, 'doyle': 2659, 'establish': 3030, 'couples': 2001, 'district': 2580, 'teddy': 8874, 'flashing': 3435, 'seduce': 7798, 'enhanced': 2959, 'represent': 7332, 'peck': 6462, 'parking': 6389, 'clooney': 1629, 'stalk': 8405, 'ali': 232, 'harbor': 4038, 'referring': 7212, 'anthology': 367, 'distracting': 2574, 'gallery': 3660, 'messing': 5634, 'chilling': 1494, 'wimp': 9813, 'diner': 2492, 'breathe': 1068, 'wan': 9638, 'watcher': 9682, 'insignificant': 4576, 'paragraph': 6378, 'waking': 9623, 'layers': 5079, 'sealed': 7772, 'inherent': 4551, 'unstable': 9409, 'borderline': 995, 'scratching': 7745, 'behaves': 788, 'artemisia': 483, 'charges': 1435, 'edie': 2825, 'dante': 2199, 'immoral': 4434, 'sheila': 7957, 'murdering': 5872, 'kidnaps': 4926, 'sibling': 8038, 'morals': 5802, 'joshua': 4828, 'progression': 6880, 'duchovny': 2738, 'connie': 1848, 'carla': 1300, 'license': 5164, 'connections': 1846, 'hawke': 4086, 'janet': 4750, 'unsure': 9411, 'exists': 3125, 'desires': 2401, 'addict': 105, 'raunchy': 7106, 'hunk': 4342, 'canada': 1244, 'stereo': 8481, 'trish': 9228, 'pimp': 6580, 'liz': 5243, 'seller': 7825, 'sexes': 7900, 'misery': 5715, 'daytime': 2233, 'heartily': 4111, 'sellers': 7826, 'nervous': 5994, 'frenetic': 3586, 'madison': 5380, 'poker': 6660, 'neal': 5954, 'rosemary': 7556, 'randall': 7066, 'overacts': 6296, 'stepmother': 8477, 'arnie': 466, 'unbearably': 9306, 'gable': 3647, 'heat': 4115, 'roof': 7541, 'unconventional': 9316, 'cher': 1477, 'mac': 5366, 'nurse': 6117, 'astronaut': 541, 'bursts': 1174, 'stoic': 8512, 'sergeant': 7866, 'desolate': 2403, 'advanced': 141, 'repressed': 7338, 'gusto': 3966, 'pertwee': 6516, 'jared': 4756, 'seasoned': 7778, 'sensible': 7844, 'mayor': 5546, 'rousing': 7568, 'cassavetes': 1332, 'operating': 6218, 'bach': 645, 'mira': 5705, 'planes': 6606, 'wtc': 9935, 'excuses': 3111, 'wink': 9824, 'packs': 6335, 'improvement': 4459, 'audiard': 581, 'devos': 2443, 'colleagues': 1685, 'handling': 4015, 'visceral': 9570, 'prophet': 6906, 'misplaced': 5723, 'justify': 4866, 'wherein': 9760, 'downside': 2657, 'forrest': 3531, 'communicate': 1747, 'permanently': 6505, 'grandpa': 3869, 'ho': 4221, 'hum': 4327, 'thankful': 8931, 'corpse': 1969, 'goldblum': 3822, 'pleased': 6631, 'stroke': 8568, 'pen': 6472, 'transitions': 9171, 'gena': 3705, 'rowlands': 7573, 'impending': 4438, 'verbal': 9503, 'disgruntled': 2544, 'madeleine': 5379, 'juliette': 4850, 'binoche': 875, 'willem': 9804, 'dafoe': 2162, 'denis': 2345, 'natalie': 5933, 'communication': 1748, 'alienation': 237, 'elephant': 2871, 'pauses': 6445, 'campus': 1241, 'county': 1997, 'witless': 9850, 'unlikable': 9388, 'guitar': 3958, 'bass': 723, 'bailey': 667, 'drummer': 2727, 'nifty': 6024, 'strongest': 8571, 'paints': 6351, 'amounts': 303, 'hark': 4048, 'adolescent': 129, 'affecting': 157, 'nonexistent': 6056, 'gerald': 3732, 'chaotic': 1422, 'unpredictable': 9400, 'leon': 5131, 'accurately': 64, 'kilmer': 4935, 'casted': 1337, 'wendy': 9734, 'apple': 416, 'marlon': 5477, 'brando': 1047, 'spliced': 8354, 'require': 7342, 'warehouse': 9653, 'ranting': 7081, 'disastrous': 2523, 'clone': 1628, 'musician': 5885, 'todays': 9065, 'phillip': 6535, 'hayward': 4090, 'byron': 1206, 'vaudeville': 9489, 'novak': 6095, 'sensibilities': 7842, 'witches': 9845, 'poppins': 6687, 'october': 6157, 'subsequent': 8620, 'lingering': 5212, 'aspiring': 512, 'christie': 1529, 'warns': 9663, 'alliance': 248, 'shrink': 8033, 'bird': 879, 'benefits': 818, 'incorporate': 4492, 'smaller': 8191, 'blockbusters': 930, 'harlin': 4050, 'cliffhanger': 1612, 'governor': 3850, 'broderick': 1104, 'lon': 5273, 'chaney': 1413, 'sugar': 8656, 'fabric': 3204, 'crucial': 2106, 'shift': 7971, 'guinness': 3957, 'shaun': 7947, 'vietnamese': 9537, 'prostitution': 6913, 'cambodia': 1227, 'crossing': 2099, 'exposes': 3175, 'bolivia': 964, 'soderbergh': 8229, 'che': 1452, 'guevara': 3950, 'disappoint': 2516, 'del': 2306, 'toro': 9111, 'stripped': 8566, 'imaginary': 4416, 'en': 2923, 'groundbreaking': 3925, 'cuban': 2121, 'justification': 4864, 'palma': 6362, 'showcase': 8022, 'therapist': 8954, 'cab': 1207, 'engagement': 2950, 'vertigo': 9514, 'affection': 158, 'hippie': 4199, 'franklin': 3566, 'fury': 3641, 'atrocity': 553, 'levy': 5153, 'kusturica': 4993, 'awaiting': 617, 'gere': 3734, 'snuff': 8218, 'watered': 9686, 'distress': 2576, 'standpoint': 8418, 'abundance': 32, 'janitor': 4751, 'daphne': 2200, 'keen': 4890, 'shattering': 7946, 'bosses': 1009, 'capitalism': 1266, 'purse': 6978, 'cbc': 1363, 'senator': 7832, 'mccarthy': 5549, 'worrying': 9899, 'exclusively': 3107, 'token': 9072, 'phrases': 6551, 'loop': 5290, 'leopold': 5133, 'occupied': 6152, 'neutral': 6001, 'werewolves': 9739, 'subversive': 8632, 'europa': 3047, 'lars': 5041, 'fritz': 3602, 'lang': 5028, 'defeated': 2290, 'hypnotic': 4362, 'kornbluth': 4981, 'tunnel': 9259, 'discount': 2529, 'discernible': 2526, 'micheal': 5653, 'confines': 1829, 'cousins': 2009, 'babies': 641, 'christy': 1534, 'snowman': 8216, 'parodies': 6391, 'washed': 9672, 'gloomy': 3796, 'everett': 3063, 'sloane': 8178, 'youthful': 9976, 'limbs': 5195, 'dicaprio': 2459, 'wilder': 9799, 'kumar': 4989, 'smug': 8205, 'strict': 8557, 'scifi': 7732, 'decoration': 2277, 'extensive': 3187, 'preachy': 6761, 'sly': 8188, 'snowy': 8217, 'maniac': 5434, 'glued': 3805, 'bowl': 1026, 'notably': 6078, 'stereotyping': 8486, 'cocaine': 1663, 'willy': 9811, 'estranged': 3037, 'clown': 1644, 'existential': 3123, 'herbert': 4153, 'succession': 8640, 'ching': 1499, 'chang': 1414, 'stallone': 8409, 'garcia': 3677, 'citizens': 1560, 'colony': 1697, 'bombing': 969, 'wrongly': 9933, 'underused': 9341, 'christensen': 1525, 'hostile': 4298, 'mentions': 5616, 'seductive': 7800, 'lions': 5218, 'resonance': 7363, 'biblical': 855, 'drain': 2672, 'decapitated': 2262, 'deputy': 2373, 'gathered': 3692, 'dimension': 2489, 'admits': 126, 'ie': 4391, 'passage': 6414, 'indians': 4506, 'blondell': 934, 'pegg': 6470, 'kazan': 4886, 'observed': 6137, 'flock': 3460, 'bw': 1202, 'ne': 5953, 'literary': 5233, 'indulge': 4517, 'cheering': 1468, 'powered': 6743, 'starship': 8435, 'troopers': 9234, 'homer': 4245, 'greek': 3897, 'jedi': 4768, 'owl': 6320, 'wilderness': 9800, 'illustrated': 4409, 'placing': 6600, 'casper': 1331, 'youtube': 9977, 'jeopardy': 4774, 'yells': 9956, 'amos': 301, 'interminable': 4635, 'bo': 949, 'woefully': 9861, 'positions': 6715, 'varying': 9486, 'swept': 8766, 'collar': 1683, 'hardships': 4044, 'unbelievably': 9308, 'swedish': 8761, 'adulthood': 138, 'earliest': 2790, 'infidelity': 4531, 'inexperienced': 4524, 'crenna': 2065, 'thereafter': 8957, 'policy': 6668, 'ashley': 499, 'ranch': 7065, 'selected': 7820, 'beforehand': 776, 'soccer': 8222, 'retro': 7397, 'bearable': 746, 'joining': 4812, 'thunder': 9021, 'frantic': 3568, 'geeky': 3700, 'caroline': 1307, 'ostensibly': 6265, 'maniacal': 5435, 'projected': 6882, 'wronged': 9932, 'hamilton': 4002, 'announced': 353, 'haunt': 4078, 'avenge': 609, 'beth': 840, 'concentrates': 1804, 'depend': 2359, 'momentum': 5770, 'monica': 5774, 'mummy': 5862, 'bodyguard': 958, 'pita': 6587, 'obtain': 6143, 'stable': 8391, 'aboard': 11, 'predictability': 6769, 'crushing': 2114, 'pitiful': 6590, 'quarters': 7005, 'seduction': 7799, 'midget': 5660, 'relevance': 7262, 'dahmer': 2165, 'sf': 7907, 'overwrought': 6316, 'ww': 9938, 'upbringing': 9421, 'supportive': 8703, 'primal': 6826, 'envelope': 2995, 'lightly': 5180, 'addiction': 107, 'lindsey': 5205, 'stricken': 8556, 'devotion': 2445, 'assortment': 529, 'applied': 417, 'leonard': 5132, 'sg': 7908, 'marvin': 5498, 'fluff': 3469, 'terry': 8919, 'hulk': 4326, 'fades': 3220, 'bath': 727, 'architecture': 442, 'interestingly': 4631, 'ballroom': 680, 'krueger': 4986, 'structure': 8574, 'dazzling': 2234, 'constructed': 1881, 'posters': 6730, 'origin': 6253, 'nixon': 6039, 'regrets': 7232, 'lex': 5155, 'stupidest': 8602, 'exposing': 3176, 'cape': 1263, 'expose': 3173, 'operatic': 6217, 'journalist': 4829, 'classes': 1580, 'mannerisms': 5445, 'disorder': 2557, 'carell': 1291, 'dane': 2188, 'frames': 3554, 'parks': 6390, 'surfing': 8716, 'informs': 4543, 'ireland': 4689, 'yea': 9948, 'nutty': 6121, 'mcadams': 5547, 'cillian': 1542, 'reception': 7168, 'weekly': 9721, 'stepped': 8478, 'choreography': 1518, 'lionel': 5217, 'tokyo': 9073, 'leslie': 5137, 'cheung': 1480, 'villagers': 9551, 'wolves': 9864, 'spirits': 8346, 'flows': 3468, 'enchanting': 2925, 'rainbow': 7048, 'champion': 1407, 'beckham': 763, 'poses': 6710, 'renders': 7306, 'honey': 4256, 'niece': 6022, 'wash': 9671, 'hugely': 4321, 'familiarity': 3247, 'presenting': 6795, 'sm': 8189, 'anguish': 337, 'casablanca': 1326, 'wisdom': 9835, 'loathing': 5252, 'theories': 8952, 'dunst': 2759, 'sophie': 8265, 'rounds': 7566, 'inclusion': 4483, 'amid': 295, 'inventive': 4668, 'cure': 2131, 'virginity': 9565, 'arrival': 474, 'brooks': 1112, 'farnsworth': 3268, 'til': 9036, 'cancer': 1248, 'incidents': 4477, 'starving': 8442, 'britney': 1099, 'bashing': 717, 'realised': 7134, 'godard': 3811, 'inspires': 4588, 'engineer': 2953, 'trailers': 9155, 'restored': 7379, 'incompetence': 4486, 'hesitation': 4167, 'fleeting': 3447, 'lester': 5142, 'lifted': 5174, 'quirks': 7021, 'rejected': 7241, 'pam': 6366, 'handicapped': 4011, 'mildred': 5670, 'hale': 3992, 'cockney': 1664, 'rko': 7486, 'eleanor': 2861, 'martino': 5493, 'illustrates': 4410, 'meal': 5561, 'mentality': 5611, 'brits': 1100, 'marine': 5465, 'secure': 7796, 'pursues': 6981, 'understands': 9335, 'styles': 8606, 'daisy': 2168, 'deck': 2275, 'renaissance': 7302, 'sources': 8291, 'shades': 7912, 'civilization': 1564, 'conventions': 1926, 'superiors': 8692, 'rea': 7116, 'tanks': 8828, 'kurosawa': 4991, 'versa': 9509, 'montages': 5788, 'tucker': 9254, 'patch': 6426, 'vibe': 9522, 'cushing': 2144, 'prologue': 6885, 'documented': 2604, 'planted': 6612, 'fixed': 3424, 'evolve': 3077, 'melinda': 5593, 'pills': 6576, 'superstar': 8696, 'weaker': 9700, 'breathing': 1069, 'detectives': 2425, 'alternately': 270, 'perfected': 6489, 'eyre': 3202, 'bronte': 1108, 'rochester': 7505, 'intricate': 4652, 'collect': 1686, 'epics': 2999, 'shamelessly': 7930, 'naschy': 5930, 'shocks': 7990, 'predicted': 6772, 'cycle': 2153, 'raft': 7041, 'elisha': 2877, 'trusted': 9246, 'nuance': 6105, 'laputa': 5034, 'melancholy': 5591, 'coffin': 1671, 'tricked': 9216, 'bores': 1000, 'freaks': 3574, 'decency': 2265, 'ella': 2880, 'drum': 2726, 'phantom': 6529, 'sincere': 8088, 'hallmark': 3997, 'corn': 1964, 'whipped': 9770, 'collecting': 1687, 'courtesy': 2006, 'archive': 443, 'combs': 1714, 'differ': 2472, 'statue': 8452, 'fugitive': 3619, 'scarlet': 7708, 'sporting': 8370, 'geisha': 3701, 'mick': 5656, 'jagger': 4741, 'poo': 6679, 'drifter': 2702, 'incarnation': 4470, 'espionage': 3025, 'authorities': 600, 'precise': 6763, 'vanessa': 9475, 'converted': 1929, 'cynicism': 2156, 'tensions': 8902, 'corporation': 1968, 'odyssey': 6162, 'voyage': 9606, 'luthor': 5358, 'degrees': 2305, 'maintains': 5406, 'melt': 5598, 'landmark': 5023, 'insects': 4569, 'beetle': 774, 'pickup': 6565, 'wisely': 9837, 'evans': 3053, 'yoda': 9963, 'spock': 8357, 'stranded': 8537, 'concluded': 1815, 'baseketball': 714, 'apartheid': 391, 'pokemon': 6659, 'wagner': 9613, 'survives': 8736, 'foreboding': 3509, 'releasing': 7259, 'mama': 5421, 'sabrina': 7613, 'mesmerizing': 5629, 'savior': 7692, 'darling': 2211, 'richly': 7443, 'talkie': 8820, 'informer': 4542, 'interiors': 4634, 'gypo': 3973, 'policemen': 6667, 'fodder': 3479, 'wheels': 9755, 'dopey': 2637, 'slob': 8179, 'groovy': 3920, 'grumpy': 3938, 'thereby': 8958, 'mcdonald': 5552, 'arrogance': 479, 'achievements': 71, 'tsui': 9252, 'zu': 9999, 'astounding': 540, 'substantial': 8623, 'defines': 2297, 'screamed': 7747, 'examine': 3087, 'ajay': 207, 'incident': 4474, 'raj': 7056, 'organ': 6246, 'november': 6100, 'january': 4752, 'deeds': 2282, 'supports': 8704, 'han': 4007, 'jabba': 4732, 'emperor': 2912, 'leia': 5118, 'skywalker': 8142, 'temptation': 8889, 'ewoks': 3080, 'studying': 8590, 'mamet': 5422, 'dench': 2341, 'dukakis': 2747, 'caron': 1308, 'funky': 3632, 'hans': 4025, 'glow': 3803, 'engine': 2952, 'schneider': 7722, 'wu': 9937, 'connolly': 1850, 'muscular': 5880, 'lanza': 5033, 'torturing': 9115, 'akin': 209, 'adore': 132, 'imo': 4436, 'trinity': 9223, 'arcs': 444, 'exclusive': 3106, 'employees': 2919, 'meyers': 5647, 'elevate': 2873, 'anchor': 314, 'deer': 2288, 'neve': 6002, 'flea': 3444, 'attended': 566, 'grounded': 3926, 'astonishing': 538, 'patriotic': 6437, 'hartman': 4065, 'smoothly': 8204, 'gods': 3813, 'spiderman': 8336, 'anil': 338, 'tashan': 8840, 'carlito': 1301, 'exploited': 3163, 'banana': 683, 'slide': 8169, 'dangers': 2193, 'contemplate': 1889, 'partition': 6405, 'civilized': 1565, 'kamal': 4869, 'slipped': 8176, 'muriel': 5875, 'esther': 3036, 'tito': 9058, 'gravity': 3885, 'peril': 6501, 'registered': 7230, 'shaw': 7948, 'prevents': 6815, 'assistant': 524, 'coupled': 2000, 'sleeve': 8163, 'samantha': 7646, 'knives': 4964, 'glorified': 3798, 'sid': 8043, 'korea': 4979, 'anders': 318, 'assure': 534, 'nailed': 5913, 'shatner': 7945, 'data': 2217, 'elected': 2862, 'claw': 1590, 'supporters': 8701, 'endure': 2941, 'gladiator': 3782, 'wal': 9624, 'mart': 5488, 'tripe': 9226, 'aircraft': 202, 'heading': 4098, 'redeemed': 7193, 'hysterically': 4364, 'wrath': 9916, 'increase': 4494, 'ideology': 4384, 'barrel': 704, 'castro': 1340, 'thirds': 8974, 'eleven': 2875, 'almighty': 257, 'compound': 1792, 'insist': 4578, 'executives': 3115, 'puerto': 6952, 'monstrosity': 5786, 'darius': 2203, 'georgia': 3731, 'sales': 7637, 'blandings': 909, 'myrna': 5901, 'loy': 5328, 'melvyn': 5600, 'bela': 795, 'brides': 1081, 'dwarf': 2774, 'wrestler': 9921, 'farrah': 3269, 'fawcett': 3297, 'yvonne': 9980, 'presidential': 6799, 'frosty': 3609, 'captivated': 1274, 'dedication': 2279, 'injustice': 4558, 'shout': 8017, 'knees': 4958, 'wray': 9917, 'pbs': 6455, 'frontier': 3607, 'colonial': 1696, 'islam': 4709, 'rumor': 7591, 'composer': 1789, 'infinitely': 4532, 'jury': 4861, 'sweeps': 8763, 'stealth': 8463, 'shiny': 7978, 'trump': 9243, 'lambert': 5015, 'similarity': 8073, 'timmy': 9045, 'bloated': 926, 'funding': 3630, 'creepiness': 2062, 'traumatized': 9186, 'circles': 1553, 'hopelessly': 4276, 'saints': 7634, 'landlord': 5022, 'omar': 6198, 'analysis': 312, 'toxic': 9137, 'askey': 505, 'ossessione': 6264, 'reject': 7240, 'dumber': 2752, 'kermit': 4907, 'dour': 2648, 'finney': 3402, 'officially': 6178, 'airport': 206, 'identified': 4381, 'hating': 4075, 'monologues': 5780, 'cringing': 2076, 'sparks': 8307, 'trivial': 9232, 'shootouts': 8000, 'homicide': 4250, 'lt': 5331, 'michel': 5654, 'roeg': 7515, 'celebrating': 1371, 'conception': 1807, 'cohesive': 1674, 'stoned': 8518, 'sustain': 8751, 'satisfactory': 7680, 'defies': 2294, 'hartnett': 4066, 'fuzzy': 3645, 'dripping': 2707, 'chamberlain': 1406, 'instruments': 4599, 'giggle': 3761, 'cracker': 2021, 'playful': 6624, 'abominable': 12, 'deliverance': 2320, 'placement': 6598, 'scriptwriter': 7766, 'excels': 3093, 'breakthrough': 1064, 'excellence': 3090, 'winchester': 9815, 'fighters': 3361, 'fought': 3543, 'appeals': 407, 'diana': 2454, 'backwards': 656, 'scrooge': 7768, 'backdrops': 650, 'heather': 4117, 'henderson': 4149, 'nicky': 6019, 'stakes': 8403, 'associate': 525, 'inform': 4538, 'bing': 874, 'profits': 6870, 'prehistoric': 6778, 'disregard': 2562, 'boyer': 1032, 'lavish': 5071, 'scarecrows': 7702, 'mining': 5694, 'gosh': 3844, 'lunatic': 5349, 'keller': 4898, 'bart': 708, 'truthful': 9248, 'valentine': 9464, 'vaughn': 9490, 'reeks': 7202, 'pm': 6644, 'ecstasy': 2817, 'sufficient': 8655, 'socially': 8225, 'vinnie': 9558, 'punchline': 6963, 'ang': 324, 'jewel': 4787, 'attributes': 579, 'imprisoned': 4455, 'straw': 8543, 'dogma': 2611, 'hunger': 4340, 'turtle': 9270, 'carnival': 1305, 'voodoo': 9600, 'aztec': 638, 'morgue': 5809, 'abraham': 18, 'stripper': 8567, 'episodic': 3002, 'collaboration': 1681, 'blazing': 915, 'duff': 2745, 'mall': 5419, 'fleeing': 3445, 'imho': 4423, 'lopez': 5293, 'shrill': 8032, 'bonds': 976, 'setup': 7890, 'powerfully': 6745, 'thieves': 8966, 'systems': 8793, 'atwill': 580, 'boyish': 1035, 'suspended': 8745, 'exudes': 3197, 'dukes': 2749, 'hazzard': 4092, 'criminally': 2072, 'fido': 3348, 'accessible': 48, 'cultures': 2127, 'rudd': 7580, 'seth': 7884, 'blames': 907, 'divided': 2589, 'inclined': 4478, 'respects': 7371, 'judd': 4835, 'michaels': 5652, 'undertaker': 9339, 'booker': 987, 'wwe': 9939, 'wwf': 9940, 'wrestlemania': 9920, 'supremacy': 8708, 'lands': 5024, 'winded': 9817, 'freely': 3581, 'vintage': 9559, 'tolerate': 9077, 'accomplishment': 58, 'entries': 2993, 'suggesting': 8659, 'opposing': 6226, 'marion': 5468, 'wang': 9642, 'societal': 8226, 'suburban': 8631, 'assembled': 517, 'authors': 602, 'unravel': 9402, 'staff': 8395, 'creeps': 2063, 'participation': 6401, 'unrated': 9401, 'musicians': 5886, 'ignores': 4397, 'upsetting': 9430, 'righteous': 7458, 'gigantic': 3760, 'salman': 7640, 'khan': 4913, 'similarly': 8074, 'metaphor': 5638, 'stargate': 8428, 'battlestar': 736, 'galactica': 3658, 'copied': 1951, 'matching': 5522, 'destroys': 2417, 'mediocrity': 5581, 'evokes': 3075, 'rapture': 7090, 'resistance': 7359, 'calamity': 1217, 'madsen': 5385, 'yokai': 9964, 'takashi': 8806, 'passenger': 6416, 'europeans': 3050, 'brink': 1095, 'pecker': 6463, 'undertones': 9340, 'altering': 268, 'giants': 3753, 'toole': 9099, 'lindy': 5206, 'frenzy': 3587, 'streep': 8546, 'corey': 1959, 'transparent': 9175, 'submit': 8617, 'henchman': 4147, 'wartime': 9669, 'idealistic': 4377, 'draft': 2665, 'icons': 4372, 'slater': 8151, 'deepest': 2286, 'einstein': 2855, 'robbins': 7496, 'drugged': 2724, 'difficulty': 2479, 'blackie': 896, 'burden': 1162, 'hiv': 4217, 'capitalize': 1267, 'federal': 3312, 'whacked': 9747, 'crashed': 2031, 'weaves': 9714, 'sherlock': 7967, 'climbs': 1619, 'virginia': 9564, 'shelter': 7961, 'picker': 6561, 'mcqueen': 5558, 'blob': 927, 'icy': 4373, 'ranges': 7074, 'ingrid': 4547, 'towel': 9131, 'bothering': 1014, 'barton': 710, 'phyllis': 6552, 'pranks': 6755, 'ma': 5365, 'fanny': 3255, 'eyebrows': 3199, 'irons': 4696, 'variation': 9480, 'rewrite': 7432, 'posh': 6712, 'wendigo': 9733, 'rack': 7036, 'venezuela': 9498, 'overt': 6311, 'damme': 2175, 'thorn': 8982, 'despise': 2409, 'emmy': 2905, 'avant': 608, 'garde': 3678, 'unhinged': 9365, 'zabriskie': 9981, 'steiner': 8471, 'lifelong': 5170, 'notions': 6092, 'searched': 7775, 'serbian': 7865, 'magnum': 5396, 'observe': 6136, 'joint': 4814, 'knack': 4957, 'quoting': 7027, 'orgy': 6250, 'sheen': 7952, 'hedy': 4125, 'sissy': 8105, 'goer': 3815, 'fellini': 3324, 'expanded': 3130, 'cocktail': 1665, 'amateurs': 281, 'fricker': 3591, 'patricia': 6435, 'forsythe': 3532, 'shin': 7974, 'berserk': 834, 'portions': 6700, 'unimpressive': 9370, 'luc': 5333, 'cylons': 2154, 'caprica': 1269, 'lil': 5192, 'consumed': 1883, 'chow': 1522, 'vivah': 9585, 'shahid': 7918, 'amrita': 305, 'indifference': 4511, 'gilliam': 3764, 'embark': 2894, 'bathsheba': 730, 'meadows': 5560, 'swords': 8779, 'undeveloped': 9345, 'quinn': 7019, 'sleuth': 8165, 'hoover': 4269, 'glee': 3789, 'opportunities': 6223, 'downfall': 2653, 'uniforms': 9368, 'lugosi': 5342, 'slugs': 8186, 'mutated': 5894, 'fiennes': 3352, 'russians': 7607, 'liberties': 5160, 'piper': 6583, 'tramp': 9161, 'gung': 3961, 'guided': 3952, 'anticipation': 371, 'heflin': 4127, 'lin': 5201, 'depends': 2361, 'callahan': 1222, 'sondra': 8256, 'gino': 3771, 'giovanna': 3772, 'calculated': 1218, 'getaway': 3743, 'ceiling': 1368, 'gays': 3696, 'portuguese': 6708, 'roddy': 7512, 'phenomenal': 6531, 'organs': 6249, 'capt': 1272, 'raider': 7045, 'scorpion': 7739, 'levant': 5150, 'amazon': 285, 'silliness': 8067, 'dietrich': 2471, 'bergman': 827, 'shortcomings': 8006, 'stepping': 8479, 'disdain': 2540, 'deathtrap': 2252, 'reeve': 7206, 'cannon': 1256, 'gown': 3852, 'exit': 3126, 'knoxville': 4975, 'stab': 8388, 'uniquely': 9378, 'aura': 590, 'classmates': 1585, 'misfire': 5716, 'classy': 1586, 'tenderness': 8898, 'prejudice': 6779, 'tigerland': 9033, 'launch': 5064, 'banks': 689, 'pia': 6556, 'boris': 1003, 'bava': 739, 'ogre': 6183, 'hickock': 4171, 'sentenced': 7850, 'perverse': 6517, 'sleeps': 8161, 'voyager': 9607, 'motel': 5822, 'esquire': 3026, 'earns': 2795, 'tested': 8923, 'monumental': 5793, 'heavenly': 4119, 'sync': 8789, 'myrtle': 5902, 'formed': 3526, 'belushi': 813, 'railroad': 7046, 'albums': 221, 'elephants': 2872, 'bonanza': 972, 'vance': 9474, 'chewing': 1482, 'tolkien': 9078, 'badness': 664, 'admired': 122, 'keeler': 4889, 'steele': 8468, 'shah': 7917, 'rukh': 7587, 'deception': 2267, 'foch': 3474, 'needle': 5969, 'brandon': 1048, 'butterfly': 1195, 'jam': 4744, 'outsider': 6292, 'captive': 1276, 'manufactured': 5450, 'loony': 5289, 'temper': 8886, 'fireworks': 3407, 'bennett': 820, 'understandably': 9333, 'russo': 7608, 'czech': 2158, 'vapid': 9479, 'macbeth': 5369, 'influential': 4536, 'redgrave': 7197, 'spaceship': 8298, 'robbed': 7491, 'kinky': 4946, 'holt': 4240, 'deathstalker': 2251, 'isabelle': 4707, 'benoit': 822, 'electronic': 2866, 'buffalo': 1142, 'visionary': 9574, 'bliss': 925, 'outlook': 6284, 'travelling': 9189, 'forgivable': 3518, 'loren': 5295, 'effeminate': 2843, 'wiped': 9833, 'derived': 2378, 'lincoln': 5202, 'cowardly': 2017, 'evelyn': 3055, 'pompous': 6677, 'russ': 7603, 'gamera': 3663, 'suzanne': 8753, 'yeti': 9961, 'mukhsin': 5858, 'fuel': 3618, 'delia': 2308, 'towns': 9135, 'frye': 3615, 'encourages': 2931, 'chen': 1476, 'zhang': 9990, 'flamenco': 3429, 'choreographer': 1517, 'retirement': 7395, 'fiona': 3403, 'zelah': 9986, 'affections': 159, 'ravishing': 7109, 'caesar': 1210, 'demille': 2333, 'zoom': 9997, 'filler': 3371, 'pals': 6364, 'gardener': 3680, 'minnelli': 5698, 'kerr': 4908, 'bogdanovich': 960, 'blaine': 901, 'ditto': 2583, 'diaz': 2457, 'hayden': 4088, 'flames': 3430, 'taut': 8849, 'ants': 376, 'bryan': 1127, 'brat': 1051, 'stephanie': 8475, 'launched': 5065, 'brendan': 1074, 'howling': 4315, 'drawback': 2680, 'lansbury': 5032, 'financially': 3389, 'contrasting': 1909, 'phantasm': 6528, 'disappoints': 2520, 'opponents': 6222, 'taker': 8809, 'teamed': 8861, 'jameson': 4746, 'surfers': 8715, 'surf': 8712, 'lubitsch': 5332, 'bimbo': 872, 'ingredient': 4545, 'karloff': 4877, 'echoes': 2814, 'participating': 6400, 'sammo': 7649, 'venoms': 9500, 'patriarch': 6434, 'chloe': 1501, 'africans': 168, 'borg': 1001, 'arbitrary': 437, 'bureau': 1163, 'promoting': 6895, 'admirably': 119, 'pervert': 6518, 'crouse': 2100, 'seinfeld': 7818, 'email': 2893, 'corky': 1961, 'tits': 9059, 'renowned': 7311, 'philo': 6537, 'hindsight': 4194, 'upbeat': 9420, 'todesking': 9067, 'knights': 4963, 'stern': 8489, 'robbie': 7494, 'coward': 2016, 'chocolate': 1503, 'mischievous': 5712, 'cruz': 2115, 'component': 1787, 'dripped': 2706, 'darkman': 2208, 'rooker': 7542, 'caruso': 1324, 'chimney': 1496, 'dallas': 2169, 'longtime': 5284, 'trent': 9208, 'rehearsal': 7236, 'olsen': 6197, 'puri': 6974, 'jigsaw': 4791, 'gram': 3864, 'correctness': 1973, 'veronica': 9507, 'schumacher': 7725, 'sammi': 7648, 'mcbain': 5548, 'maclean': 5374, 'valerie': 9465, 'bsg': 1128, 'ae': 151, 'hammerhead': 4005, 'zizek': 9991, 'warhols': 9654, 'harilal': 4047, 'kingsley': 4945, 'priya': 6843, 'surrogate': 8728, 'abbot': 3, 'psychiatric': 6938, 'oppressive': 6229, 'tango': 8826, 'cleveland': 1600, 'goldsworthy': 3825, 'intimacy': 4649, 'shakespearean': 7922, 'sensational': 7838, 'corleone': 1962, 'rosenstrasse': 7557, 'winslet': 9829, 'greenaway': 3899, 'hallam': 3996, 'louise': 5313, 'grisby': 3916, 'stoltz': 8515, 'rebels': 7159, 'sofia': 8230, 'corbett': 1956, 'cheaper': 1455, 'crowe': 2104, 'cloak': 1625, 'lithgow': 5235, 'approximately': 432, 'maradona': 5453, 'iago': 4365, 'intruder': 4662, 'lowe': 5325, 'graces': 3857, 'insanely': 4567, 'patty': 6440, 'macarthur': 5368, 'jed': 4767, 'undeniable': 9321, 'sherry': 7969, 'stefan': 8470, 'haim': 3986, 'rathbone': 7097, 'lds': 5083, 'passions': 6422, 'tremors': 9206, 'vera': 9502, 'pows': 6747, 'ripley': 7467, 'della': 2325, 'dahl': 2164, 'kells': 4899, 'alienate': 236, 'trelkovsky': 9203, 'veronika': 9508, 'eustache': 3051, 'hagar': 3984, 'lilly': 5193, 'nell': 5984, 'zatoichi': 9984, 'milverton': 5683, 'pasolini': 6411, 'hackenstein': 3978, 'seberg': 7784, 'morbius': 5805, 'panahi': 6369, 'dillinger': 2486, 'dibiase': 2458, 'kriemhild': 4983}\n"
     ]
    },
    {
     "name": "stdout",
     "output_type": "stream",
     "text": [
      "X_train:\n",
      "array([[0, 0, 0, ..., 0, 0, 0],\n",
      "       [0, 0, 0, ..., 0, 0, 0],\n",
      "       [0, 0, 0, ..., 0, 0, 0],\n",
      "       ...,\n",
      "       [0, 0, 0, ..., 0, 0, 0],\n",
      "       [0, 0, 0, ..., 0, 0, 0],\n",
      "       [0, 0, 0, ..., 1, 0, 0]], dtype=int64)\n",
      "Dense representation of words:\n",
      "[[0 0 0 ... 0 0 0]\n",
      " [0 0 0 ... 0 0 0]\n",
      " [0 0 0 ... 0 0 0]\n",
      " ...\n",
      " [0 0 0 ... 0 0 0]\n",
      " [0 0 0 ... 0 0 0]\n",
      " [0 0 0 ... 1 0 0]]\n",
      "Number of features: 10000\n",
      "First 20 features:\n",
      "['aaron' 'abandon' 'abandoned' 'abbot' 'abbott' 'abby' 'abc' 'abducted'\n",
      " 'abilities' 'ability' 'able' 'aboard' 'abominable' 'abomination'\n",
      " 'abortion' 'abound' 'about' 'above' 'abraham' 'abroad']\n",
      "Features 20010 to 20030:\n",
      "[]\n",
      "Every 2000th feature:\n",
      "['aaron' 'coupled' 'ham' 'neurotic' 'shootouts']\n"
     ]
    }
   ],
   "source": [
    "print(vectorizer.vocabulary_)\n",
    "print(\"X_train:\\n{}\".format(repr(words_train.toarray())))\n",
    "\n",
    "print(\"Dense representation of words:\\n{}\".format(words_train.toarray()))\n",
    "\n",
    "\n",
    "feature_names = vectorizer.get_feature_names_out()\n",
    "print(\"Number of features: {}\".format(len(feature_names)))\n",
    "print(\"First 20 features:\\n{}\".format(feature_names[:20]))\n",
    "print(\"Features 20010 to 20030:\\n{}\".format(feature_names[20010:20030]))\n",
    "print(\"Every 2000th feature:\\n{}\".format(feature_names[::2000]))"
   ]
  },
  {
   "cell_type": "markdown",
   "id": "e2514777",
   "metadata": {},
   "source": [
    "**(d)** Train a neural network with a single hidden layer on the dataset, tuning the relevant hyperparameters to optimize accuracy. "
   ]
  },
  {
   "cell_type": "code",
   "execution_count": 49,
   "id": "d5c42424",
   "metadata": {},
   "outputs": [
    {
     "name": "stdout",
     "output_type": "stream",
     "text": [
      "Model: \"sequential\"\n",
      "_________________________________________________________________\n",
      " Layer (type)                Output Shape              Param #   \n",
      "=================================================================\n",
      " dense (Dense)               (None, 16)                160016    \n",
      "                                                                 \n",
      " dropout (Dropout)           (None, 16)                0         \n",
      "                                                                 \n",
      " dense_1 (Dense)             (None, 1)                 17        \n",
      "                                                                 \n",
      "=================================================================\n",
      "Total params: 160,033\n",
      "Trainable params: 160,033\n",
      "Non-trainable params: 0\n",
      "_________________________________________________________________\n",
      "Epoch 1/11\n",
      "219/219 [==============================] - 3s 8ms/step - loss: 0.6580 - accuracy: 0.6122 - val_loss: 0.5852 - val_accuracy: 0.7749\n",
      "Epoch 2/11\n",
      "219/219 [==============================] - 2s 7ms/step - loss: 0.5519 - accuracy: 0.7549 - val_loss: 0.4835 - val_accuracy: 0.8380\n",
      "Epoch 3/11\n",
      "219/219 [==============================] - 1s 7ms/step - loss: 0.4757 - accuracy: 0.8139 - val_loss: 0.4317 - val_accuracy: 0.8597\n",
      "Epoch 4/11\n",
      "219/219 [==============================] - 1s 6ms/step - loss: 0.4230 - accuracy: 0.8439 - val_loss: 0.3938 - val_accuracy: 0.8671\n",
      "Epoch 5/11\n",
      "219/219 [==============================] - 1s 6ms/step - loss: 0.3860 - accuracy: 0.8629 - val_loss: 0.3700 - val_accuracy: 0.8706\n",
      "Epoch 6/11\n",
      "219/219 [==============================] - 1s 7ms/step - loss: 0.3504 - accuracy: 0.8776 - val_loss: 0.3464 - val_accuracy: 0.8766\n",
      "Epoch 7/11\n",
      "219/219 [==============================] - 2s 7ms/step - loss: 0.3289 - accuracy: 0.8874 - val_loss: 0.3337 - val_accuracy: 0.8774\n",
      "Epoch 8/11\n",
      "219/219 [==============================] - 1s 7ms/step - loss: 0.3074 - accuracy: 0.8971 - val_loss: 0.3226 - val_accuracy: 0.8817\n",
      "Epoch 9/11\n",
      "219/219 [==============================] - 1s 7ms/step - loss: 0.2869 - accuracy: 0.9056 - val_loss: 0.3149 - val_accuracy: 0.8806\n",
      "Epoch 10/11\n",
      "219/219 [==============================] - 1s 6ms/step - loss: 0.2724 - accuracy: 0.9110 - val_loss: 0.3073 - val_accuracy: 0.8829\n",
      "Epoch 11/11\n",
      "219/219 [==============================] - 1s 6ms/step - loss: 0.2590 - accuracy: 0.9153 - val_loss: 0.3037 - val_accuracy: 0.8814\n"
     ]
    }
   ],
   "source": [
    "import numpy as np\n",
    "import tensorflow as tf\n",
    "from tensorflow import keras\n",
    "from keras.models import Sequential\n",
    "from keras.layers import Dense, Activation\n",
    "from tensorflow.keras.layers import Dropout\n",
    "tf.random.set_seed(69)\n",
    "\n",
    "from keras.models import Model\n",
    " \n",
    "model = Sequential()\n",
    "\n",
    "# define the keras model relu\n",
    "model.add(Dense(16, input_dim=len(vectorizer.vocabulary_), activation='relu'))\n",
    "\n",
    "model.add(Dropout(0.5))\n",
    "\n",
    "# Output- Layer sigmoid\n",
    "model.add(Dense(1, activation = 'sigmoid')) \n",
    "model.summary()\n",
    "\n",
    "# hyper params\n",
    "learning_rate = 0.0001\n",
    "\n",
    "model.compile(loss='binary_crossentropy',  optimizer=keras.optimizers.Adam(learning_rate=learning_rate), metrics=['accuracy'])\n",
    "\n",
    "# Hyper params\n",
    "epochs = 11\n",
    "batch = 64\n",
    "\n",
    "history = model.fit(words_train.toarray(), train_labels,  validation_split = 0.2, \n",
    "                    epochs=epochs, batch_size=batch)"
   ]
  },
  {
   "cell_type": "code",
   "execution_count": 50,
   "id": "83054b3f",
   "metadata": {},
   "outputs": [
    {
     "data": {
      "image/png": "[encoded data removed]",
      "text/plain": [
       "<Figure size 432x288 with 1 Axes>"
      ]
     },
     "metadata": {
      "needs_background": "light"
     },
     "output_type": "display_data"
    },
    {
     "data": {
      "image/png": "[encoded data removed]",
      "text/plain": [
       "<Figure size 432x288 with 1 Axes>"
      ]
     },
     "metadata": {
      "needs_background": "light"
     },
     "output_type": "display_data"
    }
   ],
   "source": [
    "import matplotlib.pyplot as plt\n",
    "\n",
    "plt.plot(history.history['accuracy'])\n",
    "plt.plot(history.history['val_accuracy'])\n",
    "plt.title('The accuracy of the model')\n",
    "plt.ylabel('Accuracy')\n",
    "plt.xlabel('Epoch')\n",
    "plt.legend(['Train', 'Validation'], loc='upper left')\n",
    "plt.show()\n",
    "\n",
    "# Loss of train and validation\n",
    "plt.plot(history.history['loss'])\n",
    "plt.plot(history.history['val_loss'])\n",
    "plt.title('The loss of the model')\n",
    "plt.ylabel('Loss')\n",
    "plt.xlabel('Epoch')\n",
    "plt.legend(['Train', 'Validation'], loc='upper left')\n",
    "plt.show()"
   ]
  },
  {
   "cell_type": "markdown",
   "id": "1448397e",
   "metadata": {},
   "source": [
    "#### Tweeking the hyper parameter, epochs."
   ]
  },
  {
   "cell_type": "markdown",
   "id": "d6145f66",
   "metadata": {},
   "source": [
    "![](Exercise5_LearningRate.png)"
   ]
  },
  {
   "cell_type": "markdown",
   "id": "59405a36",
   "metadata": {},
   "source": [
    "Learning rate on 0,001 was not good, it caused overfitting, so the learning rate needs to be set lower."
   ]
  },
  {
   "cell_type": "markdown",
   "id": "b674e239",
   "metadata": {},
   "source": [
    "![](Exercise5_1.png)"
   ]
  },
  {
   "cell_type": "markdown",
   "id": "07919748",
   "metadata": {},
   "source": [
    "The epoch was set to 50 to get an overviw over the accuracy and loss of the model. The epoch is thereafter set to 17."
   ]
  },
  {
   "cell_type": "markdown",
   "id": "eadafb00",
   "metadata": {},
   "source": [
    "![](exercise5_2.png)"
   ]
  },
  {
   "cell_type": "markdown",
   "id": "c4e144d6",
   "metadata": {},
   "source": [
    "The epoch is set to 11, since it has a high accuracy, which is around 0.9160 and a low loss on the validation loss, which is around 0.3053."
   ]
  },
  {
   "cell_type": "markdown",
   "id": "b3aae61f",
   "metadata": {},
   "source": [
    "**(e)** Test your sentiment-classifier on the test set."
   ]
  },
  {
   "cell_type": "code",
   "execution_count": 51,
   "id": "0d163720",
   "metadata": {},
   "outputs": [
    {
     "name": "stdout",
     "output_type": "stream",
     "text": [
      "235/235 [==============================] - 1s 2ms/step - loss: 0.2981 - accuracy: 0.8900\n",
      "Loss + accuracy on test data: [0.29809844493865967, 0.8899999856948853].\n"
     ]
    }
   ],
   "source": [
    "test_result = model.evaluate(words_test, testing_labels)\n",
    "print(f\"Loss + accuracy on test data: {test_result}.\")"
   ]
  },
  {
   "cell_type": "markdown",
   "id": "dc7ba247",
   "metadata": {},
   "source": [
    "**(h)** Use the classifier to classify a few sentences you write yourselves. "
   ]
  },
  {
   "cell_type": "code",
   "execution_count": 52,
   "id": "b3b72a1f",
   "metadata": {},
   "outputs": [
    {
     "name": "stdout",
     "output_type": "stream",
     "text": [
      "1/1 [==============================] - 0s 148ms/step\n",
      "[[0.48737457]\n",
      " [0.374145  ]\n",
      " [0.39882648]\n",
      " [0.48408353]\n",
      " [0.43130052]]\n"
     ]
    }
   ],
   "source": [
    "my_sentence=['i hate this movie', 'the actor was horrible', 'the actor was horrible, but the movie was a masterpiece', 'i love this movie but the ending sucks', 'this movie is surprisingly bad']\n",
    "\n",
    "my_words = vectorizer.transform(my_sentence)\n",
    "#probality if its a positive review, if its over 50% then its positive and if its under 50% then its a negative review\n",
    "probabilities = np.array(model.predict(my_words))\n",
    "print(probabilities)"
   ]
  },
  {
   "cell_type": "markdown",
   "id": "149f45f9",
   "metadata": {},
   "source": [
    "## 6. Speech Recognition\n",
    "### Fatema Ataii 297107\n",
    "\n",
    "__You should be able to do this exercise after Lecture 9.__"
   ]
  },
  {
   "cell_type": "markdown",
   "id": "a30ae4e9",
   "metadata": {},
   "source": [
    "In this exercise, we will work with the <a href=\"https://arxiv.org/pdf/1804.03209.pdf\">Google Speech Command Dataset</a>, which can be downloaded from <a href=\"http://download.tensorflow.org/data/speech_commands_v0.02.tar.gz\">here</a> (note: you do not need to download the full dataset, but it will allow you to play around with the raw audiofiles). This dataset contains 105,829 one-second long audio files with utterances of 35 common words.\n",
    "\n",
    "We will use a subset of this dataset as indicated in the table below.\n",
    "\n",
    "| Word | How many? | Class # |\n",
    "| :-: | :-: | :-: |\n",
    "| Yes | 4,044 | 3 |\n",
    "| No | 3,941 | 1 |\n",
    "| Stop | 3,872 | 2 |\n",
    "| Go | 3,880 | 0 |\n",
    "\n",
    "The data is given in the files `XSound.npy` and `YSound.npy`, both of which can be imported using `numpy.load`. `XSound.npy` contains spectrograms (_e.g._, matrices with a time-axis and a frequency-axis of size 62 (time) x 65 (frequency)). `YSound.npy` contains the class number, as indicated in the table above."
   ]
  },
  {
   "cell_type": "markdown",
   "id": "6b2b6a3c",
   "metadata": {},
   "source": [
    "__(a)__ Explore and prepare the data, including splitting the data in training, validation and testing data, handling outliers, perhaps taking logarithms, etc. Data preparation is - as always - quite important. Document what you do."
   ]
  },
  {
   "cell_type": "code",
   "execution_count": null,
   "id": "0aed982f",
   "metadata": {},
   "outputs": [],
   "source": [
    "### Exercise 6 is not completed."
   ]
  },
  {
   "cell_type": "code",
   "execution_count": 53,
   "id": "2fb1d669",
   "metadata": {},
   "outputs": [],
   "source": [
    "%matplotlib inline\n",
    "\n",
    "from keras.models import Sequential\n",
    "from keras.layers import Dense, Conv2D, MaxPooling2D, Flatten\n",
    "from keras.utils import to_categorical\n",
    "from keras import optimizers\n",
    "\n",
    "import matplotlib.pyplot as plt\n",
    "import numpy as np\n",
    "\n",
    "\n",
    "from sklearn.model_selection import train_test_split\n",
    "from sklearn import preprocessing\n",
    "\n",
    "import tensorflow as tf\n",
    "from numpy.random import seed\n",
    "import pandas as pd\n",
    "from IPython.display import display"
   ]
  },
  {
   "cell_type": "code",
   "execution_count": 54,
   "id": "969732be",
   "metadata": {},
   "outputs": [
    {
     "name": "stdout",
     "output_type": "stream",
     "text": [
      "[-5.6103663]\n",
      "[-0.09752592]\n"
     ]
    }
   ],
   "source": [
    "path_x=\"/Users/fatem/mal/MalFinalProject/XSound.npy\"\n",
    "path_y=\"/Users/fatem/mal/MalFinalProject/YSound.npy\"\n",
    "\n",
    "X = np.load(path_x)\n",
    "y = np.load(path_y)\n",
    "\n",
    "#that take out outliers by cleaning the data that is 0 \n",
    "#and set them to the minimum value that is not 0\n",
    "second_min = np.min(X[X != 0.0])\n",
    "np.place(X, X==0.0, second_min)\n",
    "# print(np.min(X))\n",
    "\n",
    "#took the log of X\n",
    "X = np.log(X)\n",
    "\n",
    "# Before normalization\n",
    "print(X[1][1][0])\n",
    "\n",
    "#scaling of X using normalization\n",
    "for i in range(62):\n",
    "    X[:, i, :, 0] = preprocessing.normalize(X[:, i, :, 0])\n",
    "\n",
    "# After Normalization\n",
    "print(X[1][1][0])\n",
    "\n",
    "# one-hot encoding\n",
    "Y = to_categorical(y, 4)"
   ]
  },
  {
   "cell_type": "code",
   "execution_count": 55,
   "id": "f2902887",
   "metadata": {},
   "outputs": [
    {
     "name": "stdout",
     "output_type": "stream",
     "text": [
      "size of train X\n",
      "11015\n",
      "size of test X\n",
      "4722\n",
      "size of train Y\n",
      "11015\n",
      "size of test Y\n",
      "4722\n"
     ]
    }
   ],
   "source": [
    "from sklearn.model_selection import train_test_split\n",
    "\n",
    "#loading the files and making them ready for train and testing.\n",
    "train_X, testing_X, train_y, testing_y = train_test_split(X,y, stratify = Y, test_size=0.3,train_size=0.7,  random_state = 69)\n",
    "\n",
    "print(\"size of train X\")\n",
    "print(len(train_X))\n",
    "\n",
    "print(\"size of test X\")\n",
    "print(len(testing_X))\n",
    "\n",
    "print(\"size of train Y\")\n",
    "print(len(train_y))\n",
    "\n",
    "print(\"size of test Y\")\n",
    "print(len(testing_y))"
   ]
  },
  {
   "cell_type": "markdown",
   "id": "252095ef",
   "metadata": {},
   "source": [
    "__(b)__ Visualize a few examples of yes's, no's, stop's and go's, so that you have a reasonable intuitive understanding of the difference between the words."
   ]
  },
  {
   "cell_type": "markdown",
   "id": "30b3ad14",
   "metadata": {},
   "source": [
    "__(c)__ Train a neural network and at least one other algorithm on the data. Find a good set of hyperparameters for each model. Do you think a neural network is suitable for this kind of problem? Why/why not?"
   ]
  },
  {
   "cell_type": "markdown",
   "id": "ebda7a16",
   "metadata": {},
   "source": [
    "__(d)__ Classify instances of the validation set using your models. Comment on the results in terms of metrics you have learned in the course."
   ]
  },
  {
   "cell_type": "markdown",
   "id": "cd2c0657",
   "metadata": {},
   "source": [
    "__(e)__ Identify (a few) misclassified words, including what they are misclassified as. Visualize them as before, and compare with your intuitive understanding of how the words look. Do you find the misclassified examples surprising?"
   ]
  },
  {
   "cell_type": "markdown",
   "id": "fe3d3031",
   "metadata": {},
   "source": [
    "## References"
   ]
  },
  {
   "cell_type": "markdown",
   "id": "bc66f9bf",
   "metadata": {},
   "source": [
    "Géron, A. 2017, *Hands-On Machine Learning with Scikit-Learn and Tensorflow*, Appendix B, O'Reilly Media, Inc., Sebastopol."
   ]
  }
 ],
 "metadata": {
  "kernelspec": {
   "display_name": "Python 3 (ipykernel)",
   "language": "python",
   "name": "python3"
  },
  "language_info": {
   "codemirror_mode": {
    "name": "ipython",
    "version": 3
   },
   "file_extension": ".py",
   "mimetype": "text/x-python",
   "name": "python",
   "nbconvert_exporter": "python",
   "pygments_lexer": "ipython3",
   "version": "3.9.12"
  }
 },
 "nbformat": 4,
 "nbformat_minor": 5
}
